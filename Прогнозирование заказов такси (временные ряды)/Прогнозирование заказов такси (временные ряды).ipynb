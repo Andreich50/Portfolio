{
 "cells": [
  {
   "cell_type": "markdown",
   "metadata": {
    "toc": true
   },
   "source": [
    "<h1>Содержание<span class=\"tocSkip\"></span></h1>\n",
    "<div class=\"toc\"><ul class=\"toc-item\"><li><span><a href=\"#Подготовка\" data-toc-modified-id=\"Подготовка-1\"><span class=\"toc-item-num\">1&nbsp;&nbsp;</span>Подготовка</a></span></li><li><span><a href=\"#Анализ\" data-toc-modified-id=\"Анализ-2\"><span class=\"toc-item-num\">2&nbsp;&nbsp;</span>Анализ</a></span></li><li><span><a href=\"#Обучение\" data-toc-modified-id=\"Обучение-3\"><span class=\"toc-item-num\">3&nbsp;&nbsp;</span>Обучение</a></span><ul class=\"toc-item\"><li><span><a href=\"#Добавим-признаки.\" data-toc-modified-id=\"Добавим-признаки.-3.1\"><span class=\"toc-item-num\">3.1&nbsp;&nbsp;</span>Добавим признаки.</a></span></li><li><span><a href=\"#Линейная-регрессия.\" data-toc-modified-id=\"Линейная-регрессия.-3.2\"><span class=\"toc-item-num\">3.2&nbsp;&nbsp;</span>Линейная регрессия.</a></span></li><li><span><a href=\"#CatBoost\" data-toc-modified-id=\"CatBoost-3.3\"><span class=\"toc-item-num\">3.3&nbsp;&nbsp;</span>CatBoost</a></span></li><li><span><a href=\"#LightGBM\" data-toc-modified-id=\"LightGBM-3.4\"><span class=\"toc-item-num\">3.4&nbsp;&nbsp;</span>LightGBM</a></span></li></ul></li><li><span><a href=\"#Тестирование\" data-toc-modified-id=\"Тестирование-4\"><span class=\"toc-item-num\">4&nbsp;&nbsp;</span>Тестирование</a></span></li><li><span><a href=\"#Чек-лист-проверки\" data-toc-modified-id=\"Чек-лист-проверки-5\"><span class=\"toc-item-num\">5&nbsp;&nbsp;</span>Чек-лист проверки</a></span></li><li><span><a href=\"#GPU\" data-toc-modified-id=\"GPU-6\"><span class=\"toc-item-num\">6&nbsp;&nbsp;</span>GPU</a></span></li><li><span><a href=\"#задание-3\" data-toc-modified-id=\"задание-3-7\"><span class=\"toc-item-num\">7&nbsp;&nbsp;</span>задание 3</a></span></li></ul></div>"
   ]
  },
  {
   "cell_type": "markdown",
   "metadata": {},
   "source": [
    "#  Прогнозирование заказов такси"
   ]
  },
  {
   "cell_type": "markdown",
   "metadata": {},
   "source": [
    "Компания «Чётенькое такси» собрала исторические данные о заказах такси в аэропортах. Чтобы привлекать больше водителей в период пиковой нагрузки, нужно спрогнозировать количество заказов такси на следующий час. Постройте модель для такого предсказания.\n",
    "\n",
    "Значение метрики *RMSE* на тестовой выборке должно быть не больше 48.\n",
    "\n",
    "Вам нужно:\n",
    "\n",
    "1. Загрузить данные и выполнить их ресемплирование по одному часу.\n",
    "2. Проанализировать данные.\n",
    "3. Обучить разные модели с различными гиперпараметрами. Сделать тестовую выборку размером 10% от исходных данных.\n",
    "4. Проверить данные на тестовой выборке и сделать выводы.\n",
    "\n",
    "\n",
    "Данные лежат в файле `taxi.csv`. Количество заказов находится в столбце `num_orders` (от англ. *number of orders*, «число заказов»)."
   ]
  },
  {
   "cell_type": "markdown",
   "metadata": {},
   "source": [
    "**Цель:**\n",
    "\n",
    "Предсказывать количество заказов на час вперед для определения потребности необъодимого количества водителей. "
   ]
  },
  {
   "cell_type": "markdown",
   "metadata": {},
   "source": [
    "**Задача:**\n",
    "\n",
    "Основное задачей проекта является подбор модели для предсказания."
   ]
  },
  {
   "cell_type": "markdown",
   "metadata": {},
   "source": [
    "**Проект состоит из следующих этапов:**\n",
    "1. Подготовка данных.\n",
    "2. Анализ.\n",
    "3. Обучение.\n",
    "4. Тестирование."
   ]
  },
  {
   "cell_type": "markdown",
   "metadata": {},
   "source": [
    "## Подготовка"
   ]
  },
  {
   "cell_type": "code",
   "execution_count": 1,
   "metadata": {},
   "outputs": [],
   "source": [
    "import pandas as pd\n",
    "import matplotlib.pyplot as plt\n",
    "import seaborn as sns\n",
    "import numpy as np\n",
    "\n",
    "from sklearn.model_selection import train_test_split, GridSearchCV, RandomizedSearchCV, TimeSeriesSplit, cross_val_score\n",
    "from sklearn.metrics import mean_squared_error\n",
    "from sklearn.linear_model import LinearRegression\n",
    "\n",
    "\n",
    "import lightgbm as lgb\n",
    "import catboost\n",
    "\n",
    "from lightgbm import LGBMRegressor\n",
    "from catboost import CatBoostRegressor\n",
    "\n",
    "from statsmodels.tsa.seasonal import seasonal_decompose\n",
    "\n",
    "from time import time"
   ]
  },
  {
   "cell_type": "code",
   "execution_count": 2,
   "metadata": {},
   "outputs": [],
   "source": [
    "TEST_SIZE = 0.1\n",
    "RANDOM_STATE = 12345"
   ]
  },
  {
   "cell_type": "code",
   "execution_count": 3,
   "metadata": {},
   "outputs": [],
   "source": [
    "try:\n",
    "    taxi = pd.read_csv('/datasets/taxi.csv', index_col=[0], parse_dates=[0])\n",
    "    taxi.sort_index(inplace=True)\n",
    "except:\n",
    "    taxi = pd.read_csv(r\"C:\\Users\\user1\\Documents\\Учеба Data science\\Проекты спринтов\\Численные методы\\autos.csv\")\n",
    "    taxi.sort_index(inplace=True)"
   ]
  },
  {
   "cell_type": "code",
   "execution_count": 4,
   "metadata": {},
   "outputs": [
    {
     "data": {
      "text/plain": [
       "True"
      ]
     },
     "execution_count": 4,
     "metadata": {},
     "output_type": "execute_result"
    }
   ],
   "source": [
    "taxi.index.is_monotonic"
   ]
  },
  {
   "cell_type": "code",
   "execution_count": 5,
   "metadata": {},
   "outputs": [
    {
     "name": "stdout",
     "output_type": "stream",
     "text": [
      "<class 'pandas.core.frame.DataFrame'>\n",
      "DatetimeIndex: 26496 entries, 2018-03-01 00:00:00 to 2018-08-31 23:50:00\n",
      "Data columns (total 1 columns):\n",
      " #   Column      Non-Null Count  Dtype\n",
      "---  ------      --------------  -----\n",
      " 0   num_orders  26496 non-null  int64\n",
      "dtypes: int64(1)\n",
      "memory usage: 414.0 KB\n"
     ]
    }
   ],
   "source": [
    "taxi.info()"
   ]
  },
  {
   "cell_type": "code",
   "execution_count": 6,
   "metadata": {},
   "outputs": [
    {
     "data": {
      "text/html": [
       "<div>\n",
       "<style scoped>\n",
       "    .dataframe tbody tr th:only-of-type {\n",
       "        vertical-align: middle;\n",
       "    }\n",
       "\n",
       "    .dataframe tbody tr th {\n",
       "        vertical-align: top;\n",
       "    }\n",
       "\n",
       "    .dataframe thead th {\n",
       "        text-align: right;\n",
       "    }\n",
       "</style>\n",
       "<table border=\"1\" class=\"dataframe\">\n",
       "  <thead>\n",
       "    <tr style=\"text-align: right;\">\n",
       "      <th></th>\n",
       "      <th>num_orders</th>\n",
       "    </tr>\n",
       "    <tr>\n",
       "      <th>datetime</th>\n",
       "      <th></th>\n",
       "    </tr>\n",
       "  </thead>\n",
       "  <tbody>\n",
       "    <tr>\n",
       "      <th>2018-03-01 00:00:00</th>\n",
       "      <td>9</td>\n",
       "    </tr>\n",
       "    <tr>\n",
       "      <th>2018-03-01 00:10:00</th>\n",
       "      <td>14</td>\n",
       "    </tr>\n",
       "    <tr>\n",
       "      <th>2018-03-01 00:20:00</th>\n",
       "      <td>28</td>\n",
       "    </tr>\n",
       "    <tr>\n",
       "      <th>2018-03-01 00:30:00</th>\n",
       "      <td>20</td>\n",
       "    </tr>\n",
       "    <tr>\n",
       "      <th>2018-03-01 00:40:00</th>\n",
       "      <td>32</td>\n",
       "    </tr>\n",
       "  </tbody>\n",
       "</table>\n",
       "</div>"
      ],
      "text/plain": [
       "                     num_orders\n",
       "datetime                       \n",
       "2018-03-01 00:00:00           9\n",
       "2018-03-01 00:10:00          14\n",
       "2018-03-01 00:20:00          28\n",
       "2018-03-01 00:30:00          20\n",
       "2018-03-01 00:40:00          32"
      ]
     },
     "execution_count": 6,
     "metadata": {},
     "output_type": "execute_result"
    }
   ],
   "source": [
    "taxi.head()"
   ]
  },
  {
   "cell_type": "markdown",
   "metadata": {},
   "source": [
    "Проведем ресемплирование."
   ]
  },
  {
   "cell_type": "code",
   "execution_count": 7,
   "metadata": {},
   "outputs": [],
   "source": [
    "taxi = taxi.resample('1H').sum()"
   ]
  },
  {
   "cell_type": "code",
   "execution_count": 8,
   "metadata": {},
   "outputs": [
    {
     "data": {
      "text/html": [
       "<div>\n",
       "<style scoped>\n",
       "    .dataframe tbody tr th:only-of-type {\n",
       "        vertical-align: middle;\n",
       "    }\n",
       "\n",
       "    .dataframe tbody tr th {\n",
       "        vertical-align: top;\n",
       "    }\n",
       "\n",
       "    .dataframe thead th {\n",
       "        text-align: right;\n",
       "    }\n",
       "</style>\n",
       "<table border=\"1\" class=\"dataframe\">\n",
       "  <thead>\n",
       "    <tr style=\"text-align: right;\">\n",
       "      <th></th>\n",
       "      <th>num_orders</th>\n",
       "    </tr>\n",
       "    <tr>\n",
       "      <th>datetime</th>\n",
       "      <th></th>\n",
       "    </tr>\n",
       "  </thead>\n",
       "  <tbody>\n",
       "    <tr>\n",
       "      <th>2018-03-01 00:00:00</th>\n",
       "      <td>124</td>\n",
       "    </tr>\n",
       "    <tr>\n",
       "      <th>2018-03-01 01:00:00</th>\n",
       "      <td>85</td>\n",
       "    </tr>\n",
       "    <tr>\n",
       "      <th>2018-03-01 02:00:00</th>\n",
       "      <td>71</td>\n",
       "    </tr>\n",
       "    <tr>\n",
       "      <th>2018-03-01 03:00:00</th>\n",
       "      <td>66</td>\n",
       "    </tr>\n",
       "    <tr>\n",
       "      <th>2018-03-01 04:00:00</th>\n",
       "      <td>43</td>\n",
       "    </tr>\n",
       "  </tbody>\n",
       "</table>\n",
       "</div>"
      ],
      "text/plain": [
       "                     num_orders\n",
       "datetime                       \n",
       "2018-03-01 00:00:00         124\n",
       "2018-03-01 01:00:00          85\n",
       "2018-03-01 02:00:00          71\n",
       "2018-03-01 03:00:00          66\n",
       "2018-03-01 04:00:00          43"
      ]
     },
     "execution_count": 8,
     "metadata": {},
     "output_type": "execute_result"
    }
   ],
   "source": [
    "taxi.head()"
   ]
  },
  {
   "cell_type": "markdown",
   "metadata": {},
   "source": [
    "Изучим временной отрезок"
   ]
  },
  {
   "cell_type": "code",
   "execution_count": 9,
   "metadata": {},
   "outputs": [
    {
     "name": "stdout",
     "output_type": "stream",
     "text": [
      "2018-03-01 00:00:00\n",
      "2018-08-31 23:00:00\n"
     ]
    }
   ],
   "source": [
    "print(taxi.index.min())\n",
    "print(taxi.index.max())"
   ]
  },
  {
   "cell_type": "markdown",
   "metadata": {},
   "source": [
    "Вывод по загрузке данных:\n",
    "- Загружен датасет в качестве временного ряда с шагом 10 минут. Проведено ресемплирование на `1H`\n",
    "- всего значений в датасете 26тыс.\n",
    "- Данные предоставлены за период с 1 марта по 31 августа 2018 года"
   ]
  },
  {
   "cell_type": "markdown",
   "metadata": {},
   "source": [
    "## Анализ"
   ]
  },
  {
   "cell_type": "code",
   "execution_count": 10,
   "metadata": {},
   "outputs": [
    {
     "data": {
      "text/plain": [
       "num_orders    0\n",
       "dtype: int64"
      ]
     },
     "execution_count": 10,
     "metadata": {},
     "output_type": "execute_result"
    }
   ],
   "source": [
    "taxi.isna().sum()"
   ]
  },
  {
   "cell_type": "markdown",
   "metadata": {},
   "source": [
    "Пропусков нет."
   ]
  },
  {
   "cell_type": "code",
   "execution_count": 11,
   "metadata": {},
   "outputs": [
    {
     "data": {
      "text/html": [
       "<div>\n",
       "<style scoped>\n",
       "    .dataframe tbody tr th:only-of-type {\n",
       "        vertical-align: middle;\n",
       "    }\n",
       "\n",
       "    .dataframe tbody tr th {\n",
       "        vertical-align: top;\n",
       "    }\n",
       "\n",
       "    .dataframe thead th {\n",
       "        text-align: right;\n",
       "    }\n",
       "</style>\n",
       "<table border=\"1\" class=\"dataframe\">\n",
       "  <thead>\n",
       "    <tr style=\"text-align: right;\">\n",
       "      <th></th>\n",
       "      <th>num_orders</th>\n",
       "    </tr>\n",
       "  </thead>\n",
       "  <tbody>\n",
       "    <tr>\n",
       "      <th>count</th>\n",
       "      <td>4416.000000</td>\n",
       "    </tr>\n",
       "    <tr>\n",
       "      <th>mean</th>\n",
       "      <td>84.422781</td>\n",
       "    </tr>\n",
       "    <tr>\n",
       "      <th>std</th>\n",
       "      <td>45.023853</td>\n",
       "    </tr>\n",
       "    <tr>\n",
       "      <th>min</th>\n",
       "      <td>0.000000</td>\n",
       "    </tr>\n",
       "    <tr>\n",
       "      <th>25%</th>\n",
       "      <td>54.000000</td>\n",
       "    </tr>\n",
       "    <tr>\n",
       "      <th>50%</th>\n",
       "      <td>78.000000</td>\n",
       "    </tr>\n",
       "    <tr>\n",
       "      <th>75%</th>\n",
       "      <td>107.000000</td>\n",
       "    </tr>\n",
       "    <tr>\n",
       "      <th>max</th>\n",
       "      <td>462.000000</td>\n",
       "    </tr>\n",
       "  </tbody>\n",
       "</table>\n",
       "</div>"
      ],
      "text/plain": [
       "        num_orders\n",
       "count  4416.000000\n",
       "mean     84.422781\n",
       "std      45.023853\n",
       "min       0.000000\n",
       "25%      54.000000\n",
       "50%      78.000000\n",
       "75%     107.000000\n",
       "max     462.000000"
      ]
     },
     "execution_count": 11,
     "metadata": {},
     "output_type": "execute_result"
    }
   ],
   "source": [
    "taxi.describe()"
   ]
  },
  {
   "cell_type": "code",
   "execution_count": 12,
   "metadata": {},
   "outputs": [
    {
     "data": {
      "text/plain": [
       "Text(0.5, 1.0, 'Гистограмма целевого признака')"
      ]
     },
     "execution_count": 12,
     "metadata": {},
     "output_type": "execute_result"
    },
    {
     "data": {
      "image/png": "[encoded data removed]",
      "text/plain": [
       "<Figure size 1080x720 with 1 Axes>"
      ]
     },
     "metadata": {
      "needs_background": "light"
     },
     "output_type": "display_data"
    }
   ],
   "source": [
    "plt.figure(figsize=(15,10))\n",
    "sns.histplot(data=taxi, legend=False, bins = 100)\n",
    "plt.xlabel('Значение', fontsize='large')\n",
    "plt.ylabel('Количество значений', fontsize='large')\n",
    "plt.title('Гистограмма целевого признака')"
   ]
  },
  {
   "cell_type": "code",
   "execution_count": 13,
   "metadata": {},
   "outputs": [
    {
     "data": {
      "text/plain": [
       "Text(0.5, 1.0, 'Боксплот для целевого признака')"
      ]
     },
     "execution_count": 13,
     "metadata": {},
     "output_type": "execute_result"
    },
    {
     "data": {
      "image/png": "[encoded data removed]",
      "text/plain": [
       "<Figure size 1080x720 with 1 Axes>"
      ]
     },
     "metadata": {
      "needs_background": "light"
     },
     "output_type": "display_data"
    }
   ],
   "source": [
    "plt.figure(figsize=(15,10))\n",
    "sns.boxplot(data=taxi, orient='h')\n",
    "plt.xlabel('Значение', fontsize='large')\n",
    "plt.title('Боксплот для целевого признака')"
   ]
  },
  {
   "cell_type": "code",
   "execution_count": 14,
   "metadata": {},
   "outputs": [
    {
     "data": {
      "text/plain": [
       "54.0"
      ]
     },
     "execution_count": 14,
     "metadata": {},
     "output_type": "execute_result"
    }
   ],
   "source": [
    "np.quantile(taxi,0.25)"
   ]
  },
  {
   "cell_type": "code",
   "execution_count": 15,
   "metadata": {},
   "outputs": [
    {
     "data": {
      "text/plain": [
       "107.0"
      ]
     },
     "execution_count": 15,
     "metadata": {},
     "output_type": "execute_result"
    }
   ],
   "source": [
    "np.quantile(taxi,0.75)"
   ]
  },
  {
   "cell_type": "code",
   "execution_count": 16,
   "metadata": {},
   "outputs": [
    {
     "data": {
      "text/plain": [
       "Text(0, 0.5, 'Количество заказов в день')"
      ]
     },
     "execution_count": 16,
     "metadata": {},
     "output_type": "execute_result"
    },
    {
     "data": {
      "image/png": "[encoded data removed]",
      "text/plain": [
       "<Figure size 1080x720 with 1 Axes>"
      ]
     },
     "metadata": {
      "needs_background": "light"
     },
     "output_type": "display_data"
    }
   ],
   "source": [
    "taxi.resample('1d').sum().rolling(5).mean().plot(figsize=(15,10), grid=True)\n",
    "plt.title('График количества заказов в день', pad=15)\n",
    "plt.xlabel('Дата', fontsize='large')\n",
    "plt.ylabel('Количество заказов в день', fontsize='large')"
   ]
  },
  {
   "cell_type": "markdown",
   "metadata": {},
   "source": [
    "Добавим столбцы."
   ]
  },
  {
   "cell_type": "code",
   "execution_count": 17,
   "metadata": {},
   "outputs": [],
   "source": [
    "taxi_copy = taxi.copy()"
   ]
  },
  {
   "cell_type": "code",
   "execution_count": 18,
   "metadata": {},
   "outputs": [],
   "source": [
    "#taxi_copy['year'] = taxi.index.year\n",
    "#taxi_copy['month'] = taxi.index.month\n",
    "#taxi_copy['day_of_week'] = taxi.index.dayofweek\n",
    "#taxi_copy['day'] = taxi.index.day\n",
    "\n",
    "taxi_copy['day_of_week'] = taxi.index.dayofweek\n",
    "taxi_copy['hour'] = taxi.index.hour\n"
   ]
  },
  {
   "cell_type": "code",
   "execution_count": 19,
   "metadata": {},
   "outputs": [],
   "source": [
    "#taxi_copy.groupby('day_of_week')['num_orders'].mean().plot(figsize=(15,10), grid=True)\n",
    "#plt.title('График количества заказов по дням недели', pad=15)\n",
    "#plt.xlabel('Дата', fontsize='large')\n",
    "#plt.ylabel('Количество заказов в день', fontsize='large')"
   ]
  },
  {
   "cell_type": "code",
   "execution_count": 20,
   "metadata": {},
   "outputs": [
    {
     "data": {
      "image/png": "[encoded data removed]",
      "text/plain": [
       "<Figure size 720x720 with 3 Axes>"
      ]
     },
     "metadata": {
      "needs_background": "light"
     },
     "output_type": "display_data"
    }
   ],
   "source": [
    "decomposed = seasonal_decompose(taxi)\n",
    "\n",
    "plt.figure(figsize=(10, 10))\n",
    "plt.subplot(311)\n",
    "\n",
    "decomposed.trend.plot(ax=plt.gca())\n",
    "plt.title('Тренд')\n",
    "plt.subplot(312)\n",
    "decomposed.seasonal.plot(ax=plt.gca())\n",
    "plt.title('Сезонность')\n",
    "plt.subplot(313)\n",
    "decomposed.resid.plot(ax=plt.gca())\n",
    "plt.title('Остатки')\n",
    "plt.tight_layout()"
   ]
  },
  {
   "cell_type": "markdown",
   "metadata": {},
   "source": [
    "Малоинформативно. Возьмем период в одну неделю в мае с 9 по 15 число."
   ]
  },
  {
   "cell_type": "code",
   "execution_count": 21,
   "metadata": {},
   "outputs": [
    {
     "data": {
      "image/png": "[encoded data removed]",
      "text/plain": [
       "<Figure size 720x720 with 3 Axes>"
      ]
     },
     "metadata": {
      "needs_background": "light"
     },
     "output_type": "display_data"
    }
   ],
   "source": [
    "decomposed_week = seasonal_decompose(taxi['2018-05-09':'2018-05-15'])\n",
    "\n",
    "plt.figure(figsize=(10, 10))\n",
    "plt.subplot(311)\n",
    "\n",
    "decomposed_week.trend.plot(ax=plt.gca())\n",
    "plt.title('Тренд')\n",
    "plt.xlabel('Дата')\n",
    "\n",
    "\n",
    "plt.subplot(312)\n",
    "decomposed_week.seasonal.plot(ax=plt.gca())\n",
    "plt.title('Сезонность')\n",
    "plt.xlabel('Дата')\n",
    "\n",
    "\n",
    "plt.subplot(313)\n",
    "decomposed_week.resid.plot(ax=plt.gca())\n",
    "plt.title('Остатки')\n",
    "plt.xlabel('Дата')\n",
    "plt.tight_layout()"
   ]
  },
  {
   "cell_type": "markdown",
   "metadata": {},
   "source": [
    "**Выводы:**\n",
    "- Среднее значение 84.42 заказов в час.\n",
    "- максимум - 462, минимум - 0\n",
    "- Распределение сдвинуто влево.\n",
    "- Общий тренд растет, люди со временем больше пользуется такси.\n",
    "- Утром количество заказов падает.\n",
    "- Временной ряд в не является стационарным, так как тренд меняется.\n"
   ]
  },
  {
   "cell_type": "markdown",
   "metadata": {},
   "source": [
    "## Обучение"
   ]
  },
  {
   "cell_type": "markdown",
   "metadata": {},
   "source": [
    "### Добавим признаки."
   ]
  },
  {
   "cell_type": "markdown",
   "metadata": {},
   "source": [
    "Признаки год, месяц, день недели и номер дня уже есть. Создадим признаки с предыдущими значениями целевого признака."
   ]
  },
  {
   "cell_type": "code",
   "execution_count": 22,
   "metadata": {},
   "outputs": [],
   "source": [
    "def make_features_lag(data, column, max_lag, rolling_mean_size):\n",
    "    for lag in range(1, max_lag + 1):\n",
    "        data['lag_{}'.format(lag)] = data[column].shift(lag)\n",
    "\n",
    "    data['rolling_mean'] = data[column].shift().rolling(rolling_mean_size).mean()"
   ]
  },
  {
   "cell_type": "code",
   "execution_count": 23,
   "metadata": {},
   "outputs": [],
   "source": [
    "max_lag = 24\n",
    "rolling_mean_size = 48"
   ]
  },
  {
   "cell_type": "code",
   "execution_count": 24,
   "metadata": {},
   "outputs": [],
   "source": [
    "make_features_lag (taxi_copy, 'num_orders',max_lag, rolling_mean_size)"
   ]
  },
  {
   "cell_type": "markdown",
   "metadata": {},
   "source": [
    "Создадим несколько моделей."
   ]
  },
  {
   "cell_type": "markdown",
   "metadata": {},
   "source": [
    "### Линейная регрессия."
   ]
  },
  {
   "cell_type": "code",
   "execution_count": 25,
   "metadata": {},
   "outputs": [],
   "source": [
    "train, test = train_test_split(taxi_copy, shuffle=False, test_size = TEST_SIZE, random_state = RANDOM_STATE)"
   ]
  },
  {
   "cell_type": "code",
   "execution_count": 26,
   "metadata": {},
   "outputs": [],
   "source": [
    "train = train.dropna()"
   ]
  },
  {
   "cell_type": "code",
   "execution_count": 27,
   "metadata": {},
   "outputs": [],
   "source": [
    "X_train = train.drop('num_orders', axis = 1)\n",
    "y_train = train['num_orders']\n",
    "X_test = test.drop('num_orders', axis = 1)\n",
    "y_test = test['num_orders']\n"
   ]
  },
  {
   "cell_type": "code",
   "execution_count": 28,
   "metadata": {},
   "outputs": [
    {
     "name": "stdout",
     "output_type": "stream",
     "text": [
      "(3926, 27)\n",
      "(442, 27)\n",
      "(3926,)\n",
      "(442,)\n"
     ]
    }
   ],
   "source": [
    "print(X_train.shape)\n",
    "print(X_test.shape)\n",
    "print(y_train.shape)\n",
    "print(y_test.shape)"
   ]
  },
  {
   "cell_type": "code",
   "execution_count": 29,
   "metadata": {},
   "outputs": [
    {
     "name": "stdout",
     "output_type": "stream",
     "text": [
      "0\n",
      "0\n"
     ]
    }
   ],
   "source": [
    "print(X_train.isna().sum().sum())\n",
    "print(y_train.isna().sum())"
   ]
  },
  {
   "cell_type": "code",
   "execution_count": 30,
   "metadata": {},
   "outputs": [
    {
     "data": {
      "text/plain": [
       "True"
      ]
     },
     "execution_count": 30,
     "metadata": {},
     "output_type": "execute_result"
    }
   ],
   "source": [
    "X_train.index.is_monotonic"
   ]
  },
  {
   "cell_type": "code",
   "execution_count": 31,
   "metadata": {},
   "outputs": [],
   "source": [
    "linear_model = LinearRegression()"
   ]
  },
  {
   "cell_type": "code",
   "execution_count": 32,
   "metadata": {},
   "outputs": [
    {
     "data": {
      "text/plain": [
       "LinearRegression()"
      ]
     },
     "execution_count": 32,
     "metadata": {},
     "output_type": "execute_result"
    }
   ],
   "source": [
    "linear_model.fit(X_train, y_train)"
   ]
  },
  {
   "cell_type": "markdown",
   "metadata": {},
   "source": [
    "### CatBoost"
   ]
  },
  {
   "cell_type": "code",
   "execution_count": 33,
   "metadata": {
    "scrolled": true
   },
   "outputs": [],
   "source": [
    "catboost_model = CatBoostRegressor(verbose=False,\n",
    "                                   random_state=RANDOM_STATE)"
   ]
  },
  {
   "cell_type": "code",
   "execution_count": 34,
   "metadata": {},
   "outputs": [],
   "source": [
    "tscv = TimeSeriesSplit(n_splits=3) "
   ]
  },
  {
   "cell_type": "code",
   "execution_count": 35,
   "metadata": {},
   "outputs": [
    {
     "name": "stdout",
     "output_type": "stream",
     "text": [
      "Время работы GridSearch  55\n"
     ]
    }
   ],
   "source": [
    "param_grid = {\n",
    "    'depth' : [1,3,5],\n",
    "    'learning_rate' : [0.1, 0.3],\n",
    "    'iterations' : [100, 200, 300]\n",
    "             }\n",
    "\n",
    "grid_search_catboost = GridSearchCV (\n",
    "    catboost_model, \n",
    "    param_grid, \n",
    "    scoring='neg_root_mean_squared_error', \n",
    "    cv=tscv\n",
    ")\n",
    "\n",
    "time_start = time()\n",
    "\n",
    "grid_search_catboost.fit(X_train, y_train)\n",
    "\n",
    "time_finish = time()\n",
    "\n",
    "duration = round(time_finish - time_start)\n",
    "print('Время работы GridSearch ', duration)"
   ]
  },
  {
   "cell_type": "code",
   "execution_count": 36,
   "metadata": {},
   "outputs": [
    {
     "name": "stdout",
     "output_type": "stream",
     "text": [
      "{'depth': 5, 'iterations': 300, 'learning_rate': 0.1}\n"
     ]
    }
   ],
   "source": [
    "print(grid_search_catboost.best_params_)"
   ]
  },
  {
   "cell_type": "code",
   "execution_count": 37,
   "metadata": {},
   "outputs": [],
   "source": [
    "catboost_model = CatBoostRegressor(verbose=False,\n",
    "                                   random_state=RANDOM_STATE, depth = 5, iterations = 300, learning_rate = 0.1)"
   ]
  },
  {
   "cell_type": "code",
   "execution_count": 38,
   "metadata": {},
   "outputs": [
    {
     "data": {
      "text/plain": [
       "<catboost.core.CatBoostRegressor at 0x7f60af36e9d0>"
      ]
     },
     "execution_count": 38,
     "metadata": {},
     "output_type": "execute_result"
    }
   ],
   "source": [
    "catboost_model.fit(X_train, y_train)"
   ]
  },
  {
   "cell_type": "code",
   "execution_count": 39,
   "metadata": {},
   "outputs": [
    {
     "data": {
      "text/plain": [
       "{'learn': {'RMSE': 15.81776914383755}}"
      ]
     },
     "execution_count": 39,
     "metadata": {},
     "output_type": "execute_result"
    }
   ],
   "source": [
    "catboost_model.best_score_"
   ]
  },
  {
   "cell_type": "markdown",
   "metadata": {},
   "source": [
    "Для CatBoost метрика RMSE при кросс валидации составила 15.82"
   ]
  },
  {
   "cell_type": "markdown",
   "metadata": {},
   "source": [
    "### LightGBM"
   ]
  },
  {
   "cell_type": "code",
   "execution_count": 40,
   "metadata": {},
   "outputs": [],
   "source": [
    "LGBMR = LGBMRegressor(verbose=10, random_state=RANDOM_STATE)"
   ]
  },
  {
   "cell_type": "code",
   "execution_count": 41,
   "metadata": {
    "scrolled": true
   },
   "outputs": [
    {
     "name": "stderr",
     "output_type": "stream",
     "text": [
      "/opt/conda/lib/python3.9/site-packages/sklearn/model_selection/_search.py:285: UserWarning: The total space of parameters 1 is smaller than n_iter=3. Running 1 iterations. For exhaustive searches, use GridSearchCV.\n",
      "  warnings.warn(\n"
     ]
    },
    {
     "name": "stdout",
     "output_type": "stream",
     "text": [
      "[LightGBM] [Debug] Dataset::GetMultiBinFromAllFeatures: sparse rate 0.007875\n",
      "[LightGBM] [Debug] init for col-wise cost 0.000010 seconds, init for row-wise cost 0.000850 seconds\n",
      "[LightGBM] [Warning] Auto-choosing col-wise multi-threading, the overhead of testing was 0.000987 seconds.\n",
      "You can set `force_col_wise=true` to remove the overhead.\n",
      "[LightGBM] [Info] Total Bins 3021\n",
      "[LightGBM] [Info] Number of data points in the train set: 983, number of used features: 27\n",
      "[LightGBM] [Info] Start training from score 57.155646\n",
      "[LightGBM] [Warning] No further splits with positive gain, best gain: -inf\n",
      "[LightGBM] [Debug] Trained a tree with leaves = 7 and depth = 3\n",
      "[LightGBM] [Debug] Trained a tree with leaves = 8 and depth = 3\n",
      "[LightGBM] [Debug] Trained a tree with leaves = 8 and depth = 3\n",
      "[LightGBM] [Debug] Trained a tree with leaves = 8 and depth = 3\n",
      "[LightGBM] [Warning] No further splits with positive gain, best gain: -inf\n",
      "[LightGBM] [Debug] Trained a tree with leaves = 7 and depth = 3\n",
      "[LightGBM] [Debug] Trained a tree with leaves = 8 and depth = 3\n",
      "[LightGBM] [Debug] Trained a tree with leaves = 8 and depth = 3\n",
      "[LightGBM] [Debug] Trained a tree with leaves = 8 and depth = 3\n",
      "[LightGBM] [Debug] Trained a tree with leaves = 8 and depth = 3\n",
      "[LightGBM] [Debug] Trained a tree with leaves = 8 and depth = 3\n",
      "[LightGBM] [Debug] Trained a tree with leaves = 8 and depth = 3\n",
      "[LightGBM] [Debug] Trained a tree with leaves = 8 and depth = 3\n",
      "[LightGBM] [Debug] Trained a tree with leaves = 8 and depth = 3\n",
      "[LightGBM] [Debug] Trained a tree with leaves = 8 and depth = 3\n",
      "[LightGBM] [Warning] No further splits with positive gain, best gain: -inf\n",
      "[LightGBM] [Debug] Trained a tree with leaves = 7 and depth = 3\n",
      "[LightGBM] [Debug] Trained a tree with leaves = 8 and depth = 3\n",
      "[LightGBM] [Debug] Trained a tree with leaves = 8 and depth = 3\n",
      "[LightGBM] [Warning] No further splits with positive gain, best gain: -inf\n",
      "[LightGBM] [Debug] Trained a tree with leaves = 6 and depth = 3\n",
      "[LightGBM] [Warning] No further splits with positive gain, best gain: -inf\n",
      "[LightGBM] [Debug] Trained a tree with leaves = 7 and depth = 3\n",
      "[LightGBM] [Debug] Trained a tree with leaves = 8 and depth = 3\n",
      "[LightGBM] [Warning] No further splits with positive gain, best gain: -inf\n",
      "[LightGBM] [Debug] Trained a tree with leaves = 7 and depth = 3\n",
      "[LightGBM] [Debug] Trained a tree with leaves = 8 and depth = 3\n",
      "[LightGBM] [Warning] No further splits with positive gain, best gain: -inf\n",
      "[LightGBM] [Debug] Trained a tree with leaves = 7 and depth = 3\n",
      "[LightGBM] [Debug] Trained a tree with leaves = 8 and depth = 3\n",
      "[LightGBM] [Debug] Trained a tree with leaves = 8 and depth = 3\n",
      "[LightGBM] [Warning] No further splits with positive gain, best gain: -inf\n",
      "[LightGBM] [Debug] Trained a tree with leaves = 7 and depth = 3\n",
      "[LightGBM] [Warning] No further splits with positive gain, best gain: -inf\n",
      "[LightGBM] [Debug] Trained a tree with leaves = 6 and depth = 3\n",
      "[LightGBM] [Warning] No further splits with positive gain, best gain: -inf\n",
      "[LightGBM] [Debug] Trained a tree with leaves = 7 and depth = 3\n",
      "[LightGBM] [Warning] No further splits with positive gain, best gain: -inf\n",
      "[LightGBM] [Debug] Trained a tree with leaves = 6 and depth = 3\n",
      "[LightGBM] [Warning] No further splits with positive gain, best gain: -inf\n",
      "[LightGBM] [Debug] Trained a tree with leaves = 7 and depth = 3\n",
      "[LightGBM] [Warning] No further splits with positive gain, best gain: -inf\n",
      "[LightGBM] [Debug] Trained a tree with leaves = 6 and depth = 3\n",
      "[LightGBM] [Warning] No further splits with positive gain, best gain: -inf\n",
      "[LightGBM] [Debug] Trained a tree with leaves = 7 and depth = 3\n",
      "[LightGBM] [Warning] No further splits with positive gain, best gain: -inf\n",
      "[LightGBM] [Debug] Trained a tree with leaves = 7 and depth = 3\n",
      "[LightGBM] [Warning] No further splits with positive gain, best gain: -inf\n",
      "[LightGBM] [Debug] Trained a tree with leaves = 6 and depth = 3\n",
      "[LightGBM] [Warning] No further splits with positive gain, best gain: -inf\n",
      "[LightGBM] [Debug] Trained a tree with leaves = 7 and depth = 3\n",
      "[LightGBM] [Warning] No further splits with positive gain, best gain: -inf\n",
      "[LightGBM] [Debug] Trained a tree with leaves = 5 and depth = 3\n",
      "[LightGBM] [Debug] Trained a tree with leaves = 8 and depth = 3\n",
      "[LightGBM] [Warning] No further splits with positive gain, best gain: -inf\n",
      "[LightGBM] [Debug] Trained a tree with leaves = 4 and depth = 3\n",
      "[LightGBM] [Warning] No further splits with positive gain, best gain: -inf\n",
      "[LightGBM] [Debug] Trained a tree with leaves = 7 and depth = 3\n",
      "[LightGBM] [Debug] Trained a tree with leaves = 8 and depth = 3\n",
      "[LightGBM] [Warning] No further splits with positive gain, best gain: -inf\n",
      "[LightGBM] [Debug] Trained a tree with leaves = 7 and depth = 3\n",
      "[LightGBM] [Warning] No further splits with positive gain, best gain: -inf\n",
      "[LightGBM] [Debug] Trained a tree with leaves = 7 and depth = 3\n",
      "[LightGBM] [Warning] No further splits with positive gain, best gain: -inf\n",
      "[LightGBM] [Debug] Trained a tree with leaves = 7 and depth = 3\n",
      "[LightGBM] [Warning] No further splits with positive gain, best gain: -inf\n",
      "[LightGBM] [Debug] Trained a tree with leaves = 5 and depth = 3\n",
      "[LightGBM] [Warning] No further splits with positive gain, best gain: -inf\n",
      "[LightGBM] [Debug] Trained a tree with leaves = 6 and depth = 3\n",
      "[LightGBM] [Warning] No further splits with positive gain, best gain: -inf\n",
      "[LightGBM] [Debug] Trained a tree with leaves = 7 and depth = 3\n",
      "[LightGBM] [Debug] Trained a tree with leaves = 8 and depth = 3\n",
      "[LightGBM] [Debug] Trained a tree with leaves = 8 and depth = 3\n",
      "[LightGBM] [Warning] No further splits with positive gain, best gain: -inf\n",
      "[LightGBM] [Debug] Trained a tree with leaves = 5 and depth = 3\n",
      "[LightGBM] [Debug] Trained a tree with leaves = 8 and depth = 3\n",
      "[LightGBM] [Warning] No further splits with positive gain, best gain: -inf\n",
      "[LightGBM] [Debug] Trained a tree with leaves = 6 and depth = 3\n",
      "[LightGBM] [Warning] No further splits with positive gain, best gain: -inf\n",
      "[LightGBM] [Debug] Trained a tree with leaves = 7 and depth = 3\n",
      "[LightGBM] [Warning] No further splits with positive gain, best gain: -inf\n",
      "[LightGBM] [Debug] Trained a tree with leaves = 7 and depth = 3\n",
      "[LightGBM] [Warning] No further splits with positive gain, best gain: -inf\n",
      "[LightGBM] [Debug] Trained a tree with leaves = 5 and depth = 3\n",
      "[LightGBM] [Warning] No further splits with positive gain, best gain: -inf\n",
      "[LightGBM] [Debug] Trained a tree with leaves = 5 and depth = 3\n",
      "[LightGBM] [Warning] No further splits with positive gain, best gain: -inf\n",
      "[LightGBM] [Debug] Trained a tree with leaves = 6 and depth = 3\n",
      "[LightGBM] [Warning] No further splits with positive gain, best gain: -inf\n",
      "[LightGBM] [Debug] Trained a tree with leaves = 7 and depth = 3\n",
      "[LightGBM] [Warning] No further splits with positive gain, best gain: -inf\n",
      "[LightGBM] [Debug] Trained a tree with leaves = 7 and depth = 3\n",
      "[LightGBM] [Warning] No further splits with positive gain, best gain: -inf\n",
      "[LightGBM] [Debug] Trained a tree with leaves = 5 and depth = 3\n",
      "[LightGBM] [Debug] Trained a tree with leaves = 8 and depth = 3\n",
      "[LightGBM] [Warning] No further splits with positive gain, best gain: -inf\n",
      "[LightGBM] [Debug] Trained a tree with leaves = 7 and depth = 3\n",
      "[LightGBM] [Warning] No further splits with positive gain, best gain: -inf\n",
      "[LightGBM] [Debug] Trained a tree with leaves = 5 and depth = 3\n",
      "[LightGBM] [Warning] No further splits with positive gain, best gain: -inf\n",
      "[LightGBM] [Debug] Trained a tree with leaves = 5 and depth = 3\n",
      "[LightGBM] [Warning] No further splits with positive gain, best gain: -inf\n",
      "[LightGBM] [Debug] Trained a tree with leaves = 7 and depth = 3\n",
      "[LightGBM] [Warning] No further splits with positive gain, best gain: -inf\n",
      "[LightGBM] [Debug] Trained a tree with leaves = 6 and depth = 3\n",
      "[LightGBM] [Warning] No further splits with positive gain, best gain: -inf\n",
      "[LightGBM] [Debug] Trained a tree with leaves = 7 and depth = 3\n",
      "[LightGBM] [Warning] No further splits with positive gain, best gain: -inf\n",
      "[LightGBM] [Debug] Trained a tree with leaves = 6 and depth = 3\n",
      "[LightGBM] [Debug] Trained a tree with leaves = 8 and depth = 3\n",
      "[LightGBM] [Warning] No further splits with positive gain, best gain: -inf\n",
      "[LightGBM] [Debug] Trained a tree with leaves = 5 and depth = 3\n",
      "[LightGBM] [Warning] No further splits with positive gain, best gain: -inf\n",
      "[LightGBM] [Debug] Trained a tree with leaves = 5 and depth = 3\n",
      "[LightGBM] [Warning] No further splits with positive gain, best gain: -inf\n",
      "[LightGBM] [Debug] Trained a tree with leaves = 7 and depth = 3\n",
      "[LightGBM] [Warning] No further splits with positive gain, best gain: -inf\n",
      "[LightGBM] [Debug] Trained a tree with leaves = 6 and depth = 3\n",
      "[LightGBM] [Warning] No further splits with positive gain, best gain: -inf\n",
      "[LightGBM] [Debug] Trained a tree with leaves = 6 and depth = 3\n",
      "[LightGBM] [Warning] No further splits with positive gain, best gain: -inf\n",
      "[LightGBM] [Debug] Trained a tree with leaves = 5 and depth = 3\n",
      "[LightGBM] [Warning] No further splits with positive gain, best gain: -inf\n",
      "[LightGBM] [Debug] Trained a tree with leaves = 5 and depth = 3\n",
      "[LightGBM] [Warning] No further splits with positive gain, best gain: -inf\n",
      "[LightGBM] [Debug] Trained a tree with leaves = 5 and depth = 3\n",
      "[LightGBM] [Warning] No further splits with positive gain, best gain: -inf\n",
      "[LightGBM] [Debug] Trained a tree with leaves = 5 and depth = 3\n",
      "[LightGBM] [Warning] No further splits with positive gain, best gain: -inf\n",
      "[LightGBM] [Debug] Trained a tree with leaves = 7 and depth = 3\n",
      "[LightGBM] [Warning] No further splits with positive gain, best gain: -inf\n",
      "[LightGBM] [Debug] Trained a tree with leaves = 7 and depth = 3\n",
      "[LightGBM] [Warning] No further splits with positive gain, best gain: -inf\n",
      "[LightGBM] [Debug] Trained a tree with leaves = 7 and depth = 3\n",
      "[LightGBM] [Warning] No further splits with positive gain, best gain: -inf\n",
      "[LightGBM] [Debug] Trained a tree with leaves = 5 and depth = 3\n",
      "[LightGBM] [Warning] No further splits with positive gain, best gain: -inf\n",
      "[LightGBM] [Debug] Trained a tree with leaves = 5 and depth = 3\n",
      "[LightGBM] [Warning] No further splits with positive gain, best gain: -inf\n",
      "[LightGBM] [Debug] Trained a tree with leaves = 7 and depth = 3\n",
      "[LightGBM] [Warning] No further splits with positive gain, best gain: -inf\n",
      "[LightGBM] [Debug] Trained a tree with leaves = 6 and depth = 3\n",
      "[LightGBM] [Warning] No further splits with positive gain, best gain: -inf\n",
      "[LightGBM] [Debug] Trained a tree with leaves = 4 and depth = 3\n",
      "[LightGBM] [Warning] No further splits with positive gain, best gain: -inf\n",
      "[LightGBM] [Debug] Trained a tree with leaves = 5 and depth = 3\n",
      "[LightGBM] [Warning] No further splits with positive gain, best gain: -inf\n",
      "[LightGBM] [Debug] Trained a tree with leaves = 6 and depth = 3\n",
      "[LightGBM] [Warning] No further splits with positive gain, best gain: -inf\n",
      "[LightGBM] [Debug] Trained a tree with leaves = 5 and depth = 3\n",
      "[LightGBM] [Warning] No further splits with positive gain, best gain: -inf\n",
      "[LightGBM] [Debug] Trained a tree with leaves = 7 and depth = 3\n",
      "[LightGBM] [Warning] No further splits with positive gain, best gain: -inf\n",
      "[LightGBM] [Debug] Trained a tree with leaves = 5 and depth = 3\n",
      "[LightGBM] [Debug] Trained a tree with leaves = 8 and depth = 3\n",
      "[LightGBM] [Warning] No further splits with positive gain, best gain: -inf\n",
      "[LightGBM] [Debug] Trained a tree with leaves = 7 and depth = 3\n",
      "[LightGBM] [Warning] No further splits with positive gain, best gain: -inf\n",
      "[LightGBM] [Debug] Trained a tree with leaves = 5 and depth = 3\n",
      "[LightGBM] [Warning] No further splits with positive gain, best gain: -inf\n",
      "[LightGBM] [Debug] Trained a tree with leaves = 7 and depth = 3\n",
      "[LightGBM] [Debug] Trained a tree with leaves = 8 and depth = 3\n",
      "[LightGBM] [Warning] No further splits with positive gain, best gain: -inf\n",
      "[LightGBM] [Debug] Trained a tree with leaves = 7 and depth = 3\n",
      "[LightGBM] [Warning] No further splits with positive gain, best gain: -inf\n",
      "[LightGBM] [Debug] Trained a tree with leaves = 6 and depth = 3\n",
      "[LightGBM] [Warning] No further splits with positive gain, best gain: -inf\n",
      "[LightGBM] [Debug] Trained a tree with leaves = 5 and depth = 3\n",
      "[LightGBM] [Warning] No further splits with positive gain, best gain: -inf\n",
      "[LightGBM] [Debug] Trained a tree with leaves = 6 and depth = 3\n",
      "[LightGBM] [Debug] Trained a tree with leaves = 8 and depth = 3\n",
      "[LightGBM] [Debug] Dataset::GetMultiBinFromAllFeatures: sparse rate 0.007430\n",
      "[LightGBM] [Debug] init for col-wise cost 0.000007 seconds, init for row-wise cost 0.008464 seconds\n",
      "[LightGBM] [Warning] Auto-choosing col-wise multi-threading, the overhead of testing was 0.008667 seconds.\n",
      "You can set `force_col_wise=true` to remove the overhead.\n",
      "[LightGBM] [Info] Total Bins 3727\n",
      "[LightGBM] [Info] Number of data points in the train set: 1964, number of used features: 27\n",
      "[LightGBM] [Info] Start training from score 63.487780\n",
      "[LightGBM] [Debug] Trained a tree with leaves = 8 and depth = 3\n",
      "[LightGBM] [Debug] Trained a tree with leaves = 8 and depth = 3\n",
      "[LightGBM] [Debug] Trained a tree with leaves = 8 and depth = 3\n",
      "[LightGBM] [Debug] Trained a tree with leaves = 8 and depth = 3\n",
      "[LightGBM] [Debug] Trained a tree with leaves = 8 and depth = 3\n",
      "[LightGBM] [Debug] Trained a tree with leaves = 8 and depth = 3\n",
      "[LightGBM] [Debug] Trained a tree with leaves = 8 and depth = 3\n",
      "[LightGBM] [Debug] Trained a tree with leaves = 8 and depth = 3\n",
      "[LightGBM] [Debug] Trained a tree with leaves = 8 and depth = 3\n",
      "[LightGBM] [Debug] Trained a tree with leaves = 8 and depth = 3\n",
      "[LightGBM] [Debug] Trained a tree with leaves = 8 and depth = 3\n",
      "[LightGBM] [Debug] Trained a tree with leaves = 8 and depth = 3\n",
      "[LightGBM] [Debug] Trained a tree with leaves = 8 and depth = 3\n",
      "[LightGBM] [Debug] Trained a tree with leaves = 8 and depth = 3\n",
      "[LightGBM] [Warning] No further splits with positive gain, best gain: -inf\n",
      "[LightGBM] [Debug] Trained a tree with leaves = 7 and depth = 3\n",
      "[LightGBM] [Debug] Trained a tree with leaves = 8 and depth = 3\n",
      "[LightGBM] [Debug] Trained a tree with leaves = 8 and depth = 3\n",
      "[LightGBM] [Debug] Trained a tree with leaves = 8 and depth = 3\n",
      "[LightGBM] [Warning] No further splits with positive gain, best gain: -inf\n",
      "[LightGBM] [Debug] Trained a tree with leaves = 7 and depth = 3\n",
      "[LightGBM] [Debug] Trained a tree with leaves = 8 and depth = 3\n",
      "[LightGBM] [Debug] Trained a tree with leaves = 8 and depth = 3\n",
      "[LightGBM] [Debug] Trained a tree with leaves = 8 and depth = 3\n",
      "[LightGBM] [Debug] Trained a tree with leaves = 8 and depth = 3\n",
      "[LightGBM] [Warning] No further splits with positive gain, best gain: -inf\n",
      "[LightGBM] [Debug] Trained a tree with leaves = 7 and depth = 3\n",
      "[LightGBM] [Warning] No further splits with positive gain, best gain: -inf\n",
      "[LightGBM] [Debug] Trained a tree with leaves = 6 and depth = 3\n",
      "[LightGBM] [Warning] No further splits with positive gain, best gain: -inf\n",
      "[LightGBM] [Debug] Trained a tree with leaves = 7 and depth = 3\n",
      "[LightGBM] [Warning] No further splits with positive gain, best gain: -inf\n",
      "[LightGBM] [Debug] Trained a tree with leaves = 6 and depth = 3\n",
      "[LightGBM] [Debug] Trained a tree with leaves = 8 and depth = 3\n",
      "[LightGBM] [Debug] Trained a tree with leaves = 8 and depth = 3\n",
      "[LightGBM] [Warning] No further splits with positive gain, best gain: -inf\n",
      "[LightGBM] [Debug] Trained a tree with leaves = 7 and depth = 3\n",
      "[LightGBM] [Debug] Trained a tree with leaves = 8 and depth = 3\n",
      "[LightGBM] [Debug] Trained a tree with leaves = 8 and depth = 3\n",
      "[LightGBM] [Debug] Trained a tree with leaves = 8 and depth = 3\n",
      "[LightGBM] [Debug] Trained a tree with leaves = 8 and depth = 3\n",
      "[LightGBM] [Debug] Trained a tree with leaves = 8 and depth = 3\n",
      "[LightGBM] [Warning] No further splits with positive gain, best gain: -inf\n",
      "[LightGBM] [Debug] Trained a tree with leaves = 7 and depth = 3\n",
      "[LightGBM] [Debug] Trained a tree with leaves = 8 and depth = 3\n",
      "[LightGBM] [Warning] No further splits with positive gain, best gain: -inf\n",
      "[LightGBM] [Debug] Trained a tree with leaves = 6 and depth = 3\n",
      "[LightGBM] [Warning] No further splits with positive gain, best gain: -inf\n",
      "[LightGBM] [Debug] Trained a tree with leaves = 7 and depth = 3\n",
      "[LightGBM] [Debug] Trained a tree with leaves = 8 and depth = 3\n",
      "[LightGBM] [Debug] Trained a tree with leaves = 8 and depth = 3\n",
      "[LightGBM] [Warning] No further splits with positive gain, best gain: -inf\n",
      "[LightGBM] [Debug] Trained a tree with leaves = 6 and depth = 3\n",
      "[LightGBM] [Debug] Trained a tree with leaves = 8 and depth = 3\n",
      "[LightGBM] [Debug] Trained a tree with leaves = 8 and depth = 3\n",
      "[LightGBM] [Warning] No further splits with positive gain, best gain: -inf\n",
      "[LightGBM] [Debug] Trained a tree with leaves = 7 and depth = 3\n",
      "[LightGBM] [Debug] Trained a tree with leaves = 8 and depth = 3\n",
      "[LightGBM] [Debug] Trained a tree with leaves = 8 and depth = 3\n",
      "[LightGBM] [Debug] Trained a tree with leaves = 8 and depth = 3\n",
      "[LightGBM] [Warning] No further splits with positive gain, best gain: -inf\n",
      "[LightGBM] [Debug] Trained a tree with leaves = 7 and depth = 3\n",
      "[LightGBM] [Warning] No further splits with positive gain, best gain: -inf\n",
      "[LightGBM] [Debug] Trained a tree with leaves = 5 and depth = 3\n",
      "[LightGBM] [Warning] No further splits with positive gain, best gain: -inf\n",
      "[LightGBM] [Debug] Trained a tree with leaves = 5 and depth = 3\n",
      "[LightGBM] [Warning] No further splits with positive gain, best gain: -inf\n",
      "[LightGBM] [Debug] Trained a tree with leaves = 7 and depth = 3\n",
      "[LightGBM] [Warning] No further splits with positive gain, best gain: -inf\n",
      "[LightGBM] [Debug] Trained a tree with leaves = 7 and depth = 3\n",
      "[LightGBM] [Debug] Trained a tree with leaves = 8 and depth = 3\n",
      "[LightGBM] [Warning] No further splits with positive gain, best gain: -inf\n",
      "[LightGBM] [Debug] Trained a tree with leaves = 7 and depth = 3\n",
      "[LightGBM] [Warning] No further splits with positive gain, best gain: -inf\n",
      "[LightGBM] [Debug] Trained a tree with leaves = 7 and depth = 3\n",
      "[LightGBM] [Warning] No further splits with positive gain, best gain: -inf\n",
      "[LightGBM] [Debug] Trained a tree with leaves = 6 and depth = 3\n",
      "[LightGBM] [Warning] No further splits with positive gain, best gain: -inf\n",
      "[LightGBM] [Debug] Trained a tree with leaves = 5 and depth = 3\n",
      "[LightGBM] [Warning] No further splits with positive gain, best gain: -inf\n",
      "[LightGBM] [Debug] Trained a tree with leaves = 7 and depth = 3\n",
      "[LightGBM] [Debug] Trained a tree with leaves = 8 and depth = 3\n",
      "[LightGBM] [Warning] No further splits with positive gain, best gain: -inf\n",
      "[LightGBM] [Debug] Trained a tree with leaves = 4 and depth = 3\n",
      "[LightGBM] [Warning] No further splits with positive gain, best gain: -inf\n",
      "[LightGBM] [Debug] Trained a tree with leaves = 4 and depth = 3\n",
      "[LightGBM] [Debug] Trained a tree with leaves = 8 and depth = 3\n",
      "[LightGBM] [Warning] No further splits with positive gain, best gain: -inf\n",
      "[LightGBM] [Debug] Trained a tree with leaves = 7 and depth = 3\n",
      "[LightGBM] [Warning] No further splits with positive gain, best gain: -inf\n",
      "[LightGBM] [Debug] Trained a tree with leaves = 7 and depth = 3\n",
      "[LightGBM] [Warning] No further splits with positive gain, best gain: -inf\n",
      "[LightGBM] [Debug] Trained a tree with leaves = 6 and depth = 3\n",
      "[LightGBM] [Warning] No further splits with positive gain, best gain: -inf\n",
      "[LightGBM] [Debug] Trained a tree with leaves = 7 and depth = 3\n",
      "[LightGBM] [Warning] No further splits with positive gain, best gain: -inf\n",
      "[LightGBM] [Debug] Trained a tree with leaves = 7 and depth = 3\n",
      "[LightGBM] [Warning] No further splits with positive gain, best gain: -inf\n",
      "[LightGBM] [Debug] Trained a tree with leaves = 4 and depth = 3\n",
      "[LightGBM] [Warning] No further splits with positive gain, best gain: -inf\n",
      "[LightGBM] [Debug] Trained a tree with leaves = 7 and depth = 3\n",
      "[LightGBM] [Warning] No further splits with positive gain, best gain: -inf\n",
      "[LightGBM] [Debug] Trained a tree with leaves = 5 and depth = 3\n",
      "[LightGBM] [Warning] No further splits with positive gain, best gain: -inf\n",
      "[LightGBM] [Debug] Trained a tree with leaves = 7 and depth = 3\n",
      "[LightGBM] [Warning] No further splits with positive gain, best gain: -inf\n",
      "[LightGBM] [Debug] Trained a tree with leaves = 7 and depth = 3\n",
      "[LightGBM] [Warning] No further splits with positive gain, best gain: -inf\n",
      "[LightGBM] [Debug] Trained a tree with leaves = 6 and depth = 3\n",
      "[LightGBM] [Warning] No further splits with positive gain, best gain: -inf\n",
      "[LightGBM] [Debug] Trained a tree with leaves = 6 and depth = 3\n",
      "[LightGBM] [Debug] Trained a tree with leaves = 8 and depth = 3\n",
      "[LightGBM] [Warning] No further splits with positive gain, best gain: -inf\n",
      "[LightGBM] [Debug] Trained a tree with leaves = 7 and depth = 3\n",
      "[LightGBM] [Warning] No further splits with positive gain, best gain: -inf\n",
      "[LightGBM] [Debug] Trained a tree with leaves = 5 and depth = 3\n",
      "[LightGBM] [Debug] Trained a tree with leaves = 8 and depth = 3\n",
      "[LightGBM] [Warning] No further splits with positive gain, best gain: -inf\n",
      "[LightGBM] [Debug] Trained a tree with leaves = 6 and depth = 3\n",
      "[LightGBM] [Warning] No further splits with positive gain, best gain: -inf\n",
      "[LightGBM] [Debug] Trained a tree with leaves = 7 and depth = 3\n",
      "[LightGBM] [Debug] Trained a tree with leaves = 8 and depth = 3\n",
      "[LightGBM] [Warning] No further splits with positive gain, best gain: -inf\n",
      "[LightGBM] [Debug] Trained a tree with leaves = 7 and depth = 3\n",
      "[LightGBM] [Warning] No further splits with positive gain, best gain: -inf\n",
      "[LightGBM] [Debug] Trained a tree with leaves = 4 and depth = 3\n",
      "[LightGBM] [Warning] No further splits with positive gain, best gain: -inf\n",
      "[LightGBM] [Debug] Trained a tree with leaves = 7 and depth = 3\n",
      "[LightGBM] [Warning] No further splits with positive gain, best gain: -inf\n",
      "[LightGBM] [Debug] Trained a tree with leaves = 6 and depth = 3\n",
      "[LightGBM] [Debug] Trained a tree with leaves = 8 and depth = 3\n",
      "[LightGBM] [Warning] No further splits with positive gain, best gain: -inf\n",
      "[LightGBM] [Debug] Trained a tree with leaves = 7 and depth = 3\n",
      "[LightGBM] [Warning] No further splits with positive gain, best gain: -inf\n",
      "[LightGBM] [Debug] Trained a tree with leaves = 5 and depth = 3\n",
      "[LightGBM] [Warning] No further splits with positive gain, best gain: -inf\n",
      "[LightGBM] [Debug] Trained a tree with leaves = 6 and depth = 3\n",
      "[LightGBM] [Warning] No further splits with positive gain, best gain: -inf\n",
      "[LightGBM] [Debug] Trained a tree with leaves = 7 and depth = 3\n",
      "[LightGBM] [Debug] Trained a tree with leaves = 8 and depth = 3\n",
      "[LightGBM] [Debug] Trained a tree with leaves = 8 and depth = 3\n",
      "[LightGBM] [Warning] No further splits with positive gain, best gain: -inf\n",
      "[LightGBM] [Debug] Trained a tree with leaves = 5 and depth = 3\n",
      "[LightGBM] [Warning] No further splits with positive gain, best gain: -inf\n",
      "[LightGBM] [Debug] Trained a tree with leaves = 5 and depth = 3\n",
      "[LightGBM] [Warning] No further splits with positive gain, best gain: -inf\n",
      "[LightGBM] [Debug] Trained a tree with leaves = 5 and depth = 3\n",
      "[LightGBM] [Warning] No further splits with positive gain, best gain: -inf\n",
      "[LightGBM] [Debug] Trained a tree with leaves = 5 and depth = 3\n",
      "[LightGBM] [Warning] No further splits with positive gain, best gain: -inf\n",
      "[LightGBM] [Debug] Trained a tree with leaves = 6 and depth = 3\n",
      "[LightGBM] [Debug] Trained a tree with leaves = 8 and depth = 3\n",
      "[LightGBM] [Warning] No further splits with positive gain, best gain: -inf\n",
      "[LightGBM] [Debug] Trained a tree with leaves = 7 and depth = 3\n",
      "[LightGBM] [Debug] Dataset::GetMultiBinFromAllFeatures: sparse rate 0.007282\n",
      "[LightGBM] [Debug] init for col-wise cost 0.000008 seconds, init for row-wise cost 0.001302 seconds\n",
      "[LightGBM] [Warning] Auto-choosing col-wise multi-threading, the overhead of testing was 0.009165 seconds.\n",
      "You can set `force_col_wise=true` to remove the overhead.\n",
      "[LightGBM] [Info] Total Bins 4238\n",
      "[LightGBM] [Info] Number of data points in the train set: 2945, number of used features: 27\n",
      "[LightGBM] [Info] Start training from score 70.085908\n",
      "[LightGBM] [Debug] Trained a tree with leaves = 8 and depth = 3\n",
      "[LightGBM] [Debug] Trained a tree with leaves = 8 and depth = 3\n",
      "[LightGBM] [Debug] Trained a tree with leaves = 8 and depth = 3\n",
      "[LightGBM] [Debug] Trained a tree with leaves = 8 and depth = 3\n",
      "[LightGBM] [Debug] Trained a tree with leaves = 8 and depth = 3\n",
      "[LightGBM] [Debug] Trained a tree with leaves = 8 and depth = 3\n",
      "[LightGBM] [Debug] Trained a tree with leaves = 8 and depth = 3\n",
      "[LightGBM] [Debug] Trained a tree with leaves = 8 and depth = 3\n",
      "[LightGBM] [Debug] Trained a tree with leaves = 8 and depth = 3\n",
      "[LightGBM] [Debug] Trained a tree with leaves = 8 and depth = 3\n",
      "[LightGBM] [Debug] Trained a tree with leaves = 8 and depth = 3\n",
      "[LightGBM] [Debug] Trained a tree with leaves = 8 and depth = 3\n",
      "[LightGBM] [Debug] Trained a tree with leaves = 8 and depth = 3\n",
      "[LightGBM] [Debug] Trained a tree with leaves = 8 and depth = 3\n",
      "[LightGBM] [Debug] Trained a tree with leaves = 8 and depth = 3\n",
      "[LightGBM] [Debug] Trained a tree with leaves = 8 and depth = 3\n",
      "[LightGBM] [Debug] Trained a tree with leaves = 8 and depth = 3\n",
      "[LightGBM] [Debug] Trained a tree with leaves = 8 and depth = 3\n",
      "[LightGBM] [Debug] Trained a tree with leaves = 8 and depth = 3\n",
      "[LightGBM] [Debug] Trained a tree with leaves = 8 and depth = 3\n",
      "[LightGBM] [Warning] No further splits with positive gain, best gain: -inf\n",
      "[LightGBM] [Debug] Trained a tree with leaves = 7 and depth = 3\n",
      "[LightGBM] [Debug] Trained a tree with leaves = 8 and depth = 3\n",
      "[LightGBM] [Debug] Trained a tree with leaves = 8 and depth = 3\n",
      "[LightGBM] [Warning] No further splits with positive gain, best gain: -inf\n",
      "[LightGBM] [Debug] Trained a tree with leaves = 7 and depth = 3\n",
      "[LightGBM] [Debug] Trained a tree with leaves = 8 and depth = 3\n",
      "[LightGBM] [Warning] No further splits with positive gain, best gain: -inf\n",
      "[LightGBM] [Debug] Trained a tree with leaves = 7 and depth = 3\n",
      "[LightGBM] [Debug] Trained a tree with leaves = 8 and depth = 3\n",
      "[LightGBM] [Warning] No further splits with positive gain, best gain: -inf\n",
      "[LightGBM] [Debug] Trained a tree with leaves = 7 and depth = 3\n",
      "[LightGBM] [Warning] No further splits with positive gain, best gain: -inf\n",
      "[LightGBM] [Debug] Trained a tree with leaves = 7 and depth = 3\n",
      "[LightGBM] [Debug] Trained a tree with leaves = 8 and depth = 3\n",
      "[LightGBM] [Debug] Trained a tree with leaves = 8 and depth = 3\n",
      "[LightGBM] [Debug] Trained a tree with leaves = 8 and depth = 3\n",
      "[LightGBM] [Warning] No further splits with positive gain, best gain: -inf\n",
      "[LightGBM] [Debug] Trained a tree with leaves = 7 and depth = 3\n",
      "[LightGBM] [Debug] Trained a tree with leaves = 8 and depth = 3\n",
      "[LightGBM] [Warning] No further splits with positive gain, best gain: -inf\n",
      "[LightGBM] [Debug] Trained a tree with leaves = 6 and depth = 3\n",
      "[LightGBM] [Debug] Trained a tree with leaves = 8 and depth = 3\n",
      "[LightGBM] [Warning] No further splits with positive gain, best gain: -inf\n",
      "[LightGBM] [Debug] Trained a tree with leaves = 5 and depth = 3\n",
      "[LightGBM] [Debug] Trained a tree with leaves = 8 and depth = 3\n",
      "[LightGBM] [Warning] No further splits with positive gain, best gain: -inf\n",
      "[LightGBM] [Debug] Trained a tree with leaves = 6 and depth = 3\n",
      "[LightGBM] [Warning] No further splits with positive gain, best gain: -inf\n",
      "[LightGBM] [Debug] Trained a tree with leaves = 7 and depth = 3\n",
      "[LightGBM] [Warning] No further splits with positive gain, best gain: -inf\n",
      "[LightGBM] [Debug] Trained a tree with leaves = 7 and depth = 3\n",
      "[LightGBM] [Debug] Trained a tree with leaves = 8 and depth = 3\n",
      "[LightGBM] [Debug] Trained a tree with leaves = 8 and depth = 3\n",
      "[LightGBM] [Debug] Trained a tree with leaves = 8 and depth = 3\n",
      "[LightGBM] [Warning] No further splits with positive gain, best gain: -inf\n",
      "[LightGBM] [Debug] Trained a tree with leaves = 7 and depth = 3\n",
      "[LightGBM] [Debug] Trained a tree with leaves = 8 and depth = 3\n",
      "[LightGBM] [Debug] Trained a tree with leaves = 8 and depth = 3\n",
      "[LightGBM] [Warning] No further splits with positive gain, best gain: -inf\n",
      "[LightGBM] [Debug] Trained a tree with leaves = 7 and depth = 3\n",
      "[LightGBM] [Warning] No further splits with positive gain, best gain: -inf\n",
      "[LightGBM] [Debug] Trained a tree with leaves = 5 and depth = 3\n",
      "[LightGBM] [Warning] No further splits with positive gain, best gain: -inf\n",
      "[LightGBM] [Debug] Trained a tree with leaves = 7 and depth = 3\n",
      "[LightGBM] [Debug] Trained a tree with leaves = 8 and depth = 3\n",
      "[LightGBM] [Warning] No further splits with positive gain, best gain: -inf\n",
      "[LightGBM] [Debug] Trained a tree with leaves = 7 and depth = 3\n",
      "[LightGBM] [Warning] No further splits with positive gain, best gain: -inf\n",
      "[LightGBM] [Debug] Trained a tree with leaves = 7 and depth = 3\n",
      "[LightGBM] [Warning] No further splits with positive gain, best gain: -inf\n",
      "[LightGBM] [Debug] Trained a tree with leaves = 6 and depth = 3\n",
      "[LightGBM] [Debug] Trained a tree with leaves = 8 and depth = 3\n",
      "[LightGBM] [Warning] No further splits with positive gain, best gain: -inf\n",
      "[LightGBM] [Debug] Trained a tree with leaves = 7 and depth = 3\n",
      "[LightGBM] [Warning] No further splits with positive gain, best gain: -inf\n",
      "[LightGBM] [Debug] Trained a tree with leaves = 5 and depth = 3\n",
      "[LightGBM] [Debug] Trained a tree with leaves = 8 and depth = 3\n",
      "[LightGBM] [Warning] No further splits with positive gain, best gain: -inf\n",
      "[LightGBM] [Debug] Trained a tree with leaves = 6 and depth = 3\n",
      "[LightGBM] [Debug] Trained a tree with leaves = 8 and depth = 3\n",
      "[LightGBM] [Warning] No further splits with positive gain, best gain: -inf\n",
      "[LightGBM] [Debug] Trained a tree with leaves = 5 and depth = 3\n",
      "[LightGBM] [Warning] No further splits with positive gain, best gain: -inf\n",
      "[LightGBM] [Debug] Trained a tree with leaves = 7 and depth = 3\n",
      "[LightGBM] [Warning] No further splits with positive gain, best gain: -inf\n",
      "[LightGBM] [Debug] Trained a tree with leaves = 7 and depth = 3\n",
      "[LightGBM] [Warning] No further splits with positive gain, best gain: -inf\n",
      "[LightGBM] [Debug] Trained a tree with leaves = 6 and depth = 3\n",
      "[LightGBM] [Warning] No further splits with positive gain, best gain: -inf\n",
      "[LightGBM] [Debug] Trained a tree with leaves = 7 and depth = 3\n",
      "[LightGBM] [Debug] Trained a tree with leaves = 8 and depth = 3\n",
      "[LightGBM] [Warning] No further splits with positive gain, best gain: -inf\n",
      "[LightGBM] [Debug] Trained a tree with leaves = 5 and depth = 3\n",
      "[LightGBM] [Warning] No further splits with positive gain, best gain: -inf\n",
      "[LightGBM] [Debug] Trained a tree with leaves = 6 and depth = 3\n",
      "[LightGBM] [Warning] No further splits with positive gain, best gain: -inf\n",
      "[LightGBM] [Debug] Trained a tree with leaves = 5 and depth = 3\n",
      "[LightGBM] [Warning] No further splits with positive gain, best gain: -inf\n",
      "[LightGBM] [Debug] Trained a tree with leaves = 7 and depth = 3\n",
      "[LightGBM] [Warning] No further splits with positive gain, best gain: -inf\n",
      "[LightGBM] [Debug] Trained a tree with leaves = 5 and depth = 3\n",
      "[LightGBM] [Warning] No further splits with positive gain, best gain: -inf\n",
      "[LightGBM] [Debug] Trained a tree with leaves = 7 and depth = 3\n",
      "[LightGBM] [Warning] No further splits with positive gain, best gain: -inf\n",
      "[LightGBM] [Debug] Trained a tree with leaves = 7 and depth = 3\n",
      "[LightGBM] [Debug] Trained a tree with leaves = 8 and depth = 3\n",
      "[LightGBM] [Warning] No further splits with positive gain, best gain: -inf\n",
      "[LightGBM] [Debug] Trained a tree with leaves = 7 and depth = 3\n",
      "[LightGBM] [Debug] Trained a tree with leaves = 8 and depth = 3\n",
      "[LightGBM] [Debug] Trained a tree with leaves = 8 and depth = 3\n",
      "[LightGBM] [Debug] Trained a tree with leaves = 8 and depth = 3\n",
      "[LightGBM] [Debug] Trained a tree with leaves = 8 and depth = 3\n",
      "[LightGBM] [Warning] No further splits with positive gain, best gain: -inf\n",
      "[LightGBM] [Debug] Trained a tree with leaves = 4 and depth = 3\n",
      "[LightGBM] [Warning] No further splits with positive gain, best gain: -inf\n",
      "[LightGBM] [Debug] Trained a tree with leaves = 7 and depth = 3\n",
      "[LightGBM] [Warning] No further splits with positive gain, best gain: -inf\n",
      "[LightGBM] [Debug] Trained a tree with leaves = 7 and depth = 3\n",
      "[LightGBM] [Warning] No further splits with positive gain, best gain: -inf\n",
      "[LightGBM] [Debug] Trained a tree with leaves = 7 and depth = 3\n",
      "[LightGBM] [Warning] No further splits with positive gain, best gain: -inf\n",
      "[LightGBM] [Debug] Trained a tree with leaves = 5 and depth = 3\n",
      "[LightGBM] [Warning] No further splits with positive gain, best gain: -inf\n",
      "[LightGBM] [Debug] Trained a tree with leaves = 7 and depth = 3\n",
      "[LightGBM] [Debug] Trained a tree with leaves = 8 and depth = 3\n",
      "[LightGBM] [Warning] No further splits with positive gain, best gain: -inf\n",
      "[LightGBM] [Debug] Trained a tree with leaves = 6 and depth = 3\n",
      "[LightGBM] [Warning] No further splits with positive gain, best gain: -inf\n",
      "[LightGBM] [Debug] Trained a tree with leaves = 6 and depth = 3\n",
      "[LightGBM] [Debug] Trained a tree with leaves = 8 and depth = 3\n",
      "[LightGBM] [Warning] No further splits with positive gain, best gain: -inf\n",
      "[LightGBM] [Debug] Trained a tree with leaves = 6 and depth = 3\n",
      "[LightGBM] [Debug] Trained a tree with leaves = 8 and depth = 3\n",
      "[LightGBM] [Warning] No further splits with positive gain, best gain: -inf\n",
      "[LightGBM] [Debug] Trained a tree with leaves = 4 and depth = 3\n",
      "[LightGBM] [Debug] Trained a tree with leaves = 8 and depth = 3\n",
      "[LightGBM] [Warning] No further splits with positive gain, best gain: -inf\n",
      "[LightGBM] [Debug] Trained a tree with leaves = 7 and depth = 3\n",
      "[LightGBM] [Warning] No further splits with positive gain, best gain: -inf\n",
      "[LightGBM] [Debug] Trained a tree with leaves = 5 and depth = 3\n",
      "[LightGBM] [Warning] No further splits with positive gain, best gain: -inf\n",
      "[LightGBM] [Debug] Trained a tree with leaves = 6 and depth = 3\n",
      "[LightGBM] [Warning] No further splits with positive gain, best gain: -inf\n",
      "[LightGBM] [Debug] Trained a tree with leaves = 6 and depth = 3\n",
      "[LightGBM] [Warning] No further splits with positive gain, best gain: -inf\n",
      "[LightGBM] [Debug] Trained a tree with leaves = 7 and depth = 3\n",
      "[LightGBM] [Warning] No further splits with positive gain, best gain: -inf\n",
      "[LightGBM] [Debug] Trained a tree with leaves = 6 and depth = 3\n",
      "[LightGBM] [Debug] Trained a tree with leaves = 8 and depth = 3\n",
      "[LightGBM] [Debug] Dataset::GetMultiBinFromAllFeatures: sparse rate 0.007113\n",
      "[LightGBM] [Debug] init for col-wise cost 0.000009 seconds, init for row-wise cost 0.000901 seconds\n",
      "[LightGBM] [Warning] Auto-choosing col-wise multi-threading, the overhead of testing was 0.001131 seconds.\n",
      "You can set `force_col_wise=true` to remove the overhead.\n",
      "[LightGBM] [Info] Total Bins 4836\n",
      "[LightGBM] [Info] Number of data points in the train set: 3926, number of used features: 27\n",
      "[LightGBM] [Info] Start training from score 78.516811\n",
      "[LightGBM] [Debug] Trained a tree with leaves = 8 and depth = 3\n",
      "[LightGBM] [Debug] Trained a tree with leaves = 8 and depth = 3\n",
      "[LightGBM] [Debug] Trained a tree with leaves = 8 and depth = 3\n",
      "[LightGBM] [Debug] Trained a tree with leaves = 8 and depth = 3\n",
      "[LightGBM] [Debug] Trained a tree with leaves = 8 and depth = 3\n",
      "[LightGBM] [Debug] Trained a tree with leaves = 8 and depth = 3\n",
      "[LightGBM] [Debug] Trained a tree with leaves = 8 and depth = 3\n",
      "[LightGBM] [Debug] Trained a tree with leaves = 8 and depth = 3\n",
      "[LightGBM] [Debug] Trained a tree with leaves = 8 and depth = 3\n",
      "[LightGBM] [Debug] Trained a tree with leaves = 8 and depth = 3\n",
      "[LightGBM] [Debug] Trained a tree with leaves = 8 and depth = 3\n",
      "[LightGBM] [Debug] Trained a tree with leaves = 8 and depth = 3\n",
      "[LightGBM] [Debug] Trained a tree with leaves = 8 and depth = 3\n",
      "[LightGBM] [Debug] Trained a tree with leaves = 8 and depth = 3\n",
      "[LightGBM] [Debug] Trained a tree with leaves = 8 and depth = 3\n",
      "[LightGBM] [Debug] Trained a tree with leaves = 8 and depth = 3\n",
      "[LightGBM] [Debug] Trained a tree with leaves = 8 and depth = 3\n",
      "[LightGBM] [Debug] Trained a tree with leaves = 8 and depth = 3\n",
      "[LightGBM] [Debug] Trained a tree with leaves = 8 and depth = 3\n",
      "[LightGBM] [Debug] Trained a tree with leaves = 8 and depth = 3\n",
      "[LightGBM] [Debug] Trained a tree with leaves = 8 and depth = 3\n",
      "[LightGBM] [Debug] Trained a tree with leaves = 8 and depth = 3\n",
      "[LightGBM] [Debug] Trained a tree with leaves = 8 and depth = 3\n",
      "[LightGBM] [Debug] Trained a tree with leaves = 8 and depth = 3\n",
      "[LightGBM] [Debug] Trained a tree with leaves = 8 and depth = 3\n",
      "[LightGBM] [Debug] Trained a tree with leaves = 8 and depth = 3\n",
      "[LightGBM] [Debug] Trained a tree with leaves = 8 and depth = 3\n",
      "[LightGBM] [Debug] Trained a tree with leaves = 8 and depth = 3\n",
      "[LightGBM] [Debug] Trained a tree with leaves = 8 and depth = 3\n",
      "[LightGBM] [Warning] No further splits with positive gain, best gain: -inf\n",
      "[LightGBM] [Debug] Trained a tree with leaves = 7 and depth = 3\n",
      "[LightGBM] [Debug] Trained a tree with leaves = 8 and depth = 3\n",
      "[LightGBM] [Debug] Trained a tree with leaves = 8 and depth = 3\n",
      "[LightGBM] [Debug] Trained a tree with leaves = 8 and depth = 3\n",
      "[LightGBM] [Warning] No further splits with positive gain, best gain: -inf\n",
      "[LightGBM] [Debug] Trained a tree with leaves = 7 and depth = 3\n",
      "[LightGBM] [Debug] Trained a tree with leaves = 8 and depth = 3\n",
      "[LightGBM] [Debug] Trained a tree with leaves = 8 and depth = 3\n",
      "[LightGBM] [Debug] Trained a tree with leaves = 8 and depth = 3\n",
      "[LightGBM] [Debug] Trained a tree with leaves = 8 and depth = 3\n",
      "[LightGBM] [Warning] No further splits with positive gain, best gain: -inf\n",
      "[LightGBM] [Debug] Trained a tree with leaves = 6 and depth = 3\n",
      "[LightGBM] [Debug] Trained a tree with leaves = 8 and depth = 3\n",
      "[LightGBM] [Debug] Trained a tree with leaves = 8 and depth = 3\n",
      "[LightGBM] [Warning] No further splits with positive gain, best gain: -inf\n",
      "[LightGBM] [Debug] Trained a tree with leaves = 7 and depth = 3\n",
      "[LightGBM] [Warning] No further splits with positive gain, best gain: -inf\n",
      "[LightGBM] [Debug] Trained a tree with leaves = 6 and depth = 3\n",
      "[LightGBM] [Debug] Trained a tree with leaves = 8 and depth = 3\n",
      "[LightGBM] [Warning] No further splits with positive gain, best gain: -inf\n",
      "[LightGBM] [Debug] Trained a tree with leaves = 6 and depth = 3\n",
      "[LightGBM] [Debug] Trained a tree with leaves = 8 and depth = 3\n",
      "[LightGBM] [Warning] No further splits with positive gain, best gain: -inf\n",
      "[LightGBM] [Debug] Trained a tree with leaves = 6 and depth = 3\n",
      "[LightGBM] [Warning] No further splits with positive gain, best gain: -inf\n",
      "[LightGBM] [Debug] Trained a tree with leaves = 7 and depth = 3\n",
      "[LightGBM] [Warning] No further splits with positive gain, best gain: -inf\n",
      "[LightGBM] [Debug] Trained a tree with leaves = 6 and depth = 3\n",
      "[LightGBM] [Debug] Trained a tree with leaves = 8 and depth = 3\n",
      "[LightGBM] [Debug] Trained a tree with leaves = 8 and depth = 3\n",
      "[LightGBM] [Warning] No further splits with positive gain, best gain: -inf\n",
      "[LightGBM] [Debug] Trained a tree with leaves = 6 and depth = 3\n",
      "[LightGBM] [Warning] No further splits with positive gain, best gain: -inf\n",
      "[LightGBM] [Debug] Trained a tree with leaves = 5 and depth = 3\n",
      "[LightGBM] [Warning] No further splits with positive gain, best gain: -inf\n",
      "[LightGBM] [Debug] Trained a tree with leaves = 7 and depth = 3\n",
      "[LightGBM] [Warning] No further splits with positive gain, best gain: -inf\n",
      "[LightGBM] [Debug] Trained a tree with leaves = 7 and depth = 3\n",
      "[LightGBM] [Warning] No further splits with positive gain, best gain: -inf\n",
      "[LightGBM] [Debug] Trained a tree with leaves = 6 and depth = 3\n",
      "[LightGBM] [Warning] No further splits with positive gain, best gain: -inf\n",
      "[LightGBM] [Debug] Trained a tree with leaves = 6 and depth = 3\n",
      "[LightGBM] [Debug] Trained a tree with leaves = 8 and depth = 3\n",
      "[LightGBM] [Warning] No further splits with positive gain, best gain: -inf\n",
      "[LightGBM] [Debug] Trained a tree with leaves = 6 and depth = 3\n",
      "[LightGBM] [Warning] No further splits with positive gain, best gain: -inf\n",
      "[LightGBM] [Debug] Trained a tree with leaves = 5 and depth = 3\n",
      "[LightGBM] [Debug] Trained a tree with leaves = 8 and depth = 3\n",
      "[LightGBM] [Debug] Trained a tree with leaves = 8 and depth = 3\n",
      "[LightGBM] [Debug] Trained a tree with leaves = 8 and depth = 3\n",
      "[LightGBM] [Debug] Trained a tree with leaves = 8 and depth = 3\n",
      "[LightGBM] [Warning] No further splits with positive gain, best gain: -inf\n",
      "[LightGBM] [Debug] Trained a tree with leaves = 6 and depth = 3\n",
      "[LightGBM] [Debug] Trained a tree with leaves = 8 and depth = 3\n",
      "[LightGBM] [Warning] No further splits with positive gain, best gain: -inf\n",
      "[LightGBM] [Debug] Trained a tree with leaves = 5 and depth = 3\n",
      "[LightGBM] [Warning] No further splits with positive gain, best gain: -inf\n",
      "[LightGBM] [Debug] Trained a tree with leaves = 5 and depth = 3\n",
      "[LightGBM] [Debug] Trained a tree with leaves = 8 and depth = 3\n",
      "[LightGBM] [Debug] Trained a tree with leaves = 8 and depth = 3\n",
      "[LightGBM] [Warning] No further splits with positive gain, best gain: -inf\n",
      "[LightGBM] [Debug] Trained a tree with leaves = 7 and depth = 3\n",
      "[LightGBM] [Warning] No further splits with positive gain, best gain: -inf\n",
      "[LightGBM] [Debug] Trained a tree with leaves = 5 and depth = 3\n",
      "[LightGBM] [Debug] Trained a tree with leaves = 8 and depth = 3\n",
      "[LightGBM] [Debug] Trained a tree with leaves = 8 and depth = 3\n",
      "[LightGBM] [Debug] Trained a tree with leaves = 8 and depth = 3\n",
      "[LightGBM] [Debug] Trained a tree with leaves = 8 and depth = 3\n",
      "[LightGBM] [Warning] No further splits with positive gain, best gain: -inf\n",
      "[LightGBM] [Debug] Trained a tree with leaves = 7 and depth = 3\n",
      "[LightGBM] [Debug] Trained a tree with leaves = 8 and depth = 3\n",
      "[LightGBM] [Warning] No further splits with positive gain, best gain: -inf\n",
      "[LightGBM] [Debug] Trained a tree with leaves = 7 and depth = 3\n",
      "[LightGBM] [Debug] Trained a tree with leaves = 8 and depth = 3\n",
      "[LightGBM] [Debug] Trained a tree with leaves = 8 and depth = 3\n",
      "[LightGBM] [Warning] No further splits with positive gain, best gain: -inf\n",
      "[LightGBM] [Debug] Trained a tree with leaves = 7 and depth = 3\n",
      "[LightGBM] [Debug] Trained a tree with leaves = 8 and depth = 3\n",
      "[LightGBM] [Warning] No further splits with positive gain, best gain: -inf\n",
      "[LightGBM] [Debug] Trained a tree with leaves = 5 and depth = 3\n",
      "[LightGBM] [Debug] Trained a tree with leaves = 8 and depth = 3\n",
      "[LightGBM] [Debug] Trained a tree with leaves = 8 and depth = 3\n",
      "[LightGBM] [Warning] No further splits with positive gain, best gain: -inf\n",
      "[LightGBM] [Debug] Trained a tree with leaves = 7 and depth = 3\n",
      "[LightGBM] [Warning] No further splits with positive gain, best gain: -inf\n",
      "[LightGBM] [Debug] Trained a tree with leaves = 7 and depth = 3\n",
      "[LightGBM] [Warning] No further splits with positive gain, best gain: -inf\n",
      "[LightGBM] [Debug] Trained a tree with leaves = 5 and depth = 3\n",
      "[LightGBM] [Debug] Trained a tree with leaves = 8 and depth = 3\n",
      "[LightGBM] [Debug] Trained a tree with leaves = 8 and depth = 3\n",
      "[LightGBM] [Warning] No further splits with positive gain, best gain: -inf\n",
      "[LightGBM] [Debug] Trained a tree with leaves = 6 and depth = 3\n",
      "[LightGBM] [Debug] Trained a tree with leaves = 8 and depth = 3\n",
      "[LightGBM] [Warning] No further splits with positive gain, best gain: -inf\n",
      "[LightGBM] [Debug] Trained a tree with leaves = 5 and depth = 3\n",
      "[LightGBM] [Debug] Trained a tree with leaves = 8 and depth = 3\n",
      "[LightGBM] [Warning] No further splits with positive gain, best gain: -inf\n",
      "[LightGBM] [Debug] Trained a tree with leaves = 6 and depth = 3\n",
      "[LightGBM] [Debug] Trained a tree with leaves = 8 and depth = 3\n",
      "[LightGBM] [Debug] Trained a tree with leaves = 8 and depth = 3\n",
      "[LightGBM] [Warning] No further splits with positive gain, best gain: -inf\n",
      "[LightGBM] [Debug] Trained a tree with leaves = 7 and depth = 3\n",
      "[LightGBM] [Warning] No further splits with positive gain, best gain: -inf\n",
      "[LightGBM] [Debug] Trained a tree with leaves = 5 and depth = 3\n",
      "Время работы RandomizedSearch  3\n"
     ]
    }
   ],
   "source": [
    "param_grid = {\n",
    "    'max_depth' : [3],\n",
    "    'learning_rate' : [0.1],\n",
    "    }\n",
    "\n",
    "random_search_lgbm = RandomizedSearchCV (\n",
    "    LGBMR, \n",
    "    param_grid, \n",
    "    scoring='neg_root_mean_squared_error', \n",
    "    cv=tscv,\n",
    "    n_iter = 3\n",
    ")\n",
    "\n",
    "time_start = time()\n",
    "\n",
    "random_search_lgbm.fit(X_train, y_train)\n",
    "\n",
    "time_finish = time()\n",
    "\n",
    "duration = round(time_finish - time_start)\n",
    "print('Время работы RandomizedSearch ', duration)"
   ]
  },
  {
   "cell_type": "code",
   "execution_count": 42,
   "metadata": {},
   "outputs": [
    {
     "data": {
      "text/plain": [
       "{'max_depth': 3, 'learning_rate': 0.1}"
      ]
     },
     "execution_count": 42,
     "metadata": {},
     "output_type": "execute_result"
    }
   ],
   "source": [
    "random_search_lgbm.best_params_"
   ]
  },
  {
   "cell_type": "code",
   "execution_count": 43,
   "metadata": {},
   "outputs": [],
   "source": [
    "LGBMR = LGBMRegressor(verbose=10, random_state=RANDOM_STATE, max_depth = 3, learning_rate = 0.1)"
   ]
  },
  {
   "cell_type": "code",
   "execution_count": 44,
   "metadata": {
    "scrolled": true
   },
   "outputs": [
    {
     "name": "stdout",
     "output_type": "stream",
     "text": [
      "[LightGBM] [Debug] Dataset::GetMultiBinFromAllFeatures: sparse rate 0.007113\n",
      "[LightGBM] [Debug] init for col-wise cost 0.000008 seconds, init for row-wise cost 0.000941 seconds\n",
      "[LightGBM] [Warning] Auto-choosing row-wise multi-threading, the overhead of testing was 0.000563 seconds.\n",
      "You can set `force_row_wise=true` to remove the overhead.\n",
      "And if memory is not enough, you can set `force_col_wise=true`.\n",
      "[LightGBM] [Debug] Using Dense Multi-Val Bin\n",
      "[LightGBM] [Info] Total Bins 4836\n",
      "[LightGBM] [Info] Number of data points in the train set: 3926, number of used features: 27\n",
      "[LightGBM] [Info] Start training from score 78.516811\n",
      "[LightGBM] [Debug] Trained a tree with leaves = 8 and depth = 3\n",
      "[LightGBM] [Debug] Trained a tree with leaves = 8 and depth = 3\n",
      "[LightGBM] [Debug] Trained a tree with leaves = 8 and depth = 3\n",
      "[LightGBM] [Debug] Trained a tree with leaves = 8 and depth = 3\n",
      "[LightGBM] [Debug] Trained a tree with leaves = 8 and depth = 3\n",
      "[LightGBM] [Debug] Trained a tree with leaves = 8 and depth = 3\n",
      "[LightGBM] [Debug] Trained a tree with leaves = 8 and depth = 3\n",
      "[LightGBM] [Debug] Trained a tree with leaves = 8 and depth = 3\n",
      "[LightGBM] [Debug] Trained a tree with leaves = 8 and depth = 3\n",
      "[LightGBM] [Debug] Trained a tree with leaves = 8 and depth = 3\n",
      "[LightGBM] [Debug] Trained a tree with leaves = 8 and depth = 3\n",
      "[LightGBM] [Debug] Trained a tree with leaves = 8 and depth = 3\n",
      "[LightGBM] [Debug] Trained a tree with leaves = 8 and depth = 3\n",
      "[LightGBM] [Debug] Trained a tree with leaves = 8 and depth = 3\n",
      "[LightGBM] [Debug] Trained a tree with leaves = 8 and depth = 3\n",
      "[LightGBM] [Debug] Trained a tree with leaves = 8 and depth = 3\n",
      "[LightGBM] [Debug] Trained a tree with leaves = 8 and depth = 3\n",
      "[LightGBM] [Debug] Trained a tree with leaves = 8 and depth = 3\n",
      "[LightGBM] [Debug] Trained a tree with leaves = 8 and depth = 3\n",
      "[LightGBM] [Debug] Trained a tree with leaves = 8 and depth = 3\n",
      "[LightGBM] [Debug] Trained a tree with leaves = 8 and depth = 3\n",
      "[LightGBM] [Debug] Trained a tree with leaves = 8 and depth = 3\n",
      "[LightGBM] [Debug] Trained a tree with leaves = 8 and depth = 3\n",
      "[LightGBM] [Debug] Trained a tree with leaves = 8 and depth = 3\n",
      "[LightGBM] [Debug] Trained a tree with leaves = 8 and depth = 3\n",
      "[LightGBM] [Debug] Trained a tree with leaves = 8 and depth = 3\n",
      "[LightGBM] [Debug] Trained a tree with leaves = 8 and depth = 3\n",
      "[LightGBM] [Debug] Trained a tree with leaves = 8 and depth = 3\n",
      "[LightGBM] [Debug] Trained a tree with leaves = 8 and depth = 3\n",
      "[LightGBM] [Warning] No further splits with positive gain, best gain: -inf\n",
      "[LightGBM] [Debug] Trained a tree with leaves = 7 and depth = 3\n",
      "[LightGBM] [Debug] Trained a tree with leaves = 8 and depth = 3\n",
      "[LightGBM] [Debug] Trained a tree with leaves = 8 and depth = 3\n",
      "[LightGBM] [Debug] Trained a tree with leaves = 8 and depth = 3\n",
      "[LightGBM] [Warning] No further splits with positive gain, best gain: -inf\n",
      "[LightGBM] [Debug] Trained a tree with leaves = 7 and depth = 3\n",
      "[LightGBM] [Debug] Trained a tree with leaves = 8 and depth = 3\n",
      "[LightGBM] [Debug] Trained a tree with leaves = 8 and depth = 3\n",
      "[LightGBM] [Debug] Trained a tree with leaves = 8 and depth = 3\n",
      "[LightGBM] [Debug] Trained a tree with leaves = 8 and depth = 3\n",
      "[LightGBM] [Warning] No further splits with positive gain, best gain: -inf\n",
      "[LightGBM] [Debug] Trained a tree with leaves = 6 and depth = 3\n",
      "[LightGBM] [Debug] Trained a tree with leaves = 8 and depth = 3\n",
      "[LightGBM] [Debug] Trained a tree with leaves = 8 and depth = 3\n",
      "[LightGBM] [Warning] No further splits with positive gain, best gain: -inf\n",
      "[LightGBM] [Debug] Trained a tree with leaves = 7 and depth = 3\n",
      "[LightGBM] [Warning] No further splits with positive gain, best gain: -inf\n",
      "[LightGBM] [Debug] Trained a tree with leaves = 6 and depth = 3\n",
      "[LightGBM] [Debug] Trained a tree with leaves = 8 and depth = 3\n",
      "[LightGBM] [Warning] No further splits with positive gain, best gain: -inf\n",
      "[LightGBM] [Debug] Trained a tree with leaves = 6 and depth = 3\n",
      "[LightGBM] [Debug] Trained a tree with leaves = 8 and depth = 3\n",
      "[LightGBM] [Warning] No further splits with positive gain, best gain: -inf\n",
      "[LightGBM] [Debug] Trained a tree with leaves = 6 and depth = 3\n",
      "[LightGBM] [Warning] No further splits with positive gain, best gain: -inf\n",
      "[LightGBM] [Debug] Trained a tree with leaves = 7 and depth = 3\n",
      "[LightGBM] [Warning] No further splits with positive gain, best gain: -inf\n",
      "[LightGBM] [Debug] Trained a tree with leaves = 6 and depth = 3\n",
      "[LightGBM] [Debug] Trained a tree with leaves = 8 and depth = 3\n",
      "[LightGBM] [Debug] Trained a tree with leaves = 8 and depth = 3\n",
      "[LightGBM] [Warning] No further splits with positive gain, best gain: -inf\n",
      "[LightGBM] [Debug] Trained a tree with leaves = 6 and depth = 3\n",
      "[LightGBM] [Warning] No further splits with positive gain, best gain: -inf\n",
      "[LightGBM] [Debug] Trained a tree with leaves = 5 and depth = 3\n",
      "[LightGBM] [Warning] No further splits with positive gain, best gain: -inf\n",
      "[LightGBM] [Debug] Trained a tree with leaves = 7 and depth = 3\n",
      "[LightGBM] [Warning] No further splits with positive gain, best gain: -inf\n",
      "[LightGBM] [Debug] Trained a tree with leaves = 7 and depth = 3\n",
      "[LightGBM] [Warning] No further splits with positive gain, best gain: -inf\n",
      "[LightGBM] [Debug] Trained a tree with leaves = 6 and depth = 3\n",
      "[LightGBM] [Warning] No further splits with positive gain, best gain: -inf\n",
      "[LightGBM] [Debug] Trained a tree with leaves = 6 and depth = 3\n",
      "[LightGBM] [Debug] Trained a tree with leaves = 8 and depth = 3\n",
      "[LightGBM] [Warning] No further splits with positive gain, best gain: -inf\n",
      "[LightGBM] [Debug] Trained a tree with leaves = 6 and depth = 3\n",
      "[LightGBM] [Warning] No further splits with positive gain, best gain: -inf\n",
      "[LightGBM] [Debug] Trained a tree with leaves = 5 and depth = 3\n",
      "[LightGBM] [Debug] Trained a tree with leaves = 8 and depth = 3\n",
      "[LightGBM] [Debug] Trained a tree with leaves = 8 and depth = 3\n",
      "[LightGBM] [Debug] Trained a tree with leaves = 8 and depth = 3\n",
      "[LightGBM] [Debug] Trained a tree with leaves = 8 and depth = 3\n",
      "[LightGBM] [Warning] No further splits with positive gain, best gain: -inf\n",
      "[LightGBM] [Debug] Trained a tree with leaves = 6 and depth = 3\n",
      "[LightGBM] [Debug] Trained a tree with leaves = 8 and depth = 3\n",
      "[LightGBM] [Warning] No further splits with positive gain, best gain: -inf\n",
      "[LightGBM] [Debug] Trained a tree with leaves = 5 and depth = 3\n",
      "[LightGBM] [Warning] No further splits with positive gain, best gain: -inf\n",
      "[LightGBM] [Debug] Trained a tree with leaves = 5 and depth = 3\n",
      "[LightGBM] [Debug] Trained a tree with leaves = 8 and depth = 3\n",
      "[LightGBM] [Debug] Trained a tree with leaves = 8 and depth = 3\n",
      "[LightGBM] [Warning] No further splits with positive gain, best gain: -inf\n",
      "[LightGBM] [Debug] Trained a tree with leaves = 7 and depth = 3\n",
      "[LightGBM] [Warning] No further splits with positive gain, best gain: -inf\n",
      "[LightGBM] [Debug] Trained a tree with leaves = 5 and depth = 3\n",
      "[LightGBM] [Debug] Trained a tree with leaves = 8 and depth = 3\n",
      "[LightGBM] [Debug] Trained a tree with leaves = 8 and depth = 3\n",
      "[LightGBM] [Debug] Trained a tree with leaves = 8 and depth = 3\n",
      "[LightGBM] [Debug] Trained a tree with leaves = 8 and depth = 3\n",
      "[LightGBM] [Warning] No further splits with positive gain, best gain: -inf\n",
      "[LightGBM] [Debug] Trained a tree with leaves = 7 and depth = 3\n",
      "[LightGBM] [Debug] Trained a tree with leaves = 8 and depth = 3\n",
      "[LightGBM] [Warning] No further splits with positive gain, best gain: -inf\n",
      "[LightGBM] [Debug] Trained a tree with leaves = 7 and depth = 3\n",
      "[LightGBM] [Debug] Trained a tree with leaves = 8 and depth = 3\n",
      "[LightGBM] [Debug] Trained a tree with leaves = 8 and depth = 3\n",
      "[LightGBM] [Warning] No further splits with positive gain, best gain: -inf\n",
      "[LightGBM] [Debug] Trained a tree with leaves = 7 and depth = 3\n",
      "[LightGBM] [Debug] Trained a tree with leaves = 8 and depth = 3\n",
      "[LightGBM] [Warning] No further splits with positive gain, best gain: -inf\n",
      "[LightGBM] [Debug] Trained a tree with leaves = 5 and depth = 3\n",
      "[LightGBM] [Debug] Trained a tree with leaves = 8 and depth = 3\n",
      "[LightGBM] [Debug] Trained a tree with leaves = 8 and depth = 3\n",
      "[LightGBM] [Warning] No further splits with positive gain, best gain: -inf\n",
      "[LightGBM] [Debug] Trained a tree with leaves = 7 and depth = 3\n",
      "[LightGBM] [Warning] No further splits with positive gain, best gain: -inf\n",
      "[LightGBM] [Debug] Trained a tree with leaves = 7 and depth = 3\n",
      "[LightGBM] [Warning] No further splits with positive gain, best gain: -inf\n",
      "[LightGBM] [Debug] Trained a tree with leaves = 5 and depth = 3\n",
      "[LightGBM] [Debug] Trained a tree with leaves = 8 and depth = 3\n",
      "[LightGBM] [Debug] Trained a tree with leaves = 8 and depth = 3\n",
      "[LightGBM] [Warning] No further splits with positive gain, best gain: -inf\n",
      "[LightGBM] [Debug] Trained a tree with leaves = 6 and depth = 3\n",
      "[LightGBM] [Debug] Trained a tree with leaves = 8 and depth = 3\n",
      "[LightGBM] [Warning] No further splits with positive gain, best gain: -inf\n",
      "[LightGBM] [Debug] Trained a tree with leaves = 5 and depth = 3\n",
      "[LightGBM] [Debug] Trained a tree with leaves = 8 and depth = 3\n",
      "[LightGBM] [Warning] No further splits with positive gain, best gain: -inf\n",
      "[LightGBM] [Debug] Trained a tree with leaves = 6 and depth = 3\n",
      "[LightGBM] [Debug] Trained a tree with leaves = 8 and depth = 3\n",
      "[LightGBM] [Debug] Trained a tree with leaves = 8 and depth = 3\n",
      "[LightGBM] [Warning] No further splits with positive gain, best gain: -inf\n",
      "[LightGBM] [Debug] Trained a tree with leaves = 7 and depth = 3\n",
      "[LightGBM] [Warning] No further splits with positive gain, best gain: -inf\n",
      "[LightGBM] [Debug] Trained a tree with leaves = 5 and depth = 3\n"
     ]
    },
    {
     "data": {
      "text/plain": [
       "LGBMRegressor(max_depth=3, random_state=12345, verbose=10)"
      ]
     },
     "execution_count": 44,
     "metadata": {},
     "output_type": "execute_result"
    }
   ],
   "source": [
    "LGBMR.fit(X_train, y_train)"
   ]
  },
  {
   "cell_type": "markdown",
   "metadata": {},
   "source": [
    "## Тестирование"
   ]
  },
  {
   "cell_type": "markdown",
   "metadata": {},
   "source": [
    "Отберем модель по результатам кросс валидации."
   ]
  },
  {
   "cell_type": "code",
   "execution_count": 45,
   "metadata": {},
   "outputs": [],
   "source": [
    "linear_model_cv = cross_val_score(linear_model, X_train, y_train, cv=tscv, scoring = 'neg_root_mean_squared_error').mean()*(-1)"
   ]
  },
  {
   "cell_type": "code",
   "execution_count": 46,
   "metadata": {},
   "outputs": [],
   "source": [
    "catboost_cv = cross_val_score(catboost_model, X_train, y_train, cv=tscv, scoring = 'neg_root_mean_squared_error').mean()*(-1)"
   ]
  },
  {
   "cell_type": "code",
   "execution_count": 47,
   "metadata": {
    "scrolled": true
   },
   "outputs": [
    {
     "name": "stdout",
     "output_type": "stream",
     "text": [
      "[LightGBM] [Debug] Dataset::GetMultiBinFromAllFeatures: sparse rate 0.007875\n",
      "[LightGBM] [Debug] init for col-wise cost 0.000711 seconds, init for row-wise cost 0.000873 seconds\n",
      "[LightGBM] [Warning] Auto-choosing row-wise multi-threading, the overhead of testing was 0.001093 seconds.\n",
      "You can set `force_row_wise=true` to remove the overhead.\n",
      "And if memory is not enough, you can set `force_col_wise=true`.\n",
      "[LightGBM] [Debug] Using Dense Multi-Val Bin\n",
      "[LightGBM] [Info] Total Bins 3021\n",
      "[LightGBM] [Info] Number of data points in the train set: 983, number of used features: 27\n",
      "[LightGBM] [Info] Start training from score 57.155646\n",
      "[LightGBM] [Warning] No further splits with positive gain, best gain: -inf\n",
      "[LightGBM] [Debug] Trained a tree with leaves = 7 and depth = 3\n",
      "[LightGBM] [Debug] Trained a tree with leaves = 8 and depth = 3\n",
      "[LightGBM] [Debug] Trained a tree with leaves = 8 and depth = 3\n",
      "[LightGBM] [Debug] Trained a tree with leaves = 8 and depth = 3\n",
      "[LightGBM] [Warning] No further splits with positive gain, best gain: -inf\n",
      "[LightGBM] [Debug] Trained a tree with leaves = 7 and depth = 3\n",
      "[LightGBM] [Debug] Trained a tree with leaves = 8 and depth = 3\n",
      "[LightGBM] [Debug] Trained a tree with leaves = 8 and depth = 3\n",
      "[LightGBM] [Debug] Trained a tree with leaves = 8 and depth = 3\n",
      "[LightGBM] [Debug] Trained a tree with leaves = 8 and depth = 3\n",
      "[LightGBM] [Debug] Trained a tree with leaves = 8 and depth = 3\n",
      "[LightGBM] [Debug] Trained a tree with leaves = 8 and depth = 3\n",
      "[LightGBM] [Debug] Trained a tree with leaves = 8 and depth = 3\n",
      "[LightGBM] [Debug] Trained a tree with leaves = 8 and depth = 3\n",
      "[LightGBM] [Debug] Trained a tree with leaves = 8 and depth = 3\n",
      "[LightGBM] [Warning] No further splits with positive gain, best gain: -inf\n",
      "[LightGBM] [Debug] Trained a tree with leaves = 7 and depth = 3\n",
      "[LightGBM] [Debug] Trained a tree with leaves = 8 and depth = 3\n",
      "[LightGBM] [Debug] Trained a tree with leaves = 8 and depth = 3\n",
      "[LightGBM] [Warning] No further splits with positive gain, best gain: -inf\n",
      "[LightGBM] [Debug] Trained a tree with leaves = 6 and depth = 3\n",
      "[LightGBM] [Warning] No further splits with positive gain, best gain: -inf\n",
      "[LightGBM] [Debug] Trained a tree with leaves = 7 and depth = 3\n",
      "[LightGBM] [Debug] Trained a tree with leaves = 8 and depth = 3\n",
      "[LightGBM] [Warning] No further splits with positive gain, best gain: -inf\n",
      "[LightGBM] [Debug] Trained a tree with leaves = 7 and depth = 3\n",
      "[LightGBM] [Debug] Trained a tree with leaves = 8 and depth = 3\n",
      "[LightGBM] [Warning] No further splits with positive gain, best gain: -inf\n",
      "[LightGBM] [Debug] Trained a tree with leaves = 7 and depth = 3\n",
      "[LightGBM] [Debug] Trained a tree with leaves = 8 and depth = 3\n",
      "[LightGBM] [Debug] Trained a tree with leaves = 8 and depth = 3\n",
      "[LightGBM] [Warning] No further splits with positive gain, best gain: -inf\n",
      "[LightGBM] [Debug] Trained a tree with leaves = 7 and depth = 3\n",
      "[LightGBM] [Warning] No further splits with positive gain, best gain: -inf\n",
      "[LightGBM] [Debug] Trained a tree with leaves = 6 and depth = 3\n",
      "[LightGBM] [Warning] No further splits with positive gain, best gain: -inf\n",
      "[LightGBM] [Debug] Trained a tree with leaves = 7 and depth = 3\n",
      "[LightGBM] [Warning] No further splits with positive gain, best gain: -inf\n",
      "[LightGBM] [Debug] Trained a tree with leaves = 6 and depth = 3\n",
      "[LightGBM] [Warning] No further splits with positive gain, best gain: -inf\n",
      "[LightGBM] [Debug] Trained a tree with leaves = 7 and depth = 3\n",
      "[LightGBM] [Warning] No further splits with positive gain, best gain: -inf\n",
      "[LightGBM] [Debug] Trained a tree with leaves = 6 and depth = 3\n",
      "[LightGBM] [Warning] No further splits with positive gain, best gain: -inf\n",
      "[LightGBM] [Debug] Trained a tree with leaves = 7 and depth = 3\n",
      "[LightGBM] [Warning] No further splits with positive gain, best gain: -inf\n",
      "[LightGBM] [Debug] Trained a tree with leaves = 7 and depth = 3\n",
      "[LightGBM] [Warning] No further splits with positive gain, best gain: -inf\n",
      "[LightGBM] [Debug] Trained a tree with leaves = 6 and depth = 3\n",
      "[LightGBM] [Warning] No further splits with positive gain, best gain: -inf\n",
      "[LightGBM] [Debug] Trained a tree with leaves = 7 and depth = 3\n",
      "[LightGBM] [Warning] No further splits with positive gain, best gain: -inf\n",
      "[LightGBM] [Debug] Trained a tree with leaves = 5 and depth = 3\n",
      "[LightGBM] [Debug] Trained a tree with leaves = 8 and depth = 3\n",
      "[LightGBM] [Warning] No further splits with positive gain, best gain: -inf\n",
      "[LightGBM] [Debug] Trained a tree with leaves = 4 and depth = 3\n",
      "[LightGBM] [Warning] No further splits with positive gain, best gain: -inf\n",
      "[LightGBM] [Debug] Trained a tree with leaves = 7 and depth = 3\n",
      "[LightGBM] [Debug] Trained a tree with leaves = 8 and depth = 3\n",
      "[LightGBM] [Warning] No further splits with positive gain, best gain: -inf\n",
      "[LightGBM] [Debug] Trained a tree with leaves = 7 and depth = 3\n",
      "[LightGBM] [Warning] No further splits with positive gain, best gain: -inf\n",
      "[LightGBM] [Debug] Trained a tree with leaves = 7 and depth = 3\n",
      "[LightGBM] [Warning] No further splits with positive gain, best gain: -inf\n",
      "[LightGBM] [Debug] Trained a tree with leaves = 7 and depth = 3\n",
      "[LightGBM] [Warning] No further splits with positive gain, best gain: -inf\n",
      "[LightGBM] [Debug] Trained a tree with leaves = 5 and depth = 3\n",
      "[LightGBM] [Warning] No further splits with positive gain, best gain: -inf\n",
      "[LightGBM] [Debug] Trained a tree with leaves = 6 and depth = 3\n",
      "[LightGBM] [Warning] No further splits with positive gain, best gain: -inf\n",
      "[LightGBM] [Debug] Trained a tree with leaves = 7 and depth = 3\n",
      "[LightGBM] [Debug] Trained a tree with leaves = 8 and depth = 3\n",
      "[LightGBM] [Debug] Trained a tree with leaves = 8 and depth = 3\n",
      "[LightGBM] [Warning] No further splits with positive gain, best gain: -inf\n",
      "[LightGBM] [Debug] Trained a tree with leaves = 5 and depth = 3\n",
      "[LightGBM] [Debug] Trained a tree with leaves = 8 and depth = 3\n",
      "[LightGBM] [Warning] No further splits with positive gain, best gain: -inf\n",
      "[LightGBM] [Debug] Trained a tree with leaves = 6 and depth = 3\n",
      "[LightGBM] [Warning] No further splits with positive gain, best gain: -inf\n",
      "[LightGBM] [Debug] Trained a tree with leaves = 7 and depth = 3\n",
      "[LightGBM] [Warning] No further splits with positive gain, best gain: -inf\n",
      "[LightGBM] [Debug] Trained a tree with leaves = 7 and depth = 3\n",
      "[LightGBM] [Warning] No further splits with positive gain, best gain: -inf\n",
      "[LightGBM] [Debug] Trained a tree with leaves = 5 and depth = 3\n",
      "[LightGBM] [Warning] No further splits with positive gain, best gain: -inf\n",
      "[LightGBM] [Debug] Trained a tree with leaves = 5 and depth = 3\n",
      "[LightGBM] [Warning] No further splits with positive gain, best gain: -inf\n",
      "[LightGBM] [Debug] Trained a tree with leaves = 6 and depth = 3\n",
      "[LightGBM] [Warning] No further splits with positive gain, best gain: -inf\n",
      "[LightGBM] [Debug] Trained a tree with leaves = 7 and depth = 3\n",
      "[LightGBM] [Warning] No further splits with positive gain, best gain: -inf\n",
      "[LightGBM] [Debug] Trained a tree with leaves = 7 and depth = 3\n",
      "[LightGBM] [Warning] No further splits with positive gain, best gain: -inf\n",
      "[LightGBM] [Debug] Trained a tree with leaves = 5 and depth = 3\n",
      "[LightGBM] [Debug] Trained a tree with leaves = 8 and depth = 3\n",
      "[LightGBM] [Warning] No further splits with positive gain, best gain: -inf\n",
      "[LightGBM] [Debug] Trained a tree with leaves = 7 and depth = 3\n",
      "[LightGBM] [Warning] No further splits with positive gain, best gain: -inf\n",
      "[LightGBM] [Debug] Trained a tree with leaves = 5 and depth = 3\n",
      "[LightGBM] [Warning] No further splits with positive gain, best gain: -inf\n",
      "[LightGBM] [Debug] Trained a tree with leaves = 5 and depth = 3\n",
      "[LightGBM] [Warning] No further splits with positive gain, best gain: -inf\n",
      "[LightGBM] [Debug] Trained a tree with leaves = 7 and depth = 3\n",
      "[LightGBM] [Warning] No further splits with positive gain, best gain: -inf\n",
      "[LightGBM] [Debug] Trained a tree with leaves = 6 and depth = 3\n",
      "[LightGBM] [Warning] No further splits with positive gain, best gain: -inf\n",
      "[LightGBM] [Debug] Trained a tree with leaves = 7 and depth = 3\n",
      "[LightGBM] [Warning] No further splits with positive gain, best gain: -inf\n",
      "[LightGBM] [Debug] Trained a tree with leaves = 6 and depth = 3\n",
      "[LightGBM] [Debug] Trained a tree with leaves = 8 and depth = 3\n",
      "[LightGBM] [Warning] No further splits with positive gain, best gain: -inf\n",
      "[LightGBM] [Debug] Trained a tree with leaves = 5 and depth = 3\n",
      "[LightGBM] [Warning] No further splits with positive gain, best gain: -inf\n",
      "[LightGBM] [Debug] Trained a tree with leaves = 5 and depth = 3\n",
      "[LightGBM] [Warning] No further splits with positive gain, best gain: -inf\n",
      "[LightGBM] [Debug] Trained a tree with leaves = 7 and depth = 3\n",
      "[LightGBM] [Warning] No further splits with positive gain, best gain: -inf\n",
      "[LightGBM] [Debug] Trained a tree with leaves = 6 and depth = 3\n",
      "[LightGBM] [Warning] No further splits with positive gain, best gain: -inf\n",
      "[LightGBM] [Debug] Trained a tree with leaves = 6 and depth = 3\n",
      "[LightGBM] [Warning] No further splits with positive gain, best gain: -inf\n",
      "[LightGBM] [Debug] Trained a tree with leaves = 5 and depth = 3\n",
      "[LightGBM] [Warning] No further splits with positive gain, best gain: -inf\n",
      "[LightGBM] [Debug] Trained a tree with leaves = 5 and depth = 3\n",
      "[LightGBM] [Warning] No further splits with positive gain, best gain: -inf\n",
      "[LightGBM] [Debug] Trained a tree with leaves = 5 and depth = 3\n",
      "[LightGBM] [Warning] No further splits with positive gain, best gain: -inf\n",
      "[LightGBM] [Debug] Trained a tree with leaves = 5 and depth = 3\n",
      "[LightGBM] [Warning] No further splits with positive gain, best gain: -inf\n",
      "[LightGBM] [Debug] Trained a tree with leaves = 7 and depth = 3\n",
      "[LightGBM] [Warning] No further splits with positive gain, best gain: -inf\n",
      "[LightGBM] [Debug] Trained a tree with leaves = 7 and depth = 3\n",
      "[LightGBM] [Warning] No further splits with positive gain, best gain: -inf\n",
      "[LightGBM] [Debug] Trained a tree with leaves = 7 and depth = 3\n",
      "[LightGBM] [Warning] No further splits with positive gain, best gain: -inf\n",
      "[LightGBM] [Debug] Trained a tree with leaves = 5 and depth = 3\n",
      "[LightGBM] [Warning] No further splits with positive gain, best gain: -inf\n",
      "[LightGBM] [Debug] Trained a tree with leaves = 5 and depth = 3\n",
      "[LightGBM] [Warning] No further splits with positive gain, best gain: -inf\n",
      "[LightGBM] [Debug] Trained a tree with leaves = 7 and depth = 3\n",
      "[LightGBM] [Warning] No further splits with positive gain, best gain: -inf\n",
      "[LightGBM] [Debug] Trained a tree with leaves = 6 and depth = 3\n",
      "[LightGBM] [Warning] No further splits with positive gain, best gain: -inf\n",
      "[LightGBM] [Debug] Trained a tree with leaves = 4 and depth = 3\n",
      "[LightGBM] [Warning] No further splits with positive gain, best gain: -inf\n",
      "[LightGBM] [Debug] Trained a tree with leaves = 5 and depth = 3\n",
      "[LightGBM] [Warning] No further splits with positive gain, best gain: -inf\n",
      "[LightGBM] [Debug] Trained a tree with leaves = 6 and depth = 3\n",
      "[LightGBM] [Warning] No further splits with positive gain, best gain: -inf\n",
      "[LightGBM] [Debug] Trained a tree with leaves = 5 and depth = 3\n",
      "[LightGBM] [Warning] No further splits with positive gain, best gain: -inf\n",
      "[LightGBM] [Debug] Trained a tree with leaves = 7 and depth = 3\n",
      "[LightGBM] [Warning] No further splits with positive gain, best gain: -inf\n",
      "[LightGBM] [Debug] Trained a tree with leaves = 5 and depth = 3\n",
      "[LightGBM] [Debug] Trained a tree with leaves = 8 and depth = 3\n",
      "[LightGBM] [Warning] No further splits with positive gain, best gain: -inf\n",
      "[LightGBM] [Debug] Trained a tree with leaves = 7 and depth = 3\n",
      "[LightGBM] [Warning] No further splits with positive gain, best gain: -inf\n",
      "[LightGBM] [Debug] Trained a tree with leaves = 5 and depth = 3\n",
      "[LightGBM] [Warning] No further splits with positive gain, best gain: -inf\n",
      "[LightGBM] [Debug] Trained a tree with leaves = 7 and depth = 3\n",
      "[LightGBM] [Debug] Trained a tree with leaves = 8 and depth = 3\n",
      "[LightGBM] [Warning] No further splits with positive gain, best gain: -inf\n",
      "[LightGBM] [Debug] Trained a tree with leaves = 7 and depth = 3\n",
      "[LightGBM] [Warning] No further splits with positive gain, best gain: -inf\n",
      "[LightGBM] [Debug] Trained a tree with leaves = 6 and depth = 3\n",
      "[LightGBM] [Warning] No further splits with positive gain, best gain: -inf\n",
      "[LightGBM] [Debug] Trained a tree with leaves = 5 and depth = 3\n",
      "[LightGBM] [Warning] No further splits with positive gain, best gain: -inf\n",
      "[LightGBM] [Debug] Trained a tree with leaves = 6 and depth = 3\n",
      "[LightGBM] [Debug] Trained a tree with leaves = 8 and depth = 3\n",
      "[LightGBM] [Debug] Dataset::GetMultiBinFromAllFeatures: sparse rate 0.007430\n",
      "[LightGBM] [Debug] init for col-wise cost 0.000007 seconds, init for row-wise cost 0.000775 seconds\n",
      "[LightGBM] [Warning] Auto-choosing row-wise multi-threading, the overhead of testing was 0.000255 seconds.\n",
      "You can set `force_row_wise=true` to remove the overhead.\n",
      "And if memory is not enough, you can set `force_col_wise=true`.\n",
      "[LightGBM] [Debug] Using Dense Multi-Val Bin\n",
      "[LightGBM] [Info] Total Bins 3727\n",
      "[LightGBM] [Info] Number of data points in the train set: 1964, number of used features: 27\n",
      "[LightGBM] [Info] Start training from score 63.487780\n",
      "[LightGBM] [Debug] Trained a tree with leaves = 8 and depth = 3\n",
      "[LightGBM] [Debug] Trained a tree with leaves = 8 and depth = 3\n",
      "[LightGBM] [Debug] Trained a tree with leaves = 8 and depth = 3\n",
      "[LightGBM] [Debug] Trained a tree with leaves = 8 and depth = 3\n",
      "[LightGBM] [Debug] Trained a tree with leaves = 8 and depth = 3\n",
      "[LightGBM] [Debug] Trained a tree with leaves = 8 and depth = 3\n",
      "[LightGBM] [Debug] Trained a tree with leaves = 8 and depth = 3\n",
      "[LightGBM] [Debug] Trained a tree with leaves = 8 and depth = 3\n",
      "[LightGBM] [Debug] Trained a tree with leaves = 8 and depth = 3\n",
      "[LightGBM] [Debug] Trained a tree with leaves = 8 and depth = 3\n",
      "[LightGBM] [Debug] Trained a tree with leaves = 8 and depth = 3\n",
      "[LightGBM] [Debug] Trained a tree with leaves = 8 and depth = 3\n",
      "[LightGBM] [Debug] Trained a tree with leaves = 8 and depth = 3\n",
      "[LightGBM] [Debug] Trained a tree with leaves = 8 and depth = 3\n",
      "[LightGBM] [Warning] No further splits with positive gain, best gain: -inf\n",
      "[LightGBM] [Debug] Trained a tree with leaves = 7 and depth = 3\n",
      "[LightGBM] [Debug] Trained a tree with leaves = 8 and depth = 3\n",
      "[LightGBM] [Debug] Trained a tree with leaves = 8 and depth = 3\n",
      "[LightGBM] [Debug] Trained a tree with leaves = 8 and depth = 3\n",
      "[LightGBM] [Warning] No further splits with positive gain, best gain: -inf\n",
      "[LightGBM] [Debug] Trained a tree with leaves = 7 and depth = 3\n",
      "[LightGBM] [Debug] Trained a tree with leaves = 8 and depth = 3\n",
      "[LightGBM] [Debug] Trained a tree with leaves = 8 and depth = 3\n",
      "[LightGBM] [Debug] Trained a tree with leaves = 8 and depth = 3\n",
      "[LightGBM] [Debug] Trained a tree with leaves = 8 and depth = 3\n",
      "[LightGBM] [Warning] No further splits with positive gain, best gain: -inf\n",
      "[LightGBM] [Debug] Trained a tree with leaves = 7 and depth = 3\n",
      "[LightGBM] [Warning] No further splits with positive gain, best gain: -inf\n",
      "[LightGBM] [Debug] Trained a tree with leaves = 6 and depth = 3\n",
      "[LightGBM] [Warning] No further splits with positive gain, best gain: -inf\n",
      "[LightGBM] [Debug] Trained a tree with leaves = 7 and depth = 3\n",
      "[LightGBM] [Warning] No further splits with positive gain, best gain: -inf\n",
      "[LightGBM] [Debug] Trained a tree with leaves = 6 and depth = 3\n",
      "[LightGBM] [Debug] Trained a tree with leaves = 8 and depth = 3\n",
      "[LightGBM] [Debug] Trained a tree with leaves = 8 and depth = 3\n",
      "[LightGBM] [Warning] No further splits with positive gain, best gain: -inf\n",
      "[LightGBM] [Debug] Trained a tree with leaves = 7 and depth = 3\n",
      "[LightGBM] [Debug] Trained a tree with leaves = 8 and depth = 3\n",
      "[LightGBM] [Debug] Trained a tree with leaves = 8 and depth = 3\n",
      "[LightGBM] [Debug] Trained a tree with leaves = 8 and depth = 3\n",
      "[LightGBM] [Debug] Trained a tree with leaves = 8 and depth = 3\n",
      "[LightGBM] [Debug] Trained a tree with leaves = 8 and depth = 3\n",
      "[LightGBM] [Warning] No further splits with positive gain, best gain: -inf\n",
      "[LightGBM] [Debug] Trained a tree with leaves = 7 and depth = 3\n",
      "[LightGBM] [Debug] Trained a tree with leaves = 8 and depth = 3\n",
      "[LightGBM] [Warning] No further splits with positive gain, best gain: -inf\n",
      "[LightGBM] [Debug] Trained a tree with leaves = 6 and depth = 3\n",
      "[LightGBM] [Warning] No further splits with positive gain, best gain: -inf\n",
      "[LightGBM] [Debug] Trained a tree with leaves = 7 and depth = 3\n",
      "[LightGBM] [Debug] Trained a tree with leaves = 8 and depth = 3\n",
      "[LightGBM] [Debug] Trained a tree with leaves = 8 and depth = 3\n",
      "[LightGBM] [Warning] No further splits with positive gain, best gain: -inf\n",
      "[LightGBM] [Debug] Trained a tree with leaves = 6 and depth = 3\n",
      "[LightGBM] [Debug] Trained a tree with leaves = 8 and depth = 3\n",
      "[LightGBM] [Debug] Trained a tree with leaves = 8 and depth = 3\n",
      "[LightGBM] [Warning] No further splits with positive gain, best gain: -inf\n",
      "[LightGBM] [Debug] Trained a tree with leaves = 7 and depth = 3\n",
      "[LightGBM] [Debug] Trained a tree with leaves = 8 and depth = 3\n",
      "[LightGBM] [Debug] Trained a tree with leaves = 8 and depth = 3\n",
      "[LightGBM] [Debug] Trained a tree with leaves = 8 and depth = 3\n",
      "[LightGBM] [Warning] No further splits with positive gain, best gain: -inf\n",
      "[LightGBM] [Debug] Trained a tree with leaves = 7 and depth = 3\n",
      "[LightGBM] [Warning] No further splits with positive gain, best gain: -inf\n",
      "[LightGBM] [Debug] Trained a tree with leaves = 5 and depth = 3\n",
      "[LightGBM] [Warning] No further splits with positive gain, best gain: -inf\n",
      "[LightGBM] [Debug] Trained a tree with leaves = 5 and depth = 3\n",
      "[LightGBM] [Warning] No further splits with positive gain, best gain: -inf\n",
      "[LightGBM] [Debug] Trained a tree with leaves = 7 and depth = 3\n",
      "[LightGBM] [Warning] No further splits with positive gain, best gain: -inf\n",
      "[LightGBM] [Debug] Trained a tree with leaves = 7 and depth = 3\n",
      "[LightGBM] [Debug] Trained a tree with leaves = 8 and depth = 3\n",
      "[LightGBM] [Warning] No further splits with positive gain, best gain: -inf\n",
      "[LightGBM] [Debug] Trained a tree with leaves = 7 and depth = 3\n",
      "[LightGBM] [Warning] No further splits with positive gain, best gain: -inf\n",
      "[LightGBM] [Debug] Trained a tree with leaves = 7 and depth = 3\n",
      "[LightGBM] [Warning] No further splits with positive gain, best gain: -inf\n",
      "[LightGBM] [Debug] Trained a tree with leaves = 6 and depth = 3\n",
      "[LightGBM] [Warning] No further splits with positive gain, best gain: -inf\n",
      "[LightGBM] [Debug] Trained a tree with leaves = 5 and depth = 3\n",
      "[LightGBM] [Warning] No further splits with positive gain, best gain: -inf\n",
      "[LightGBM] [Debug] Trained a tree with leaves = 7 and depth = 3\n",
      "[LightGBM] [Debug] Trained a tree with leaves = 8 and depth = 3\n",
      "[LightGBM] [Warning] No further splits with positive gain, best gain: -inf\n",
      "[LightGBM] [Debug] Trained a tree with leaves = 4 and depth = 3\n",
      "[LightGBM] [Warning] No further splits with positive gain, best gain: -inf\n",
      "[LightGBM] [Debug] Trained a tree with leaves = 4 and depth = 3\n",
      "[LightGBM] [Debug] Trained a tree with leaves = 8 and depth = 3\n",
      "[LightGBM] [Warning] No further splits with positive gain, best gain: -inf\n",
      "[LightGBM] [Debug] Trained a tree with leaves = 7 and depth = 3\n",
      "[LightGBM] [Warning] No further splits with positive gain, best gain: -inf\n",
      "[LightGBM] [Debug] Trained a tree with leaves = 7 and depth = 3\n",
      "[LightGBM] [Warning] No further splits with positive gain, best gain: -inf\n",
      "[LightGBM] [Debug] Trained a tree with leaves = 6 and depth = 3\n",
      "[LightGBM] [Warning] No further splits with positive gain, best gain: -inf\n",
      "[LightGBM] [Debug] Trained a tree with leaves = 7 and depth = 3\n",
      "[LightGBM] [Warning] No further splits with positive gain, best gain: -inf\n",
      "[LightGBM] [Debug] Trained a tree with leaves = 7 and depth = 3\n",
      "[LightGBM] [Warning] No further splits with positive gain, best gain: -inf\n",
      "[LightGBM] [Debug] Trained a tree with leaves = 4 and depth = 3\n",
      "[LightGBM] [Warning] No further splits with positive gain, best gain: -inf\n",
      "[LightGBM] [Debug] Trained a tree with leaves = 7 and depth = 3\n",
      "[LightGBM] [Warning] No further splits with positive gain, best gain: -inf\n",
      "[LightGBM] [Debug] Trained a tree with leaves = 5 and depth = 3\n",
      "[LightGBM] [Warning] No further splits with positive gain, best gain: -inf\n",
      "[LightGBM] [Debug] Trained a tree with leaves = 7 and depth = 3\n",
      "[LightGBM] [Warning] No further splits with positive gain, best gain: -inf\n",
      "[LightGBM] [Debug] Trained a tree with leaves = 7 and depth = 3\n",
      "[LightGBM] [Warning] No further splits with positive gain, best gain: -inf\n",
      "[LightGBM] [Debug] Trained a tree with leaves = 6 and depth = 3\n",
      "[LightGBM] [Warning] No further splits with positive gain, best gain: -inf\n",
      "[LightGBM] [Debug] Trained a tree with leaves = 6 and depth = 3\n",
      "[LightGBM] [Debug] Trained a tree with leaves = 8 and depth = 3\n",
      "[LightGBM] [Warning] No further splits with positive gain, best gain: -inf\n",
      "[LightGBM] [Debug] Trained a tree with leaves = 7 and depth = 3\n",
      "[LightGBM] [Warning] No further splits with positive gain, best gain: -inf\n",
      "[LightGBM] [Debug] Trained a tree with leaves = 5 and depth = 3\n",
      "[LightGBM] [Debug] Trained a tree with leaves = 8 and depth = 3\n",
      "[LightGBM] [Warning] No further splits with positive gain, best gain: -inf\n",
      "[LightGBM] [Debug] Trained a tree with leaves = 6 and depth = 3\n",
      "[LightGBM] [Warning] No further splits with positive gain, best gain: -inf\n",
      "[LightGBM] [Debug] Trained a tree with leaves = 7 and depth = 3\n",
      "[LightGBM] [Debug] Trained a tree with leaves = 8 and depth = 3\n",
      "[LightGBM] [Warning] No further splits with positive gain, best gain: -inf\n",
      "[LightGBM] [Debug] Trained a tree with leaves = 7 and depth = 3\n",
      "[LightGBM] [Warning] No further splits with positive gain, best gain: -inf\n",
      "[LightGBM] [Debug] Trained a tree with leaves = 4 and depth = 3\n",
      "[LightGBM] [Warning] No further splits with positive gain, best gain: -inf\n",
      "[LightGBM] [Debug] Trained a tree with leaves = 7 and depth = 3\n",
      "[LightGBM] [Warning] No further splits with positive gain, best gain: -inf\n",
      "[LightGBM] [Debug] Trained a tree with leaves = 6 and depth = 3\n",
      "[LightGBM] [Debug] Trained a tree with leaves = 8 and depth = 3\n",
      "[LightGBM] [Warning] No further splits with positive gain, best gain: -inf\n",
      "[LightGBM] [Debug] Trained a tree with leaves = 7 and depth = 3\n",
      "[LightGBM] [Warning] No further splits with positive gain, best gain: -inf\n",
      "[LightGBM] [Debug] Trained a tree with leaves = 5 and depth = 3\n",
      "[LightGBM] [Warning] No further splits with positive gain, best gain: -inf\n",
      "[LightGBM] [Debug] Trained a tree with leaves = 6 and depth = 3\n",
      "[LightGBM] [Warning] No further splits with positive gain, best gain: -inf\n",
      "[LightGBM] [Debug] Trained a tree with leaves = 7 and depth = 3\n",
      "[LightGBM] [Debug] Trained a tree with leaves = 8 and depth = 3\n",
      "[LightGBM] [Debug] Trained a tree with leaves = 8 and depth = 3\n",
      "[LightGBM] [Warning] No further splits with positive gain, best gain: -inf\n",
      "[LightGBM] [Debug] Trained a tree with leaves = 5 and depth = 3\n",
      "[LightGBM] [Warning] No further splits with positive gain, best gain: -inf\n",
      "[LightGBM] [Debug] Trained a tree with leaves = 5 and depth = 3\n",
      "[LightGBM] [Warning] No further splits with positive gain, best gain: -inf\n",
      "[LightGBM] [Debug] Trained a tree with leaves = 5 and depth = 3\n",
      "[LightGBM] [Warning] No further splits with positive gain, best gain: -inf\n",
      "[LightGBM] [Debug] Trained a tree with leaves = 5 and depth = 3\n",
      "[LightGBM] [Warning] No further splits with positive gain, best gain: -inf\n",
      "[LightGBM] [Debug] Trained a tree with leaves = 6 and depth = 3\n",
      "[LightGBM] [Debug] Trained a tree with leaves = 8 and depth = 3\n",
      "[LightGBM] [Warning] No further splits with positive gain, best gain: -inf\n",
      "[LightGBM] [Debug] Trained a tree with leaves = 7 and depth = 3\n",
      "[LightGBM] [Debug] Dataset::GetMultiBinFromAllFeatures: sparse rate 0.007282\n",
      "[LightGBM] [Debug] init for col-wise cost 0.000007 seconds, init for row-wise cost 0.000955 seconds\n",
      "[LightGBM] [Warning] Auto-choosing col-wise multi-threading, the overhead of testing was 0.001201 seconds.\n",
      "You can set `force_col_wise=true` to remove the overhead.\n",
      "[LightGBM] [Info] Total Bins 4238\n",
      "[LightGBM] [Info] Number of data points in the train set: 2945, number of used features: 27\n",
      "[LightGBM] [Info] Start training from score 70.085908\n",
      "[LightGBM] [Debug] Trained a tree with leaves = 8 and depth = 3\n",
      "[LightGBM] [Debug] Trained a tree with leaves = 8 and depth = 3\n",
      "[LightGBM] [Debug] Trained a tree with leaves = 8 and depth = 3\n",
      "[LightGBM] [Debug] Trained a tree with leaves = 8 and depth = 3\n",
      "[LightGBM] [Debug] Trained a tree with leaves = 8 and depth = 3\n",
      "[LightGBM] [Debug] Trained a tree with leaves = 8 and depth = 3\n",
      "[LightGBM] [Debug] Trained a tree with leaves = 8 and depth = 3\n",
      "[LightGBM] [Debug] Trained a tree with leaves = 8 and depth = 3\n",
      "[LightGBM] [Debug] Trained a tree with leaves = 8 and depth = 3\n",
      "[LightGBM] [Debug] Trained a tree with leaves = 8 and depth = 3\n",
      "[LightGBM] [Debug] Trained a tree with leaves = 8 and depth = 3\n",
      "[LightGBM] [Debug] Trained a tree with leaves = 8 and depth = 3\n",
      "[LightGBM] [Debug] Trained a tree with leaves = 8 and depth = 3\n",
      "[LightGBM] [Debug] Trained a tree with leaves = 8 and depth = 3\n",
      "[LightGBM] [Debug] Trained a tree with leaves = 8 and depth = 3\n",
      "[LightGBM] [Debug] Trained a tree with leaves = 8 and depth = 3\n",
      "[LightGBM] [Debug] Trained a tree with leaves = 8 and depth = 3\n",
      "[LightGBM] [Debug] Trained a tree with leaves = 8 and depth = 3\n",
      "[LightGBM] [Debug] Trained a tree with leaves = 8 and depth = 3\n",
      "[LightGBM] [Debug] Trained a tree with leaves = 8 and depth = 3\n",
      "[LightGBM] [Warning] No further splits with positive gain, best gain: -inf\n",
      "[LightGBM] [Debug] Trained a tree with leaves = 7 and depth = 3\n",
      "[LightGBM] [Debug] Trained a tree with leaves = 8 and depth = 3\n",
      "[LightGBM] [Debug] Trained a tree with leaves = 8 and depth = 3\n",
      "[LightGBM] [Warning] No further splits with positive gain, best gain: -inf\n",
      "[LightGBM] [Debug] Trained a tree with leaves = 7 and depth = 3\n",
      "[LightGBM] [Debug] Trained a tree with leaves = 8 and depth = 3\n",
      "[LightGBM] [Warning] No further splits with positive gain, best gain: -inf\n",
      "[LightGBM] [Debug] Trained a tree with leaves = 7 and depth = 3\n",
      "[LightGBM] [Debug] Trained a tree with leaves = 8 and depth = 3\n",
      "[LightGBM] [Warning] No further splits with positive gain, best gain: -inf\n",
      "[LightGBM] [Debug] Trained a tree with leaves = 7 and depth = 3\n",
      "[LightGBM] [Warning] No further splits with positive gain, best gain: -inf\n",
      "[LightGBM] [Debug] Trained a tree with leaves = 7 and depth = 3\n",
      "[LightGBM] [Debug] Trained a tree with leaves = 8 and depth = 3\n",
      "[LightGBM] [Debug] Trained a tree with leaves = 8 and depth = 3\n",
      "[LightGBM] [Debug] Trained a tree with leaves = 8 and depth = 3\n",
      "[LightGBM] [Warning] No further splits with positive gain, best gain: -inf\n",
      "[LightGBM] [Debug] Trained a tree with leaves = 7 and depth = 3\n",
      "[LightGBM] [Debug] Trained a tree with leaves = 8 and depth = 3\n",
      "[LightGBM] [Warning] No further splits with positive gain, best gain: -inf\n",
      "[LightGBM] [Debug] Trained a tree with leaves = 6 and depth = 3\n",
      "[LightGBM] [Debug] Trained a tree with leaves = 8 and depth = 3\n",
      "[LightGBM] [Warning] No further splits with positive gain, best gain: -inf\n",
      "[LightGBM] [Debug] Trained a tree with leaves = 5 and depth = 3\n",
      "[LightGBM] [Debug] Trained a tree with leaves = 8 and depth = 3\n",
      "[LightGBM] [Warning] No further splits with positive gain, best gain: -inf\n",
      "[LightGBM] [Debug] Trained a tree with leaves = 6 and depth = 3\n",
      "[LightGBM] [Warning] No further splits with positive gain, best gain: -inf\n",
      "[LightGBM] [Debug] Trained a tree with leaves = 7 and depth = 3\n",
      "[LightGBM] [Warning] No further splits with positive gain, best gain: -inf\n",
      "[LightGBM] [Debug] Trained a tree with leaves = 7 and depth = 3\n",
      "[LightGBM] [Debug] Trained a tree with leaves = 8 and depth = 3\n",
      "[LightGBM] [Debug] Trained a tree with leaves = 8 and depth = 3\n",
      "[LightGBM] [Debug] Trained a tree with leaves = 8 and depth = 3\n",
      "[LightGBM] [Warning] No further splits with positive gain, best gain: -inf\n",
      "[LightGBM] [Debug] Trained a tree with leaves = 7 and depth = 3\n",
      "[LightGBM] [Debug] Trained a tree with leaves = 8 and depth = 3\n",
      "[LightGBM] [Debug] Trained a tree with leaves = 8 and depth = 3\n",
      "[LightGBM] [Warning] No further splits with positive gain, best gain: -inf\n",
      "[LightGBM] [Debug] Trained a tree with leaves = 7 and depth = 3\n",
      "[LightGBM] [Warning] No further splits with positive gain, best gain: -inf\n",
      "[LightGBM] [Debug] Trained a tree with leaves = 5 and depth = 3\n",
      "[LightGBM] [Warning] No further splits with positive gain, best gain: -inf\n",
      "[LightGBM] [Debug] Trained a tree with leaves = 7 and depth = 3\n",
      "[LightGBM] [Debug] Trained a tree with leaves = 8 and depth = 3\n",
      "[LightGBM] [Warning] No further splits with positive gain, best gain: -inf\n",
      "[LightGBM] [Debug] Trained a tree with leaves = 7 and depth = 3\n",
      "[LightGBM] [Warning] No further splits with positive gain, best gain: -inf\n",
      "[LightGBM] [Debug] Trained a tree with leaves = 7 and depth = 3\n",
      "[LightGBM] [Warning] No further splits with positive gain, best gain: -inf\n",
      "[LightGBM] [Debug] Trained a tree with leaves = 6 and depth = 3\n",
      "[LightGBM] [Debug] Trained a tree with leaves = 8 and depth = 3\n",
      "[LightGBM] [Warning] No further splits with positive gain, best gain: -inf\n",
      "[LightGBM] [Debug] Trained a tree with leaves = 7 and depth = 3\n",
      "[LightGBM] [Warning] No further splits with positive gain, best gain: -inf\n",
      "[LightGBM] [Debug] Trained a tree with leaves = 5 and depth = 3\n",
      "[LightGBM] [Debug] Trained a tree with leaves = 8 and depth = 3\n",
      "[LightGBM] [Warning] No further splits with positive gain, best gain: -inf\n",
      "[LightGBM] [Debug] Trained a tree with leaves = 6 and depth = 3\n",
      "[LightGBM] [Debug] Trained a tree with leaves = 8 and depth = 3\n",
      "[LightGBM] [Warning] No further splits with positive gain, best gain: -inf\n",
      "[LightGBM] [Debug] Trained a tree with leaves = 5 and depth = 3\n",
      "[LightGBM] [Warning] No further splits with positive gain, best gain: -inf\n",
      "[LightGBM] [Debug] Trained a tree with leaves = 7 and depth = 3\n",
      "[LightGBM] [Warning] No further splits with positive gain, best gain: -inf\n",
      "[LightGBM] [Debug] Trained a tree with leaves = 7 and depth = 3\n",
      "[LightGBM] [Warning] No further splits with positive gain, best gain: -inf\n",
      "[LightGBM] [Debug] Trained a tree with leaves = 6 and depth = 3\n",
      "[LightGBM] [Warning] No further splits with positive gain, best gain: -inf\n",
      "[LightGBM] [Debug] Trained a tree with leaves = 7 and depth = 3\n",
      "[LightGBM] [Debug] Trained a tree with leaves = 8 and depth = 3\n",
      "[LightGBM] [Warning] No further splits with positive gain, best gain: -inf\n",
      "[LightGBM] [Debug] Trained a tree with leaves = 5 and depth = 3\n",
      "[LightGBM] [Warning] No further splits with positive gain, best gain: -inf\n",
      "[LightGBM] [Debug] Trained a tree with leaves = 6 and depth = 3\n",
      "[LightGBM] [Warning] No further splits with positive gain, best gain: -inf\n",
      "[LightGBM] [Debug] Trained a tree with leaves = 5 and depth = 3\n",
      "[LightGBM] [Warning] No further splits with positive gain, best gain: -inf\n",
      "[LightGBM] [Debug] Trained a tree with leaves = 7 and depth = 3\n",
      "[LightGBM] [Warning] No further splits with positive gain, best gain: -inf\n",
      "[LightGBM] [Debug] Trained a tree with leaves = 5 and depth = 3\n",
      "[LightGBM] [Warning] No further splits with positive gain, best gain: -inf\n",
      "[LightGBM] [Debug] Trained a tree with leaves = 7 and depth = 3\n",
      "[LightGBM] [Warning] No further splits with positive gain, best gain: -inf\n",
      "[LightGBM] [Debug] Trained a tree with leaves = 7 and depth = 3\n",
      "[LightGBM] [Debug] Trained a tree with leaves = 8 and depth = 3\n",
      "[LightGBM] [Warning] No further splits with positive gain, best gain: -inf\n",
      "[LightGBM] [Debug] Trained a tree with leaves = 7 and depth = 3\n",
      "[LightGBM] [Debug] Trained a tree with leaves = 8 and depth = 3\n",
      "[LightGBM] [Debug] Trained a tree with leaves = 8 and depth = 3\n",
      "[LightGBM] [Debug] Trained a tree with leaves = 8 and depth = 3\n",
      "[LightGBM] [Debug] Trained a tree with leaves = 8 and depth = 3\n",
      "[LightGBM] [Warning] No further splits with positive gain, best gain: -inf\n",
      "[LightGBM] [Debug] Trained a tree with leaves = 4 and depth = 3\n",
      "[LightGBM] [Warning] No further splits with positive gain, best gain: -inf\n",
      "[LightGBM] [Debug] Trained a tree with leaves = 7 and depth = 3\n",
      "[LightGBM] [Warning] No further splits with positive gain, best gain: -inf\n",
      "[LightGBM] [Debug] Trained a tree with leaves = 7 and depth = 3\n",
      "[LightGBM] [Warning] No further splits with positive gain, best gain: -inf\n",
      "[LightGBM] [Debug] Trained a tree with leaves = 7 and depth = 3\n",
      "[LightGBM] [Warning] No further splits with positive gain, best gain: -inf\n",
      "[LightGBM] [Debug] Trained a tree with leaves = 5 and depth = 3\n",
      "[LightGBM] [Warning] No further splits with positive gain, best gain: -inf\n",
      "[LightGBM] [Debug] Trained a tree with leaves = 7 and depth = 3\n",
      "[LightGBM] [Debug] Trained a tree with leaves = 8 and depth = 3\n",
      "[LightGBM] [Warning] No further splits with positive gain, best gain: -inf\n",
      "[LightGBM] [Debug] Trained a tree with leaves = 6 and depth = 3\n",
      "[LightGBM] [Warning] No further splits with positive gain, best gain: -inf\n",
      "[LightGBM] [Debug] Trained a tree with leaves = 6 and depth = 3\n",
      "[LightGBM] [Debug] Trained a tree with leaves = 8 and depth = 3\n",
      "[LightGBM] [Warning] No further splits with positive gain, best gain: -inf\n",
      "[LightGBM] [Debug] Trained a tree with leaves = 6 and depth = 3\n",
      "[LightGBM] [Debug] Trained a tree with leaves = 8 and depth = 3\n",
      "[LightGBM] [Warning] No further splits with positive gain, best gain: -inf\n",
      "[LightGBM] [Debug] Trained a tree with leaves = 4 and depth = 3\n",
      "[LightGBM] [Debug] Trained a tree with leaves = 8 and depth = 3\n",
      "[LightGBM] [Warning] No further splits with positive gain, best gain: -inf\n",
      "[LightGBM] [Debug] Trained a tree with leaves = 7 and depth = 3\n",
      "[LightGBM] [Warning] No further splits with positive gain, best gain: -inf\n",
      "[LightGBM] [Debug] Trained a tree with leaves = 5 and depth = 3\n",
      "[LightGBM] [Warning] No further splits with positive gain, best gain: -inf\n",
      "[LightGBM] [Debug] Trained a tree with leaves = 6 and depth = 3\n",
      "[LightGBM] [Warning] No further splits with positive gain, best gain: -inf\n",
      "[LightGBM] [Debug] Trained a tree with leaves = 6 and depth = 3\n",
      "[LightGBM] [Warning] No further splits with positive gain, best gain: -inf\n",
      "[LightGBM] [Debug] Trained a tree with leaves = 7 and depth = 3\n",
      "[LightGBM] [Warning] No further splits with positive gain, best gain: -inf\n",
      "[LightGBM] [Debug] Trained a tree with leaves = 6 and depth = 3\n",
      "[LightGBM] [Debug] Trained a tree with leaves = 8 and depth = 3\n"
     ]
    }
   ],
   "source": [
    "LGBMR_cv = cross_val_score(LGBMR, X_train, y_train, cv=tscv, scoring = 'neg_root_mean_squared_error').mean()*(-1)"
   ]
  },
  {
   "cell_type": "code",
   "execution_count": 48,
   "metadata": {},
   "outputs": [],
   "source": [
    "model = ['linear', 'catboost', 'lgbm']\n",
    "metrics_cv = [linear_model_cv, catboost_cv, LGBMR_cv]"
   ]
  },
  {
   "cell_type": "code",
   "execution_count": 49,
   "metadata": {},
   "outputs": [
    {
     "data": {
      "text/html": [
       "<div>\n",
       "<style scoped>\n",
       "    .dataframe tbody tr th:only-of-type {\n",
       "        vertical-align: middle;\n",
       "    }\n",
       "\n",
       "    .dataframe tbody tr th {\n",
       "        vertical-align: top;\n",
       "    }\n",
       "\n",
       "    .dataframe thead th {\n",
       "        text-align: right;\n",
       "    }\n",
       "</style>\n",
       "<table border=\"1\" class=\"dataframe\">\n",
       "  <thead>\n",
       "    <tr style=\"text-align: right;\">\n",
       "      <th></th>\n",
       "      <th>model</th>\n",
       "      <th>cross_val_score</th>\n",
       "    </tr>\n",
       "  </thead>\n",
       "  <tbody>\n",
       "    <tr>\n",
       "      <th>0</th>\n",
       "      <td>linear</td>\n",
       "      <td>28.236083</td>\n",
       "    </tr>\n",
       "    <tr>\n",
       "      <th>1</th>\n",
       "      <td>catboost</td>\n",
       "      <td>25.919805</td>\n",
       "    </tr>\n",
       "    <tr>\n",
       "      <th>2</th>\n",
       "      <td>lgbm</td>\n",
       "      <td>26.616247</td>\n",
       "    </tr>\n",
       "  </tbody>\n",
       "</table>\n",
       "</div>"
      ],
      "text/plain": [
       "      model  cross_val_score\n",
       "0    linear        28.236083\n",
       "1  catboost        25.919805\n",
       "2      lgbm        26.616247"
      ]
     },
     "execution_count": 49,
     "metadata": {},
     "output_type": "execute_result"
    }
   ],
   "source": [
    "table_2 = pd.DataFrame({'model':model, 'cross_val_score': metrics_cv})\n",
    "table_2"
   ]
  },
  {
   "cell_type": "code",
   "execution_count": 50,
   "metadata": {
    "scrolled": true
   },
   "outputs": [
    {
     "data": {
      "text/plain": [
       "Text(0.5, 0, 'Название модели')"
      ]
     },
     "execution_count": 50,
     "metadata": {},
     "output_type": "execute_result"
    },
    {
     "data": {
      "image/png": "[encoded data removed]",
      "text/plain": [
       "<Figure size 432x288 with 1 Axes>"
      ]
     },
     "metadata": {
      "needs_background": "light"
     },
     "output_type": "display_data"
    }
   ],
   "source": [
    "sns.barplot(data = table_2, x='model', y = 'cross_val_score')\n",
    "plt.title('Метрика RMSE при кросс валидации для построенных моделей', fontsize='large', pad =15)\n",
    "plt.xlabel('Название модели')"
   ]
  },
  {
   "cell_type": "markdown",
   "metadata": {},
   "source": [
    "По результатам сравнения моделей методом кросс валидации выбрана модель CatBoost."
   ]
  },
  {
   "cell_type": "markdown",
   "metadata": {},
   "source": [
    "Посмотрим на результат работы модели на тестовой выборке."
   ]
  },
  {
   "cell_type": "code",
   "execution_count": 51,
   "metadata": {},
   "outputs": [
    {
     "data": {
      "text/plain": [
       "41.1340707845367"
      ]
     },
     "execution_count": 51,
     "metadata": {},
     "output_type": "execute_result"
    }
   ],
   "source": [
    "catboost_rmse_test = mean_squared_error(y_test, catboost_model.predict(X_test), squared=False)\n",
    "catboost_rmse_test"
   ]
  },
  {
   "cell_type": "markdown",
   "metadata": {},
   "source": [
    "Метрика RMSE составила 41.73 - соответствует условию."
   ]
  },
  {
   "cell_type": "markdown",
   "metadata": {},
   "source": [
    "**Выводы:**\n",
    "\n",
    "В данной работе были выполнены следующие этапы:\n",
    "1. Проведена загрузка данных о количестве заказов такси из 26 тыс. значений с шагом 10 мин. Ресемплировано на один час.\n",
    "2. Исследовательский анализ. Построены графики и выявлен тренд на возрастание количества заказов.\n",
    "3. Для решения задачи регрессии построены три модели: одна линейная и две модели градиентного бустинга: CatBoost и LightGBM.\n",
    "4. Методом кросс валидации проведена оценка работы моделей. Лучшей моделью по метрике RMSE выбрана CatBoost. Значение метрики составило 41.73 - соответствует условию.\n",
    "\n",
    "**Рекомендация Заказчику:**\n",
    "\n",
    "Для выполнения задачи предсказания количества заказов рекомендуется использовать обученную в данном проекте модель CatBoost.\n",
    "\n"
   ]
  },
  {
   "cell_type": "markdown",
   "metadata": {},
   "source": [
    "## Чек-лист проверки"
   ]
  },
  {
   "cell_type": "markdown",
   "metadata": {},
   "source": [
    "- [x]  Jupyter Notebook открыт\n",
    "- [x]  Весь код выполняется без ошибок\n",
    "- [x]  Ячейки с кодом расположены в порядке исполнения\n",
    "- [x]  Данные загружены и подготовлены\n",
    "- [x]  Данные проанализированы\n",
    "- [x]  Модель обучена, гиперпараметры подобраны\n",
    "- [x]  Качество моделей проверено, выводы сделаны\n",
    "- [x]  Значение *RMSE* на тестовой выборке не больше 48"
   ]
  },
  {
   "cell_type": "code",
   "execution_count": null,
   "metadata": {},
   "outputs": [],
   "source": []
  },
  {
   "cell_type": "code",
   "execution_count": 2,
   "metadata": {},
   "outputs": [],
   "source": []
  },
  {
   "cell_type": "code",
   "execution_count": null,
   "metadata": {},
   "outputs": [],
   "source": []
  }
 ],
 "metadata": {
  "ExecuteTimeLog": [
   {
    "duration": 1354,
    "start_time": "2025-04-15T07:08:44.079Z"
   },
   {
    "duration": 8,
    "start_time": "2025-04-15T07:08:52.266Z"
   },
   {
    "duration": 58,
    "start_time": "2025-04-15T07:09:45.540Z"
   },
   {
    "duration": 93,
    "start_time": "2025-04-15T07:09:57.852Z"
   },
   {
    "duration": 65,
    "start_time": "2025-04-15T07:11:17.919Z"
   },
   {
    "duration": 22,
    "start_time": "2025-04-15T07:12:21.689Z"
   },
   {
    "duration": 70,
    "start_time": "2025-04-15T07:14:46.730Z"
   },
   {
    "duration": 58,
    "start_time": "2025-04-15T07:15:02.079Z"
   },
   {
    "duration": 676,
    "start_time": "2025-04-15T07:15:16.756Z"
   },
   {
    "duration": 45,
    "start_time": "2025-04-15T15:32:52.950Z"
   },
   {
    "duration": 1653,
    "start_time": "2025-04-15T15:32:54.602Z"
   },
   {
    "duration": 82,
    "start_time": "2025-04-15T15:32:57.834Z"
   },
   {
    "duration": 135,
    "start_time": "2025-04-15T15:35:27.025Z"
   },
   {
    "duration": 11,
    "start_time": "2025-04-15T15:35:44.200Z"
   },
   {
    "duration": 11,
    "start_time": "2025-04-15T15:36:09.840Z"
   },
   {
    "duration": 5,
    "start_time": "2025-04-15T15:36:25.092Z"
   },
   {
    "duration": 17,
    "start_time": "2025-04-15T15:36:47.138Z"
   },
   {
    "duration": 71,
    "start_time": "2025-04-15T15:37:31.859Z"
   },
   {
    "duration": 569,
    "start_time": "2025-04-15T15:38:01.494Z"
   },
   {
    "duration": 453,
    "start_time": "2025-04-15T15:38:47.575Z"
   },
   {
    "duration": 428,
    "start_time": "2025-04-15T15:39:40.261Z"
   },
   {
    "duration": 400,
    "start_time": "2025-04-15T15:40:10.809Z"
   },
   {
    "duration": 184,
    "start_time": "2025-04-15T15:40:34.035Z"
   },
   {
    "duration": 540,
    "start_time": "2025-04-15T15:40:46.463Z"
   },
   {
    "duration": 417,
    "start_time": "2025-04-15T15:40:58.751Z"
   },
   {
    "duration": 78,
    "start_time": "2025-04-15T15:47:28.384Z"
   },
   {
    "duration": 14,
    "start_time": "2025-04-15T15:48:28.960Z"
   },
   {
    "duration": 6,
    "start_time": "2025-04-15T15:48:40.010Z"
   },
   {
    "duration": 9,
    "start_time": "2025-04-15T15:53:21.635Z"
   },
   {
    "duration": 13,
    "start_time": "2025-04-15T15:55:02.501Z"
   },
   {
    "duration": 293,
    "start_time": "2025-04-15T15:55:07.197Z"
   },
   {
    "duration": 235,
    "start_time": "2025-04-15T15:55:25.924Z"
   },
   {
    "duration": 310,
    "start_time": "2025-04-15T15:55:33.584Z"
   },
   {
    "duration": 283,
    "start_time": "2025-04-15T15:57:50.230Z"
   },
   {
    "duration": 148,
    "start_time": "2025-04-15T15:57:57.911Z"
   },
   {
    "duration": 158,
    "start_time": "2025-04-15T15:59:35.810Z"
   },
   {
    "duration": 149,
    "start_time": "2025-04-15T16:00:18.030Z"
   },
   {
    "duration": 13,
    "start_time": "2025-04-15T16:03:03.670Z"
   },
   {
    "duration": 10,
    "start_time": "2025-04-15T16:04:00.891Z"
   },
   {
    "duration": 4,
    "start_time": "2025-04-15T16:04:19.660Z"
   },
   {
    "duration": 95,
    "start_time": "2025-04-15T16:04:26.177Z"
   },
   {
    "duration": 5,
    "start_time": "2025-04-15T16:04:44.767Z"
   },
   {
    "duration": 5,
    "start_time": "2025-04-15T16:04:51.548Z"
   },
   {
    "duration": 4,
    "start_time": "2025-04-15T16:05:02.369Z"
   },
   {
    "duration": 13,
    "start_time": "2025-04-15T16:08:19.761Z"
   },
   {
    "duration": 224,
    "start_time": "2025-04-15T16:09:12.833Z"
   },
   {
    "duration": 206,
    "start_time": "2025-04-15T16:09:40.455Z"
   },
   {
    "duration": 229,
    "start_time": "2025-04-15T16:09:59.531Z"
   },
   {
    "duration": 262,
    "start_time": "2025-04-15T16:10:06.396Z"
   },
   {
    "duration": 5,
    "start_time": "2025-04-15T16:13:57.448Z"
   },
   {
    "duration": 3,
    "start_time": "2025-04-15T16:14:05.753Z"
   },
   {
    "duration": 1717,
    "start_time": "2025-04-15T16:15:29.735Z"
   },
   {
    "duration": 10,
    "start_time": "2025-04-15T16:15:37.811Z"
   },
   {
    "duration": 1595,
    "start_time": "2025-04-15T16:19:39.554Z"
   },
   {
    "duration": 139,
    "start_time": "2025-04-15T16:19:47.139Z"
   },
   {
    "duration": 10,
    "start_time": "2025-04-15T16:19:55.662Z"
   },
   {
    "duration": 134,
    "start_time": "2025-04-15T16:20:21.997Z"
   },
   {
    "duration": 155,
    "start_time": "2025-04-15T16:21:03.895Z"
   },
   {
    "duration": 148,
    "start_time": "2025-04-15T16:21:10.228Z"
   },
   {
    "duration": 198,
    "start_time": "2025-04-15T16:21:17.754Z"
   },
   {
    "duration": 182,
    "start_time": "2025-04-15T16:21:23.122Z"
   },
   {
    "duration": 21,
    "start_time": "2025-04-15T16:21:43.327Z"
   },
   {
    "duration": 370,
    "start_time": "2025-04-15T16:23:24.556Z"
   },
   {
    "duration": 207,
    "start_time": "2025-04-15T16:23:41.089Z"
   },
   {
    "duration": 251,
    "start_time": "2025-04-15T16:23:58.171Z"
   },
   {
    "duration": 250,
    "start_time": "2025-04-15T16:24:08.548Z"
   },
   {
    "duration": 251,
    "start_time": "2025-04-15T16:24:43.769Z"
   },
   {
    "duration": 300,
    "start_time": "2025-04-15T16:25:02.248Z"
   },
   {
    "duration": 267,
    "start_time": "2025-04-15T16:25:21.583Z"
   },
   {
    "duration": 13,
    "start_time": "2025-04-15T16:25:58.349Z"
   },
   {
    "duration": 285,
    "start_time": "2025-04-15T16:27:33.272Z"
   },
   {
    "duration": 277,
    "start_time": "2025-04-15T16:27:51.643Z"
   },
   {
    "duration": 261,
    "start_time": "2025-04-15T16:28:05.719Z"
   },
   {
    "duration": 248,
    "start_time": "2025-04-15T16:31:11.847Z"
   },
   {
    "duration": 266,
    "start_time": "2025-04-15T16:31:18.529Z"
   },
   {
    "duration": 78,
    "start_time": "2025-04-15T16:34:48.213Z"
   },
   {
    "duration": 85,
    "start_time": "2025-04-15T16:35:03.675Z"
   },
   {
    "duration": 112,
    "start_time": "2025-04-15T16:35:07.120Z"
   },
   {
    "duration": 75,
    "start_time": "2025-04-15T16:35:12.527Z"
   },
   {
    "duration": 19,
    "start_time": "2025-04-15T16:36:28.034Z"
   },
   {
    "duration": 8,
    "start_time": "2025-04-15T16:36:45.976Z"
   },
   {
    "duration": 7,
    "start_time": "2025-04-15T16:37:03.241Z"
   },
   {
    "duration": 90,
    "start_time": "2025-04-15T16:37:30.568Z"
   },
   {
    "duration": 81,
    "start_time": "2025-04-15T16:37:39.074Z"
   },
   {
    "duration": 120,
    "start_time": "2025-04-15T16:37:43.650Z"
   },
   {
    "duration": 8,
    "start_time": "2025-04-15T16:37:52.222Z"
   },
   {
    "duration": 75,
    "start_time": "2025-04-15T16:38:12.449Z"
   },
   {
    "duration": 74,
    "start_time": "2025-04-15T16:38:22.452Z"
   },
   {
    "duration": 12,
    "start_time": "2025-04-15T16:38:26.289Z"
   },
   {
    "duration": 299,
    "start_time": "2025-04-15T16:39:26.561Z"
   },
   {
    "duration": 314,
    "start_time": "2025-04-15T16:39:44.385Z"
   },
   {
    "duration": 258,
    "start_time": "2025-04-15T16:40:11.031Z"
   },
   {
    "duration": 9,
    "start_time": "2025-04-15T16:51:20.833Z"
   },
   {
    "duration": 6,
    "start_time": "2025-04-15T16:51:49.286Z"
   },
   {
    "duration": 3,
    "start_time": "2025-04-15T16:57:10.453Z"
   },
   {
    "duration": 12,
    "start_time": "2025-04-15T16:59:44.273Z"
   },
   {
    "duration": 4,
    "start_time": "2025-04-15T17:01:32.219Z"
   },
   {
    "duration": 6,
    "start_time": "2025-04-15T17:01:56.184Z"
   },
   {
    "duration": 5,
    "start_time": "2025-04-15T17:02:29.754Z"
   },
   {
    "duration": 4,
    "start_time": "2025-04-15T17:02:52.633Z"
   },
   {
    "duration": 7,
    "start_time": "2025-04-15T17:03:16.573Z"
   },
   {
    "duration": 4,
    "start_time": "2025-04-15T17:03:17.096Z"
   },
   {
    "duration": 2,
    "start_time": "2025-04-15T17:03:19.829Z"
   },
   {
    "duration": 10,
    "start_time": "2025-04-15T17:03:20.301Z"
   },
   {
    "duration": 7,
    "start_time": "2025-04-15T17:04:27.014Z"
   },
   {
    "duration": 13,
    "start_time": "2025-04-15T17:07:00.590Z"
   },
   {
    "duration": 3,
    "start_time": "2025-04-15T17:07:11.721Z"
   },
   {
    "duration": 5,
    "start_time": "2025-04-15T17:08:05.300Z"
   },
   {
    "duration": 4,
    "start_time": "2025-04-15T17:08:05.837Z"
   },
   {
    "duration": 3,
    "start_time": "2025-04-15T17:08:21.716Z"
   },
   {
    "duration": 7,
    "start_time": "2025-04-15T17:08:23.024Z"
   },
   {
    "duration": 14,
    "start_time": "2025-04-15T17:08:57.582Z"
   },
   {
    "duration": 9,
    "start_time": "2025-04-15T17:09:02.559Z"
   },
   {
    "duration": 15,
    "start_time": "2025-04-15T17:09:17.439Z"
   },
   {
    "duration": 5,
    "start_time": "2025-04-15T17:10:20.565Z"
   },
   {
    "duration": 6,
    "start_time": "2025-04-15T17:10:26.693Z"
   },
   {
    "duration": 2,
    "start_time": "2025-04-15T17:45:47.785Z"
   },
   {
    "duration": 3,
    "start_time": "2025-04-15T17:45:50.177Z"
   },
   {
    "duration": 3,
    "start_time": "2025-04-15T17:46:03.329Z"
   },
   {
    "duration": 7,
    "start_time": "2025-04-15T17:48:16.118Z"
   },
   {
    "duration": 10,
    "start_time": "2025-04-15T17:48:43.767Z"
   },
   {
    "duration": 21,
    "start_time": "2025-04-15T17:48:55.576Z"
   },
   {
    "duration": 32,
    "start_time": "2025-04-15T17:49:02.061Z"
   },
   {
    "duration": 254,
    "start_time": "2025-04-15T19:11:17.339Z"
   },
   {
    "duration": 30,
    "start_time": "2025-04-15T19:12:29.449Z"
   },
   {
    "duration": 5,
    "start_time": "2025-04-15T19:13:24.911Z"
   },
   {
    "duration": 30,
    "start_time": "2025-04-15T19:13:27.389Z"
   },
   {
    "duration": 32,
    "start_time": "2025-04-15T19:13:33.255Z"
   },
   {
    "duration": 200,
    "start_time": "2025-04-15T19:14:25.315Z"
   },
   {
    "duration": 402,
    "start_time": "2025-04-15T19:15:25.383Z"
   },
   {
    "duration": 221,
    "start_time": "2025-04-15T19:15:37.036Z"
   },
   {
    "duration": 209,
    "start_time": "2025-04-15T19:16:19.544Z"
   },
   {
    "duration": 11,
    "start_time": "2025-04-15T19:19:08.196Z"
   },
   {
    "duration": 11,
    "start_time": "2025-04-15T19:19:26.060Z"
   },
   {
    "duration": 16,
    "start_time": "2025-04-15T19:20:01.388Z"
   },
   {
    "duration": 196,
    "start_time": "2025-04-15T19:20:13.854Z"
   },
   {
    "duration": 173,
    "start_time": "2025-04-15T19:20:45.837Z"
   },
   {
    "duration": 180,
    "start_time": "2025-04-15T19:21:08.876Z"
   },
   {
    "duration": 538,
    "start_time": "2025-04-15T19:21:46.867Z"
   },
   {
    "duration": 207,
    "start_time": "2025-04-15T19:21:52.130Z"
   },
   {
    "duration": 217,
    "start_time": "2025-04-15T19:22:38.617Z"
   },
   {
    "duration": 49,
    "start_time": "2025-04-15T19:24:30.778Z"
   },
   {
    "duration": 3,
    "start_time": "2025-04-15T19:26:01.930Z"
   },
   {
    "duration": 1464,
    "start_time": "2025-04-15T19:27:12.053Z"
   },
   {
    "duration": 3,
    "start_time": "2025-04-15T19:27:13.519Z"
   },
   {
    "duration": 114,
    "start_time": "2025-04-15T19:27:13.523Z"
   },
   {
    "duration": 8,
    "start_time": "2025-04-15T19:27:13.638Z"
   },
   {
    "duration": 14,
    "start_time": "2025-04-15T19:27:13.649Z"
   },
   {
    "duration": 8,
    "start_time": "2025-04-15T19:27:13.664Z"
   },
   {
    "duration": 8,
    "start_time": "2025-04-15T19:27:13.674Z"
   },
   {
    "duration": 6,
    "start_time": "2025-04-15T19:27:13.684Z"
   },
   {
    "duration": 5,
    "start_time": "2025-04-15T19:27:13.691Z"
   },
   {
    "duration": 45,
    "start_time": "2025-04-15T19:27:13.697Z"
   },
   {
    "duration": 12,
    "start_time": "2025-04-15T19:27:13.751Z"
   },
   {
    "duration": 359,
    "start_time": "2025-04-15T19:27:13.765Z"
   },
   {
    "duration": 182,
    "start_time": "2025-04-15T19:27:14.126Z"
   },
   {
    "duration": 5,
    "start_time": "2025-04-15T19:27:14.311Z"
   },
   {
    "duration": 54,
    "start_time": "2025-04-15T19:27:14.317Z"
   },
   {
    "duration": 351,
    "start_time": "2025-04-15T19:27:14.372Z"
   },
   {
    "duration": 12,
    "start_time": "2025-04-15T19:27:14.724Z"
   },
   {
    "duration": 59,
    "start_time": "2025-04-15T19:27:14.738Z"
   },
   {
    "duration": 204,
    "start_time": "2025-04-15T19:27:14.799Z"
   },
   {
    "duration": 4,
    "start_time": "2025-04-15T19:27:15.005Z"
   },
   {
    "duration": 31,
    "start_time": "2025-04-15T19:27:15.011Z"
   },
   {
    "duration": 154,
    "start_time": "2025-04-15T19:27:15.050Z"
   },
   {
    "duration": 6,
    "start_time": "2025-04-15T19:27:15.207Z"
   },
   {
    "duration": 5,
    "start_time": "2025-04-15T19:27:21.478Z"
   },
   {
    "duration": 5,
    "start_time": "2025-04-15T19:27:22.635Z"
   },
   {
    "duration": 3,
    "start_time": "2025-04-15T19:27:24.316Z"
   },
   {
    "duration": 7,
    "start_time": "2025-04-15T19:27:34.924Z"
   },
   {
    "duration": 18,
    "start_time": "2025-04-15T19:27:34.933Z"
   },
   {
    "duration": 2,
    "start_time": "2025-04-15T19:27:34.953Z"
   },
   {
    "duration": 82,
    "start_time": "2025-04-15T19:27:34.957Z"
   },
   {
    "duration": 0,
    "start_time": "2025-04-15T19:27:35.041Z"
   },
   {
    "duration": 0,
    "start_time": "2025-04-15T19:27:35.042Z"
   },
   {
    "duration": 6,
    "start_time": "2025-04-15T19:29:33.291Z"
   },
   {
    "duration": 5,
    "start_time": "2025-04-15T19:29:58.687Z"
   },
   {
    "duration": 5,
    "start_time": "2025-04-15T19:30:13.904Z"
   },
   {
    "duration": 15,
    "start_time": "2025-04-15T19:30:20.963Z"
   },
   {
    "duration": 5,
    "start_time": "2025-04-15T19:31:05.146Z"
   },
   {
    "duration": 4,
    "start_time": "2025-04-15T19:31:15.897Z"
   },
   {
    "duration": 72,
    "start_time": "2025-04-15T19:31:58.285Z"
   },
   {
    "duration": 7,
    "start_time": "2025-04-15T19:32:04.107Z"
   },
   {
    "duration": 1496,
    "start_time": "2025-04-15T19:33:44.445Z"
   },
   {
    "duration": 3,
    "start_time": "2025-04-15T19:33:45.942Z"
   },
   {
    "duration": 69,
    "start_time": "2025-04-15T19:33:45.947Z"
   },
   {
    "duration": 5,
    "start_time": "2025-04-15T19:33:46.019Z"
   },
   {
    "duration": 18,
    "start_time": "2025-04-15T19:33:46.025Z"
   },
   {
    "duration": 9,
    "start_time": "2025-04-15T19:33:46.045Z"
   },
   {
    "duration": 12,
    "start_time": "2025-04-15T19:33:46.056Z"
   },
   {
    "duration": 6,
    "start_time": "2025-04-15T19:33:46.070Z"
   },
   {
    "duration": 4,
    "start_time": "2025-04-15T19:33:46.077Z"
   },
   {
    "duration": 5,
    "start_time": "2025-04-15T19:33:46.084Z"
   },
   {
    "duration": 12,
    "start_time": "2025-04-15T19:33:46.090Z"
   },
   {
    "duration": 361,
    "start_time": "2025-04-15T19:33:46.103Z"
   },
   {
    "duration": 172,
    "start_time": "2025-04-15T19:33:46.466Z"
   },
   {
    "duration": 10,
    "start_time": "2025-04-15T19:33:46.640Z"
   },
   {
    "duration": 4,
    "start_time": "2025-04-15T19:33:46.652Z"
   },
   {
    "duration": 367,
    "start_time": "2025-04-15T19:33:46.657Z"
   },
   {
    "duration": 3,
    "start_time": "2025-04-15T19:33:47.025Z"
   },
   {
    "duration": 17,
    "start_time": "2025-04-15T19:33:47.030Z"
   },
   {
    "duration": 231,
    "start_time": "2025-04-15T19:33:47.049Z"
   },
   {
    "duration": 4,
    "start_time": "2025-04-15T19:33:47.281Z"
   },
   {
    "duration": 5,
    "start_time": "2025-04-15T19:33:47.286Z"
   },
   {
    "duration": 18,
    "start_time": "2025-04-15T19:33:47.292Z"
   },
   {
    "duration": 24,
    "start_time": "2025-04-15T19:33:47.312Z"
   },
   {
    "duration": 120,
    "start_time": "2025-04-15T19:33:47.338Z"
   },
   {
    "duration": 0,
    "start_time": "2025-04-15T19:33:47.460Z"
   },
   {
    "duration": 0,
    "start_time": "2025-04-15T19:33:47.461Z"
   },
   {
    "duration": 0,
    "start_time": "2025-04-15T19:33:47.462Z"
   },
   {
    "duration": 0,
    "start_time": "2025-04-15T19:33:47.463Z"
   },
   {
    "duration": 0,
    "start_time": "2025-04-15T19:33:47.464Z"
   },
   {
    "duration": 0,
    "start_time": "2025-04-15T19:33:47.465Z"
   },
   {
    "duration": 0,
    "start_time": "2025-04-15T19:33:47.466Z"
   },
   {
    "duration": 0,
    "start_time": "2025-04-15T19:33:47.467Z"
   },
   {
    "duration": 9,
    "start_time": "2025-04-15T19:34:04.075Z"
   },
   {
    "duration": 0,
    "start_time": "2025-04-15T19:34:04.086Z"
   },
   {
    "duration": 0,
    "start_time": "2025-04-15T19:34:04.088Z"
   },
   {
    "duration": 0,
    "start_time": "2025-04-15T19:34:04.089Z"
   },
   {
    "duration": 0,
    "start_time": "2025-04-15T19:34:04.090Z"
   },
   {
    "duration": 0,
    "start_time": "2025-04-15T19:34:04.091Z"
   },
   {
    "duration": 0,
    "start_time": "2025-04-15T19:34:04.092Z"
   },
   {
    "duration": 0,
    "start_time": "2025-04-15T19:34:04.093Z"
   },
   {
    "duration": 6,
    "start_time": "2025-04-15T19:34:18.019Z"
   },
   {
    "duration": 10,
    "start_time": "2025-04-15T19:34:19.340Z"
   },
   {
    "duration": 5,
    "start_time": "2025-04-15T19:34:52.856Z"
   },
   {
    "duration": 4,
    "start_time": "2025-04-15T19:34:54.265Z"
   },
   {
    "duration": 6,
    "start_time": "2025-04-15T19:34:58.497Z"
   },
   {
    "duration": 4,
    "start_time": "2025-04-15T19:35:02.927Z"
   },
   {
    "duration": 2,
    "start_time": "2025-04-15T19:35:06.161Z"
   },
   {
    "duration": 12,
    "start_time": "2025-04-15T19:35:06.689Z"
   },
   {
    "duration": 109,
    "start_time": "2025-04-15T19:35:07.529Z"
   },
   {
    "duration": 8,
    "start_time": "2025-04-15T19:35:24.476Z"
   },
   {
    "duration": 12,
    "start_time": "2025-04-15T19:35:37.464Z"
   },
   {
    "duration": 12,
    "start_time": "2025-04-15T19:40:17.463Z"
   },
   {
    "duration": 6,
    "start_time": "2025-04-15T19:48:54.542Z"
   },
   {
    "duration": 3,
    "start_time": "2025-04-15T19:52:28.226Z"
   },
   {
    "duration": 12,
    "start_time": "2025-04-15T19:52:28.984Z"
   },
   {
    "duration": 4358,
    "start_time": "2025-04-15T19:52:48.137Z"
   },
   {
    "duration": 9,
    "start_time": "2025-04-15T19:54:43.062Z"
   },
   {
    "duration": 92936,
    "start_time": "2025-04-15T19:59:57.557Z"
   },
   {
    "duration": 3,
    "start_time": "2025-04-15T20:01:53.349Z"
   },
   {
    "duration": 78,
    "start_time": "2025-04-15T20:03:05.563Z"
   },
   {
    "duration": 9,
    "start_time": "2025-04-15T20:04:47.891Z"
   },
   {
    "duration": 3,
    "start_time": "2025-04-15T20:05:37.906Z"
   },
   {
    "duration": 1835,
    "start_time": "2025-04-15T20:06:09.597Z"
   },
   {
    "duration": 6,
    "start_time": "2025-04-15T20:06:46.366Z"
   },
   {
    "duration": 4,
    "start_time": "2025-04-15T20:10:12.452Z"
   },
   {
    "duration": 540,
    "start_time": "2025-04-15T20:10:12.926Z"
   },
   {
    "duration": 155,
    "start_time": "2025-04-15T20:11:20.266Z"
   },
   {
    "duration": 3,
    "start_time": "2025-04-15T20:13:56.823Z"
   },
   {
    "duration": 245743,
    "start_time": "2025-04-15T20:13:58.910Z"
   },
   {
    "duration": 4,
    "start_time": "2025-04-15T20:18:43.795Z"
   },
   {
    "duration": 10,
    "start_time": "2025-04-15T20:19:03.857Z"
   },
   {
    "duration": 4,
    "start_time": "2025-04-15T20:19:17.447Z"
   },
   {
    "duration": 138763,
    "start_time": "2025-04-15T20:19:25.882Z"
   },
   {
    "duration": 13,
    "start_time": "2025-04-15T20:22:05.335Z"
   },
   {
    "duration": 3,
    "start_time": "2025-04-15T20:22:56.454Z"
   },
   {
    "duration": 10,
    "start_time": "2025-04-15T20:23:54.315Z"
   },
   {
    "duration": 18434,
    "start_time": "2025-04-15T20:24:13.320Z"
   },
   {
    "duration": 21,
    "start_time": "2025-04-15T20:24:42.328Z"
   },
   {
    "duration": 2,
    "start_time": "2025-04-15T20:27:50.093Z"
   },
   {
    "duration": 9,
    "start_time": "2025-04-15T20:28:51.442Z"
   },
   {
    "duration": 3,
    "start_time": "2025-04-15T20:28:55.534Z"
   },
   {
    "duration": 4,
    "start_time": "2025-04-15T20:28:58.094Z"
   },
   {
    "duration": 19,
    "start_time": "2025-04-15T20:29:02.629Z"
   },
   {
    "duration": 95,
    "start_time": "2025-04-15T20:37:41.325Z"
   },
   {
    "duration": 112,
    "start_time": "2025-04-15T20:38:01.037Z"
   },
   {
    "duration": 109,
    "start_time": "2025-04-15T20:38:57.215Z"
   },
   {
    "duration": 112,
    "start_time": "2025-04-15T20:39:03.767Z"
   },
   {
    "duration": 108,
    "start_time": "2025-04-15T20:39:24.511Z"
   },
   {
    "duration": 109,
    "start_time": "2025-04-15T20:39:28.943Z"
   },
   {
    "duration": 1412,
    "start_time": "2025-04-15T20:40:10.356Z"
   },
   {
    "duration": 3,
    "start_time": "2025-04-15T20:40:11.770Z"
   },
   {
    "duration": 74,
    "start_time": "2025-04-15T20:40:11.774Z"
   },
   {
    "duration": 5,
    "start_time": "2025-04-15T20:40:11.850Z"
   },
   {
    "duration": 12,
    "start_time": "2025-04-15T20:40:11.857Z"
   },
   {
    "duration": 7,
    "start_time": "2025-04-15T20:40:11.870Z"
   },
   {
    "duration": 7,
    "start_time": "2025-04-15T20:40:11.879Z"
   },
   {
    "duration": 5,
    "start_time": "2025-04-15T20:40:11.888Z"
   },
   {
    "duration": 3,
    "start_time": "2025-04-15T20:40:11.895Z"
   },
   {
    "duration": 10,
    "start_time": "2025-04-15T20:40:11.940Z"
   },
   {
    "duration": 11,
    "start_time": "2025-04-15T20:40:11.952Z"
   },
   {
    "duration": 339,
    "start_time": "2025-04-15T20:40:11.964Z"
   },
   {
    "duration": 144,
    "start_time": "2025-04-15T20:40:12.304Z"
   },
   {
    "duration": 5,
    "start_time": "2025-04-15T20:40:12.451Z"
   },
   {
    "duration": 4,
    "start_time": "2025-04-15T20:40:12.457Z"
   },
   {
    "duration": 349,
    "start_time": "2025-04-15T20:40:12.463Z"
   },
   {
    "duration": 2,
    "start_time": "2025-04-15T20:40:12.814Z"
   },
   {
    "duration": 23,
    "start_time": "2025-04-15T20:40:12.818Z"
   },
   {
    "duration": 205,
    "start_time": "2025-04-15T20:40:12.843Z"
   },
   {
    "duration": 4,
    "start_time": "2025-04-15T20:40:13.049Z"
   },
   {
    "duration": 4,
    "start_time": "2025-04-15T20:40:13.054Z"
   },
   {
    "duration": 24,
    "start_time": "2025-04-15T20:40:13.060Z"
   },
   {
    "duration": 5,
    "start_time": "2025-04-15T20:40:13.086Z"
   },
   {
    "duration": 4,
    "start_time": "2025-04-15T20:40:13.093Z"
   },
   {
    "duration": 4,
    "start_time": "2025-04-15T20:40:13.099Z"
   },
   {
    "duration": 5,
    "start_time": "2025-04-15T20:40:13.105Z"
   },
   {
    "duration": 38,
    "start_time": "2025-04-15T20:40:13.111Z"
   },
   {
    "duration": 4,
    "start_time": "2025-04-15T20:40:13.150Z"
   },
   {
    "duration": 2,
    "start_time": "2025-04-15T20:40:13.156Z"
   },
   {
    "duration": 11,
    "start_time": "2025-04-15T20:40:13.160Z"
   },
   {
    "duration": 99,
    "start_time": "2025-04-15T20:40:13.248Z"
   },
   {
    "duration": 2,
    "start_time": "2025-04-15T20:40:13.349Z"
   },
   {
    "duration": 92196,
    "start_time": "2025-04-15T20:40:13.353Z"
   },
   {
    "duration": 3,
    "start_time": "2025-04-15T20:41:45.550Z"
   },
   {
    "duration": 4,
    "start_time": "2025-04-15T20:41:45.554Z"
   },
   {
    "duration": 1888,
    "start_time": "2025-04-15T20:41:45.560Z"
   },
   {
    "duration": 3,
    "start_time": "2025-04-15T20:41:47.449Z"
   },
   {
    "duration": 87297,
    "start_time": "2025-04-15T20:41:47.454Z"
   },
   {
    "duration": 5,
    "start_time": "2025-04-15T20:43:14.752Z"
   },
   {
    "duration": 8,
    "start_time": "2025-04-15T20:43:14.758Z"
   },
   {
    "duration": 5589,
    "start_time": "2025-04-15T20:43:14.769Z"
   },
   {
    "duration": 92,
    "start_time": "2025-04-15T20:43:20.360Z"
   },
   {
    "duration": 93,
    "start_time": "2025-04-15T20:43:20.455Z"
   },
   {
    "duration": 97,
    "start_time": "2025-04-15T20:43:20.551Z"
   },
   {
    "duration": 3,
    "start_time": "2025-04-15T20:43:20.650Z"
   },
   {
    "duration": 8,
    "start_time": "2025-04-15T20:43:20.655Z"
   },
   {
    "duration": 127,
    "start_time": "2025-04-15T20:43:20.665Z"
   },
   {
    "duration": 3866,
    "start_time": "2025-04-16T06:45:50.350Z"
   },
   {
    "duration": 2,
    "start_time": "2025-04-16T06:45:54.219Z"
   },
   {
    "duration": 135,
    "start_time": "2025-04-16T06:45:54.223Z"
   },
   {
    "duration": 6,
    "start_time": "2025-04-16T06:45:54.359Z"
   },
   {
    "duration": 26,
    "start_time": "2025-04-16T06:45:54.368Z"
   },
   {
    "duration": 10,
    "start_time": "2025-04-16T06:45:54.396Z"
   },
   {
    "duration": 10,
    "start_time": "2025-04-16T06:45:54.409Z"
   },
   {
    "duration": 41,
    "start_time": "2025-04-16T06:45:54.421Z"
   },
   {
    "duration": 5,
    "start_time": "2025-04-16T06:45:54.464Z"
   },
   {
    "duration": 14,
    "start_time": "2025-04-16T06:45:54.471Z"
   },
   {
    "duration": 17,
    "start_time": "2025-04-16T06:45:54.488Z"
   },
   {
    "duration": 418,
    "start_time": "2025-04-16T06:45:54.507Z"
   },
   {
    "duration": 171,
    "start_time": "2025-04-16T06:45:54.927Z"
   },
   {
    "duration": 6,
    "start_time": "2025-04-16T06:45:55.101Z"
   },
   {
    "duration": 35,
    "start_time": "2025-04-16T06:45:55.108Z"
   },
   {
    "duration": 421,
    "start_time": "2025-04-16T06:45:55.145Z"
   },
   {
    "duration": 4,
    "start_time": "2025-04-16T06:45:55.568Z"
   },
   {
    "duration": 16,
    "start_time": "2025-04-16T06:45:55.574Z"
   },
   {
    "duration": 232,
    "start_time": "2025-04-16T06:45:55.594Z"
   },
   {
    "duration": 4,
    "start_time": "2025-04-16T06:45:55.828Z"
   },
   {
    "duration": 21,
    "start_time": "2025-04-16T06:45:55.833Z"
   },
   {
    "duration": 34,
    "start_time": "2025-04-16T06:45:55.855Z"
   },
   {
    "duration": 7,
    "start_time": "2025-04-16T06:45:55.891Z"
   },
   {
    "duration": 21,
    "start_time": "2025-04-16T06:45:55.899Z"
   },
   {
    "duration": 8,
    "start_time": "2025-04-16T06:45:55.922Z"
   },
   {
    "duration": 32,
    "start_time": "2025-04-16T06:45:55.931Z"
   },
   {
    "duration": 21,
    "start_time": "2025-04-16T06:45:55.966Z"
   },
   {
    "duration": 39,
    "start_time": "2025-04-16T06:45:55.989Z"
   },
   {
    "duration": 19,
    "start_time": "2025-04-16T06:45:56.030Z"
   },
   {
    "duration": 35,
    "start_time": "2025-04-16T06:45:56.050Z"
   },
   {
    "duration": 49,
    "start_time": "2025-04-16T14:43:09.015Z"
   },
   {
    "duration": 1868,
    "start_time": "2025-04-16T14:43:12.932Z"
   },
   {
    "duration": 2,
    "start_time": "2025-04-16T14:43:14.803Z"
   },
   {
    "duration": 70,
    "start_time": "2025-04-16T14:43:14.807Z"
   },
   {
    "duration": 6,
    "start_time": "2025-04-16T14:43:14.879Z"
   },
   {
    "duration": 13,
    "start_time": "2025-04-16T14:43:14.887Z"
   },
   {
    "duration": 9,
    "start_time": "2025-04-16T14:43:14.901Z"
   },
   {
    "duration": 8,
    "start_time": "2025-04-16T14:43:14.912Z"
   },
   {
    "duration": 20,
    "start_time": "2025-04-16T14:43:14.922Z"
   },
   {
    "duration": 5,
    "start_time": "2025-04-16T14:43:14.944Z"
   },
   {
    "duration": 7,
    "start_time": "2025-04-16T14:43:14.951Z"
   },
   {
    "duration": 14,
    "start_time": "2025-04-16T14:43:14.959Z"
   },
   {
    "duration": 391,
    "start_time": "2025-04-16T14:43:14.974Z"
   },
   {
    "duration": 156,
    "start_time": "2025-04-16T14:43:15.368Z"
   },
   {
    "duration": 13,
    "start_time": "2025-04-16T14:43:15.527Z"
   },
   {
    "duration": 13,
    "start_time": "2025-04-16T14:43:15.542Z"
   },
   {
    "duration": 367,
    "start_time": "2025-04-16T14:43:15.557Z"
   },
   {
    "duration": 3,
    "start_time": "2025-04-16T14:43:15.926Z"
   },
   {
    "duration": 7,
    "start_time": "2025-04-16T14:43:21.008Z"
   },
   {
    "duration": 8,
    "start_time": "2025-04-16T14:43:30.444Z"
   },
   {
    "duration": 12,
    "start_time": "2025-04-16T14:44:34.361Z"
   },
   {
    "duration": 86,
    "start_time": "2025-04-16T14:48:28.441Z"
   },
   {
    "duration": 180,
    "start_time": "2025-04-16T14:48:42.453Z"
   },
   {
    "duration": 148,
    "start_time": "2025-04-16T14:48:56.489Z"
   },
   {
    "duration": 151,
    "start_time": "2025-04-16T14:49:02.976Z"
   },
   {
    "duration": 135,
    "start_time": "2025-04-16T14:49:15.517Z"
   },
   {
    "duration": 147,
    "start_time": "2025-04-16T14:50:37.390Z"
   },
   {
    "duration": 8,
    "start_time": "2025-04-16T14:50:58.893Z"
   },
   {
    "duration": 239,
    "start_time": "2025-04-16T14:51:08.308Z"
   },
   {
    "duration": 139,
    "start_time": "2025-04-16T14:52:43.608Z"
   },
   {
    "duration": 192,
    "start_time": "2025-04-16T14:52:49.638Z"
   },
   {
    "duration": 16,
    "start_time": "2025-04-16T14:53:12.277Z"
   },
   {
    "duration": 177,
    "start_time": "2025-04-16T14:53:39.778Z"
   },
   {
    "duration": 201,
    "start_time": "2025-04-16T15:01:38.712Z"
   },
   {
    "duration": 32,
    "start_time": "2025-04-16T15:02:55.026Z"
   },
   {
    "duration": 841,
    "start_time": "2025-04-16T15:03:12.348Z"
   },
   {
    "duration": 818,
    "start_time": "2025-04-16T15:04:07.380Z"
   },
   {
    "duration": 128,
    "start_time": "2025-04-16T15:04:15.569Z"
   },
   {
    "duration": 823,
    "start_time": "2025-04-16T15:04:21.298Z"
   },
   {
    "duration": 899,
    "start_time": "2025-04-16T15:08:15.968Z"
   },
   {
    "duration": 548,
    "start_time": "2025-04-16T15:08:46.256Z"
   },
   {
    "duration": 521,
    "start_time": "2025-04-16T15:18:40.997Z"
   },
   {
    "duration": 532,
    "start_time": "2025-04-16T15:19:02.828Z"
   },
   {
    "duration": 4,
    "start_time": "2025-04-16T15:27:13.536Z"
   },
   {
    "duration": 3,
    "start_time": "2025-04-16T15:32:50.912Z"
   },
   {
    "duration": 177,
    "start_time": "2025-04-16T15:32:51.840Z"
   },
   {
    "duration": 3,
    "start_time": "2025-04-16T15:33:03.460Z"
   },
   {
    "duration": 4,
    "start_time": "2025-04-16T15:33:14.459Z"
   },
   {
    "duration": 21,
    "start_time": "2025-04-16T15:33:15.011Z"
   },
   {
    "duration": 4,
    "start_time": "2025-04-16T15:33:35.389Z"
   },
   {
    "duration": 40,
    "start_time": "2025-04-16T15:33:35.394Z"
   },
   {
    "duration": 48,
    "start_time": "2025-04-16T15:33:35.436Z"
   },
   {
    "duration": 4,
    "start_time": "2025-04-16T15:33:35.485Z"
   },
   {
    "duration": 12,
    "start_time": "2025-04-16T15:33:35.491Z"
   },
   {
    "duration": 15,
    "start_time": "2025-04-16T15:33:35.504Z"
   },
   {
    "duration": 26,
    "start_time": "2025-04-16T15:33:35.520Z"
   },
   {
    "duration": 16,
    "start_time": "2025-04-16T15:33:35.548Z"
   },
   {
    "duration": 27,
    "start_time": "2025-04-16T15:33:35.565Z"
   },
   {
    "duration": 39,
    "start_time": "2025-04-16T15:33:35.594Z"
   },
   {
    "duration": 15,
    "start_time": "2025-04-16T15:33:35.635Z"
   },
   {
    "duration": 323,
    "start_time": "2025-04-16T15:33:35.652Z"
   },
   {
    "duration": 272,
    "start_time": "2025-04-16T15:33:35.976Z"
   },
   {
    "duration": 4,
    "start_time": "2025-04-16T15:33:36.251Z"
   },
   {
    "duration": 17,
    "start_time": "2025-04-16T15:33:36.257Z"
   },
   {
    "duration": 306,
    "start_time": "2025-04-16T15:33:36.275Z"
   },
   {
    "duration": 3,
    "start_time": "2025-04-16T15:33:36.583Z"
   },
   {
    "duration": 57,
    "start_time": "2025-04-16T15:33:36.588Z"
   },
   {
    "duration": 16,
    "start_time": "2025-04-16T15:33:36.647Z"
   },
   {
    "duration": 901,
    "start_time": "2025-04-16T15:33:36.665Z"
   },
   {
    "duration": 540,
    "start_time": "2025-04-16T15:33:37.568Z"
   },
   {
    "duration": 5,
    "start_time": "2025-04-16T15:34:06.280Z"
   },
   {
    "duration": 17,
    "start_time": "2025-04-16T15:34:06.287Z"
   },
   {
    "duration": 43,
    "start_time": "2025-04-16T15:34:06.306Z"
   },
   {
    "duration": 8,
    "start_time": "2025-04-16T15:34:06.350Z"
   },
   {
    "duration": 27,
    "start_time": "2025-04-16T15:34:06.361Z"
   },
   {
    "duration": 25,
    "start_time": "2025-04-16T15:34:06.390Z"
   },
   {
    "duration": 26,
    "start_time": "2025-04-16T15:34:06.417Z"
   },
   {
    "duration": 26,
    "start_time": "2025-04-16T15:34:06.444Z"
   },
   {
    "duration": 29,
    "start_time": "2025-04-16T15:34:06.471Z"
   },
   {
    "duration": 25,
    "start_time": "2025-04-16T15:34:06.502Z"
   },
   {
    "duration": 28,
    "start_time": "2025-04-16T15:34:06.529Z"
   },
   {
    "duration": 3,
    "start_time": "2025-04-16T15:34:10.797Z"
   },
   {
    "duration": 3,
    "start_time": "2025-04-16T15:34:11.327Z"
   },
   {
    "duration": 70475,
    "start_time": "2025-04-16T15:34:12.253Z"
   },
   {
    "duration": 3,
    "start_time": "2025-04-16T15:35:54.445Z"
   },
   {
    "duration": 3,
    "start_time": "2025-04-16T15:36:01.102Z"
   },
   {
    "duration": 2465,
    "start_time": "2025-04-16T15:36:02.074Z"
   },
   {
    "duration": 4,
    "start_time": "2025-04-16T15:36:31.099Z"
   },
   {
    "duration": 52,
    "start_time": "2025-04-16T17:41:04.177Z"
   },
   {
    "duration": 1896,
    "start_time": "2025-04-16T17:43:04.359Z"
   },
   {
    "duration": 3,
    "start_time": "2025-04-16T17:43:06.258Z"
   },
   {
    "duration": 78,
    "start_time": "2025-04-16T17:43:06.262Z"
   },
   {
    "duration": 6,
    "start_time": "2025-04-16T17:43:06.342Z"
   },
   {
    "duration": 45,
    "start_time": "2025-04-16T17:43:06.350Z"
   },
   {
    "duration": 18,
    "start_time": "2025-04-16T17:43:06.396Z"
   },
   {
    "duration": 9,
    "start_time": "2025-04-16T17:43:06.416Z"
   },
   {
    "duration": 24,
    "start_time": "2025-04-16T17:43:06.427Z"
   },
   {
    "duration": 113,
    "start_time": "2025-04-16T17:43:06.453Z"
   },
   {
    "duration": 25,
    "start_time": "2025-04-16T17:43:06.568Z"
   },
   {
    "duration": 22,
    "start_time": "2025-04-16T17:43:06.595Z"
   },
   {
    "duration": 371,
    "start_time": "2025-04-16T17:43:06.619Z"
   },
   {
    "duration": 175,
    "start_time": "2025-04-16T17:43:06.991Z"
   },
   {
    "duration": 8,
    "start_time": "2025-04-16T17:43:07.170Z"
   },
   {
    "duration": 42,
    "start_time": "2025-04-16T17:43:07.180Z"
   },
   {
    "duration": 426,
    "start_time": "2025-04-16T17:43:07.224Z"
   },
   {
    "duration": 3,
    "start_time": "2025-04-16T17:43:07.653Z"
   },
   {
    "duration": 23,
    "start_time": "2025-04-16T17:43:07.657Z"
   },
   {
    "duration": 10,
    "start_time": "2025-04-16T17:43:07.682Z"
   },
   {
    "duration": 959,
    "start_time": "2025-04-16T17:43:07.694Z"
   },
   {
    "duration": 552,
    "start_time": "2025-04-16T17:43:08.655Z"
   },
   {
    "duration": 4,
    "start_time": "2025-04-16T17:43:09.209Z"
   },
   {
    "duration": 10,
    "start_time": "2025-04-16T17:43:09.215Z"
   },
   {
    "duration": 24,
    "start_time": "2025-04-16T17:43:09.226Z"
   },
   {
    "duration": 6,
    "start_time": "2025-04-16T17:43:09.252Z"
   },
   {
    "duration": 9,
    "start_time": "2025-04-16T17:43:09.259Z"
   },
   {
    "duration": 12,
    "start_time": "2025-04-16T17:43:09.269Z"
   },
   {
    "duration": 23,
    "start_time": "2025-04-16T17:43:09.283Z"
   },
   {
    "duration": 27,
    "start_time": "2025-04-16T17:43:09.308Z"
   },
   {
    "duration": 40,
    "start_time": "2025-04-16T17:43:09.337Z"
   },
   {
    "duration": 23,
    "start_time": "2025-04-16T17:43:09.379Z"
   },
   {
    "duration": 26,
    "start_time": "2025-04-16T17:43:09.404Z"
   },
   {
    "duration": 75,
    "start_time": "2025-04-16T17:43:09.432Z"
   },
   {
    "duration": 133,
    "start_time": "2025-04-16T17:43:09.510Z"
   },
   {
    "duration": 124,
    "start_time": "2025-04-16T17:43:09.645Z"
   },
   {
    "duration": 0,
    "start_time": "2025-04-16T17:43:09.771Z"
   },
   {
    "duration": 0,
    "start_time": "2025-04-16T17:43:09.774Z"
   },
   {
    "duration": 0,
    "start_time": "2025-04-16T17:43:09.776Z"
   },
   {
    "duration": 0,
    "start_time": "2025-04-16T17:43:09.777Z"
   },
   {
    "duration": 5,
    "start_time": "2025-04-16T17:46:35.048Z"
   },
   {
    "duration": 72139,
    "start_time": "2025-04-16T17:46:47.175Z"
   },
   {
    "duration": 3,
    "start_time": "2025-04-16T17:49:57.698Z"
   },
   {
    "duration": 3,
    "start_time": "2025-04-16T17:50:10.595Z"
   },
   {
    "duration": 3,
    "start_time": "2025-04-16T17:50:11.751Z"
   },
   {
    "duration": 2220,
    "start_time": "2025-04-16T17:50:13.254Z"
   },
   {
    "duration": 4,
    "start_time": "2025-04-16T17:50:17.082Z"
   },
   {
    "duration": 10,
    "start_time": "2025-04-16T17:50:21.963Z"
   },
   {
    "duration": 11,
    "start_time": "2025-04-16T17:50:42.177Z"
   },
   {
    "duration": 11,
    "start_time": "2025-04-16T17:50:48.453Z"
   },
   {
    "duration": 5,
    "start_time": "2025-04-16T17:51:45.839Z"
   },
   {
    "duration": 5393,
    "start_time": "2025-04-16T17:51:53.870Z"
   },
   {
    "duration": 5463,
    "start_time": "2025-04-16T17:54:33.666Z"
   },
   {
    "duration": 5788,
    "start_time": "2025-04-16T17:54:56.871Z"
   },
   {
    "duration": 6005,
    "start_time": "2025-04-16T17:55:14.636Z"
   },
   {
    "duration": 3,
    "start_time": "2025-04-16T17:57:44.174Z"
   },
   {
    "duration": 1709,
    "start_time": "2025-04-16T18:12:05.828Z"
   },
   {
    "duration": 3,
    "start_time": "2025-04-16T18:12:07.539Z"
   },
   {
    "duration": 124,
    "start_time": "2025-04-16T18:12:07.543Z"
   },
   {
    "duration": 51,
    "start_time": "2025-04-16T18:12:07.669Z"
   },
   {
    "duration": 30,
    "start_time": "2025-04-16T18:12:07.722Z"
   },
   {
    "duration": 10,
    "start_time": "2025-04-16T18:12:07.754Z"
   },
   {
    "duration": 10,
    "start_time": "2025-04-16T18:12:07.766Z"
   },
   {
    "duration": 9,
    "start_time": "2025-04-16T18:12:07.777Z"
   },
   {
    "duration": 7,
    "start_time": "2025-04-16T18:12:07.788Z"
   },
   {
    "duration": 11,
    "start_time": "2025-04-16T18:12:07.797Z"
   },
   {
    "duration": 12,
    "start_time": "2025-04-16T18:12:07.809Z"
   },
   {
    "duration": 384,
    "start_time": "2025-04-16T18:12:07.823Z"
   },
   {
    "duration": 197,
    "start_time": "2025-04-16T18:12:08.209Z"
   },
   {
    "duration": 5,
    "start_time": "2025-04-16T18:12:08.411Z"
   },
   {
    "duration": 9,
    "start_time": "2025-04-16T18:12:08.418Z"
   },
   {
    "duration": 406,
    "start_time": "2025-04-16T18:12:08.429Z"
   },
   {
    "duration": 3,
    "start_time": "2025-04-16T18:12:08.837Z"
   },
   {
    "duration": 14,
    "start_time": "2025-04-16T18:12:08.842Z"
   },
   {
    "duration": 2,
    "start_time": "2025-04-16T18:12:08.858Z"
   },
   {
    "duration": 912,
    "start_time": "2025-04-16T18:12:08.862Z"
   },
   {
    "duration": 570,
    "start_time": "2025-04-16T18:12:09.776Z"
   },
   {
    "duration": 4,
    "start_time": "2025-04-16T18:12:10.348Z"
   },
   {
    "duration": 8,
    "start_time": "2025-04-16T18:12:10.354Z"
   },
   {
    "duration": 21,
    "start_time": "2025-04-16T18:12:10.364Z"
   },
   {
    "duration": 6,
    "start_time": "2025-04-16T18:12:10.405Z"
   },
   {
    "duration": 8,
    "start_time": "2025-04-16T18:12:10.413Z"
   },
   {
    "duration": 5,
    "start_time": "2025-04-16T18:12:10.423Z"
   },
   {
    "duration": 5,
    "start_time": "2025-04-16T18:12:10.430Z"
   },
   {
    "duration": 10,
    "start_time": "2025-04-16T18:12:10.437Z"
   },
   {
    "duration": 70,
    "start_time": "2025-04-16T18:12:10.449Z"
   },
   {
    "duration": 15,
    "start_time": "2025-04-16T18:12:10.520Z"
   },
   {
    "duration": 67,
    "start_time": "2025-04-16T18:12:10.537Z"
   },
   {
    "duration": 99,
    "start_time": "2025-04-16T18:12:10.607Z"
   },
   {
    "duration": 20,
    "start_time": "2025-04-16T18:12:10.707Z"
   },
   {
    "duration": 56437,
    "start_time": "2025-04-16T18:12:10.729Z"
   },
   {
    "duration": 4,
    "start_time": "2025-04-16T18:13:07.167Z"
   },
   {
    "duration": 70,
    "start_time": "2025-04-16T18:13:07.172Z"
   },
   {
    "duration": 113,
    "start_time": "2025-04-16T18:13:07.244Z"
   },
   {
    "duration": 2395,
    "start_time": "2025-04-16T18:13:07.358Z"
   },
   {
    "duration": 5,
    "start_time": "2025-04-16T18:13:09.754Z"
   },
   {
    "duration": 3,
    "start_time": "2025-04-16T18:13:09.764Z"
   },
   {
    "duration": 2539,
    "start_time": "2025-04-16T18:14:12.667Z"
   },
   {
    "duration": 4,
    "start_time": "2025-04-16T18:14:27.107Z"
   },
   {
    "duration": 3,
    "start_time": "2025-04-16T18:14:28.355Z"
   },
   {
    "duration": 10398,
    "start_time": "2025-04-16T18:14:33.118Z"
   },
   {
    "duration": 492,
    "start_time": "2025-04-16T18:16:11.117Z"
   },
   {
    "duration": 273,
    "start_time": "2025-04-16T18:17:35.937Z"
   },
   {
    "duration": 5014,
    "start_time": "2025-04-16T18:17:36.213Z"
   },
   {
    "duration": 2196,
    "start_time": "2025-04-16T18:17:41.228Z"
   },
   {
    "duration": 2073,
    "start_time": "2025-04-16T18:17:58.239Z"
   },
   {
    "duration": 2130,
    "start_time": "2025-04-16T18:18:05.376Z"
   },
   {
    "duration": 1995,
    "start_time": "2025-04-16T18:18:09.523Z"
   },
   {
    "duration": 2089,
    "start_time": "2025-04-16T18:18:17.930Z"
   },
   {
    "duration": 1934,
    "start_time": "2025-04-16T18:18:21.882Z"
   },
   {
    "duration": 3,
    "start_time": "2025-04-16T18:19:51.870Z"
   },
   {
    "duration": 9,
    "start_time": "2025-04-16T18:19:52.523Z"
   },
   {
    "duration": 127,
    "start_time": "2025-04-16T18:29:38.946Z"
   },
   {
    "duration": 132,
    "start_time": "2025-04-16T18:30:17.092Z"
   },
   {
    "duration": 1524,
    "start_time": "2025-04-16T18:33:43.458Z"
   },
   {
    "duration": 3,
    "start_time": "2025-04-16T18:33:44.984Z"
   },
   {
    "duration": 127,
    "start_time": "2025-04-16T18:33:44.988Z"
   },
   {
    "duration": 6,
    "start_time": "2025-04-16T18:33:45.116Z"
   },
   {
    "duration": 41,
    "start_time": "2025-04-16T18:33:45.124Z"
   },
   {
    "duration": 36,
    "start_time": "2025-04-16T18:33:45.167Z"
   },
   {
    "duration": 35,
    "start_time": "2025-04-16T18:33:45.205Z"
   },
   {
    "duration": 113,
    "start_time": "2025-04-16T18:33:45.241Z"
   },
   {
    "duration": 134,
    "start_time": "2025-04-16T18:33:45.356Z"
   },
   {
    "duration": 11,
    "start_time": "2025-04-16T18:33:45.493Z"
   },
   {
    "duration": 35,
    "start_time": "2025-04-16T18:33:45.505Z"
   },
   {
    "duration": 350,
    "start_time": "2025-04-16T18:33:45.541Z"
   },
   {
    "duration": 176,
    "start_time": "2025-04-16T18:33:45.893Z"
   },
   {
    "duration": 6,
    "start_time": "2025-04-16T18:33:46.073Z"
   },
   {
    "duration": 25,
    "start_time": "2025-04-16T18:33:46.081Z"
   },
   {
    "duration": 416,
    "start_time": "2025-04-16T18:33:46.108Z"
   },
   {
    "duration": 3,
    "start_time": "2025-04-16T18:33:46.526Z"
   },
   {
    "duration": 85,
    "start_time": "2025-04-16T18:33:46.530Z"
   },
   {
    "duration": 3,
    "start_time": "2025-04-16T18:33:46.617Z"
   },
   {
    "duration": 812,
    "start_time": "2025-04-16T18:33:46.621Z"
   },
   {
    "duration": 532,
    "start_time": "2025-04-16T18:33:47.434Z"
   },
   {
    "duration": 4,
    "start_time": "2025-04-16T18:33:47.968Z"
   },
   {
    "duration": 12,
    "start_time": "2025-04-16T18:33:47.973Z"
   },
   {
    "duration": 30,
    "start_time": "2025-04-16T18:33:47.987Z"
   },
   {
    "duration": 28,
    "start_time": "2025-04-16T18:33:48.019Z"
   },
   {
    "duration": 38,
    "start_time": "2025-04-16T18:33:48.049Z"
   },
   {
    "duration": 8,
    "start_time": "2025-04-16T18:33:48.089Z"
   },
   {
    "duration": 6,
    "start_time": "2025-04-16T18:33:48.098Z"
   },
   {
    "duration": 13,
    "start_time": "2025-04-16T18:33:48.106Z"
   },
   {
    "duration": 22,
    "start_time": "2025-04-16T18:33:48.120Z"
   },
   {
    "duration": 20,
    "start_time": "2025-04-16T18:33:48.144Z"
   },
   {
    "duration": 13,
    "start_time": "2025-04-16T18:33:48.166Z"
   },
   {
    "duration": 94,
    "start_time": "2025-04-16T18:33:48.211Z"
   },
   {
    "duration": 4,
    "start_time": "2025-04-16T18:33:48.307Z"
   },
   {
    "duration": 56131,
    "start_time": "2025-04-16T18:33:48.314Z"
   },
   {
    "duration": 3,
    "start_time": "2025-04-16T18:34:44.447Z"
   },
   {
    "duration": 49,
    "start_time": "2025-04-16T18:34:44.451Z"
   },
   {
    "duration": 1873,
    "start_time": "2025-04-16T18:34:44.502Z"
   },
   {
    "duration": 3,
    "start_time": "2025-04-16T18:34:46.377Z"
   },
   {
    "duration": 27,
    "start_time": "2025-04-16T18:34:46.382Z"
   },
   {
    "duration": 2992,
    "start_time": "2025-04-16T18:34:46.413Z"
   },
   {
    "duration": 4,
    "start_time": "2025-04-16T18:34:49.408Z"
   },
   {
    "duration": 36,
    "start_time": "2025-04-16T18:34:49.415Z"
   },
   {
    "duration": 659,
    "start_time": "2025-04-16T18:34:49.453Z"
   },
   {
    "duration": 597,
    "start_time": "2025-04-16T18:34:50.115Z"
   },
   {
    "duration": 4920,
    "start_time": "2025-04-16T18:34:50.714Z"
   },
   {
    "duration": 2287,
    "start_time": "2025-04-16T18:34:55.636Z"
   },
   {
    "duration": 3,
    "start_time": "2025-04-16T18:34:58.004Z"
   },
   {
    "duration": 14,
    "start_time": "2025-04-16T18:34:58.009Z"
   },
   {
    "duration": 142,
    "start_time": "2025-04-16T18:34:58.025Z"
   },
   {
    "duration": 8,
    "start_time": "2025-04-16T18:34:58.168Z"
   },
   {
    "duration": 1581,
    "start_time": "2025-04-16T18:39:33.691Z"
   },
   {
    "duration": 3,
    "start_time": "2025-04-16T18:39:35.275Z"
   },
   {
    "duration": 69,
    "start_time": "2025-04-16T18:39:35.280Z"
   },
   {
    "duration": 7,
    "start_time": "2025-04-16T18:39:35.352Z"
   },
   {
    "duration": 110,
    "start_time": "2025-04-16T18:39:35.362Z"
   },
   {
    "duration": 19,
    "start_time": "2025-04-16T18:39:35.474Z"
   },
   {
    "duration": 13,
    "start_time": "2025-04-16T18:39:35.495Z"
   },
   {
    "duration": 28,
    "start_time": "2025-04-16T18:39:35.510Z"
   },
   {
    "duration": 23,
    "start_time": "2025-04-16T18:39:35.540Z"
   },
   {
    "duration": 33,
    "start_time": "2025-04-16T18:39:35.565Z"
   },
   {
    "duration": 21,
    "start_time": "2025-04-16T18:39:35.600Z"
   },
   {
    "duration": 344,
    "start_time": "2025-04-16T18:39:35.624Z"
   },
   {
    "duration": 168,
    "start_time": "2025-04-16T18:39:35.971Z"
   },
   {
    "duration": 6,
    "start_time": "2025-04-16T18:39:36.144Z"
   },
   {
    "duration": 37,
    "start_time": "2025-04-16T18:39:36.152Z"
   },
   {
    "duration": 404,
    "start_time": "2025-04-16T18:39:36.191Z"
   },
   {
    "duration": 4,
    "start_time": "2025-04-16T18:39:36.603Z"
   },
   {
    "duration": 41,
    "start_time": "2025-04-16T18:39:36.609Z"
   },
   {
    "duration": 38,
    "start_time": "2025-04-16T18:39:36.652Z"
   },
   {
    "duration": 865,
    "start_time": "2025-04-16T18:39:36.692Z"
   },
   {
    "duration": 561,
    "start_time": "2025-04-16T18:39:37.559Z"
   },
   {
    "duration": 4,
    "start_time": "2025-04-16T18:39:38.122Z"
   },
   {
    "duration": 9,
    "start_time": "2025-04-16T18:39:38.127Z"
   },
   {
    "duration": 34,
    "start_time": "2025-04-16T18:39:38.137Z"
   },
   {
    "duration": 5,
    "start_time": "2025-04-16T18:39:38.173Z"
   },
   {
    "duration": 9,
    "start_time": "2025-04-16T18:39:38.180Z"
   },
   {
    "duration": 19,
    "start_time": "2025-04-16T18:39:38.203Z"
   },
   {
    "duration": 29,
    "start_time": "2025-04-16T18:39:38.224Z"
   },
   {
    "duration": 15,
    "start_time": "2025-04-16T18:39:38.256Z"
   },
   {
    "duration": 13,
    "start_time": "2025-04-16T18:39:38.273Z"
   },
   {
    "duration": 27,
    "start_time": "2025-04-16T18:39:38.289Z"
   },
   {
    "duration": 85,
    "start_time": "2025-04-16T18:39:38.319Z"
   },
   {
    "duration": 94,
    "start_time": "2025-04-16T18:39:38.410Z"
   },
   {
    "duration": 10,
    "start_time": "2025-04-16T18:39:38.507Z"
   },
   {
    "duration": 55054,
    "start_time": "2025-04-16T18:39:38.519Z"
   },
   {
    "duration": 2,
    "start_time": "2025-04-16T18:40:33.575Z"
   },
   {
    "duration": 22,
    "start_time": "2025-04-16T18:40:33.579Z"
   },
   {
    "duration": 2028,
    "start_time": "2025-04-16T18:40:33.603Z"
   },
   {
    "duration": 3,
    "start_time": "2025-04-16T18:40:35.633Z"
   },
   {
    "duration": 52,
    "start_time": "2025-04-16T18:40:35.638Z"
   },
   {
    "duration": 3313,
    "start_time": "2025-04-16T18:40:35.694Z"
   },
   {
    "duration": 5,
    "start_time": "2025-04-16T18:40:39.008Z"
   },
   {
    "duration": 80,
    "start_time": "2025-04-16T18:40:39.015Z"
   },
   {
    "duration": 1418,
    "start_time": "2025-04-16T18:40:39.097Z"
   },
   {
    "duration": 589,
    "start_time": "2025-04-16T18:40:40.516Z"
   },
   {
    "duration": 4801,
    "start_time": "2025-04-16T18:40:41.109Z"
   },
   {
    "duration": 2200,
    "start_time": "2025-04-16T18:40:45.911Z"
   },
   {
    "duration": 4,
    "start_time": "2025-04-16T18:40:48.113Z"
   },
   {
    "duration": 21,
    "start_time": "2025-04-16T18:40:48.118Z"
   },
   {
    "duration": 227,
    "start_time": "2025-04-16T18:40:48.141Z"
   },
   {
    "duration": 10,
    "start_time": "2025-04-16T18:40:48.371Z"
   },
   {
    "duration": 2269,
    "start_time": "2025-05-14T17:26:04.412Z"
   },
   {
    "duration": 7,
    "start_time": "2025-05-14T17:30:38.713Z"
   },
   {
    "duration": 5,
    "start_time": "2025-05-14T17:31:58.306Z"
   },
   {
    "duration": 1192,
    "start_time": "2025-05-14T17:32:07.158Z"
   },
   {
    "duration": 2215,
    "start_time": "2025-05-14T18:33:53.929Z"
   },
   {
    "duration": 7,
    "start_time": "2025-05-14T18:33:56.146Z"
   },
   {
    "duration": 1084,
    "start_time": "2025-05-14T18:34:02.702Z"
   },
   {
    "duration": 71,
    "start_time": "2025-05-14T18:41:22.892Z"
   },
   {
    "duration": 732,
    "start_time": "2025-05-14T18:41:24.740Z"
   },
   {
    "duration": 6,
    "start_time": "2025-05-14T18:43:12.678Z"
   },
   {
    "duration": 653,
    "start_time": "2025-05-14T18:43:21.087Z"
   },
   {
    "duration": 76,
    "start_time": "2025-05-14T18:43:32.641Z"
   },
   {
    "duration": 699,
    "start_time": "2025-05-14T18:43:33.466Z"
   },
   {
    "duration": 6,
    "start_time": "2025-05-14T18:46:09.711Z"
   },
   {
    "duration": 5,
    "start_time": "2025-05-14T18:55:55.993Z"
   },
   {
    "duration": 283,
    "start_time": "2025-05-14T18:55:59.114Z"
   },
   {
    "duration": 5,
    "start_time": "2025-05-14T18:56:09.973Z"
   },
   {
    "duration": 1142,
    "start_time": "2025-05-14T18:56:10.250Z"
   },
   {
    "duration": 6,
    "start_time": "2025-05-14T18:56:31.660Z"
   },
   {
    "duration": 1349,
    "start_time": "2025-05-14T18:56:35.625Z"
   },
   {
    "duration": 5,
    "start_time": "2025-05-14T18:59:06.723Z"
   },
   {
    "duration": 763,
    "start_time": "2025-05-14T18:59:07.291Z"
   },
   {
    "duration": 5,
    "start_time": "2025-05-14T19:01:05.468Z"
   },
   {
    "duration": 2260,
    "start_time": "2025-05-14T19:01:20.233Z"
   },
   {
    "duration": 8,
    "start_time": "2025-05-14T19:01:24.328Z"
   },
   {
    "duration": 702,
    "start_time": "2025-05-14T19:01:28.536Z"
   },
   {
    "duration": 5,
    "start_time": "2025-05-14T19:11:50.372Z"
   },
   {
    "duration": 768,
    "start_time": "2025-05-14T19:11:55.061Z"
   },
   {
    "duration": 5,
    "start_time": "2025-05-14T19:12:31.494Z"
   },
   {
    "duration": 588,
    "start_time": "2025-05-14T19:12:32.485Z"
   },
   {
    "duration": 6,
    "start_time": "2025-05-14T19:12:51.435Z"
   },
   {
    "duration": 261,
    "start_time": "2025-05-14T19:12:53.081Z"
   },
   {
    "duration": 6,
    "start_time": "2025-05-14T19:13:26.609Z"
   },
   {
    "duration": 604,
    "start_time": "2025-05-14T19:13:26.821Z"
   },
   {
    "duration": 27,
    "start_time": "2025-05-14T19:13:36.274Z"
   },
   {
    "duration": 592,
    "start_time": "2025-05-14T19:13:37.474Z"
   },
   {
    "duration": 5,
    "start_time": "2025-05-14T19:16:46.355Z"
   },
   {
    "duration": 282,
    "start_time": "2025-05-14T19:16:46.787Z"
   },
   {
    "duration": 5,
    "start_time": "2025-05-14T19:17:06.363Z"
   },
   {
    "duration": 293,
    "start_time": "2025-05-14T19:17:06.763Z"
   },
   {
    "duration": 6,
    "start_time": "2025-05-14T19:17:38.380Z"
   },
   {
    "duration": 882,
    "start_time": "2025-05-14T19:17:38.832Z"
   },
   {
    "duration": 6,
    "start_time": "2025-05-14T19:18:13.005Z"
   },
   {
    "duration": 464,
    "start_time": "2025-05-14T19:18:13.593Z"
   },
   {
    "duration": 8,
    "start_time": "2025-05-14T19:19:09.013Z"
   },
   {
    "duration": 911,
    "start_time": "2025-05-14T19:19:09.485Z"
   },
   {
    "duration": 588,
    "start_time": "2025-05-14T19:19:52.608Z"
   },
   {
    "duration": 6,
    "start_time": "2025-05-14T19:20:11.832Z"
   },
   {
    "duration": 585,
    "start_time": "2025-05-14T19:20:12.282Z"
   },
   {
    "duration": 5,
    "start_time": "2025-05-14T19:20:22.640Z"
   },
   {
    "duration": 6,
    "start_time": "2025-05-14T19:20:53.103Z"
   },
   {
    "duration": 584,
    "start_time": "2025-05-14T19:20:53.536Z"
   },
   {
    "duration": 5,
    "start_time": "2025-05-14T19:23:02.992Z"
   },
   {
    "duration": 360,
    "start_time": "2025-05-14T19:23:03.623Z"
   },
   {
    "duration": 5,
    "start_time": "2025-05-14T19:25:09.265Z"
   },
   {
    "duration": 2208,
    "start_time": "2025-05-14T19:25:17.759Z"
   },
   {
    "duration": 7,
    "start_time": "2025-05-14T19:25:19.968Z"
   },
   {
    "duration": 1173,
    "start_time": "2025-05-14T19:25:22.207Z"
   },
   {
    "duration": 6,
    "start_time": "2025-05-14T19:28:33.966Z"
   },
   {
    "duration": 600,
    "start_time": "2025-05-14T19:28:45.781Z"
   },
   {
    "duration": 2448,
    "start_time": "2025-05-15T08:26:29.851Z"
   },
   {
    "duration": 3,
    "start_time": "2025-05-15T08:26:33.769Z"
   },
   {
    "duration": 7,
    "start_time": "2025-05-15T08:26:37.926Z"
   },
   {
    "duration": 1391,
    "start_time": "2025-05-15T08:26:40.550Z"
   },
   {
    "duration": 617,
    "start_time": "2025-05-15T08:27:03.295Z"
   },
   {
    "duration": 292,
    "start_time": "2025-05-15T08:27:18.656Z"
   },
   {
    "duration": 2852,
    "start_time": "2025-05-15T08:35:25.679Z"
   },
   {
    "duration": 2428,
    "start_time": "2025-05-15T08:35:30.161Z"
   },
   {
    "duration": 576,
    "start_time": "2025-05-15T08:37:16.804Z"
   },
   {
    "duration": 301,
    "start_time": "2025-05-15T08:37:29.332Z"
   },
   {
    "duration": 2,
    "start_time": "2025-05-15T08:37:39.624Z"
   },
   {
    "duration": 4653,
    "start_time": "2025-05-15T08:37:41.860Z"
   },
   {
    "duration": 4629,
    "start_time": "2025-05-15T08:41:55.053Z"
   },
   {
    "duration": 2339,
    "start_time": "2025-05-15T18:58:51.524Z"
   },
   {
    "duration": 3,
    "start_time": "2025-05-15T18:58:53.866Z"
   },
   {
    "duration": 3,
    "start_time": "2025-05-15T18:59:04.763Z"
   },
   {
    "duration": 253,
    "start_time": "2025-05-15T18:59:39.179Z"
   },
   {
    "duration": 1015,
    "start_time": "2025-05-15T18:59:43.389Z"
   },
   {
    "duration": 9,
    "start_time": "2025-05-15T18:59:44.406Z"
   },
   {
    "duration": 7,
    "start_time": "2025-05-15T19:00:02.756Z"
   },
   {
    "duration": 33,
    "start_time": "2025-05-15T19:01:04.730Z"
   },
   {
    "duration": 573,
    "start_time": "2025-05-15T19:01:08.701Z"
   },
   {
    "duration": 152,
    "start_time": "2025-05-15T19:01:10.971Z"
   },
   {
    "duration": 129,
    "start_time": "2025-05-15T19:01:29.603Z"
   },
   {
    "duration": 5,
    "start_time": "2025-05-15T19:01:54.764Z"
   },
   {
    "duration": 30,
    "start_time": "2025-05-15T19:03:04.374Z"
   },
   {
    "duration": 15,
    "start_time": "2025-05-15T19:03:23.199Z"
   },
   {
    "duration": 4,
    "start_time": "2025-05-15T19:04:09.371Z"
   },
   {
    "duration": 4,
    "start_time": "2025-05-15T19:04:27.434Z"
   },
   {
    "duration": 7,
    "start_time": "2025-05-15T19:04:34.793Z"
   },
   {
    "duration": 137,
    "start_time": "2025-05-15T19:05:05.261Z"
   },
   {
    "duration": 128,
    "start_time": "2025-05-15T19:05:14.800Z"
   },
   {
    "duration": 13,
    "start_time": "2025-05-15T19:05:43.357Z"
   },
   {
    "duration": 133,
    "start_time": "2025-05-15T19:05:46.967Z"
   },
   {
    "duration": 154,
    "start_time": "2025-05-15T19:06:03.160Z"
   },
   {
    "duration": 6,
    "start_time": "2025-05-15T19:06:33.079Z"
   },
   {
    "duration": 4,
    "start_time": "2025-05-15T19:06:47.904Z"
   },
   {
    "duration": 7,
    "start_time": "2025-05-15T19:06:54.375Z"
   },
   {
    "duration": 7,
    "start_time": "2025-05-15T19:07:52.267Z"
   },
   {
    "duration": 334,
    "start_time": "2025-05-15T19:20:26.003Z"
   },
   {
    "duration": 131,
    "start_time": "2025-05-15T19:20:30.414Z"
   },
   {
    "duration": 6,
    "start_time": "2025-05-15T19:21:28.061Z"
   },
   {
    "duration": 6,
    "start_time": "2025-05-15T19:26:21.703Z"
   },
   {
    "duration": 772,
    "start_time": "2025-05-15T19:26:24.550Z"
   },
   {
    "duration": 5188,
    "start_time": "2025-05-15T19:36:41.893Z"
   },
   {
    "duration": 5709,
    "start_time": "2025-05-15T19:41:59.062Z"
   },
   {
    "duration": 5066,
    "start_time": "2025-05-15T19:42:27.224Z"
   },
   {
    "duration": 953,
    "start_time": "2025-05-15T19:44:50.775Z"
   },
   {
    "duration": 5133,
    "start_time": "2025-05-15T19:45:00.747Z"
   },
   {
    "duration": 5204,
    "start_time": "2025-05-15T19:45:18.087Z"
   },
   {
    "duration": 4998,
    "start_time": "2025-05-15T19:45:30.114Z"
   },
   {
    "duration": 951,
    "start_time": "2025-05-15T19:45:41.969Z"
   },
   {
    "duration": 5775,
    "start_time": "2025-05-15T19:45:48.887Z"
   },
   {
    "duration": 3049,
    "start_time": "2025-05-15T19:51:30.686Z"
   },
   {
    "duration": 10,
    "start_time": "2025-05-15T19:51:33.737Z"
   },
   {
    "duration": 21339,
    "start_time": "2025-05-15T19:51:35.236Z"
   },
   {
    "duration": 13905,
    "start_time": "2025-05-15T19:55:26.985Z"
   },
   {
    "duration": 22192,
    "start_time": "2025-05-15T19:55:51.805Z"
   },
   {
    "duration": 23193,
    "start_time": "2025-05-15T19:57:52.075Z"
   },
   {
    "duration": 1191,
    "start_time": "2025-05-15T19:58:36.786Z"
   },
   {
    "duration": 19012,
    "start_time": "2025-05-15T19:58:57.969Z"
   },
   {
    "duration": 36790,
    "start_time": "2025-05-15T19:59:29.480Z"
   },
   {
    "duration": 344,
    "start_time": "2025-05-15T20:00:34.447Z"
   },
   {
    "duration": 335,
    "start_time": "2025-05-15T20:00:48.400Z"
   },
   {
    "duration": 337,
    "start_time": "2025-05-15T20:01:08.194Z"
   },
   {
    "duration": 38689,
    "start_time": "2025-05-15T20:01:47.687Z"
   },
   {
    "duration": 50083,
    "start_time": "2025-05-15T20:02:35.175Z"
   },
   {
    "duration": 37766,
    "start_time": "2025-05-15T20:07:48.629Z"
   },
   {
    "duration": 18961,
    "start_time": "2025-05-15T20:08:34.581Z"
   },
   {
    "duration": 21215,
    "start_time": "2025-05-15T20:10:32.256Z"
   },
   {
    "duration": 20472,
    "start_time": "2025-05-15T20:11:36.677Z"
   },
   {
    "duration": 57071,
    "start_time": "2025-05-15T20:12:21.595Z"
   },
   {
    "duration": 2250,
    "start_time": "2025-05-16T14:16:56.659Z"
   },
   {
    "duration": 3,
    "start_time": "2025-05-16T14:16:58.911Z"
   },
   {
    "duration": 6,
    "start_time": "2025-05-16T14:17:00.971Z"
   },
   {
    "duration": 664,
    "start_time": "2025-05-16T14:17:02.588Z"
   },
   {
    "duration": 6,
    "start_time": "2025-05-16T14:17:22.286Z"
   },
   {
    "duration": 770,
    "start_time": "2025-05-16T14:17:22.309Z"
   },
   {
    "duration": 6,
    "start_time": "2025-05-16T14:20:57.887Z"
   },
   {
    "duration": 576,
    "start_time": "2025-05-16T14:20:58.407Z"
   },
   {
    "duration": 5,
    "start_time": "2025-05-16T14:21:42.143Z"
   },
   {
    "duration": 584,
    "start_time": "2025-05-16T14:21:42.752Z"
   },
   {
    "duration": 5,
    "start_time": "2025-05-16T14:23:18.477Z"
   },
   {
    "duration": 609,
    "start_time": "2025-05-16T14:23:20.235Z"
   },
   {
    "duration": 5,
    "start_time": "2025-05-16T14:23:28.398Z"
   },
   {
    "duration": 364,
    "start_time": "2025-05-16T14:23:28.923Z"
   },
   {
    "duration": 6,
    "start_time": "2025-05-16T14:23:44.273Z"
   },
   {
    "duration": 628,
    "start_time": "2025-05-16T14:23:46.868Z"
   },
   {
    "duration": 85528,
    "start_time": "2025-05-16T14:24:07.150Z"
   },
   {
    "duration": 6,
    "start_time": "2025-05-16T14:29:18.884Z"
   },
   {
    "duration": 99987,
    "start_time": "2025-05-16T14:29:49.291Z"
   },
   {
    "duration": 79,
    "start_time": "2025-05-16T14:31:49.518Z"
   },
   {
    "duration": 119,
    "start_time": "2025-05-16T14:32:11.800Z"
   },
   {
    "duration": 84,
    "start_time": "2025-05-16T14:32:35.128Z"
   },
   {
    "duration": 77,
    "start_time": "2025-05-16T14:32:45.920Z"
   },
   {
    "duration": 0,
    "start_time": "2025-05-16T14:34:14.897Z"
   },
   {
    "duration": 104427,
    "start_time": "2025-05-16T14:34:16.695Z"
   },
   {
    "duration": 49,
    "start_time": "2025-05-16T14:36:22.409Z"
   },
   {
    "duration": 261,
    "start_time": "2025-05-16T14:36:25.147Z"
   },
   {
    "duration": 2495,
    "start_time": "2025-05-16T14:36:27.416Z"
   },
   {
    "duration": 773,
    "start_time": "2025-05-16T14:36:31.324Z"
   },
   {
    "duration": 2,
    "start_time": "2025-05-16T14:36:44.424Z"
   },
   {
    "duration": 104678,
    "start_time": "2025-05-16T14:36:53.350Z"
   },
   {
    "duration": 104255,
    "start_time": "2025-05-16T14:39:29.174Z"
   },
   {
    "duration": 13740,
    "start_time": "2025-05-16T14:41:26.290Z"
   },
   {
    "duration": 5,
    "start_time": "2025-05-16T14:58:24.189Z"
   },
   {
    "duration": 406,
    "start_time": "2025-05-16T14:58:26.964Z"
   },
   {
    "duration": 6,
    "start_time": "2025-05-16T14:58:48.667Z"
   },
   {
    "duration": 590,
    "start_time": "2025-05-16T14:58:49.310Z"
   },
   {
    "duration": 13,
    "start_time": "2025-05-16T15:02:04.292Z"
   },
   {
    "duration": 272,
    "start_time": "2025-05-16T15:02:04.519Z"
   },
   {
    "duration": 8,
    "start_time": "2025-05-16T15:02:43.480Z"
   },
   {
    "duration": 582,
    "start_time": "2025-05-16T15:02:45.906Z"
   },
   {
    "duration": 6,
    "start_time": "2025-05-16T15:03:10.239Z"
   },
   {
    "duration": 423,
    "start_time": "2025-05-16T15:03:11.071Z"
   },
   {
    "duration": 6,
    "start_time": "2025-05-16T15:03:23.467Z"
   },
   {
    "duration": 560,
    "start_time": "2025-05-16T15:03:25.153Z"
   },
   {
    "duration": 5,
    "start_time": "2025-05-16T15:04:04.733Z"
   },
   {
    "duration": 576,
    "start_time": "2025-05-16T15:04:05.006Z"
   },
   {
    "duration": 5,
    "start_time": "2025-05-16T15:05:57.425Z"
   },
   {
    "duration": 2809,
    "start_time": "2025-05-16T15:06:04.084Z"
   },
   {
    "duration": 5,
    "start_time": "2025-05-16T15:06:12.288Z"
   },
   {
    "duration": 3,
    "start_time": "2025-05-16T15:06:12.592Z"
   },
   {
    "duration": 5,
    "start_time": "2025-05-16T15:06:16.712Z"
   },
   {
    "duration": 1000,
    "start_time": "2025-05-16T15:06:18.860Z"
   },
   {
    "duration": 6,
    "start_time": "2025-05-16T15:08:50.414Z"
   },
   {
    "duration": 582,
    "start_time": "2025-05-16T15:08:51.204Z"
   },
   {
    "duration": 53,
    "start_time": "2025-05-16T16:55:21.485Z"
   },
   {
    "duration": 218,
    "start_time": "2025-05-16T16:55:25.907Z"
   },
   {
    "duration": 2749,
    "start_time": "2025-05-16T16:55:30.256Z"
   },
   {
    "duration": 745,
    "start_time": "2025-05-16T16:55:35.194Z"
   },
   {
    "duration": 3,
    "start_time": "2025-05-16T16:55:46.142Z"
   },
   {
    "duration": 20118,
    "start_time": "2025-05-16T16:55:56.469Z"
   },
   {
    "duration": 60764,
    "start_time": "2025-05-16T16:56:33.227Z"
   },
   {
    "duration": 111887,
    "start_time": "2025-05-16T16:57:35.493Z"
   },
   {
    "duration": 2878,
    "start_time": "2025-05-16T17:07:22.395Z"
   },
   {
    "duration": 3,
    "start_time": "2025-05-16T17:07:25.278Z"
   },
   {
    "duration": 4,
    "start_time": "2025-05-16T17:07:31.386Z"
   },
   {
    "duration": 115205,
    "start_time": "2025-05-16T17:07:50.423Z"
   },
   {
    "duration": 2424,
    "start_time": "2025-05-17T13:14:18.337Z"
   },
   {
    "duration": 4,
    "start_time": "2025-05-17T13:14:53.042Z"
   },
   {
    "duration": 5,
    "start_time": "2025-05-17T13:17:23.662Z"
   },
   {
    "duration": 1297,
    "start_time": "2025-05-17T13:17:37.022Z"
   },
   {
    "duration": 793,
    "start_time": "2025-05-17T13:17:58.348Z"
   },
   {
    "duration": 32,
    "start_time": "2025-05-17T13:21:01.452Z"
   },
   {
    "duration": 885,
    "start_time": "2025-05-17T13:21:24.099Z"
   },
   {
    "duration": 10,
    "start_time": "2025-05-17T13:23:29.405Z"
   },
   {
    "duration": 746,
    "start_time": "2025-05-17T13:23:56.884Z"
   },
   {
    "duration": 8,
    "start_time": "2025-05-17T13:24:08.885Z"
   },
   {
    "duration": 612,
    "start_time": "2025-05-17T13:24:10.907Z"
   },
   {
    "duration": 8,
    "start_time": "2025-05-17T13:24:34.557Z"
   },
   {
    "duration": 701,
    "start_time": "2025-05-17T13:24:36.196Z"
   },
   {
    "duration": 8,
    "start_time": "2025-05-17T13:27:09.954Z"
   },
   {
    "duration": 471,
    "start_time": "2025-05-17T13:27:11.408Z"
   },
   {
    "duration": 9,
    "start_time": "2025-05-17T13:27:31.392Z"
   },
   {
    "duration": 2318,
    "start_time": "2025-05-17T13:28:34.837Z"
   },
   {
    "duration": 8,
    "start_time": "2025-05-17T13:28:42.013Z"
   },
   {
    "duration": 2328,
    "start_time": "2025-05-17T13:29:32.393Z"
   },
   {
    "duration": 6,
    "start_time": "2025-05-17T13:29:37.535Z"
   },
   {
    "duration": 1126,
    "start_time": "2025-05-17T13:29:38.041Z"
   },
   {
    "duration": 7,
    "start_time": "2025-05-17T13:30:04.055Z"
   },
   {
    "duration": 54,
    "start_time": "2025-05-17T13:32:07.786Z"
   },
   {
    "duration": 2265,
    "start_time": "2025-05-17T13:32:14.656Z"
   },
   {
    "duration": 1585,
    "start_time": "2025-05-17T13:32:23.784Z"
   },
   {
    "duration": 21896,
    "start_time": "2025-05-17T13:33:39.775Z"
   },
   {
    "duration": 0,
    "start_time": "2025-05-17T13:35:58.923Z"
   },
   {
    "duration": 2320,
    "start_time": "2025-05-17T13:36:20.405Z"
   },
   {
    "duration": 0,
    "start_time": "2025-05-17T13:37:37.920Z"
   },
   {
    "duration": 2224,
    "start_time": "2025-05-17T13:37:43.291Z"
   },
   {
    "duration": 8,
    "start_time": "2025-05-17T13:38:41.636Z"
   },
   {
    "duration": 536,
    "start_time": "2025-05-17T13:38:42.335Z"
   },
   {
    "duration": 99318,
    "start_time": "2025-05-17T13:38:59.554Z"
   },
   {
    "duration": 1287,
    "start_time": "2025-05-17T13:40:38.874Z"
   },
   {
    "duration": 5,
    "start_time": "2025-05-17T13:45:30.882Z"
   },
   {
    "duration": 7,
    "start_time": "2025-05-17T13:46:25.377Z"
   },
   {
    "duration": 97011,
    "start_time": "2025-05-17T13:46:29.544Z"
   },
   {
    "duration": 4,
    "start_time": "2025-05-17T13:48:28.391Z"
   },
   {
    "duration": 10,
    "start_time": "2025-05-17T13:48:28.969Z"
   },
   {
    "duration": 97202,
    "start_time": "2025-05-17T13:48:31.342Z"
   },
   {
    "duration": 1100,
    "start_time": "2025-05-17T13:50:08.547Z"
   },
   {
    "duration": 3,
    "start_time": "2025-05-17T13:50:42.052Z"
   },
   {
    "duration": 98104,
    "start_time": "2025-05-17T13:50:44.452Z"
   },
   {
    "duration": 11,
    "start_time": "2025-05-17T13:52:58.063Z"
   },
   {
    "duration": 73318,
    "start_time": "2025-05-17T13:52:59.951Z"
   },
   {
    "duration": 4,
    "start_time": "2025-05-17T13:57:03.247Z"
   },
   {
    "duration": 10,
    "start_time": "2025-05-17T13:58:26.412Z"
   },
   {
    "duration": 94202,
    "start_time": "2025-05-17T13:58:28.342Z"
   },
   {
    "duration": 4711,
    "start_time": "2025-05-17T14:00:37.937Z"
   },
   {
    "duration": 141029,
    "start_time": "2025-05-17T14:01:34.386Z"
   },
   {
    "duration": 0,
    "start_time": "2025-05-17T14:03:55.417Z"
   },
   {
    "duration": 2454,
    "start_time": "2025-05-17T14:04:00.533Z"
   },
   {
    "duration": 6,
    "start_time": "2025-05-17T14:04:02.990Z"
   },
   {
    "duration": 3,
    "start_time": "2025-05-17T14:04:12.906Z"
   },
   {
    "duration": 8,
    "start_time": "2025-05-17T14:04:31.392Z"
   },
   {
    "duration": 94654,
    "start_time": "2025-05-17T14:04:41.407Z"
   },
   {
    "duration": 8481,
    "start_time": "2025-05-17T14:06:47.366Z"
   },
   {
    "duration": 8810,
    "start_time": "2025-05-17T14:07:55.162Z"
   },
   {
    "duration": 8439,
    "start_time": "2025-05-17T14:08:19.911Z"
   },
   {
    "duration": 8622,
    "start_time": "2025-05-17T14:08:36.345Z"
   },
   {
    "duration": 8895,
    "start_time": "2025-05-17T14:08:53.362Z"
   },
   {
    "duration": 7075,
    "start_time": "2025-05-17T14:09:19.178Z"
   },
   {
    "duration": 6682,
    "start_time": "2025-05-17T14:10:11.487Z"
   },
   {
    "duration": 30792,
    "start_time": "2025-05-17T14:10:25.055Z"
   },
   {
    "duration": 38210,
    "start_time": "2025-05-17T14:11:05.146Z"
   },
   {
    "duration": 65564,
    "start_time": "2025-05-17T14:11:52.791Z"
   },
   {
    "duration": 66576,
    "start_time": "2025-05-17T14:13:07.372Z"
   },
   {
    "duration": 76675,
    "start_time": "2025-05-17T14:14:24.396Z"
   },
   {
    "duration": 57272,
    "start_time": "2025-05-17T14:15:52.689Z"
   },
   {
    "duration": 59347,
    "start_time": "2025-05-17T14:17:00.600Z"
   },
   {
    "duration": 256799,
    "start_time": "2025-05-17T14:18:09.676Z"
   },
   {
    "duration": 4,
    "start_time": "2025-05-17T15:58:23.400Z"
   },
   {
    "duration": 5,
    "start_time": "2025-05-17T16:05:40.389Z"
   },
   {
    "duration": 5,
    "start_time": "2025-05-17T16:06:39.569Z"
   },
   {
    "duration": 342,
    "start_time": "2025-05-17T16:07:12.069Z"
   },
   {
    "duration": 552,
    "start_time": "2025-05-17T16:07:25.392Z"
   },
   {
    "duration": 306,
    "start_time": "2025-05-17T16:07:42.083Z"
   },
   {
    "duration": 312,
    "start_time": "2025-05-17T16:08:10.248Z"
   },
   {
    "duration": 4,
    "start_time": "2025-05-17T16:10:25.146Z"
   },
   {
    "duration": 3,
    "start_time": "2025-05-17T16:10:26.203Z"
   },
   {
    "duration": 9,
    "start_time": "2025-05-17T16:13:31.838Z"
   },
   {
    "duration": 8,
    "start_time": "2025-05-17T16:14:11.207Z"
   },
   {
    "duration": 1045,
    "start_time": "2025-05-17T16:14:20.628Z"
   },
   {
    "duration": 4,
    "start_time": "2025-05-17T16:14:49.484Z"
   },
   {
    "duration": 19,
    "start_time": "2025-05-17T16:30:25.831Z"
   },
   {
    "duration": 7,
    "start_time": "2025-05-17T16:32:25.369Z"
   },
   {
    "duration": 269,
    "start_time": "2025-05-17T16:32:26.706Z"
   },
   {
    "duration": 9,
    "start_time": "2025-05-17T16:32:50.019Z"
   },
   {
    "duration": 1374,
    "start_time": "2025-05-17T16:32:51.508Z"
   },
   {
    "duration": 8,
    "start_time": "2025-05-17T16:34:19.443Z"
   },
   {
    "duration": 7,
    "start_time": "2025-05-17T16:34:46.186Z"
   },
   {
    "duration": 681,
    "start_time": "2025-05-17T16:34:47.081Z"
   },
   {
    "duration": 7,
    "start_time": "2025-05-17T16:34:57.025Z"
   },
   {
    "duration": 1619,
    "start_time": "2025-05-17T16:35:00.226Z"
   },
   {
    "duration": 7,
    "start_time": "2025-05-17T16:37:17.375Z"
   },
   {
    "duration": 239,
    "start_time": "2025-05-17T16:37:24.891Z"
   },
   {
    "duration": 8,
    "start_time": "2025-05-17T16:38:05.735Z"
   },
   {
    "duration": 1597,
    "start_time": "2025-05-17T16:38:07.670Z"
   },
   {
    "duration": 65,
    "start_time": "2025-05-17T16:41:56.867Z"
   },
   {
    "duration": 9,
    "start_time": "2025-05-17T16:42:07.431Z"
   },
   {
    "duration": 268,
    "start_time": "2025-05-17T16:42:18.006Z"
   },
   {
    "duration": 1598,
    "start_time": "2025-05-17T16:42:45.885Z"
   },
   {
    "duration": 8,
    "start_time": "2025-05-17T16:43:07.094Z"
   },
   {
    "duration": 1444,
    "start_time": "2025-05-17T16:43:07.734Z"
   },
   {
    "duration": 8,
    "start_time": "2025-05-17T16:45:33.836Z"
   },
   {
    "duration": 1508,
    "start_time": "2025-05-17T16:45:41.266Z"
   },
   {
    "duration": 7,
    "start_time": "2025-05-17T16:45:59.395Z"
   },
   {
    "duration": 84233,
    "start_time": "2025-05-17T16:46:02.530Z"
   },
   {
    "duration": 11,
    "start_time": "2025-05-17T16:56:00.170Z"
   },
   {
    "duration": 2050,
    "start_time": "2025-05-17T16:56:02.114Z"
   },
   {
    "duration": 7,
    "start_time": "2025-05-17T16:57:21.882Z"
   },
   {
    "duration": 1720,
    "start_time": "2025-05-17T16:57:23.169Z"
   },
   {
    "duration": 9,
    "start_time": "2025-05-17T16:57:36.864Z"
   },
   {
    "duration": 1438,
    "start_time": "2025-05-17T16:57:38.801Z"
   },
   {
    "duration": 4,
    "start_time": "2025-05-17T16:58:44.070Z"
   },
   {
    "duration": 4,
    "start_time": "2025-05-17T17:00:01.397Z"
   },
   {
    "duration": 9,
    "start_time": "2025-05-17T17:00:52.454Z"
   },
   {
    "duration": 4,
    "start_time": "2025-05-17T17:00:52.645Z"
   },
   {
    "duration": 1913,
    "start_time": "2025-05-17T17:00:54.782Z"
   },
   {
    "duration": 8,
    "start_time": "2025-05-17T17:01:36.461Z"
   },
   {
    "duration": 4,
    "start_time": "2025-05-17T17:01:37.012Z"
   },
   {
    "duration": 1368,
    "start_time": "2025-05-17T17:01:37.516Z"
   },
   {
    "duration": 8,
    "start_time": "2025-05-17T17:03:04.230Z"
   },
   {
    "duration": 4,
    "start_time": "2025-05-17T17:03:04.861Z"
   },
   {
    "duration": 2071,
    "start_time": "2025-05-17T17:03:05.572Z"
   },
   {
    "duration": 8,
    "start_time": "2025-05-17T17:03:15.873Z"
   },
   {
    "duration": 4,
    "start_time": "2025-05-17T17:03:16.515Z"
   },
   {
    "duration": 80484,
    "start_time": "2025-05-17T17:03:17.091Z"
   },
   {
    "duration": 7,
    "start_time": "2025-05-17T17:05:37.621Z"
   },
   {
    "duration": 105533,
    "start_time": "2025-05-17T17:05:46.281Z"
   },
   {
    "duration": 3,
    "start_time": "2025-05-17T17:08:20.370Z"
   },
   {
    "duration": 5,
    "start_time": "2025-05-17T17:08:41.194Z"
   },
   {
    "duration": 77,
    "start_time": "2025-05-17T17:08:57.484Z"
   },
   {
    "duration": 8,
    "start_time": "2025-05-17T17:09:15.153Z"
   },
   {
    "duration": 106229,
    "start_time": "2025-05-17T17:09:16.819Z"
   },
   {
    "duration": 8,
    "start_time": "2025-05-17T17:14:37.425Z"
   },
   {
    "duration": 107503,
    "start_time": "2025-05-17T17:14:38.425Z"
   },
   {
    "duration": 8,
    "start_time": "2025-05-17T17:17:08.311Z"
   },
   {
    "duration": 96344,
    "start_time": "2025-05-17T17:17:11.471Z"
   },
   {
    "duration": 8,
    "start_time": "2025-05-17T17:19:36.388Z"
   },
   {
    "duration": 95154,
    "start_time": "2025-05-17T17:19:40.441Z"
   },
   {
    "duration": 8,
    "start_time": "2025-05-17T17:22:21.059Z"
   },
   {
    "duration": 111693,
    "start_time": "2025-05-17T17:22:23.226Z"
   },
   {
    "duration": 8,
    "start_time": "2025-05-17T17:25:36.355Z"
   },
   {
    "duration": 112104,
    "start_time": "2025-05-17T17:25:36.946Z"
   },
   {
    "duration": 462,
    "start_time": "2025-05-17T17:27:58.653Z"
   },
   {
    "duration": 13,
    "start_time": "2025-05-17T17:28:08.970Z"
   },
   {
    "duration": 460,
    "start_time": "2025-05-17T17:28:19.193Z"
   },
   {
    "duration": 452,
    "start_time": "2025-05-17T17:28:28.050Z"
   },
   {
    "duration": 180,
    "start_time": "2025-05-17T17:31:07.113Z"
   },
   {
    "duration": 226,
    "start_time": "2025-05-17T17:31:29.081Z"
   },
   {
    "duration": 21564,
    "start_time": "2025-05-17T17:31:52.593Z"
   },
   {
    "duration": 77033,
    "start_time": "2025-05-17T17:32:31.830Z"
   },
   {
    "duration": 195,
    "start_time": "2025-05-17T17:35:34.942Z"
   },
   {
    "duration": 67201,
    "start_time": "2025-05-17T17:36:53.953Z"
   },
   {
    "duration": 53,
    "start_time": "2025-05-17T17:40:51.245Z"
   },
   {
    "duration": 52632,
    "start_time": "2025-05-17T17:41:02.318Z"
   },
   {
    "duration": 60993,
    "start_time": "2025-05-17T17:43:09.660Z"
   },
   {
    "duration": 60812,
    "start_time": "2025-05-17T17:44:35.641Z"
   },
   {
    "duration": 59130,
    "start_time": "2025-05-17T17:46:33.524Z"
   },
   {
    "duration": 60330,
    "start_time": "2025-05-17T17:49:15.719Z"
   },
   {
    "duration": 53833,
    "start_time": "2025-05-17T17:50:46.936Z"
   },
   {
    "duration": 53661,
    "start_time": "2025-05-17T17:52:22.694Z"
   },
   {
    "duration": 52852,
    "start_time": "2025-05-17T17:53:54.906Z"
   },
   {
    "duration": 53018,
    "start_time": "2025-05-17T17:55:21.440Z"
   },
   {
    "duration": 57573,
    "start_time": "2025-05-17T17:56:24.381Z"
   },
   {
    "duration": 2306,
    "start_time": "2025-05-17T17:58:42.877Z"
   },
   {
    "duration": 75130,
    "start_time": "2025-05-17T17:58:56.128Z"
   },
   {
    "duration": 62312,
    "start_time": "2025-05-17T18:03:14.855Z"
   },
   {
    "duration": 62535,
    "start_time": "2025-05-17T18:05:22.323Z"
   },
   {
    "duration": 55356,
    "start_time": "2025-05-17T18:08:04.798Z"
   },
   {
    "duration": 64294,
    "start_time": "2025-05-17T18:09:36.259Z"
   },
   {
    "duration": 65122,
    "start_time": "2025-05-17T18:13:25.442Z"
   },
   {
    "duration": 61907,
    "start_time": "2025-05-17T18:15:03.544Z"
   },
   {
    "duration": 85681,
    "start_time": "2025-05-17T18:17:16.673Z"
   },
   {
    "duration": 129790,
    "start_time": "2025-05-17T18:19:12.867Z"
   },
   {
    "duration": 54690,
    "start_time": "2025-05-17T18:22:11.174Z"
   },
   {
    "duration": 8,
    "start_time": "2025-05-17T18:24:30.667Z"
   },
   {
    "duration": 99815,
    "start_time": "2025-05-17T18:24:33.523Z"
   },
   {
    "duration": 63850,
    "start_time": "2025-05-17T18:27:37.816Z"
   },
   {
    "duration": 64562,
    "start_time": "2025-05-17T18:29:46.895Z"
   },
   {
    "duration": 2222,
    "start_time": "2025-05-18T05:06:10.890Z"
   },
   {
    "duration": 202,
    "start_time": "2025-05-18T05:07:11.981Z"
   },
   {
    "duration": 475,
    "start_time": "2025-05-18T05:08:31.203Z"
   },
   {
    "duration": 9,
    "start_time": "2025-05-18T05:08:38.109Z"
   },
   {
    "duration": 505,
    "start_time": "2025-05-18T05:09:27.556Z"
   },
   {
    "duration": 185,
    "start_time": "2025-05-18T05:10:03.438Z"
   },
   {
    "duration": 4,
    "start_time": "2025-05-18T05:10:36.494Z"
   },
   {
    "duration": 3,
    "start_time": "2025-05-18T05:10:46.466Z"
   },
   {
    "duration": 4,
    "start_time": "2025-05-18T05:10:53.314Z"
   },
   {
    "duration": 4,
    "start_time": "2025-05-18T05:10:57.025Z"
   },
   {
    "duration": 166,
    "start_time": "2025-05-18T05:11:02.887Z"
   },
   {
    "duration": 4,
    "start_time": "2025-05-18T05:11:23.524Z"
   },
   {
    "duration": 167,
    "start_time": "2025-05-18T05:11:30.762Z"
   },
   {
    "duration": 247,
    "start_time": "2025-05-18T05:11:48.417Z"
   },
   {
    "duration": 14,
    "start_time": "2025-05-18T05:11:54.216Z"
   },
   {
    "duration": 162,
    "start_time": "2025-05-18T05:11:59.216Z"
   },
   {
    "duration": 4,
    "start_time": "2025-05-18T05:12:51.055Z"
   },
   {
    "duration": 500,
    "start_time": "2025-05-18T05:13:27.492Z"
   },
   {
    "duration": 4,
    "start_time": "2025-05-18T05:13:34.599Z"
   },
   {
    "duration": 170,
    "start_time": "2025-05-18T05:14:12.887Z"
   },
   {
    "duration": 161,
    "start_time": "2025-05-18T05:14:22.374Z"
   },
   {
    "duration": 163,
    "start_time": "2025-05-18T05:14:27.844Z"
   },
   {
    "duration": 159,
    "start_time": "2025-05-18T05:14:32.605Z"
   },
   {
    "duration": 170,
    "start_time": "2025-05-18T05:14:56.929Z"
   },
   {
    "duration": 941189,
    "start_time": "2025-05-18T05:16:38.976Z"
   },
   {
    "duration": 970214,
    "start_time": "2025-05-18T05:39:27.378Z"
   },
   {
    "duration": 983392,
    "start_time": "2025-05-18T06:00:56.085Z"
   },
   {
    "duration": 916656,
    "start_time": "2025-05-18T06:19:22.221Z"
   },
   {
    "duration": 204,
    "start_time": "2025-05-18T06:42:38.828Z"
   },
   {
    "duration": 743749,
    "start_time": "2025-05-18T06:42:59.011Z"
   },
   {
    "duration": 206,
    "start_time": "2025-05-18T06:57:47.540Z"
   },
   {
    "duration": 3532,
    "start_time": "2025-05-18T07:05:50.372Z"
   },
   {
    "duration": 915243,
    "start_time": "2025-05-18T07:05:59.332Z"
   },
   {
    "duration": 2225,
    "start_time": "2025-05-18T07:39:14.565Z"
   },
   {
    "duration": 935728,
    "start_time": "2025-05-18T07:39:22.241Z"
   },
   {
    "duration": 975207,
    "start_time": "2025-05-18T08:50:05.849Z"
   },
   {
    "duration": 931465,
    "start_time": "2025-05-18T09:08:49.702Z"
   },
   {
    "duration": 2263,
    "start_time": "2025-05-18T09:31:32.563Z"
   },
   {
    "duration": 959410,
    "start_time": "2025-05-18T09:31:43.466Z"
   },
   {
    "duration": 1062633,
    "start_time": "2025-05-18T09:49:01.031Z"
   },
   {
    "duration": 0,
    "start_time": "2025-05-18T10:23:34.482Z"
   },
   {
    "duration": 2782,
    "start_time": "2025-05-18T10:36:08.297Z"
   },
   {
    "duration": 939306,
    "start_time": "2025-05-18T10:36:15.539Z"
   },
   {
    "duration": 8,
    "start_time": "2025-05-18T10:53:45.660Z"
   },
   {
    "duration": 118816,
    "start_time": "2025-05-18T10:53:52.275Z"
   },
   {
    "duration": 2351,
    "start_time": "2025-05-18T12:33:30.284Z"
   },
   {
    "duration": 8,
    "start_time": "2025-05-18T12:33:39.924Z"
   },
   {
    "duration": 116592,
    "start_time": "2025-05-18T12:35:44.247Z"
   },
   {
    "duration": 2035,
    "start_time": "2025-05-18T23:42:30.634Z"
   },
   {
    "duration": 8,
    "start_time": "2025-05-18T23:45:02.196Z"
   },
   {
    "duration": 360,
    "start_time": "2025-05-18T23:45:09.482Z"
   },
   {
    "duration": 4,
    "start_time": "2025-05-18T23:45:37.426Z"
   },
   {
    "duration": 7724,
    "start_time": "2025-05-18T23:45:42.930Z"
   },
   {
    "duration": 3,
    "start_time": "2025-05-18T23:46:47.913Z"
   },
   {
    "duration": 2644,
    "start_time": "2025-05-18T23:47:17.658Z"
   },
   {
    "duration": 5,
    "start_time": "2025-05-18T23:47:59.768Z"
   },
   {
    "duration": 2045,
    "start_time": "2025-05-18T23:50:31.597Z"
   },
   {
    "duration": 46,
    "start_time": "2025-05-18T23:50:43.940Z"
   },
   {
    "duration": 1960,
    "start_time": "2025-05-18T23:50:48.276Z"
   },
   {
    "duration": 2126,
    "start_time": "2025-05-19T11:34:25.779Z"
   },
   {
    "duration": 7,
    "start_time": "2025-05-19T11:36:07.294Z"
   },
   {
    "duration": 5,
    "start_time": "2025-05-19T12:38:34.631Z"
   },
   {
    "duration": 7,
    "start_time": "2025-05-19T12:38:38.275Z"
   },
   {
    "duration": 433743,
    "start_time": "2025-05-19T12:38:42.023Z"
   },
   {
    "duration": 4,
    "start_time": "2025-05-19T12:57:09.750Z"
   },
   {
    "duration": 4,
    "start_time": "2025-05-19T15:03:14.859Z"
   },
   {
    "duration": 8,
    "start_time": "2025-05-19T15:03:19.960Z"
   },
   {
    "duration": 6,
    "start_time": "2025-05-19T15:25:50.226Z"
   },
   {
    "duration": 385604,
    "start_time": "2025-05-19T15:25:55.463Z"
   },
   {
    "duration": 2317,
    "start_time": "2025-05-19T16:06:36.725Z"
   },
   {
    "duration": 6,
    "start_time": "2025-05-19T16:06:47.909Z"
   },
   {
    "duration": 5,
    "start_time": "2025-05-19T16:22:25.849Z"
   },
   {
    "duration": 2380,
    "start_time": "2025-05-19T16:25:17.497Z"
   },
   {
    "duration": 11,
    "start_time": "2025-05-19T16:25:28.957Z"
   },
   {
    "duration": 2345,
    "start_time": "2025-05-19T16:46:10.928Z"
   },
   {
    "duration": 2122,
    "start_time": "2025-05-20T13:29:17.724Z"
   },
   {
    "duration": 8,
    "start_time": "2025-05-20T13:30:52.134Z"
   }
  ],
  "kernelspec": {
   "display_name": "Python 3 (ipykernel)",
   "language": "python",
   "name": "python3"
  },
  "language_info": {
   "codemirror_mode": {
    "name": "ipython",
    "version": 3
   },
   "file_extension": ".py",
   "mimetype": "text/x-python",
   "name": "python",
   "nbconvert_exporter": "python",
   "pygments_lexer": "ipython3",
   "version": "3.12.7"
  },
  "toc": {
   "base_numbering": 1,
   "nav_menu": {},
   "number_sections": true,
   "sideBar": true,
   "skip_h1_title": true,
   "title_cell": "Содержание",
   "title_sidebar": "Contents",
   "toc_cell": true,
   "toc_position": {
    "height": "calc(100% - 180px)",
    "left": "10px",
    "top": "150px",
    "width": "294.4px"
   },
   "toc_section_display": true,
   "toc_window_display": true
  }
 },
 "nbformat": 4,
 "nbformat_minor": 4
}

{
 "cells": [
  {
   "cell_type": "markdown",
   "metadata": {},
   "source": [
    "# Определение стоимости автомобилей"
   ]
  },
  {
   "cell_type": "markdown",
   "metadata": {},
   "source": [
    "**Описание исследования.** Сервис по продаже автомобилей с пробегом «Не бит, не крашен» разрабатывает приложение для привлечения новых клиентов. В нём можно быстро узнать рыночную стоимость своего автомобиля. В нашем распоряжении исторические данные: технические характеристики, комплектации и цены автомобилей. В проекте будем строить модель для определения стоимости. \n",
    "\n",
    "Заказчику важны:\n",
    "\n",
    "- качество предсказания;\n",
    "- скорость предсказания;\n",
    "- время обучения."
   ]
  },
  {
   "cell_type": "markdown",
   "metadata": {},
   "source": [
    "**Цель исследования.**\n",
    "\n",
    "Целью данного исследования является подбор быстрой модели (которая тратит меньше ресурсов по сравнению с другими) для предсказания цены автомобиля на основании имеющихся данных."
   ]
  },
  {
   "cell_type": "markdown",
   "metadata": {},
   "source": [
    "**Этапы исследования.**\n",
    "\n",
    "1. Подготовка данных к работе модели.\n",
    "2. Разработка 3 моделей для решения задачи регрессии:\n",
    "    - линейная регрессия\n",
    "    - LightGBM\n",
    "    - CatBoost\n",
    "3. Оценка времени обучения, времени предсказания и метрики RMSE для каждой модели. Сравнение результатов.\n",
    "4. Выбор лучшей модели и оценка ее работы на тестовой выборке."
   ]
  },
  {
   "cell_type": "markdown",
   "metadata": {},
   "source": [
    "## Подготовка данных"
   ]
  },
  {
   "cell_type": "code",
   "execution_count": 1,
   "metadata": {},
   "outputs": [],
   "source": [
    "!pip install scikit-learn==1.6.1  -q"
   ]
  },
  {
   "cell_type": "code",
   "execution_count": 2,
   "metadata": {},
   "outputs": [],
   "source": [
    "!pip install phik -q"
   ]
  },
  {
   "cell_type": "code",
   "execution_count": 3,
   "metadata": {},
   "outputs": [],
   "source": [
    "import pandas as pd\n",
    "import matplotlib.pyplot as plt\n",
    "import seaborn as sns\n",
    "import numpy as np\n",
    "import phik\n",
    "import sklearn\n",
    "import math\n",
    "import lightgbm as lgb\n",
    "import catboost\n",
    "from tqdm.notebook import tqdm\n",
    "\n",
    "from sklearn.model_selection import train_test_split, cross_val_score, RandomizedSearchCV, GridSearchCV\n",
    "from sklearn.metrics import root_mean_squared_error, make_scorer, mean_squared_error, mean_absolute_error\n",
    "from sklearn.linear_model import LinearRegression, LogisticRegression\n",
    "from sklearn.pipeline import Pipeline\n",
    "from sklearn.compose import ColumnTransformer\n",
    "from sklearn.impute import SimpleImputer\n",
    "from sklearn.preprocessing import (\n",
    "    OneHotEncoder,\n",
    "    OrdinalEncoder,\n",
    "    StandardScaler,\n",
    "    MinMaxScaler,\n",
    "    RobustScaler,\n",
    "    LabelEncoder)\n",
    "\n",
    "from lightgbm import LGBMRegressor\n",
    "from catboost import CatBoostRegressor\n",
    "from time import time\n",
    "\n",
    "\n",
    "from phik import phik_matrix"
   ]
  },
  {
   "cell_type": "code",
   "execution_count": 4,
   "metadata": {},
   "outputs": [],
   "source": [
    "RANDOM_STATE = 42\n",
    "TEST_SIZE =0.25"
   ]
  },
  {
   "cell_type": "code",
   "execution_count": 5,
   "metadata": {},
   "outputs": [],
   "source": [
    "try:\n",
    "    autos = pd.read_csv('/datasets/autos.csv')  \n",
    "except:\n",
    "    autos = pd.read_csv(r\"C:\\Users\\user1\\Documents\\Учеба Data science\\Проекты спринтов\\Численные методы\\autos.csv\")\n",
    "    "
   ]
  },
  {
   "cell_type": "markdown",
   "metadata": {},
   "source": [
    "Посмотрим `info` и `describe`, `shape`"
   ]
  },
  {
   "cell_type": "code",
   "execution_count": 6,
   "metadata": {},
   "outputs": [
    {
     "name": "stdout",
     "output_type": "stream",
     "text": [
      "<class 'pandas.core.frame.DataFrame'>\n",
      "RangeIndex: 354369 entries, 0 to 354368\n",
      "Data columns (total 16 columns):\n",
      " #   Column             Non-Null Count   Dtype \n",
      "---  ------             --------------   ----- \n",
      " 0   DateCrawled        354369 non-null  object\n",
      " 1   Price              354369 non-null  int64 \n",
      " 2   VehicleType        316879 non-null  object\n",
      " 3   RegistrationYear   354369 non-null  int64 \n",
      " 4   Gearbox            334536 non-null  object\n",
      " 5   Power              354369 non-null  int64 \n",
      " 6   Model              334664 non-null  object\n",
      " 7   Kilometer          354369 non-null  int64 \n",
      " 8   RegistrationMonth  354369 non-null  int64 \n",
      " 9   FuelType           321474 non-null  object\n",
      " 10  Brand              354369 non-null  object\n",
      " 11  Repaired           283215 non-null  object\n",
      " 12  DateCreated        354369 non-null  object\n",
      " 13  NumberOfPictures   354369 non-null  int64 \n",
      " 14  PostalCode         354369 non-null  int64 \n",
      " 15  LastSeen           354369 non-null  object\n",
      "dtypes: int64(7), object(9)\n",
      "memory usage: 43.3+ MB\n"
     ]
    }
   ],
   "source": [
    "autos.info()"
   ]
  },
  {
   "cell_type": "code",
   "execution_count": 7,
   "metadata": {},
   "outputs": [
    {
     "data": {
      "text/html": [
       "<div>\n",
       "<style scoped>\n",
       "    .dataframe tbody tr th:only-of-type {\n",
       "        vertical-align: middle;\n",
       "    }\n",
       "\n",
       "    .dataframe tbody tr th {\n",
       "        vertical-align: top;\n",
       "    }\n",
       "\n",
       "    .dataframe thead th {\n",
       "        text-align: right;\n",
       "    }\n",
       "</style>\n",
       "<table border=\"1\" class=\"dataframe\">\n",
       "  <thead>\n",
       "    <tr style=\"text-align: right;\">\n",
       "      <th></th>\n",
       "      <th>Price</th>\n",
       "      <th>RegistrationYear</th>\n",
       "      <th>Power</th>\n",
       "      <th>Kilometer</th>\n",
       "      <th>RegistrationMonth</th>\n",
       "      <th>NumberOfPictures</th>\n",
       "      <th>PostalCode</th>\n",
       "    </tr>\n",
       "  </thead>\n",
       "  <tbody>\n",
       "    <tr>\n",
       "      <th>count</th>\n",
       "      <td>354369.000000</td>\n",
       "      <td>354369.000000</td>\n",
       "      <td>354369.000000</td>\n",
       "      <td>354369.000000</td>\n",
       "      <td>354369.000000</td>\n",
       "      <td>354369.0</td>\n",
       "      <td>354369.000000</td>\n",
       "    </tr>\n",
       "    <tr>\n",
       "      <th>mean</th>\n",
       "      <td>4416.656776</td>\n",
       "      <td>2004.234448</td>\n",
       "      <td>110.094337</td>\n",
       "      <td>128211.172535</td>\n",
       "      <td>5.714645</td>\n",
       "      <td>0.0</td>\n",
       "      <td>50508.689087</td>\n",
       "    </tr>\n",
       "    <tr>\n",
       "      <th>std</th>\n",
       "      <td>4514.158514</td>\n",
       "      <td>90.227958</td>\n",
       "      <td>189.850405</td>\n",
       "      <td>37905.341530</td>\n",
       "      <td>3.726421</td>\n",
       "      <td>0.0</td>\n",
       "      <td>25783.096248</td>\n",
       "    </tr>\n",
       "    <tr>\n",
       "      <th>min</th>\n",
       "      <td>0.000000</td>\n",
       "      <td>1000.000000</td>\n",
       "      <td>0.000000</td>\n",
       "      <td>5000.000000</td>\n",
       "      <td>0.000000</td>\n",
       "      <td>0.0</td>\n",
       "      <td>1067.000000</td>\n",
       "    </tr>\n",
       "    <tr>\n",
       "      <th>25%</th>\n",
       "      <td>1050.000000</td>\n",
       "      <td>1999.000000</td>\n",
       "      <td>69.000000</td>\n",
       "      <td>125000.000000</td>\n",
       "      <td>3.000000</td>\n",
       "      <td>0.0</td>\n",
       "      <td>30165.000000</td>\n",
       "    </tr>\n",
       "    <tr>\n",
       "      <th>50%</th>\n",
       "      <td>2700.000000</td>\n",
       "      <td>2003.000000</td>\n",
       "      <td>105.000000</td>\n",
       "      <td>150000.000000</td>\n",
       "      <td>6.000000</td>\n",
       "      <td>0.0</td>\n",
       "      <td>49413.000000</td>\n",
       "    </tr>\n",
       "    <tr>\n",
       "      <th>75%</th>\n",
       "      <td>6400.000000</td>\n",
       "      <td>2008.000000</td>\n",
       "      <td>143.000000</td>\n",
       "      <td>150000.000000</td>\n",
       "      <td>9.000000</td>\n",
       "      <td>0.0</td>\n",
       "      <td>71083.000000</td>\n",
       "    </tr>\n",
       "    <tr>\n",
       "      <th>max</th>\n",
       "      <td>20000.000000</td>\n",
       "      <td>9999.000000</td>\n",
       "      <td>20000.000000</td>\n",
       "      <td>150000.000000</td>\n",
       "      <td>12.000000</td>\n",
       "      <td>0.0</td>\n",
       "      <td>99998.000000</td>\n",
       "    </tr>\n",
       "  </tbody>\n",
       "</table>\n",
       "</div>"
      ],
      "text/plain": [
       "               Price  RegistrationYear          Power      Kilometer  \\\n",
       "count  354369.000000     354369.000000  354369.000000  354369.000000   \n",
       "mean     4416.656776       2004.234448     110.094337  128211.172535   \n",
       "std      4514.158514         90.227958     189.850405   37905.341530   \n",
       "min         0.000000       1000.000000       0.000000    5000.000000   \n",
       "25%      1050.000000       1999.000000      69.000000  125000.000000   \n",
       "50%      2700.000000       2003.000000     105.000000  150000.000000   \n",
       "75%      6400.000000       2008.000000     143.000000  150000.000000   \n",
       "max     20000.000000       9999.000000   20000.000000  150000.000000   \n",
       "\n",
       "       RegistrationMonth  NumberOfPictures     PostalCode  \n",
       "count      354369.000000          354369.0  354369.000000  \n",
       "mean            5.714645               0.0   50508.689087  \n",
       "std             3.726421               0.0   25783.096248  \n",
       "min             0.000000               0.0    1067.000000  \n",
       "25%             3.000000               0.0   30165.000000  \n",
       "50%             6.000000               0.0   49413.000000  \n",
       "75%             9.000000               0.0   71083.000000  \n",
       "max            12.000000               0.0   99998.000000  "
      ]
     },
     "execution_count": 7,
     "metadata": {},
     "output_type": "execute_result"
    }
   ],
   "source": [
    "autos.describe()"
   ]
  },
  {
   "cell_type": "markdown",
   "metadata": {},
   "source": [
    "Описание describe:\n",
    "1. Видим что в данных есть выбросы и аномалии.\n",
    "    - минимальная цена - 0. Максимум 20000.\n",
    "    - год регистрации - от 1000 до 9999. \n",
    "    - минимальная мощность - 0 лс.\n",
    "2. Количественные данные нужно обрабатывать."
   ]
  },
  {
   "cell_type": "code",
   "execution_count": 8,
   "metadata": {},
   "outputs": [
    {
     "data": {
      "text/plain": [
       "(354369, 16)"
      ]
     },
     "execution_count": 8,
     "metadata": {},
     "output_type": "execute_result"
    }
   ],
   "source": [
    "autos.shape"
   ]
  },
  {
   "cell_type": "markdown",
   "metadata": {},
   "source": [
    "Приведем названия колонок к стандарту"
   ]
  },
  {
   "cell_type": "code",
   "execution_count": 9,
   "metadata": {},
   "outputs": [],
   "source": [
    "autos.columns = autos.columns.str.lower()"
   ]
  },
  {
   "cell_type": "code",
   "execution_count": 10,
   "metadata": {},
   "outputs": [],
   "source": [
    "autos.columns = ['date_crawled', 'price', 'vehicle_type', 'registration_year', 'gearbox',\n",
    "       'power', 'model', 'kilometer', 'registration_month', 'fuel_type', 'brand',\n",
    "       'repaired', 'date_created', 'number_of_pictures', 'postal_code',\n",
    "       'lastseen']"
   ]
  },
  {
   "cell_type": "code",
   "execution_count": 11,
   "metadata": {},
   "outputs": [],
   "source": [
    "def isna(df):\n",
    "    number_isna = df.isna().sum()\n",
    "    number_duplicated = df.duplicated().sum()\n",
    "    if (number_isna.sum() > 0) or (number_duplicated > 0):\n",
    "        print ('Количество пропусков составляет:')\n",
    "        display (number_isna)\n",
    "        print (f'Количество явных полных дубликатов составляет {number_duplicated}')\n",
    "    else:\n",
    "        print ('Пропусков и явных дубликатов не обнаружено')"
   ]
  },
  {
   "cell_type": "code",
   "execution_count": 12,
   "metadata": {},
   "outputs": [
    {
     "name": "stdout",
     "output_type": "stream",
     "text": [
      "Количество пропусков составляет:\n"
     ]
    },
    {
     "data": {
      "text/plain": [
       "date_crawled              0\n",
       "price                     0\n",
       "vehicle_type          37490\n",
       "registration_year         0\n",
       "gearbox               19833\n",
       "power                     0\n",
       "model                 19705\n",
       "kilometer                 0\n",
       "registration_month        0\n",
       "fuel_type             32895\n",
       "brand                     0\n",
       "repaired              71154\n",
       "date_created              0\n",
       "number_of_pictures        0\n",
       "postal_code               0\n",
       "lastseen                  0\n",
       "dtype: int64"
      ]
     },
     "metadata": {},
     "output_type": "display_data"
    },
    {
     "name": "stdout",
     "output_type": "stream",
     "text": [
      "Количество явных полных дубликатов составляет 4\n"
     ]
    }
   ],
   "source": [
    "isna (autos)"
   ]
  },
  {
   "cell_type": "code",
   "execution_count": 13,
   "metadata": {},
   "outputs": [
    {
     "data": {
      "text/html": [
       "<div>\n",
       "<style scoped>\n",
       "    .dataframe tbody tr th:only-of-type {\n",
       "        vertical-align: middle;\n",
       "    }\n",
       "\n",
       "    .dataframe tbody tr th {\n",
       "        vertical-align: top;\n",
       "    }\n",
       "\n",
       "    .dataframe thead th {\n",
       "        text-align: right;\n",
       "    }\n",
       "</style>\n",
       "<table border=\"1\" class=\"dataframe\">\n",
       "  <thead>\n",
       "    <tr style=\"text-align: right;\">\n",
       "      <th></th>\n",
       "      <th>date_crawled</th>\n",
       "      <th>price</th>\n",
       "      <th>vehicle_type</th>\n",
       "      <th>registration_year</th>\n",
       "      <th>gearbox</th>\n",
       "      <th>power</th>\n",
       "      <th>model</th>\n",
       "      <th>kilometer</th>\n",
       "      <th>registration_month</th>\n",
       "      <th>fuel_type</th>\n",
       "      <th>brand</th>\n",
       "      <th>repaired</th>\n",
       "      <th>date_created</th>\n",
       "      <th>number_of_pictures</th>\n",
       "      <th>postal_code</th>\n",
       "      <th>lastseen</th>\n",
       "    </tr>\n",
       "  </thead>\n",
       "  <tbody>\n",
       "    <tr>\n",
       "      <th>171088</th>\n",
       "      <td>2016-03-08 18:42:48</td>\n",
       "      <td>1799</td>\n",
       "      <td>coupe</td>\n",
       "      <td>1999</td>\n",
       "      <td>auto</td>\n",
       "      <td>193</td>\n",
       "      <td>clk</td>\n",
       "      <td>20000</td>\n",
       "      <td>7</td>\n",
       "      <td>petrol</td>\n",
       "      <td>mercedes_benz</td>\n",
       "      <td>no</td>\n",
       "      <td>2016-03-08 00:00:00</td>\n",
       "      <td>0</td>\n",
       "      <td>89518</td>\n",
       "      <td>2016-03-09 09:46:57</td>\n",
       "    </tr>\n",
       "    <tr>\n",
       "      <th>231258</th>\n",
       "      <td>2016-03-28 00:56:10</td>\n",
       "      <td>1000</td>\n",
       "      <td>small</td>\n",
       "      <td>2002</td>\n",
       "      <td>manual</td>\n",
       "      <td>83</td>\n",
       "      <td>other</td>\n",
       "      <td>150000</td>\n",
       "      <td>1</td>\n",
       "      <td>petrol</td>\n",
       "      <td>suzuki</td>\n",
       "      <td>no</td>\n",
       "      <td>2016-03-28 00:00:00</td>\n",
       "      <td>0</td>\n",
       "      <td>66589</td>\n",
       "      <td>2016-03-28 08:46:21</td>\n",
       "    </tr>\n",
       "    <tr>\n",
       "      <th>258109</th>\n",
       "      <td>2016-04-03 09:01:15</td>\n",
       "      <td>4699</td>\n",
       "      <td>coupe</td>\n",
       "      <td>2003</td>\n",
       "      <td>auto</td>\n",
       "      <td>218</td>\n",
       "      <td>clk</td>\n",
       "      <td>125000</td>\n",
       "      <td>6</td>\n",
       "      <td>petrol</td>\n",
       "      <td>mercedes_benz</td>\n",
       "      <td>yes</td>\n",
       "      <td>2016-04-03 00:00:00</td>\n",
       "      <td>0</td>\n",
       "      <td>75196</td>\n",
       "      <td>2016-04-07 09:44:54</td>\n",
       "    </tr>\n",
       "    <tr>\n",
       "      <th>325651</th>\n",
       "      <td>2016-03-18 18:46:15</td>\n",
       "      <td>1999</td>\n",
       "      <td>wagon</td>\n",
       "      <td>2001</td>\n",
       "      <td>manual</td>\n",
       "      <td>131</td>\n",
       "      <td>passat</td>\n",
       "      <td>150000</td>\n",
       "      <td>7</td>\n",
       "      <td>gasoline</td>\n",
       "      <td>volkswagen</td>\n",
       "      <td>no</td>\n",
       "      <td>2016-03-18 00:00:00</td>\n",
       "      <td>0</td>\n",
       "      <td>36391</td>\n",
       "      <td>2016-03-18 18:46:15</td>\n",
       "    </tr>\n",
       "  </tbody>\n",
       "</table>\n",
       "</div>"
      ],
      "text/plain": [
       "               date_crawled  price vehicle_type  registration_year gearbox  \\\n",
       "171088  2016-03-08 18:42:48   1799        coupe               1999    auto   \n",
       "231258  2016-03-28 00:56:10   1000        small               2002  manual   \n",
       "258109  2016-04-03 09:01:15   4699        coupe               2003    auto   \n",
       "325651  2016-03-18 18:46:15   1999        wagon               2001  manual   \n",
       "\n",
       "        power   model  kilometer  registration_month fuel_type          brand  \\\n",
       "171088    193     clk      20000                   7    petrol  mercedes_benz   \n",
       "231258     83   other     150000                   1    petrol         suzuki   \n",
       "258109    218     clk     125000                   6    petrol  mercedes_benz   \n",
       "325651    131  passat     150000                   7  gasoline     volkswagen   \n",
       "\n",
       "       repaired         date_created  number_of_pictures  postal_code  \\\n",
       "171088       no  2016-03-08 00:00:00                   0        89518   \n",
       "231258       no  2016-03-28 00:00:00                   0        66589   \n",
       "258109      yes  2016-04-03 00:00:00                   0        75196   \n",
       "325651       no  2016-03-18 00:00:00                   0        36391   \n",
       "\n",
       "                   lastseen  \n",
       "171088  2016-03-09 09:46:57  \n",
       "231258  2016-03-28 08:46:21  \n",
       "258109  2016-04-07 09:44:54  \n",
       "325651  2016-03-18 18:46:15  "
      ]
     },
     "execution_count": 13,
     "metadata": {},
     "output_type": "execute_result"
    }
   ],
   "source": [
    "autos[autos.duplicated()]"
   ]
  },
  {
   "cell_type": "markdown",
   "metadata": {},
   "source": [
    "Удалим дубликаты."
   ]
  },
  {
   "cell_type": "code",
   "execution_count": 14,
   "metadata": {},
   "outputs": [],
   "source": [
    "autos = autos.drop_duplicates().reset_index(drop=True)"
   ]
  },
  {
   "cell_type": "code",
   "execution_count": 15,
   "metadata": {},
   "outputs": [
    {
     "data": {
      "text/plain": [
       "(354365, 16)"
      ]
     },
     "execution_count": 15,
     "metadata": {},
     "output_type": "execute_result"
    }
   ],
   "source": [
    "autos.shape"
   ]
  },
  {
   "cell_type": "code",
   "execution_count": 16,
   "metadata": {},
   "outputs": [
    {
     "data": {
      "text/plain": [
       "Index(['date_crawled', 'price', 'vehicle_type', 'registration_year', 'gearbox',\n",
       "       'power', 'model', 'kilometer', 'registration_month', 'fuel_type',\n",
       "       'brand', 'repaired', 'date_created', 'number_of_pictures',\n",
       "       'postal_code', 'lastseen'],\n",
       "      dtype='object')"
      ]
     },
     "execution_count": 16,
     "metadata": {},
     "output_type": "execute_result"
    }
   ],
   "source": [
    "autos.columns"
   ]
  },
  {
   "cell_type": "markdown",
   "metadata": {},
   "source": [
    "Теперь перейдем к пропускам. Рассмотрим их в процентном отношении."
   ]
  },
  {
   "cell_type": "markdown",
   "metadata": {},
   "source": [
    "Для упрощения исследования оставим в таблице только те столбцы, которые, по логике оказывают влияние на целевой признак `price`."
   ]
  },
  {
   "cell_type": "code",
   "execution_count": 17,
   "metadata": {},
   "outputs": [],
   "source": [
    "autos = autos[['price', 'vehicle_type', 'registration_year', 'gearbox',\n",
    "       'power', 'model', 'kilometer', 'fuel_type',\n",
    "       'brand', 'repaired']]"
   ]
  },
  {
   "cell_type": "code",
   "execution_count": 18,
   "metadata": {},
   "outputs": [
    {
     "data": {
      "text/html": [
       "<div>\n",
       "<style scoped>\n",
       "    .dataframe tbody tr th:only-of-type {\n",
       "        vertical-align: middle;\n",
       "    }\n",
       "\n",
       "    .dataframe tbody tr th {\n",
       "        vertical-align: top;\n",
       "    }\n",
       "\n",
       "    .dataframe thead th {\n",
       "        text-align: right;\n",
       "    }\n",
       "</style>\n",
       "<table border=\"1\" class=\"dataframe\">\n",
       "  <thead>\n",
       "    <tr style=\"text-align: right;\">\n",
       "      <th></th>\n",
       "      <th>count</th>\n",
       "      <th>share</th>\n",
       "    </tr>\n",
       "  </thead>\n",
       "  <tbody>\n",
       "    <tr>\n",
       "      <th>price</th>\n",
       "      <td>0</td>\n",
       "      <td>0.000000</td>\n",
       "    </tr>\n",
       "    <tr>\n",
       "      <th>vehicle_type</th>\n",
       "      <td>37490</td>\n",
       "      <td>0.105795</td>\n",
       "    </tr>\n",
       "    <tr>\n",
       "      <th>registration_year</th>\n",
       "      <td>0</td>\n",
       "      <td>0.000000</td>\n",
       "    </tr>\n",
       "    <tr>\n",
       "      <th>gearbox</th>\n",
       "      <td>19833</td>\n",
       "      <td>0.055968</td>\n",
       "    </tr>\n",
       "    <tr>\n",
       "      <th>power</th>\n",
       "      <td>0</td>\n",
       "      <td>0.000000</td>\n",
       "    </tr>\n",
       "    <tr>\n",
       "      <th>model</th>\n",
       "      <td>19705</td>\n",
       "      <td>0.055607</td>\n",
       "    </tr>\n",
       "    <tr>\n",
       "      <th>kilometer</th>\n",
       "      <td>0</td>\n",
       "      <td>0.000000</td>\n",
       "    </tr>\n",
       "    <tr>\n",
       "      <th>fuel_type</th>\n",
       "      <td>32895</td>\n",
       "      <td>0.092828</td>\n",
       "    </tr>\n",
       "    <tr>\n",
       "      <th>brand</th>\n",
       "      <td>0</td>\n",
       "      <td>0.000000</td>\n",
       "    </tr>\n",
       "    <tr>\n",
       "      <th>repaired</th>\n",
       "      <td>71154</td>\n",
       "      <td>0.200793</td>\n",
       "    </tr>\n",
       "  </tbody>\n",
       "</table>\n",
       "</div>"
      ],
      "text/plain": [
       "                   count     share\n",
       "price                  0  0.000000\n",
       "vehicle_type       37490  0.105795\n",
       "registration_year      0  0.000000\n",
       "gearbox            19833  0.055968\n",
       "power                  0  0.000000\n",
       "model              19705  0.055607\n",
       "kilometer              0  0.000000\n",
       "fuel_type          32895  0.092828\n",
       "brand                  0  0.000000\n",
       "repaired           71154  0.200793"
      ]
     },
     "execution_count": 18,
     "metadata": {},
     "output_type": "execute_result"
    }
   ],
   "source": [
    "auto_isna = pd.DataFrame(autos.isna().sum())\n",
    "auto_isna.columns = ['count']\n",
    "auto_isna['share'] = autos.isna().mean()\n",
    "auto_isna"
   ]
  },
  {
   "cell_type": "code",
   "execution_count": 19,
   "metadata": {},
   "outputs": [
    {
     "data": {
      "text/plain": [
       "sedan          91457\n",
       "small          79830\n",
       "wagon          65165\n",
       "NaN            37490\n",
       "bus            28775\n",
       "convertible    20203\n",
       "coupe          16161\n",
       "suv            11996\n",
       "other           3288\n",
       "Name: vehicle_type, dtype: int64"
      ]
     },
     "execution_count": 19,
     "metadata": {},
     "output_type": "execute_result"
    }
   ],
   "source": [
    "autos['vehicle_type'].value_counts(dropna=False)"
   ]
  },
  {
   "cell_type": "markdown",
   "metadata": {},
   "source": [
    "Есть пропуски в размере 10,6 процентов в столбце тип кузова. Определим эту группу как отдельную категорию \"неизвестный тип\" - unknown."
   ]
  },
  {
   "cell_type": "code",
   "execution_count": 20,
   "metadata": {},
   "outputs": [],
   "source": [
    "autos['vehicle_type'].fillna('unknown', inplace=True)"
   ]
  },
  {
   "cell_type": "markdown",
   "metadata": {},
   "source": [
    "Аналогично поступим с пропусками в столбцах `gearbox`,`model`,`fuel_type` - ставим заглушки."
   ]
  },
  {
   "cell_type": "code",
   "execution_count": 21,
   "metadata": {},
   "outputs": [],
   "source": [
    "list = ['gearbox','model','fuel_type']\n",
    "for i in list:\n",
    "    autos[i].fillna('unknown', inplace=True)"
   ]
  },
  {
   "cell_type": "markdown",
   "metadata": {},
   "source": [
    "Для столбца с ремонтом пропуски примем как значение, что ремонта не было."
   ]
  },
  {
   "cell_type": "code",
   "execution_count": 22,
   "metadata": {},
   "outputs": [],
   "source": [
    "autos['repaired'].fillna('no', inplace=True)"
   ]
  },
  {
   "cell_type": "markdown",
   "metadata": {},
   "source": [
    "Далее построим графики для целевого признака."
   ]
  },
  {
   "cell_type": "code",
   "execution_count": 23,
   "metadata": {},
   "outputs": [],
   "source": [
    "def hist(df,col):\n",
    "    plt.figure(figsize=(20,10))\n",
    "\n",
    "    plt.subplot(1,2,1)\n",
    "    sns.histplot(data=df, x=col, bins = 50)\n",
    "    plt.ylabel('Количество значений',fontsize=20)\n",
    "    plt.xlabel(f'{col}',fontsize=20)\n",
    "    plt.title('Гистограмма',fontsize=20)\n",
    "\n",
    "    plt.subplot(1,2,2)\n",
    "    sns.boxplot(data=df, x=col)\n",
    "    plt.xlabel(f'{col}',fontsize=20)\n",
    "    plt.title('Боксплот',fontsize=20)\n",
    "\n",
    "    plt.suptitle(f'Гистограмма и боксплот для {col}',fontsize=30)"
   ]
  },
  {
   "cell_type": "code",
   "execution_count": 24,
   "metadata": {},
   "outputs": [
    {
     "data": {
      "image/png": "[encoded data removed]",
      "text/plain": [
       "<Figure size 1440x720 with 2 Axes>"
      ]
     },
     "metadata": {
      "needs_background": "light"
     },
     "output_type": "display_data"
    }
   ],
   "source": [
    "hist(autos, 'price')"
   ]
  },
  {
   "cell_type": "markdown",
   "metadata": {},
   "source": [
    " - Максимальное значение 20 000. \n",
    " - Есть выбросы. Скорее всего обусловлены дорогим сегментом. Оставим эти значения.\n",
    " - Видим, что есть нулевая цена. Рассмотрим подробнее."
   ]
  },
  {
   "cell_type": "code",
   "execution_count": 25,
   "metadata": {},
   "outputs": [
    {
     "data": {
      "text/plain": [
       "price                10772\n",
       "vehicle_type         10772\n",
       "registration_year    10772\n",
       "gearbox              10772\n",
       "power                10772\n",
       "model                10772\n",
       "kilometer            10772\n",
       "fuel_type            10772\n",
       "brand                10772\n",
       "repaired             10772\n",
       "dtype: int64"
      ]
     },
     "execution_count": 25,
     "metadata": {},
     "output_type": "execute_result"
    }
   ],
   "source": [
    "autos[autos['price'] == 0].count()"
   ]
  },
  {
   "cell_type": "markdown",
   "metadata": {},
   "source": [
    "Количество объявлений с нулевой ценой - 10772. Не будем учитывать их в нашей работе. Также имеются объявления с ценой меньше 1000 евро - аналогично их учитывать не будем."
   ]
  },
  {
   "cell_type": "code",
   "execution_count": 26,
   "metadata": {},
   "outputs": [],
   "source": [
    "autos = autos[autos['price'] > 1000]"
   ]
  },
  {
   "cell_type": "code",
   "execution_count": 27,
   "metadata": {},
   "outputs": [
    {
     "data": {
      "text/plain": [
       "(266391, 10)"
      ]
     },
     "execution_count": 27,
     "metadata": {},
     "output_type": "execute_result"
    }
   ],
   "source": [
    "autos.shape"
   ]
  },
  {
   "cell_type": "markdown",
   "metadata": {},
   "source": [
    "Далее изучим год регистрации."
   ]
  },
  {
   "cell_type": "code",
   "execution_count": 28,
   "metadata": {},
   "outputs": [
    {
     "data": {
      "text/plain": [
       "count    266391.000000\n",
       "mean       2004.785623\n",
       "std          56.597238\n",
       "min        1000.000000\n",
       "25%        2001.000000\n",
       "50%        2005.000000\n",
       "75%        2008.000000\n",
       "max        9999.000000\n",
       "Name: registration_year, dtype: float64"
      ]
     },
     "execution_count": 28,
     "metadata": {},
     "output_type": "execute_result"
    }
   ],
   "source": [
    "autos['registration_year'].describe()"
   ]
  },
  {
   "cell_type": "code",
   "execution_count": 29,
   "metadata": {},
   "outputs": [
    {
     "data": {
      "text/plain": [
       "1994.0"
      ]
     },
     "execution_count": 29,
     "metadata": {},
     "output_type": "execute_result"
    }
   ],
   "source": [
    "autos['registration_year'].quantile(0.05)"
   ]
  },
  {
   "cell_type": "code",
   "execution_count": 30,
   "metadata": {},
   "outputs": [
    {
     "data": {
      "text/plain": [
       "2018.0"
      ]
     },
     "execution_count": 30,
     "metadata": {},
     "output_type": "execute_result"
    }
   ],
   "source": [
    "autos['registration_year'].quantile(0.99)"
   ]
  },
  {
   "cell_type": "markdown",
   "metadata": {},
   "source": [
    "Оставим данные с 1994 по 2016 год."
   ]
  },
  {
   "cell_type": "code",
   "execution_count": 31,
   "metadata": {},
   "outputs": [],
   "source": [
    "autos = autos.query('registration_year >= 1994 and registration_year <= 2016')"
   ]
  },
  {
   "cell_type": "code",
   "execution_count": 32,
   "metadata": {},
   "outputs": [
    {
     "data": {
      "text/plain": [
       "(242938, 10)"
      ]
     },
     "execution_count": 32,
     "metadata": {},
     "output_type": "execute_result"
    }
   ],
   "source": [
    "autos.shape"
   ]
  },
  {
   "cell_type": "code",
   "execution_count": 33,
   "metadata": {},
   "outputs": [
    {
     "data": {
      "image/png": "[encoded data removed]",
      "text/plain": [
       "<Figure size 1440x720 with 2 Axes>"
      ]
     },
     "metadata": {
      "needs_background": "light"
     },
     "output_type": "display_data"
    }
   ],
   "source": [
    "hist(autos,'registration_year')"
   ]
  },
  {
   "cell_type": "code",
   "execution_count": 34,
   "metadata": {},
   "outputs": [
    {
     "data": {
      "text/plain": [
       "count    242938.000000\n",
       "mean        123.876874\n",
       "std         185.915252\n",
       "min           0.000000\n",
       "25%          80.000000\n",
       "50%         116.000000\n",
       "75%         150.000000\n",
       "max       20000.000000\n",
       "Name: power, dtype: float64"
      ]
     },
     "execution_count": 34,
     "metadata": {},
     "output_type": "execute_result"
    }
   ],
   "source": [
    "autos['power'].describe()"
   ]
  },
  {
   "cell_type": "code",
   "execution_count": 35,
   "metadata": {},
   "outputs": [
    {
     "data": {
      "text/plain": [
       "0.0"
      ]
     },
     "execution_count": 35,
     "metadata": {},
     "output_type": "execute_result"
    }
   ],
   "source": [
    "autos['power'].quantile(0.05)"
   ]
  },
  {
   "cell_type": "code",
   "execution_count": 36,
   "metadata": {},
   "outputs": [
    {
     "data": {
      "text/plain": [
       "306.0"
      ]
     },
     "execution_count": 36,
     "metadata": {},
     "output_type": "execute_result"
    }
   ],
   "source": [
    "autos['power'].quantile(0.99)"
   ]
  },
  {
   "cell_type": "code",
   "execution_count": 37,
   "metadata": {},
   "outputs": [
    {
     "data": {
      "text/plain": [
       "price                15988\n",
       "vehicle_type         15988\n",
       "registration_year    15988\n",
       "gearbox              15988\n",
       "power                15988\n",
       "model                15988\n",
       "kilometer            15988\n",
       "fuel_type            15988\n",
       "brand                15988\n",
       "repaired             15988\n",
       "dtype: int64"
      ]
     },
     "execution_count": 37,
     "metadata": {},
     "output_type": "execute_result"
    }
   ],
   "source": [
    "autos[autos['power'] == 0].count()"
   ]
  },
  {
   "cell_type": "markdown",
   "metadata": {},
   "source": [
    "Имеется 33189 объявлений с мощностью автомобиля - 0. Не будем их учитывать."
   ]
  },
  {
   "cell_type": "code",
   "execution_count": 38,
   "metadata": {},
   "outputs": [],
   "source": [
    "autos = autos[autos['power'] != 0]"
   ]
  },
  {
   "cell_type": "markdown",
   "metadata": {},
   "source": [
    "Возьмем данные после 5 квантиля."
   ]
  },
  {
   "cell_type": "code",
   "execution_count": 39,
   "metadata": {},
   "outputs": [],
   "source": [
    "autos = autos[autos['power'] >= 45]"
   ]
  },
  {
   "cell_type": "markdown",
   "metadata": {},
   "source": [
    "Ограничим мощность - 600 лс."
   ]
  },
  {
   "cell_type": "code",
   "execution_count": 40,
   "metadata": {},
   "outputs": [],
   "source": [
    "autos = autos[autos['power'] <= 600]"
   ]
  },
  {
   "cell_type": "code",
   "execution_count": 41,
   "metadata": {},
   "outputs": [
    {
     "data": {
      "text/plain": [
       "(225904, 10)"
      ]
     },
     "execution_count": 41,
     "metadata": {},
     "output_type": "execute_result"
    }
   ],
   "source": [
    "autos.shape"
   ]
  },
  {
   "cell_type": "code",
   "execution_count": 42,
   "metadata": {},
   "outputs": [
    {
     "data": {
      "image/png": "[encoded data removed]",
      "text/plain": [
       "<Figure size 1440x720 with 2 Axes>"
      ]
     },
     "metadata": {
      "needs_background": "light"
     },
     "output_type": "display_data"
    }
   ],
   "source": [
    "hist(autos,'power')"
   ]
  },
  {
   "cell_type": "code",
   "execution_count": 43,
   "metadata": {},
   "outputs": [],
   "source": [
    "interval_cols = ['price', 'power']"
   ]
  },
  {
   "cell_type": "code",
   "execution_count": 44,
   "metadata": {
    "scrolled": true
   },
   "outputs": [
    {
     "data": {
      "text/plain": [
       "Text(0.5, 1.0, 'Тепловой график корреляции признаков')"
      ]
     },
     "execution_count": 44,
     "metadata": {},
     "output_type": "execute_result"
    },
    {
     "data": {
      "image/png": "[encoded data removed]",
      "text/plain": [
       "<Figure size 864x864 with 2 Axes>"
      ]
     },
     "metadata": {
      "needs_background": "light"
     },
     "output_type": "display_data"
    }
   ],
   "source": [
    "corr_matrix = autos.phik_matrix(interval_cols = interval_cols)\n",
    "plt.figure(figsize=(12, 12))\n",
    "sns.heatmap(corr_matrix, annot=True, linewidths=.5, cmap='coolwarm')\n",
    "plt.title(f'Тепловой график корреляции признаков')"
   ]
  },
  {
   "cell_type": "markdown",
   "metadata": {},
   "source": [
    "Видим мультиколлинераность - удалим признаки `vehicle_type` `brand`"
   ]
  },
  {
   "cell_type": "code",
   "execution_count": 45,
   "metadata": {},
   "outputs": [],
   "source": [
    "autos = autos.drop(['vehicle_type', 'brand'], axis = 1)"
   ]
  },
  {
   "cell_type": "markdown",
   "metadata": {},
   "source": [
    "**Вывод по предобработке и исследовательскому анализу:**\n",
    "- Оставили только признаки, которые влияют на целевой.\n",
    "\n",
    "- Удалены дубликаты и обработаны пропуски, заменены на unknown. В столбце 'repaired' пропуски отнесены к категории \"no\".\n",
    "\n",
    "- Отфильтрован датафрейм. \n",
    "    - В целевом признаке 'price' не берем нулевые значения.\n",
    "    - в registration_year взяли года с 1993 по 2019\n",
    "    - по мощности берем для модели записи со значениями от 45 лс до 600 лс.\n",
    "\n",
    "- построены графики\n",
    "- построена тепловая карта корреляции признаков."
   ]
  },
  {
   "cell_type": "markdown",
   "metadata": {},
   "source": [
    "## Обучение моделей"
   ]
  },
  {
   "cell_type": "markdown",
   "metadata": {},
   "source": [
    "Построим модели. Для подбора гиперпараметров будем использовать RandomizedSearchCV()"
   ]
  },
  {
   "cell_type": "code",
   "execution_count": 46,
   "metadata": {},
   "outputs": [],
   "source": [
    "autos  = autos.drop_duplicates()"
   ]
  },
  {
   "cell_type": "code",
   "execution_count": 47,
   "metadata": {},
   "outputs": [],
   "source": [
    "X = autos.drop('price', axis=1)\n",
    "y = autos['price']"
   ]
  },
  {
   "cell_type": "code",
   "execution_count": 48,
   "metadata": {},
   "outputs": [],
   "source": [
    "num_col = X.select_dtypes(include='number').columns.tolist()\n",
    "cat_col = X.select_dtypes(exclude='number').columns.tolist()"
   ]
  },
  {
   "cell_type": "code",
   "execution_count": 49,
   "metadata": {},
   "outputs": [
    {
     "name": "stdout",
     "output_type": "stream",
     "text": [
      "['registration_year', 'power', 'kilometer']\n",
      "['gearbox', 'model', 'fuel_type', 'repaired']\n"
     ]
    }
   ],
   "source": [
    "print(num_col)\n",
    "print(cat_col)"
   ]
  },
  {
   "cell_type": "code",
   "execution_count": 50,
   "metadata": {},
   "outputs": [],
   "source": [
    "X_train, X_test, y_train, y_test = train_test_split(\n",
    "    X,\n",
    "    y,\n",
    "    test_size = TEST_SIZE,\n",
    "    random_state = RANDOM_STATE\n",
    ")"
   ]
  },
  {
   "cell_type": "code",
   "execution_count": 51,
   "metadata": {},
   "outputs": [
    {
     "name": "stdout",
     "output_type": "stream",
     "text": [
      "139041\n",
      "46348\n"
     ]
    }
   ],
   "source": [
    "print(X_train.shape[0])\n",
    "print(X_test.shape[0])"
   ]
  },
  {
   "cell_type": "code",
   "execution_count": 52,
   "metadata": {},
   "outputs": [],
   "source": [
    "ohe_columns = ['model', 'gearbox', 'repaired','fuel_type']\n",
    "num_columns = num_col"
   ]
  },
  {
   "cell_type": "code",
   "execution_count": 53,
   "metadata": {},
   "outputs": [],
   "source": [
    "ohe_pipe = Pipeline(\n",
    "    [(\n",
    "        'simpleImputer_ohe',\n",
    "        SimpleImputer(\n",
    "            missing_values=np.nan,\n",
    "            strategy='most_frequent'\n",
    "        )\n",
    "    ),\n",
    "     (\n",
    "         'ohe',\n",
    "         OneHotEncoder(\n",
    "             drop='first',\n",
    "             handle_unknown='ignore',\n",
    "             sparse_output=False\n",
    "         )\n",
    "     )\n",
    "    ]\n",
    ")"
   ]
  },
  {
   "cell_type": "code",
   "execution_count": 54,
   "metadata": {},
   "outputs": [],
   "source": [
    "data_preprocessor = ColumnTransformer(\n",
    "    [\n",
    "        ('ohe', ohe_pipe, ohe_columns),\n",
    "        ('num', StandardScaler(), num_columns)\n",
    "    ],\n",
    "    remainder='passthrough'\n",
    ")"
   ]
  },
  {
   "cell_type": "code",
   "execution_count": 55,
   "metadata": {},
   "outputs": [],
   "source": [
    "pipe_final = Pipeline([\n",
    "    ('preprocessor', data_preprocessor),\n",
    "    ('models', LinearRegression()\n",
    "    )\n",
    "])"
   ]
  },
  {
   "cell_type": "markdown",
   "metadata": {},
   "source": [
    "## Анализ моделей"
   ]
  },
  {
   "cell_type": "markdown",
   "metadata": {},
   "source": [
    "Линейная регрессия."
   ]
  },
  {
   "cell_type": "code",
   "execution_count": 56,
   "metadata": {},
   "outputs": [],
   "source": [
    "param_grid = [\n",
    "    {\n",
    "        'models': [LinearRegression()],  \n",
    "        \n",
    "        'preprocessor__num': [StandardScaler(), MinMaxScaler(), 'passthrough']  \n",
    "    }\n",
    "]"
   ]
  },
  {
   "cell_type": "code",
   "execution_count": 57,
   "metadata": {},
   "outputs": [],
   "source": [
    "randomized_search = RandomizedSearchCV(\n",
    "    pipe_final,\n",
    "    param_grid,\n",
    "    cv = 5,\n",
    "    n_iter=5,\n",
    "    scoring = 'neg_root_mean_squared_error',\n",
    "    random_state = RANDOM_STATE,\n",
    "    n_jobs = -1\n",
    ")"
   ]
  },
  {
   "cell_type": "code",
   "execution_count": 58,
   "metadata": {},
   "outputs": [],
   "source": [
    "models = []\n",
    "model_time_learn = []"
   ]
  },
  {
   "cell_type": "code",
   "execution_count": 59,
   "metadata": {},
   "outputs": [
    {
     "name": "stderr",
     "output_type": "stream",
     "text": [
      "/opt/conda/lib/python3.9/site-packages/sklearn/model_selection/_search.py:317: UserWarning: The total space of parameters 3 is smaller than n_iter=5. Running 3 iterations. For exhaustive searches, use GridSearchCV.\n",
      "  warnings.warn(\n",
      "/opt/conda/lib/python3.9/site-packages/sklearn/preprocessing/_encoders.py:246: UserWarning: Found unknown categories in columns [0] during transform. These unknown categories will be encoded as all zeros\n",
      "  warnings.warn(\n",
      "/opt/conda/lib/python3.9/site-packages/sklearn/preprocessing/_encoders.py:246: UserWarning: Found unknown categories in columns [0] during transform. These unknown categories will be encoded as all zeros\n",
      "  warnings.warn(\n",
      "/opt/conda/lib/python3.9/site-packages/sklearn/preprocessing/_encoders.py:246: UserWarning: Found unknown categories in columns [0] during transform. These unknown categories will be encoded as all zeros\n",
      "  warnings.warn(\n",
      "/opt/conda/lib/python3.9/site-packages/sklearn/preprocessing/_encoders.py:246: UserWarning: Found unknown categories in columns [0] during transform. These unknown categories will be encoded as all zeros\n",
      "  warnings.warn(\n",
      "/opt/conda/lib/python3.9/site-packages/sklearn/preprocessing/_encoders.py:246: UserWarning: Found unknown categories in columns [0] during transform. These unknown categories will be encoded as all zeros\n",
      "  warnings.warn(\n",
      "/opt/conda/lib/python3.9/site-packages/sklearn/preprocessing/_encoders.py:246: UserWarning: Found unknown categories in columns [0] during transform. These unknown categories will be encoded as all zeros\n",
      "  warnings.warn(\n",
      "/opt/conda/lib/python3.9/site-packages/sklearn/preprocessing/_encoders.py:246: UserWarning: Found unknown categories in columns [0] during transform. These unknown categories will be encoded as all zeros\n",
      "  warnings.warn(\n",
      "/opt/conda/lib/python3.9/site-packages/sklearn/preprocessing/_encoders.py:246: UserWarning: Found unknown categories in columns [0] during transform. These unknown categories will be encoded as all zeros\n",
      "  warnings.warn(\n",
      "/opt/conda/lib/python3.9/site-packages/sklearn/preprocessing/_encoders.py:246: UserWarning: Found unknown categories in columns [0] during transform. These unknown categories will be encoded as all zeros\n",
      "  warnings.warn(\n"
     ]
    }
   ],
   "source": [
    "start_learn = time()\n",
    "\n",
    "randomized_search.fit(X_train, y_train)\n",
    "\n",
    "end_learn = time()\n",
    "time_learn = (end_learn - start_learn) / 60\n",
    "model_time_learn.append(time_learn)"
   ]
  },
  {
   "cell_type": "code",
   "execution_count": 60,
   "metadata": {
    "scrolled": true
   },
   "outputs": [
    {
     "data": {
      "text/plain": [
       "-2428.0581695146975"
      ]
     },
     "execution_count": 60,
     "metadata": {},
     "output_type": "execute_result"
    }
   ],
   "source": [
    "randomized_search.best_score_"
   ]
  },
  {
   "cell_type": "code",
   "execution_count": 61,
   "metadata": {},
   "outputs": [],
   "source": [
    "models.append(randomized_search)"
   ]
  },
  {
   "cell_type": "markdown",
   "metadata": {},
   "source": [
    "Перейдем к Градиентному бустингу.\n",
    "\n",
    "LightGBM"
   ]
  },
  {
   "cell_type": "code",
   "execution_count": 62,
   "metadata": {},
   "outputs": [],
   "source": [
    "X_train[cat_col] = X_train[cat_col].astype('category')\n",
    "X_test[cat_col] = X_test[cat_col].astype('category')"
   ]
  },
  {
   "cell_type": "code",
   "execution_count": 63,
   "metadata": {},
   "outputs": [],
   "source": [
    "lgbm_model = LGBMRegressor(objective='root_mean_squared_error',\n",
    "                           random_state=RANDOM_STATE,\n",
    "                           verbose=-1)"
   ]
  },
  {
   "cell_type": "code",
   "execution_count": 64,
   "metadata": {},
   "outputs": [],
   "source": [
    "param_grid = {\n",
    "    'learning_rate': [0.1, 0.3, 0.5, 1],  \n",
    "    'max_depth': [1, 2, 6]\n",
    "}\n",
    "\n",
    "\n",
    "random_search_lgbm = RandomizedSearchCV(\n",
    "    estimator=lgbm_model, \n",
    "    param_distributions=param_grid, \n",
    "    scoring='neg_root_mean_squared_error', \n",
    "    cv=5,\n",
    "    n_iter=5\n",
    ")\n",
    "\n",
    "\n",
    "start_learn = time()\n",
    "\n",
    "random_search_lgbm.fit(X_train, y_train)\n",
    "\n",
    "end_learn = time()\n",
    "time_learn = (end_learn - start_learn) / 60\n",
    "model_time_learn.append(time_learn)"
   ]
  },
  {
   "cell_type": "code",
   "execution_count": 65,
   "metadata": {},
   "outputs": [],
   "source": [
    "models.append(random_search_lgbm)"
   ]
  },
  {
   "cell_type": "markdown",
   "metadata": {},
   "source": [
    "Построили вторую модель."
   ]
  },
  {
   "cell_type": "markdown",
   "metadata": {},
   "source": [
    "Теперь составим модель CatBoost"
   ]
  },
  {
   "cell_type": "code",
   "execution_count": 66,
   "metadata": {},
   "outputs": [],
   "source": [
    "catboost_model = CatBoostRegressor(verbose=100,\n",
    "                                   cat_features=cat_col,\n",
    "                                   random_state=RANDOM_STATE)"
   ]
  },
  {
   "cell_type": "code",
   "execution_count": 67,
   "metadata": {
    "scrolled": true
   },
   "outputs": [
    {
     "name": "stdout",
     "output_type": "stream",
     "text": [
      "0:\tlearn: 4257.2889152\ttotal: 72.3ms\tremaining: 1m 12s\n",
      "100:\tlearn: 2338.4123053\ttotal: 1.56s\tremaining: 13.9s\n",
      "200:\tlearn: 2309.4804005\ttotal: 3.02s\tremaining: 12s\n",
      "300:\tlearn: 2299.6894125\ttotal: 4.47s\tremaining: 10.4s\n",
      "400:\tlearn: 2292.5584495\ttotal: 5.93s\tremaining: 8.86s\n",
      "500:\tlearn: 2287.5749220\ttotal: 7.34s\tremaining: 7.32s\n",
      "600:\tlearn: 2283.6807057\ttotal: 8.8s\tremaining: 5.84s\n",
      "700:\tlearn: 2280.5853479\ttotal: 10.2s\tremaining: 4.36s\n",
      "800:\tlearn: 2277.9929094\ttotal: 11.7s\tremaining: 2.9s\n",
      "900:\tlearn: 2275.9681992\ttotal: 13.1s\tremaining: 1.44s\n",
      "999:\tlearn: 2274.0667214\ttotal: 14.7s\tremaining: 0us\n",
      "0:\tlearn: 4242.6570141\ttotal: 18.3ms\tremaining: 18.3s\n",
      "100:\tlearn: 2344.1090868\ttotal: 1.47s\tremaining: 13.1s\n",
      "200:\tlearn: 2314.7698079\ttotal: 2.9s\tremaining: 11.5s\n",
      "300:\tlearn: 2303.2303569\ttotal: 4.34s\tremaining: 10.1s\n",
      "400:\tlearn: 2296.3790718\ttotal: 5.78s\tremaining: 8.63s\n",
      "500:\tlearn: 2291.3275159\ttotal: 7.22s\tremaining: 7.19s\n",
      "600:\tlearn: 2287.7536043\ttotal: 8.71s\tremaining: 5.78s\n",
      "700:\tlearn: 2284.6432854\ttotal: 10.2s\tremaining: 4.34s\n",
      "800:\tlearn: 2282.1397291\ttotal: 11.6s\tremaining: 2.89s\n",
      "900:\tlearn: 2280.0666739\ttotal: 13.1s\tremaining: 1.44s\n",
      "999:\tlearn: 2278.2523654\ttotal: 14.5s\tremaining: 0us\n",
      "0:\tlearn: 4261.5608024\ttotal: 18.9ms\tremaining: 18.9s\n",
      "100:\tlearn: 2332.2382806\ttotal: 1.49s\tremaining: 13.2s\n",
      "200:\tlearn: 2301.7964209\ttotal: 2.98s\tremaining: 11.9s\n",
      "300:\tlearn: 2291.1752071\ttotal: 4.46s\tremaining: 10.4s\n",
      "400:\tlearn: 2283.9123948\ttotal: 5.92s\tremaining: 8.84s\n",
      "500:\tlearn: 2279.0820918\ttotal: 7.34s\tremaining: 7.31s\n",
      "600:\tlearn: 2275.4424201\ttotal: 8.77s\tremaining: 5.83s\n",
      "700:\tlearn: 2272.5189455\ttotal: 10.2s\tremaining: 4.36s\n",
      "800:\tlearn: 2270.2238018\ttotal: 11.7s\tremaining: 2.9s\n",
      "900:\tlearn: 2268.2389874\ttotal: 13.2s\tremaining: 1.45s\n",
      "999:\tlearn: 2266.4628266\ttotal: 14.6s\tremaining: 0us\n",
      "0:\tlearn: 4250.6563242\ttotal: 19.5ms\tremaining: 19.5s\n",
      "100:\tlearn: 2339.2327160\ttotal: 1.47s\tremaining: 13.1s\n",
      "200:\tlearn: 2309.9723813\ttotal: 2.91s\tremaining: 11.6s\n",
      "300:\tlearn: 2299.3951221\ttotal: 4.34s\tremaining: 10.1s\n",
      "400:\tlearn: 2292.3959639\ttotal: 5.78s\tremaining: 8.63s\n",
      "500:\tlearn: 2287.7235671\ttotal: 7.27s\tremaining: 7.24s\n",
      "600:\tlearn: 2283.9574642\ttotal: 8.74s\tremaining: 5.8s\n",
      "700:\tlearn: 2281.1335535\ttotal: 10.2s\tremaining: 4.34s\n",
      "800:\tlearn: 2278.7308058\ttotal: 11.6s\tremaining: 2.89s\n",
      "900:\tlearn: 2276.6481609\ttotal: 13.1s\tremaining: 1.44s\n",
      "999:\tlearn: 2274.9804315\ttotal: 14.5s\tremaining: 0us\n",
      "0:\tlearn: 4248.5926599\ttotal: 18.4ms\tremaining: 18.3s\n",
      "100:\tlearn: 2341.6533621\ttotal: 1.49s\tremaining: 13.3s\n",
      "200:\tlearn: 2310.7549239\ttotal: 2.94s\tremaining: 11.7s\n",
      "300:\tlearn: 2300.0019411\ttotal: 4.34s\tremaining: 10.1s\n",
      "400:\tlearn: 2292.6193727\ttotal: 5.78s\tremaining: 8.63s\n",
      "500:\tlearn: 2287.3652812\ttotal: 7.24s\tremaining: 7.21s\n",
      "600:\tlearn: 2283.4613275\ttotal: 8.68s\tremaining: 5.76s\n",
      "700:\tlearn: 2280.4054796\ttotal: 10.1s\tremaining: 4.31s\n",
      "800:\tlearn: 2278.0253676\ttotal: 11.6s\tremaining: 2.88s\n",
      "900:\tlearn: 2275.8422998\ttotal: 13s\tremaining: 1.43s\n",
      "999:\tlearn: 2274.1723844\ttotal: 14.4s\tremaining: 0us\n",
      "0:\tlearn: 4251.4581001\ttotal: 27.3ms\tremaining: 27.3s\n",
      "100:\tlearn: 2346.0302212\ttotal: 1.85s\tremaining: 16.5s\n",
      "200:\tlearn: 2317.3411376\ttotal: 3.64s\tremaining: 14.5s\n",
      "300:\tlearn: 2307.7658163\ttotal: 5.44s\tremaining: 12.6s\n",
      "400:\tlearn: 2301.3794931\ttotal: 7.26s\tremaining: 10.8s\n",
      "500:\tlearn: 2296.8866857\ttotal: 9.05s\tremaining: 9.01s\n",
      "600:\tlearn: 2293.0554667\ttotal: 10.9s\tremaining: 7.23s\n",
      "700:\tlearn: 2289.9105960\ttotal: 12.7s\tremaining: 5.42s\n",
      "800:\tlearn: 2287.4299060\ttotal: 14.5s\tremaining: 3.61s\n",
      "900:\tlearn: 2285.3729993\ttotal: 16.4s\tremaining: 1.8s\n",
      "999:\tlearn: 2283.4607879\ttotal: 18.2s\tremaining: 0us\n"
     ]
    }
   ],
   "source": [
    "param_grid = {\n",
    "    'depth': [1, 5],\n",
    "    'learning_rate': [0.1, 0.3]\n",
    "}\n",
    "\n",
    "random_search_catboost = RandomizedSearchCV(\n",
    "    estimator=catboost_model, \n",
    "    param_distributions=param_grid, \n",
    "    scoring='neg_root_mean_squared_error', \n",
    "    cv=5,\n",
    "    n_iter=1\n",
    ")\n",
    "\n",
    "start_learn = time()\n",
    "\n",
    "random_search_catboost.fit(X_train, y_train)\n",
    "\n",
    "end_learn = time()\n",
    "time_learn = (end_learn - start_learn) / 60\n",
    "model_time_learn.append(time_learn)"
   ]
  },
  {
   "cell_type": "code",
   "execution_count": 68,
   "metadata": {},
   "outputs": [],
   "source": [
    "models.append(random_search_catboost)"
   ]
  },
  {
   "cell_type": "code",
   "execution_count": 69,
   "metadata": {},
   "outputs": [],
   "source": [
    "RMSE = []\n",
    "model_time_predict = []"
   ]
  },
  {
   "cell_type": "code",
   "execution_count": 70,
   "metadata": {},
   "outputs": [],
   "source": [
    "for i in models:\n",
    "    RMSE.append(-i.best_score_)\n",
    "    start_predict = time()\n",
    "    i.predict(X_train)\n",
    "    end_predict = time()\n",
    "    time_predict = (end_predict - start_predict) / 60\n",
    "    model_time_predict.append(time_predict) "
   ]
  },
  {
   "cell_type": "code",
   "execution_count": 71,
   "metadata": {},
   "outputs": [
    {
     "data": {
      "text/html": [
       "<div>\n",
       "<style scoped>\n",
       "    .dataframe tbody tr th:only-of-type {\n",
       "        vertical-align: middle;\n",
       "    }\n",
       "\n",
       "    .dataframe tbody tr th {\n",
       "        vertical-align: top;\n",
       "    }\n",
       "\n",
       "    .dataframe thead th {\n",
       "        text-align: right;\n",
       "    }\n",
       "</style>\n",
       "<table border=\"1\" class=\"dataframe\">\n",
       "  <thead>\n",
       "    <tr style=\"text-align: right;\">\n",
       "      <th></th>\n",
       "      <th>model</th>\n",
       "      <th>RMSE</th>\n",
       "      <th>model_time_learn</th>\n",
       "      <th>model_time_predict</th>\n",
       "    </tr>\n",
       "  </thead>\n",
       "  <tbody>\n",
       "    <tr>\n",
       "      <th>0</th>\n",
       "      <td>LinearRegression</td>\n",
       "      <td>2428.058170</td>\n",
       "      <td>2.526569</td>\n",
       "      <td>0.013026</td>\n",
       "    </tr>\n",
       "    <tr>\n",
       "      <th>1</th>\n",
       "      <td>LightGBM</td>\n",
       "      <td>1710.893679</td>\n",
       "      <td>1.184046</td>\n",
       "      <td>0.021848</td>\n",
       "    </tr>\n",
       "    <tr>\n",
       "      <th>2</th>\n",
       "      <td>CatBoost</td>\n",
       "      <td>2267.286734</td>\n",
       "      <td>1.649016</td>\n",
       "      <td>0.003816</td>\n",
       "    </tr>\n",
       "  </tbody>\n",
       "</table>\n",
       "</div>"
      ],
      "text/plain": [
       "              model         RMSE  model_time_learn  model_time_predict\n",
       "0  LinearRegression  2428.058170          2.526569            0.013026\n",
       "1          LightGBM  1710.893679          1.184046            0.021848\n",
       "2          CatBoost  2267.286734          1.649016            0.003816"
      ]
     },
     "execution_count": 71,
     "metadata": {},
     "output_type": "execute_result"
    }
   ],
   "source": [
    "models_result = pd.DataFrame(\n",
    "    {'model':['LinearRegression', 'LightGBM', 'CatBoost'],\n",
    "     'RMSE': RMSE,\n",
    "     'model_time_learn': model_time_learn,\n",
    "     'model_time_predict': model_time_predict,\n",
    "     \n",
    "    }\n",
    ")\n",
    "models_result"
   ]
  },
  {
   "cell_type": "markdown",
   "metadata": {},
   "source": [
    "**Вывод:**\n",
    "- обучили три модели: \n",
    "    - линейная регрессия\n",
    "    - LightGBM\n",
    "    - CatBoost\n",
    "- Лучшей по критериям для заказчика является модель LightGBM. У нее лучшие показатели по времени и метрика RMSE находится в пределах границы 2500."
   ]
  },
  {
   "cell_type": "markdown",
   "metadata": {},
   "source": [
    "Оценим модель на тестовой выборке."
   ]
  },
  {
   "cell_type": "code",
   "execution_count": 72,
   "metadata": {},
   "outputs": [],
   "source": [
    "model_lgbm = random_search_lgbm.best_estimator_"
   ]
  },
  {
   "cell_type": "code",
   "execution_count": 74,
   "metadata": {},
   "outputs": [
    {
     "name": "stdout",
     "output_type": "stream",
     "text": [
      "RMSE на тестовой выборке:  1713.537967552705\n",
      "Время предсказания на тестовой выборке:  0.0068559368451436365\n"
     ]
    }
   ],
   "source": [
    "start_test = time() \n",
    "RMSE_test = root_mean_squared_error(y_test, model_lgbm.predict(X_test))\n",
    "end_test = time()\n",
    "model_time_test = (end_test - start_test) / 60 \n",
    "print('RMSE на тестовой выборке: ', RMSE_test)\n",
    "print('Время предсказания на тестовой выборке: ', model_time_test)"
   ]
  },
  {
   "cell_type": "markdown",
   "metadata": {},
   "source": [
    "**Вывод по работе модели на тестовой выборке:**\n",
    "\n",
    "- RMSE - 1713.54\n",
    "- Время предсказания - 0.0069\n",
    "- Значения соответствуют условию."
   ]
  }
 ],
 "metadata": {
  "ExecuteTimeLog": [
   {
    "duration": 7279,
    "start_time": "2025-04-08T17:36:36.552Z"
   },
   {
    "duration": 3158,
    "start_time": "2025-04-08T17:36:43.834Z"
   },
   {
    "duration": 1595,
    "start_time": "2025-04-08T17:36:46.995Z"
   },
   {
    "duration": 4,
    "start_time": "2025-04-08T17:38:34.367Z"
   },
   {
    "duration": 2,
    "start_time": "2025-04-08T17:38:36.718Z"
   },
   {
    "duration": 1248,
    "start_time": "2025-04-08T17:40:14.873Z"
   },
   {
    "duration": 165,
    "start_time": "2025-04-08T17:41:10.196Z"
   },
   {
    "duration": 7,
    "start_time": "2025-04-08T17:41:46.949Z"
   },
   {
    "duration": 120,
    "start_time": "2025-04-08T17:42:00.491Z"
   },
   {
    "duration": 123,
    "start_time": "2025-04-08T17:43:49.932Z"
   },
   {
    "duration": 9,
    "start_time": "2025-04-08T17:43:57.802Z"
   },
   {
    "duration": 3,
    "start_time": "2025-04-08T17:44:25.242Z"
   },
   {
    "duration": 106,
    "start_time": "2025-04-08T17:44:32.258Z"
   },
   {
    "duration": 6,
    "start_time": "2025-04-08T18:03:00.074Z"
   },
   {
    "duration": 3,
    "start_time": "2025-04-08T18:03:39.821Z"
   },
   {
    "duration": 5,
    "start_time": "2025-04-08T18:03:44.191Z"
   },
   {
    "duration": 3,
    "start_time": "2025-04-08T18:05:27.196Z"
   },
   {
    "duration": 639,
    "start_time": "2025-04-08T18:05:44.418Z"
   },
   {
    "duration": 4,
    "start_time": "2025-04-08T18:06:07.812Z"
   },
   {
    "duration": 688,
    "start_time": "2025-04-08T18:06:08.269Z"
   },
   {
    "duration": 4,
    "start_time": "2025-04-08T18:06:18.713Z"
   },
   {
    "duration": 676,
    "start_time": "2025-04-08T18:06:19.059Z"
   },
   {
    "duration": 176,
    "start_time": "2025-04-08T18:27:51.914Z"
   },
   {
    "duration": 3,
    "start_time": "2025-04-08T18:30:11.231Z"
   },
   {
    "duration": 637,
    "start_time": "2025-04-08T18:30:12.672Z"
   },
   {
    "duration": 8,
    "start_time": "2025-04-08T18:30:30.489Z"
   },
   {
    "duration": 523,
    "start_time": "2025-04-08T18:30:40.863Z"
   },
   {
    "duration": 4,
    "start_time": "2025-04-08T18:30:52.022Z"
   },
   {
    "duration": 645,
    "start_time": "2025-04-08T18:30:52.526Z"
   },
   {
    "duration": 4,
    "start_time": "2025-04-08T18:31:02.950Z"
   },
   {
    "duration": 679,
    "start_time": "2025-04-08T18:31:03.749Z"
   },
   {
    "duration": 3,
    "start_time": "2025-04-08T18:32:10.189Z"
   },
   {
    "duration": 658,
    "start_time": "2025-04-08T18:32:15.421Z"
   },
   {
    "duration": 4,
    "start_time": "2025-04-08T18:32:24.996Z"
   },
   {
    "duration": 621,
    "start_time": "2025-04-08T18:32:32.274Z"
   },
   {
    "duration": 633,
    "start_time": "2025-04-08T18:34:36.244Z"
   },
   {
    "duration": 59,
    "start_time": "2025-04-08T18:36:21.681Z"
   },
   {
    "duration": 63,
    "start_time": "2025-04-08T18:36:52.361Z"
   },
   {
    "duration": 66,
    "start_time": "2025-04-08T18:37:37.352Z"
   },
   {
    "duration": 60,
    "start_time": "2025-04-08T18:37:47.600Z"
   },
   {
    "duration": 57,
    "start_time": "2025-04-08T18:37:55.976Z"
   },
   {
    "duration": 5,
    "start_time": "2025-04-08T18:38:11.038Z"
   },
   {
    "duration": 56,
    "start_time": "2025-04-08T18:39:04.915Z"
   },
   {
    "duration": 21,
    "start_time": "2025-04-08T18:39:36.604Z"
   },
   {
    "duration": 28,
    "start_time": "2025-04-08T18:40:02.850Z"
   },
   {
    "duration": 37,
    "start_time": "2025-04-08T18:40:19.456Z"
   },
   {
    "duration": 4,
    "start_time": "2025-04-08T18:40:57.921Z"
   },
   {
    "duration": 1094,
    "start_time": "2025-04-08T18:41:11.688Z"
   },
   {
    "duration": 5,
    "start_time": "2025-04-08T18:41:18.024Z"
   },
   {
    "duration": 17,
    "start_time": "2025-04-08T18:41:31.162Z"
   },
   {
    "duration": 64,
    "start_time": "2025-04-08T18:41:39.488Z"
   },
   {
    "duration": 19,
    "start_time": "2025-04-08T18:41:49.064Z"
   },
   {
    "duration": 582,
    "start_time": "2025-04-08T18:44:59.743Z"
   },
   {
    "duration": 28,
    "start_time": "2025-04-08T18:45:06.061Z"
   },
   {
    "duration": 4,
    "start_time": "2025-04-08T18:45:53.321Z"
   },
   {
    "duration": 8962,
    "start_time": "2025-04-09T17:29:12.368Z"
   },
   {
    "duration": 3224,
    "start_time": "2025-04-09T17:29:21.332Z"
   },
   {
    "duration": 1621,
    "start_time": "2025-04-09T17:29:24.559Z"
   },
   {
    "duration": 2,
    "start_time": "2025-04-09T17:29:26.183Z"
   },
   {
    "duration": 983,
    "start_time": "2025-04-09T17:29:26.188Z"
   },
   {
    "duration": 170,
    "start_time": "2025-04-09T17:29:27.173Z"
   },
   {
    "duration": 118,
    "start_time": "2025-04-09T17:29:27.345Z"
   },
   {
    "duration": 4,
    "start_time": "2025-04-09T17:29:27.465Z"
   },
   {
    "duration": 5,
    "start_time": "2025-04-09T17:29:27.470Z"
   },
   {
    "duration": 70,
    "start_time": "2025-04-09T17:29:27.476Z"
   },
   {
    "duration": 40,
    "start_time": "2025-04-09T17:29:27.548Z"
   },
   {
    "duration": 654,
    "start_time": "2025-04-09T17:29:27.590Z"
   },
   {
    "duration": 4,
    "start_time": "2025-04-09T17:29:41.926Z"
   },
   {
    "duration": 475,
    "start_time": "2025-04-09T17:33:13.573Z"
   },
   {
    "duration": 594,
    "start_time": "2025-04-09T17:33:36.667Z"
   },
   {
    "duration": 5,
    "start_time": "2025-04-09T17:33:39.157Z"
   },
   {
    "duration": 4,
    "start_time": "2025-04-09T17:36:28.121Z"
   },
   {
    "duration": 75,
    "start_time": "2025-04-09T17:37:26.137Z"
   },
   {
    "duration": 32,
    "start_time": "2025-04-09T17:37:32.135Z"
   },
   {
    "duration": 39,
    "start_time": "2025-04-09T17:38:25.510Z"
   },
   {
    "duration": 99,
    "start_time": "2025-04-09T17:39:08.381Z"
   },
   {
    "duration": 95,
    "start_time": "2025-04-09T17:42:17.234Z"
   },
   {
    "duration": 99,
    "start_time": "2025-04-09T17:42:22.630Z"
   },
   {
    "duration": 107,
    "start_time": "2025-04-09T17:45:18.154Z"
   },
   {
    "duration": 118,
    "start_time": "2025-04-09T17:45:27.055Z"
   },
   {
    "duration": 122,
    "start_time": "2025-04-09T17:46:01.694Z"
   },
   {
    "duration": 194,
    "start_time": "2025-04-09T17:47:39.525Z"
   },
   {
    "duration": 106,
    "start_time": "2025-04-09T17:48:46.704Z"
   },
   {
    "duration": 121,
    "start_time": "2025-04-09T17:50:08.498Z"
   },
   {
    "duration": 1226,
    "start_time": "2025-04-09T17:50:27.032Z"
   },
   {
    "duration": 41,
    "start_time": "2025-04-09T17:50:47.614Z"
   },
   {
    "duration": 40,
    "start_time": "2025-04-09T17:51:20.119Z"
   },
   {
    "duration": 41,
    "start_time": "2025-04-09T17:51:25.190Z"
   },
   {
    "duration": 32,
    "start_time": "2025-04-09T17:57:50.841Z"
   },
   {
    "duration": 42,
    "start_time": "2025-04-09T17:57:56.290Z"
   },
   {
    "duration": 76,
    "start_time": "2025-04-09T18:01:59.267Z"
   },
   {
    "duration": 40,
    "start_time": "2025-04-09T18:02:19.495Z"
   },
   {
    "duration": 22,
    "start_time": "2025-04-09T18:03:42.126Z"
   },
   {
    "duration": 6,
    "start_time": "2025-04-09T18:10:59.090Z"
   },
   {
    "duration": 5,
    "start_time": "2025-04-09T18:11:20.525Z"
   },
   {
    "duration": 710,
    "start_time": "2025-04-09T18:11:32.352Z"
   },
   {
    "duration": 4,
    "start_time": "2025-04-09T18:12:43.964Z"
   },
   {
    "duration": 658,
    "start_time": "2025-04-09T18:12:47.285Z"
   },
   {
    "duration": 6,
    "start_time": "2025-04-09T18:14:04.273Z"
   },
   {
    "duration": 432,
    "start_time": "2025-04-09T18:14:06.740Z"
   },
   {
    "duration": 5,
    "start_time": "2025-04-09T18:14:52.345Z"
   },
   {
    "duration": 438,
    "start_time": "2025-04-09T18:14:52.768Z"
   },
   {
    "duration": 5,
    "start_time": "2025-04-09T18:15:24.568Z"
   },
   {
    "duration": 459,
    "start_time": "2025-04-09T18:15:24.819Z"
   },
   {
    "duration": 75,
    "start_time": "2025-04-09T18:15:55.760Z"
   },
   {
    "duration": 480,
    "start_time": "2025-04-09T18:15:56.000Z"
   },
   {
    "duration": 6,
    "start_time": "2025-04-09T18:16:07.287Z"
   },
   {
    "duration": 459,
    "start_time": "2025-04-09T18:16:08.128Z"
   },
   {
    "duration": 5,
    "start_time": "2025-04-09T18:16:22.908Z"
   },
   {
    "duration": 547,
    "start_time": "2025-04-09T18:16:24.142Z"
   },
   {
    "duration": 4,
    "start_time": "2025-04-09T18:16:45.589Z"
   },
   {
    "duration": 426,
    "start_time": "2025-04-09T18:16:46.153Z"
   },
   {
    "duration": 5,
    "start_time": "2025-04-09T18:19:17.139Z"
   },
   {
    "duration": 439,
    "start_time": "2025-04-09T18:19:21.937Z"
   },
   {
    "duration": 5,
    "start_time": "2025-04-09T18:21:10.449Z"
   },
   {
    "duration": 451,
    "start_time": "2025-04-09T18:21:12.830Z"
   },
   {
    "duration": 21,
    "start_time": "2025-04-09T18:22:37.565Z"
   },
   {
    "duration": 14,
    "start_time": "2025-04-09T18:22:52.474Z"
   },
   {
    "duration": 14,
    "start_time": "2025-04-09T18:23:04.391Z"
   },
   {
    "duration": 15,
    "start_time": "2025-04-09T18:23:09.350Z"
   },
   {
    "duration": 13,
    "start_time": "2025-04-09T18:23:52.166Z"
   },
   {
    "duration": 17,
    "start_time": "2025-04-09T18:23:56.081Z"
   },
   {
    "duration": 22,
    "start_time": "2025-04-09T18:27:28.181Z"
   },
   {
    "duration": 4,
    "start_time": "2025-04-09T18:27:38.652Z"
   },
   {
    "duration": 395,
    "start_time": "2025-04-09T18:35:39.091Z"
   },
   {
    "duration": 18,
    "start_time": "2025-04-09T18:37:07.957Z"
   },
   {
    "duration": 9,
    "start_time": "2025-04-09T18:40:21.843Z"
   },
   {
    "duration": 10,
    "start_time": "2025-04-09T18:41:04.821Z"
   },
   {
    "duration": 11,
    "start_time": "2025-04-09T18:41:11.519Z"
   },
   {
    "duration": 11,
    "start_time": "2025-04-09T18:41:17.507Z"
   },
   {
    "duration": 18,
    "start_time": "2025-04-09T18:41:42.381Z"
   },
   {
    "duration": 19,
    "start_time": "2025-04-09T18:42:26.002Z"
   },
   {
    "duration": 17,
    "start_time": "2025-04-09T18:42:36.402Z"
   },
   {
    "duration": 18,
    "start_time": "2025-04-09T18:42:51.151Z"
   },
   {
    "duration": 19,
    "start_time": "2025-04-09T18:42:55.603Z"
   },
   {
    "duration": 13,
    "start_time": "2025-04-09T18:43:03.590Z"
   },
   {
    "duration": 8,
    "start_time": "2025-04-09T18:43:13.040Z"
   },
   {
    "duration": 19,
    "start_time": "2025-04-09T18:43:22.437Z"
   },
   {
    "duration": 444,
    "start_time": "2025-04-09T18:43:43.268Z"
   },
   {
    "duration": 10,
    "start_time": "2025-04-09T18:44:52.400Z"
   },
   {
    "duration": 9,
    "start_time": "2025-04-09T18:44:56.707Z"
   },
   {
    "duration": 10,
    "start_time": "2025-04-09T18:45:00.721Z"
   },
   {
    "duration": 15,
    "start_time": "2025-04-09T18:47:01.742Z"
   },
   {
    "duration": 16,
    "start_time": "2025-04-09T18:47:46.102Z"
   },
   {
    "duration": 11,
    "start_time": "2025-04-09T18:48:16.234Z"
   },
   {
    "duration": 27,
    "start_time": "2025-04-09T18:49:17.481Z"
   },
   {
    "duration": 385,
    "start_time": "2025-04-09T18:49:22.834Z"
   },
   {
    "duration": 3252,
    "start_time": "2025-04-09T18:52:32.196Z"
   },
   {
    "duration": 8,
    "start_time": "2025-04-09T18:54:21.442Z"
   },
   {
    "duration": 11,
    "start_time": "2025-04-09T18:54:46.771Z"
   },
   {
    "duration": 304,
    "start_time": "2025-04-09T18:55:19.993Z"
   },
   {
    "duration": 143,
    "start_time": "2025-04-09T18:56:32.466Z"
   },
   {
    "duration": 140,
    "start_time": "2025-04-09T18:57:01.186Z"
   },
   {
    "duration": 139,
    "start_time": "2025-04-09T18:57:12.089Z"
   },
   {
    "duration": 14,
    "start_time": "2025-04-09T18:57:47.642Z"
   },
   {
    "duration": 13,
    "start_time": "2025-04-09T18:57:55.662Z"
   },
   {
    "duration": 468,
    "start_time": "2025-04-09T18:58:38.292Z"
   },
   {
    "duration": 4,
    "start_time": "2025-04-09T18:59:59.153Z"
   },
   {
    "duration": 37,
    "start_time": "2025-04-09T19:01:23.696Z"
   },
   {
    "duration": 17,
    "start_time": "2025-04-09T19:02:01.760Z"
   },
   {
    "duration": 508,
    "start_time": "2025-04-09T19:02:30.800Z"
   },
   {
    "duration": 9,
    "start_time": "2025-04-09T19:02:56.264Z"
   },
   {
    "duration": 21,
    "start_time": "2025-04-09T19:03:32.650Z"
   },
   {
    "duration": 21,
    "start_time": "2025-04-09T19:03:55.053Z"
   },
   {
    "duration": 21,
    "start_time": "2025-04-09T19:04:58.643Z"
   },
   {
    "duration": 407,
    "start_time": "2025-04-09T19:05:05.614Z"
   },
   {
    "duration": 8,
    "start_time": "2025-04-09T19:05:16.870Z"
   },
   {
    "duration": 21,
    "start_time": "2025-04-09T19:07:03.085Z"
   },
   {
    "duration": 419,
    "start_time": "2025-04-09T19:07:06.404Z"
   },
   {
    "duration": 20,
    "start_time": "2025-04-09T19:07:17.478Z"
   },
   {
    "duration": 414,
    "start_time": "2025-04-09T19:07:17.831Z"
   },
   {
    "duration": 24,
    "start_time": "2025-04-09T19:07:25.319Z"
   },
   {
    "duration": 407,
    "start_time": "2025-04-09T19:07:25.549Z"
   },
   {
    "duration": 11,
    "start_time": "2025-04-09T19:07:41.308Z"
   },
   {
    "duration": 19,
    "start_time": "2025-04-09T19:07:51.393Z"
   },
   {
    "duration": 428,
    "start_time": "2025-04-09T19:07:53.739Z"
   },
   {
    "duration": 9,
    "start_time": "2025-04-09T19:09:01.921Z"
   },
   {
    "duration": 8,
    "start_time": "2025-04-09T19:09:07.678Z"
   },
   {
    "duration": 21,
    "start_time": "2025-04-09T19:10:12.736Z"
   },
   {
    "duration": 544,
    "start_time": "2025-04-09T19:10:13.886Z"
   },
   {
    "duration": 4,
    "start_time": "2025-04-09T19:10:32.953Z"
   },
   {
    "duration": 10,
    "start_time": "2025-04-09T19:14:37.092Z"
   },
   {
    "duration": 2,
    "start_time": "2025-04-09T19:14:40.530Z"
   },
   {
    "duration": 5592,
    "start_time": "2025-04-09T19:14:40.930Z"
   },
   {
    "duration": 14,
    "start_time": "2025-04-09T19:30:16.486Z"
   },
   {
    "duration": 17,
    "start_time": "2025-04-09T19:30:16.699Z"
   },
   {
    "duration": 57,
    "start_time": "2025-04-09T19:30:35.168Z"
   },
   {
    "duration": 3,
    "start_time": "2025-04-09T19:31:30.373Z"
   },
   {
    "duration": 11,
    "start_time": "2025-04-09T19:32:09.196Z"
   },
   {
    "duration": 7,
    "start_time": "2025-04-09T19:32:44.936Z"
   },
   {
    "duration": 10,
    "start_time": "2025-04-09T19:32:50.645Z"
   },
   {
    "duration": 3,
    "start_time": "2025-04-09T19:33:35.728Z"
   },
   {
    "duration": 10,
    "start_time": "2025-04-09T19:33:40.793Z"
   },
   {
    "duration": 37,
    "start_time": "2025-04-09T19:34:46.822Z"
   },
   {
    "duration": 15,
    "start_time": "2025-04-09T19:36:24.691Z"
   },
   {
    "duration": 10,
    "start_time": "2025-04-09T19:38:45.372Z"
   },
   {
    "duration": 2591,
    "start_time": "2025-04-09T19:39:51.586Z"
   },
   {
    "duration": 17,
    "start_time": "2025-04-09T19:40:07.032Z"
   },
   {
    "duration": 5,
    "start_time": "2025-04-09T19:40:22.135Z"
   },
   {
    "duration": 3,
    "start_time": "2025-04-09T19:41:38.054Z"
   },
   {
    "duration": 4,
    "start_time": "2025-04-09T19:41:44.368Z"
   },
   {
    "duration": 3,
    "start_time": "2025-04-09T19:42:48.863Z"
   },
   {
    "duration": 13,
    "start_time": "2025-04-09T19:43:55.262Z"
   },
   {
    "duration": 4,
    "start_time": "2025-04-09T19:44:18.042Z"
   },
   {
    "duration": 3,
    "start_time": "2025-04-09T19:44:27.036Z"
   },
   {
    "duration": 14,
    "start_time": "2025-04-09T19:45:00.143Z"
   },
   {
    "duration": 5,
    "start_time": "2025-04-09T19:49:14.950Z"
   },
   {
    "duration": 23,
    "start_time": "2025-04-09T19:49:17.454Z"
   },
   {
    "duration": 3,
    "start_time": "2025-04-09T19:49:36.348Z"
   },
   {
    "duration": 22,
    "start_time": "2025-04-09T19:49:38.604Z"
   },
   {
    "duration": 3,
    "start_time": "2025-04-09T19:50:10.939Z"
   },
   {
    "duration": 2811,
    "start_time": "2025-04-09T19:51:03.521Z"
   },
   {
    "duration": 2868,
    "start_time": "2025-04-09T19:51:06.334Z"
   },
   {
    "duration": 1550,
    "start_time": "2025-04-09T19:51:09.205Z"
   },
   {
    "duration": 3,
    "start_time": "2025-04-09T19:51:10.757Z"
   },
   {
    "duration": 1136,
    "start_time": "2025-04-09T19:51:10.763Z"
   },
   {
    "duration": 170,
    "start_time": "2025-04-09T19:51:11.900Z"
   },
   {
    "duration": 120,
    "start_time": "2025-04-09T19:51:12.071Z"
   },
   {
    "duration": 4,
    "start_time": "2025-04-09T19:51:12.193Z"
   },
   {
    "duration": 115,
    "start_time": "2025-04-09T19:51:12.198Z"
   },
   {
    "duration": 15,
    "start_time": "2025-04-09T19:51:12.315Z"
   },
   {
    "duration": 17,
    "start_time": "2025-04-09T19:51:12.332Z"
   },
   {
    "duration": 689,
    "start_time": "2025-04-09T19:51:12.351Z"
   },
   {
    "duration": 515,
    "start_time": "2025-04-09T19:51:13.041Z"
   },
   {
    "duration": 617,
    "start_time": "2025-04-09T19:51:13.560Z"
   },
   {
    "duration": 3,
    "start_time": "2025-04-09T19:51:14.179Z"
   },
   {
    "duration": 118,
    "start_time": "2025-04-09T19:51:14.184Z"
   },
   {
    "duration": 51,
    "start_time": "2025-04-09T19:51:14.305Z"
   },
   {
    "duration": 80,
    "start_time": "2025-04-09T19:51:14.358Z"
   },
   {
    "duration": 0,
    "start_time": "2025-04-09T19:51:14.441Z"
   },
   {
    "duration": 0,
    "start_time": "2025-04-09T19:51:14.442Z"
   },
   {
    "duration": 0,
    "start_time": "2025-04-09T19:51:14.443Z"
   },
   {
    "duration": 0,
    "start_time": "2025-04-09T19:51:14.444Z"
   },
   {
    "duration": 0,
    "start_time": "2025-04-09T19:51:14.445Z"
   },
   {
    "duration": 0,
    "start_time": "2025-04-09T19:51:14.446Z"
   },
   {
    "duration": 1,
    "start_time": "2025-04-09T19:51:14.447Z"
   },
   {
    "duration": 0,
    "start_time": "2025-04-09T19:51:14.449Z"
   },
   {
    "duration": 0,
    "start_time": "2025-04-09T19:51:14.450Z"
   },
   {
    "duration": 0,
    "start_time": "2025-04-09T19:51:14.451Z"
   },
   {
    "duration": 0,
    "start_time": "2025-04-09T19:51:14.452Z"
   },
   {
    "duration": 0,
    "start_time": "2025-04-09T19:51:14.453Z"
   },
   {
    "duration": 0,
    "start_time": "2025-04-09T19:51:14.454Z"
   },
   {
    "duration": 0,
    "start_time": "2025-04-09T19:51:14.455Z"
   },
   {
    "duration": 0,
    "start_time": "2025-04-09T19:51:14.456Z"
   },
   {
    "duration": 0,
    "start_time": "2025-04-09T19:51:14.457Z"
   },
   {
    "duration": 0,
    "start_time": "2025-04-09T19:51:14.459Z"
   },
   {
    "duration": 0,
    "start_time": "2025-04-09T19:51:14.460Z"
   },
   {
    "duration": 0,
    "start_time": "2025-04-09T19:51:14.461Z"
   },
   {
    "duration": 0,
    "start_time": "2025-04-09T19:51:14.462Z"
   },
   {
    "duration": 0,
    "start_time": "2025-04-09T19:51:14.463Z"
   },
   {
    "duration": 0,
    "start_time": "2025-04-09T19:51:14.464Z"
   },
   {
    "duration": 0,
    "start_time": "2025-04-09T19:51:14.465Z"
   },
   {
    "duration": 0,
    "start_time": "2025-04-09T19:51:14.466Z"
   },
   {
    "duration": 0,
    "start_time": "2025-04-09T19:51:14.467Z"
   },
   {
    "duration": 0,
    "start_time": "2025-04-09T19:51:14.468Z"
   },
   {
    "duration": 0,
    "start_time": "2025-04-09T19:51:14.469Z"
   },
   {
    "duration": 0,
    "start_time": "2025-04-09T19:51:14.470Z"
   },
   {
    "duration": 0,
    "start_time": "2025-04-09T19:51:14.472Z"
   },
   {
    "duration": 0,
    "start_time": "2025-04-09T19:51:14.473Z"
   },
   {
    "duration": 0,
    "start_time": "2025-04-09T19:51:14.474Z"
   },
   {
    "duration": 0,
    "start_time": "2025-04-09T19:51:14.475Z"
   },
   {
    "duration": 0,
    "start_time": "2025-04-09T19:51:14.476Z"
   },
   {
    "duration": 0,
    "start_time": "2025-04-09T19:51:14.506Z"
   },
   {
    "duration": 0,
    "start_time": "2025-04-09T19:51:14.507Z"
   },
   {
    "duration": 0,
    "start_time": "2025-04-09T19:51:14.508Z"
   },
   {
    "duration": 0,
    "start_time": "2025-04-09T19:51:14.509Z"
   },
   {
    "duration": 219,
    "start_time": "2025-04-09T19:51:49.767Z"
   },
   {
    "duration": 48,
    "start_time": "2025-04-09T19:51:49.988Z"
   },
   {
    "duration": 22,
    "start_time": "2025-04-09T19:51:50.037Z"
   },
   {
    "duration": 74,
    "start_time": "2025-04-09T19:51:50.061Z"
   },
   {
    "duration": 21,
    "start_time": "2025-04-09T19:51:50.137Z"
   },
   {
    "duration": 16,
    "start_time": "2025-04-09T19:51:50.160Z"
   },
   {
    "duration": 551,
    "start_time": "2025-04-09T19:51:50.178Z"
   },
   {
    "duration": 15,
    "start_time": "2025-04-09T19:51:50.731Z"
   },
   {
    "duration": 39,
    "start_time": "2025-04-09T19:51:50.748Z"
   },
   {
    "duration": 4,
    "start_time": "2025-04-09T19:51:50.788Z"
   },
   {
    "duration": 24,
    "start_time": "2025-04-09T19:51:50.806Z"
   },
   {
    "duration": 9,
    "start_time": "2025-04-09T19:51:50.831Z"
   },
   {
    "duration": 31,
    "start_time": "2025-04-09T19:51:50.842Z"
   },
   {
    "duration": 43,
    "start_time": "2025-04-09T19:51:50.877Z"
   },
   {
    "duration": 8,
    "start_time": "2025-04-09T19:51:50.922Z"
   },
   {
    "duration": 391,
    "start_time": "2025-04-09T19:51:50.932Z"
   },
   {
    "duration": 18,
    "start_time": "2025-04-09T19:51:51.325Z"
   },
   {
    "duration": 8,
    "start_time": "2025-04-09T19:51:51.345Z"
   },
   {
    "duration": 10,
    "start_time": "2025-04-09T19:51:51.355Z"
   },
   {
    "duration": 61,
    "start_time": "2025-04-09T19:51:51.367Z"
   },
   {
    "duration": 23,
    "start_time": "2025-04-09T19:51:51.430Z"
   },
   {
    "duration": 43,
    "start_time": "2025-04-09T19:51:51.455Z"
   },
   {
    "duration": 24,
    "start_time": "2025-04-09T19:51:51.499Z"
   },
   {
    "duration": 4,
    "start_time": "2025-04-09T19:51:51.525Z"
   },
   {
    "duration": 598,
    "start_time": "2025-04-09T19:51:51.530Z"
   },
   {
    "duration": 3,
    "start_time": "2025-04-09T19:51:52.130Z"
   },
   {
    "duration": 5835,
    "start_time": "2025-04-09T19:51:52.135Z"
   },
   {
    "duration": 21,
    "start_time": "2025-04-09T19:51:57.972Z"
   },
   {
    "duration": 45,
    "start_time": "2025-04-09T19:51:57.995Z"
   },
   {
    "duration": 79,
    "start_time": "2025-04-09T19:51:58.042Z"
   },
   {
    "duration": 3,
    "start_time": "2025-04-09T19:51:58.123Z"
   },
   {
    "duration": 18,
    "start_time": "2025-04-09T19:51:58.127Z"
   },
   {
    "duration": 17,
    "start_time": "2025-04-09T19:51:58.147Z"
   },
   {
    "duration": 18,
    "start_time": "2025-04-09T19:51:58.166Z"
   },
   {
    "duration": 99,
    "start_time": "2025-04-09T19:51:58.186Z"
   },
   {
    "duration": 22,
    "start_time": "2025-04-09T19:51:58.286Z"
   },
   {
    "duration": 89970,
    "start_time": "2025-04-09T19:51:58.309Z"
   },
   {
    "duration": 0,
    "start_time": "2025-04-09T19:53:28.284Z"
   },
   {
    "duration": 3,
    "start_time": "2025-04-09T19:53:41.536Z"
   },
   {
    "duration": 61,
    "start_time": "2025-04-09T19:54:44.911Z"
   },
   {
    "duration": 2617,
    "start_time": "2025-04-09T19:54:47.818Z"
   },
   {
    "duration": 2627,
    "start_time": "2025-04-09T19:54:50.438Z"
   },
   {
    "duration": 1436,
    "start_time": "2025-04-09T19:54:53.067Z"
   },
   {
    "duration": 2,
    "start_time": "2025-04-09T19:54:54.506Z"
   },
   {
    "duration": 1068,
    "start_time": "2025-04-09T19:54:54.511Z"
   },
   {
    "duration": 156,
    "start_time": "2025-04-09T19:54:55.581Z"
   },
   {
    "duration": 117,
    "start_time": "2025-04-09T19:54:55.739Z"
   },
   {
    "duration": 4,
    "start_time": "2025-04-09T19:54:55.857Z"
   },
   {
    "duration": 74,
    "start_time": "2025-04-09T19:54:55.862Z"
   },
   {
    "duration": 17,
    "start_time": "2025-04-09T19:54:55.938Z"
   },
   {
    "duration": 5,
    "start_time": "2025-04-09T19:54:55.957Z"
   },
   {
    "duration": 681,
    "start_time": "2025-04-09T19:54:55.963Z"
   },
   {
    "duration": 494,
    "start_time": "2025-04-09T19:54:56.646Z"
   },
   {
    "duration": 610,
    "start_time": "2025-04-09T19:54:57.143Z"
   },
   {
    "duration": 4,
    "start_time": "2025-04-09T19:54:57.754Z"
   },
   {
    "duration": 7,
    "start_time": "2025-04-09T19:54:57.760Z"
   },
   {
    "duration": 67,
    "start_time": "2025-04-09T19:54:57.769Z"
   },
   {
    "duration": 200,
    "start_time": "2025-04-09T19:54:57.838Z"
   },
   {
    "duration": 41,
    "start_time": "2025-04-09T19:54:58.039Z"
   },
   {
    "duration": 37,
    "start_time": "2025-04-09T19:54:58.081Z"
   },
   {
    "duration": 64,
    "start_time": "2025-04-09T19:54:58.120Z"
   },
   {
    "duration": 26,
    "start_time": "2025-04-09T19:54:58.185Z"
   },
   {
    "duration": 85,
    "start_time": "2025-04-09T19:54:58.213Z"
   },
   {
    "duration": 461,
    "start_time": "2025-04-09T19:54:58.300Z"
   },
   {
    "duration": 15,
    "start_time": "2025-04-09T19:54:58.762Z"
   },
   {
    "duration": 51,
    "start_time": "2025-04-09T19:54:58.779Z"
   },
   {
    "duration": 5,
    "start_time": "2025-04-09T19:54:58.831Z"
   },
   {
    "duration": 18,
    "start_time": "2025-04-09T19:54:58.838Z"
   },
   {
    "duration": 9,
    "start_time": "2025-04-09T19:54:58.858Z"
   },
   {
    "duration": 40,
    "start_time": "2025-04-09T19:54:58.868Z"
   },
   {
    "duration": 35,
    "start_time": "2025-04-09T19:54:58.910Z"
   },
   {
    "duration": 4,
    "start_time": "2025-04-09T19:54:58.947Z"
   },
   {
    "duration": 416,
    "start_time": "2025-04-09T19:54:58.953Z"
   },
   {
    "duration": 19,
    "start_time": "2025-04-09T19:54:59.371Z"
   },
   {
    "duration": 10,
    "start_time": "2025-04-09T19:54:59.406Z"
   },
   {
    "duration": 9,
    "start_time": "2025-04-09T19:54:59.419Z"
   },
   {
    "duration": 24,
    "start_time": "2025-04-09T19:54:59.430Z"
   },
   {
    "duration": 60,
    "start_time": "2025-04-09T19:54:59.456Z"
   },
   {
    "duration": 22,
    "start_time": "2025-04-09T19:54:59.518Z"
   },
   {
    "duration": 21,
    "start_time": "2025-04-09T19:54:59.542Z"
   },
   {
    "duration": 27,
    "start_time": "2025-04-09T19:54:59.569Z"
   },
   {
    "duration": 587,
    "start_time": "2025-04-09T19:54:59.597Z"
   },
   {
    "duration": 3,
    "start_time": "2025-04-09T19:55:00.186Z"
   },
   {
    "duration": 5715,
    "start_time": "2025-04-09T19:55:00.191Z"
   },
   {
    "duration": 22,
    "start_time": "2025-04-09T19:55:05.907Z"
   },
   {
    "duration": 69,
    "start_time": "2025-04-09T19:55:05.930Z"
   },
   {
    "duration": 70,
    "start_time": "2025-04-09T19:55:06.001Z"
   },
   {
    "duration": 4,
    "start_time": "2025-04-09T19:55:06.074Z"
   },
   {
    "duration": 58,
    "start_time": "2025-04-09T19:55:06.080Z"
   },
   {
    "duration": 19,
    "start_time": "2025-04-09T19:55:06.140Z"
   },
   {
    "duration": 19,
    "start_time": "2025-04-09T19:55:06.161Z"
   },
   {
    "duration": 120,
    "start_time": "2025-04-09T19:55:06.182Z"
   },
   {
    "duration": 23,
    "start_time": "2025-04-09T19:55:06.304Z"
   },
   {
    "duration": 25147,
    "start_time": "2025-04-09T19:55:06.329Z"
   },
   {
    "duration": 3,
    "start_time": "2025-04-09T20:00:47.921Z"
   },
   {
    "duration": 0,
    "start_time": "2025-04-09T20:01:14.906Z"
   },
   {
    "duration": 0,
    "start_time": "2025-04-09T20:01:14.907Z"
   },
   {
    "duration": 4,
    "start_time": "2025-04-09T20:01:42.889Z"
   },
   {
    "duration": 6,
    "start_time": "2025-04-09T20:01:43.693Z"
   },
   {
    "duration": 3,
    "start_time": "2025-04-09T20:01:44.687Z"
   },
   {
    "duration": 3,
    "start_time": "2025-04-09T20:01:45.064Z"
   },
   {
    "duration": 3,
    "start_time": "2025-04-09T20:02:40.096Z"
   },
   {
    "duration": 0,
    "start_time": "2025-04-09T20:03:30.225Z"
   },
   {
    "duration": 0,
    "start_time": "2025-04-09T20:03:30.227Z"
   },
   {
    "duration": 3,
    "start_time": "2025-04-09T20:03:35.147Z"
   },
   {
    "duration": 49425,
    "start_time": "2025-04-09T20:03:36.010Z"
   },
   {
    "duration": 80,
    "start_time": "2025-04-09T20:08:51.802Z"
   },
   {
    "duration": 6,
    "start_time": "2025-04-09T20:09:35.415Z"
   },
   {
    "duration": 49460,
    "start_time": "2025-04-09T20:09:41.741Z"
   },
   {
    "duration": 19,
    "start_time": "2025-04-09T20:12:55.936Z"
   },
   {
    "duration": 46,
    "start_time": "2025-04-10T03:49:14.092Z"
   },
   {
    "duration": 6487,
    "start_time": "2025-04-10T03:49:19.442Z"
   },
   {
    "duration": 2869,
    "start_time": "2025-04-10T03:49:25.931Z"
   },
   {
    "duration": 1630,
    "start_time": "2025-04-10T03:49:28.802Z"
   },
   {
    "duration": 5,
    "start_time": "2025-04-10T03:49:30.434Z"
   },
   {
    "duration": 67,
    "start_time": "2025-04-10T03:49:30.441Z"
   },
   {
    "duration": 1904,
    "start_time": "2025-04-10T03:49:30.510Z"
   },
   {
    "duration": 141,
    "start_time": "2025-04-10T03:49:32.415Z"
   },
   {
    "duration": 150,
    "start_time": "2025-04-10T03:49:32.557Z"
   },
   {
    "duration": 3,
    "start_time": "2025-04-10T03:49:32.709Z"
   },
   {
    "duration": 11,
    "start_time": "2025-04-10T03:49:32.713Z"
   },
   {
    "duration": 6,
    "start_time": "2025-04-10T03:49:32.725Z"
   },
   {
    "duration": 3,
    "start_time": "2025-04-10T03:49:32.733Z"
   },
   {
    "duration": 598,
    "start_time": "2025-04-10T03:49:32.738Z"
   },
   {
    "duration": 459,
    "start_time": "2025-04-10T03:49:33.339Z"
   },
   {
    "duration": 563,
    "start_time": "2025-04-10T03:49:33.799Z"
   },
   {
    "duration": 4,
    "start_time": "2025-04-10T03:49:34.363Z"
   },
   {
    "duration": 19,
    "start_time": "2025-04-10T03:49:34.368Z"
   },
   {
    "duration": 49,
    "start_time": "2025-04-10T03:49:34.388Z"
   },
   {
    "duration": 217,
    "start_time": "2025-04-10T03:49:34.438Z"
   },
   {
    "duration": 36,
    "start_time": "2025-04-10T03:49:34.660Z"
   },
   {
    "duration": 29,
    "start_time": "2025-04-10T03:49:34.697Z"
   },
   {
    "duration": 59,
    "start_time": "2025-04-10T03:49:34.727Z"
   },
   {
    "duration": 19,
    "start_time": "2025-04-10T03:49:34.787Z"
   },
   {
    "duration": 78,
    "start_time": "2025-04-10T03:49:34.808Z"
   },
   {
    "duration": 455,
    "start_time": "2025-04-10T03:49:34.888Z"
   },
   {
    "duration": 23,
    "start_time": "2025-04-10T03:49:35.344Z"
   },
   {
    "duration": 30,
    "start_time": "2025-04-10T03:49:35.369Z"
   },
   {
    "duration": 4,
    "start_time": "2025-04-10T03:49:35.401Z"
   },
   {
    "duration": 20,
    "start_time": "2025-04-10T03:49:35.406Z"
   },
   {
    "duration": 8,
    "start_time": "2025-04-10T03:49:35.427Z"
   },
   {
    "duration": 10,
    "start_time": "2025-04-10T03:49:35.461Z"
   },
   {
    "duration": 190,
    "start_time": "2025-04-10T03:49:35.473Z"
   },
   {
    "duration": 3,
    "start_time": "2025-04-10T03:49:35.665Z"
   },
   {
    "duration": 379,
    "start_time": "2025-04-10T03:49:35.670Z"
   },
   {
    "duration": 23,
    "start_time": "2025-04-10T03:49:36.051Z"
   },
   {
    "duration": 8,
    "start_time": "2025-04-10T03:49:36.076Z"
   },
   {
    "duration": 7,
    "start_time": "2025-04-10T03:49:36.086Z"
   },
   {
    "duration": 40,
    "start_time": "2025-04-10T03:49:36.094Z"
   },
   {
    "duration": 33,
    "start_time": "2025-04-10T03:49:36.135Z"
   },
   {
    "duration": 19,
    "start_time": "2025-04-10T03:49:36.169Z"
   },
   {
    "duration": 19,
    "start_time": "2025-04-10T03:49:36.192Z"
   },
   {
    "duration": 4,
    "start_time": "2025-04-10T03:49:36.213Z"
   },
   {
    "duration": 387,
    "start_time": "2025-04-10T03:49:36.218Z"
   },
   {
    "duration": 3,
    "start_time": "2025-04-10T03:49:36.606Z"
   },
   {
    "duration": 5187,
    "start_time": "2025-04-10T03:49:36.610Z"
   },
   {
    "duration": 17,
    "start_time": "2025-04-10T03:49:41.798Z"
   },
   {
    "duration": 13,
    "start_time": "2025-04-10T03:49:41.817Z"
   },
   {
    "duration": 81,
    "start_time": "2025-04-10T03:50:34.372Z"
   },
   {
    "duration": 12,
    "start_time": "2025-04-10T03:50:47.133Z"
   },
   {
    "duration": 124,
    "start_time": "2025-04-10T03:50:55.583Z"
   },
   {
    "duration": 116,
    "start_time": "2025-04-10T03:51:03.602Z"
   },
   {
    "duration": 118,
    "start_time": "2025-04-10T03:51:22.855Z"
   },
   {
    "duration": 123,
    "start_time": "2025-04-10T03:52:12.271Z"
   },
   {
    "duration": 127,
    "start_time": "2025-04-10T03:52:51.787Z"
   },
   {
    "duration": 141,
    "start_time": "2025-04-10T03:53:00.467Z"
   },
   {
    "duration": 12,
    "start_time": "2025-04-10T03:53:00.611Z"
   },
   {
    "duration": 26,
    "start_time": "2025-04-10T03:53:00.625Z"
   },
   {
    "duration": 60,
    "start_time": "2025-04-10T03:53:00.653Z"
   },
   {
    "duration": 3,
    "start_time": "2025-04-10T03:53:00.715Z"
   },
   {
    "duration": 12,
    "start_time": "2025-04-10T03:53:00.720Z"
   },
   {
    "duration": 11,
    "start_time": "2025-04-10T03:53:00.734Z"
   },
   {
    "duration": 20,
    "start_time": "2025-04-10T03:53:00.747Z"
   },
   {
    "duration": 9,
    "start_time": "2025-04-10T03:53:00.768Z"
   },
   {
    "duration": 4,
    "start_time": "2025-04-10T03:53:00.778Z"
   },
   {
    "duration": 39492,
    "start_time": "2025-04-10T03:53:00.784Z"
   },
   {
    "duration": 3,
    "start_time": "2025-04-10T04:17:25.171Z"
   },
   {
    "duration": 2523,
    "start_time": "2025-04-10T04:17:25.176Z"
   },
   {
    "duration": 7,
    "start_time": "2025-04-10T04:17:27.701Z"
   },
   {
    "duration": 14,
    "start_time": "2025-04-10T04:17:27.710Z"
   },
   {
    "duration": 3,
    "start_time": "2025-04-10T04:17:27.726Z"
   },
   {
    "duration": 848,
    "start_time": "2025-04-10T04:17:27.730Z"
   },
   {
    "duration": 152,
    "start_time": "2025-04-10T04:17:28.579Z"
   },
   {
    "duration": 98,
    "start_time": "2025-04-10T04:17:28.733Z"
   },
   {
    "duration": 4,
    "start_time": "2025-04-10T04:17:28.833Z"
   },
   {
    "duration": 6,
    "start_time": "2025-04-10T04:17:28.838Z"
   },
   {
    "duration": 14,
    "start_time": "2025-04-10T04:17:28.846Z"
   },
   {
    "duration": 7,
    "start_time": "2025-04-10T04:17:28.862Z"
   },
   {
    "duration": 572,
    "start_time": "2025-04-10T04:17:28.870Z"
   },
   {
    "duration": 424,
    "start_time": "2025-04-10T04:17:29.444Z"
   },
   {
    "duration": 543,
    "start_time": "2025-04-10T04:17:29.869Z"
   },
   {
    "duration": 4,
    "start_time": "2025-04-10T04:17:30.414Z"
   },
   {
    "duration": 29,
    "start_time": "2025-04-10T04:17:30.420Z"
   },
   {
    "duration": 42,
    "start_time": "2025-04-10T04:17:30.451Z"
   },
   {
    "duration": 184,
    "start_time": "2025-04-10T04:17:30.495Z"
   },
   {
    "duration": 36,
    "start_time": "2025-04-10T04:17:30.681Z"
   },
   {
    "duration": 61,
    "start_time": "2025-04-10T04:17:30.719Z"
   },
   {
    "duration": 50,
    "start_time": "2025-04-10T04:17:30.782Z"
   },
   {
    "duration": 31,
    "start_time": "2025-04-10T04:17:30.833Z"
   },
   {
    "duration": 4,
    "start_time": "2025-04-10T04:17:30.866Z"
   },
   {
    "duration": 420,
    "start_time": "2025-04-10T04:17:30.872Z"
   },
   {
    "duration": 15,
    "start_time": "2025-04-10T04:17:31.293Z"
   },
   {
    "duration": 74,
    "start_time": "2025-04-10T04:17:31.309Z"
   },
   {
    "duration": 4,
    "start_time": "2025-04-10T04:17:31.385Z"
   },
   {
    "duration": 88,
    "start_time": "2025-04-10T04:17:31.390Z"
   },
   {
    "duration": 7,
    "start_time": "2025-04-10T04:17:31.480Z"
   },
   {
    "duration": 9,
    "start_time": "2025-04-10T04:17:31.489Z"
   },
   {
    "duration": 32,
    "start_time": "2025-04-10T04:17:31.499Z"
   },
   {
    "duration": 4,
    "start_time": "2025-04-10T04:17:31.532Z"
   },
   {
    "duration": 446,
    "start_time": "2025-04-10T04:17:31.538Z"
   },
   {
    "duration": 17,
    "start_time": "2025-04-10T04:17:31.986Z"
   },
   {
    "duration": 9,
    "start_time": "2025-04-10T04:17:32.005Z"
   },
   {
    "duration": 14,
    "start_time": "2025-04-10T04:17:32.016Z"
   },
   {
    "duration": 48,
    "start_time": "2025-04-10T04:17:32.032Z"
   },
   {
    "duration": 21,
    "start_time": "2025-04-10T04:17:32.082Z"
   },
   {
    "duration": 20,
    "start_time": "2025-04-10T04:17:32.105Z"
   },
   {
    "duration": 48,
    "start_time": "2025-04-10T04:17:32.130Z"
   },
   {
    "duration": 5,
    "start_time": "2025-04-10T04:17:32.180Z"
   },
   {
    "duration": 479,
    "start_time": "2025-04-10T04:17:32.187Z"
   },
   {
    "duration": 3,
    "start_time": "2025-04-10T04:17:32.668Z"
   },
   {
    "duration": 5154,
    "start_time": "2025-04-10T04:17:32.673Z"
   },
   {
    "duration": 19,
    "start_time": "2025-04-10T04:17:37.829Z"
   },
   {
    "duration": 140,
    "start_time": "2025-04-10T04:17:37.861Z"
   },
   {
    "duration": 14,
    "start_time": "2025-04-10T04:17:38.003Z"
   },
   {
    "duration": 21,
    "start_time": "2025-04-10T04:17:38.019Z"
   },
   {
    "duration": 47,
    "start_time": "2025-04-10T04:17:38.060Z"
   },
   {
    "duration": 3,
    "start_time": "2025-04-10T04:17:38.109Z"
   },
   {
    "duration": 4,
    "start_time": "2025-04-10T04:17:38.114Z"
   },
   {
    "duration": 4,
    "start_time": "2025-04-10T04:17:38.119Z"
   },
   {
    "duration": 3,
    "start_time": "2025-04-10T04:17:38.124Z"
   },
   {
    "duration": 33,
    "start_time": "2025-04-10T04:17:38.129Z"
   },
   {
    "duration": 5,
    "start_time": "2025-04-10T04:17:38.164Z"
   },
   {
    "duration": 38754,
    "start_time": "2025-04-10T04:17:38.171Z"
   },
   {
    "duration": 4,
    "start_time": "2025-04-10T04:20:47.485Z"
   },
   {
    "duration": 100,
    "start_time": "2025-04-10T04:21:15.606Z"
   },
   {
    "duration": 3,
    "start_time": "2025-04-10T04:21:37.451Z"
   },
   {
    "duration": 105,
    "start_time": "2025-04-10T04:21:58.491Z"
   },
   {
    "duration": 3,
    "start_time": "2025-04-10T04:22:03.844Z"
   },
   {
    "duration": 38573,
    "start_time": "2025-04-10T04:22:13.959Z"
   },
   {
    "duration": 6147,
    "start_time": "2025-04-10T04:23:58.842Z"
   },
   {
    "duration": 2419,
    "start_time": "2025-04-10T04:24:04.991Z"
   },
   {
    "duration": 1334,
    "start_time": "2025-04-10T04:24:07.412Z"
   },
   {
    "duration": 5,
    "start_time": "2025-04-10T04:24:08.748Z"
   },
   {
    "duration": 30,
    "start_time": "2025-04-10T04:24:08.755Z"
   },
   {
    "duration": 901,
    "start_time": "2025-04-10T04:24:08.786Z"
   },
   {
    "duration": 147,
    "start_time": "2025-04-10T04:24:09.689Z"
   },
   {
    "duration": 160,
    "start_time": "2025-04-10T04:24:09.838Z"
   },
   {
    "duration": 5,
    "start_time": "2025-04-10T04:24:10.000Z"
   },
   {
    "duration": 8,
    "start_time": "2025-04-10T04:24:10.006Z"
   },
   {
    "duration": 10,
    "start_time": "2025-04-10T04:24:10.015Z"
   },
   {
    "duration": 4,
    "start_time": "2025-04-10T04:24:10.026Z"
   },
   {
    "duration": 670,
    "start_time": "2025-04-10T04:24:10.033Z"
   },
   {
    "duration": 483,
    "start_time": "2025-04-10T04:24:10.706Z"
   },
   {
    "duration": 603,
    "start_time": "2025-04-10T04:24:11.190Z"
   },
   {
    "duration": 4,
    "start_time": "2025-04-10T04:24:11.795Z"
   },
   {
    "duration": 42,
    "start_time": "2025-04-10T04:24:11.800Z"
   },
   {
    "duration": 45,
    "start_time": "2025-04-10T04:24:11.843Z"
   },
   {
    "duration": 183,
    "start_time": "2025-04-10T04:24:11.889Z"
   },
   {
    "duration": 37,
    "start_time": "2025-04-10T04:24:12.073Z"
   },
   {
    "duration": 19,
    "start_time": "2025-04-10T04:24:12.112Z"
   },
   {
    "duration": 78,
    "start_time": "2025-04-10T04:24:12.132Z"
   },
   {
    "duration": 19,
    "start_time": "2025-04-10T04:24:12.212Z"
   },
   {
    "duration": 6,
    "start_time": "2025-04-10T04:24:12.233Z"
   },
   {
    "duration": 454,
    "start_time": "2025-04-10T04:24:12.240Z"
   },
   {
    "duration": 16,
    "start_time": "2025-04-10T04:24:12.696Z"
   },
   {
    "duration": 95,
    "start_time": "2025-04-10T04:24:12.714Z"
   },
   {
    "duration": 4,
    "start_time": "2025-04-10T04:24:12.811Z"
   },
   {
    "duration": 19,
    "start_time": "2025-04-10T04:24:12.817Z"
   },
   {
    "duration": 9,
    "start_time": "2025-04-10T04:24:12.838Z"
   },
   {
    "duration": 14,
    "start_time": "2025-04-10T04:24:12.849Z"
   },
   {
    "duration": 120,
    "start_time": "2025-04-10T04:24:12.865Z"
   },
   {
    "duration": 5,
    "start_time": "2025-04-10T04:24:12.986Z"
   },
   {
    "duration": 361,
    "start_time": "2025-04-10T04:24:12.993Z"
   },
   {
    "duration": 21,
    "start_time": "2025-04-10T04:24:13.356Z"
   },
   {
    "duration": 9,
    "start_time": "2025-04-10T04:24:13.378Z"
   },
   {
    "duration": 11,
    "start_time": "2025-04-10T04:24:13.389Z"
   },
   {
    "duration": 21,
    "start_time": "2025-04-10T04:24:13.401Z"
   },
   {
    "duration": 97,
    "start_time": "2025-04-10T04:24:13.423Z"
   },
   {
    "duration": 20,
    "start_time": "2025-04-10T04:24:13.522Z"
   },
   {
    "duration": 20,
    "start_time": "2025-04-10T04:24:13.546Z"
   },
   {
    "duration": 77,
    "start_time": "2025-04-10T04:24:13.568Z"
   },
   {
    "duration": 371,
    "start_time": "2025-04-10T04:24:13.647Z"
   },
   {
    "duration": 2,
    "start_time": "2025-04-10T04:24:14.019Z"
   },
   {
    "duration": 5154,
    "start_time": "2025-04-10T04:24:14.023Z"
   },
   {
    "duration": 17,
    "start_time": "2025-04-10T04:24:19.178Z"
   },
   {
    "duration": 135,
    "start_time": "2025-04-10T04:24:19.196Z"
   },
   {
    "duration": 17,
    "start_time": "2025-04-10T04:24:19.332Z"
   },
   {
    "duration": 37,
    "start_time": "2025-04-10T04:24:19.350Z"
   },
   {
    "duration": 53,
    "start_time": "2025-04-10T04:24:19.388Z"
   },
   {
    "duration": 3,
    "start_time": "2025-04-10T04:24:19.442Z"
   },
   {
    "duration": 57,
    "start_time": "2025-04-10T04:24:19.446Z"
   },
   {
    "duration": 8,
    "start_time": "2025-04-10T04:24:19.505Z"
   },
   {
    "duration": 3,
    "start_time": "2025-04-10T04:24:19.515Z"
   },
   {
    "duration": 3,
    "start_time": "2025-04-10T04:24:19.520Z"
   },
   {
    "duration": 11,
    "start_time": "2025-04-10T04:24:19.525Z"
   },
   {
    "duration": 38987,
    "start_time": "2025-04-10T04:24:19.538Z"
   },
   {
    "duration": 2493,
    "start_time": "2025-04-10T04:28:14.038Z"
   },
   {
    "duration": 2376,
    "start_time": "2025-04-10T04:28:16.533Z"
   },
   {
    "duration": 1364,
    "start_time": "2025-04-10T04:28:18.911Z"
   },
   {
    "duration": 4,
    "start_time": "2025-04-10T04:28:20.277Z"
   },
   {
    "duration": 12,
    "start_time": "2025-04-10T04:28:20.283Z"
   },
   {
    "duration": 894,
    "start_time": "2025-04-10T04:28:20.297Z"
   },
   {
    "duration": 156,
    "start_time": "2025-04-10T04:28:21.193Z"
   },
   {
    "duration": 115,
    "start_time": "2025-04-10T04:28:21.350Z"
   },
   {
    "duration": 3,
    "start_time": "2025-04-10T04:28:21.467Z"
   },
   {
    "duration": 38,
    "start_time": "2025-04-10T04:28:21.472Z"
   },
   {
    "duration": 5,
    "start_time": "2025-04-10T04:28:21.511Z"
   },
   {
    "duration": 4,
    "start_time": "2025-04-10T04:28:21.517Z"
   },
   {
    "duration": 616,
    "start_time": "2025-04-10T04:28:21.523Z"
   },
   {
    "duration": 510,
    "start_time": "2025-04-10T04:28:22.142Z"
   },
   {
    "duration": 600,
    "start_time": "2025-04-10T04:28:22.653Z"
   },
   {
    "duration": 7,
    "start_time": "2025-04-10T04:28:23.254Z"
   },
   {
    "duration": 5,
    "start_time": "2025-04-10T04:28:23.263Z"
   },
   {
    "duration": 40,
    "start_time": "2025-04-10T04:28:23.269Z"
   },
   {
    "duration": 196,
    "start_time": "2025-04-10T04:28:23.311Z"
   },
   {
    "duration": 38,
    "start_time": "2025-04-10T04:28:23.509Z"
   },
   {
    "duration": 20,
    "start_time": "2025-04-10T04:28:23.561Z"
   },
   {
    "duration": 105,
    "start_time": "2025-04-10T04:28:23.582Z"
   },
   {
    "duration": 20,
    "start_time": "2025-04-10T04:28:23.689Z"
   },
   {
    "duration": 6,
    "start_time": "2025-04-10T04:28:23.711Z"
   },
   {
    "duration": 431,
    "start_time": "2025-04-10T04:28:23.718Z"
   },
   {
    "duration": 16,
    "start_time": "2025-04-10T04:28:24.159Z"
   },
   {
    "duration": 28,
    "start_time": "2025-04-10T04:28:24.177Z"
   },
   {
    "duration": 4,
    "start_time": "2025-04-10T04:28:24.207Z"
   },
   {
    "duration": 16,
    "start_time": "2025-04-10T04:28:24.213Z"
   },
   {
    "duration": 11,
    "start_time": "2025-04-10T04:28:24.261Z"
   },
   {
    "duration": 8,
    "start_time": "2025-04-10T04:28:24.273Z"
   },
   {
    "duration": 119,
    "start_time": "2025-04-10T04:28:24.283Z"
   },
   {
    "duration": 4,
    "start_time": "2025-04-10T04:28:24.404Z"
   },
   {
    "duration": 366,
    "start_time": "2025-04-10T04:28:24.409Z"
   },
   {
    "duration": 15,
    "start_time": "2025-04-10T04:28:24.777Z"
   },
   {
    "duration": 19,
    "start_time": "2025-04-10T04:28:24.793Z"
   },
   {
    "duration": 7,
    "start_time": "2025-04-10T04:28:24.814Z"
   },
   {
    "duration": 16,
    "start_time": "2025-04-10T04:28:24.823Z"
   },
   {
    "duration": 17,
    "start_time": "2025-04-10T04:28:24.861Z"
   },
   {
    "duration": 16,
    "start_time": "2025-04-10T04:28:24.880Z"
   },
   {
    "duration": 16,
    "start_time": "2025-04-10T04:28:24.900Z"
   },
   {
    "duration": 3,
    "start_time": "2025-04-10T04:28:24.918Z"
   },
   {
    "duration": 412,
    "start_time": "2025-04-10T04:28:24.923Z"
   },
   {
    "duration": 3,
    "start_time": "2025-04-10T04:28:25.336Z"
   },
   {
    "duration": 4629,
    "start_time": "2025-04-10T04:28:25.340Z"
   },
   {
    "duration": 17,
    "start_time": "2025-04-10T04:28:29.971Z"
   },
   {
    "duration": 119,
    "start_time": "2025-04-10T04:28:29.989Z"
   },
   {
    "duration": 10,
    "start_time": "2025-04-10T04:28:30.110Z"
   },
   {
    "duration": 44,
    "start_time": "2025-04-10T04:28:30.122Z"
   },
   {
    "duration": 40,
    "start_time": "2025-04-10T04:28:30.168Z"
   },
   {
    "duration": 3,
    "start_time": "2025-04-10T04:28:30.210Z"
   },
   {
    "duration": 13,
    "start_time": "2025-04-10T04:28:30.214Z"
   },
   {
    "duration": 30,
    "start_time": "2025-04-10T04:28:30.229Z"
   },
   {
    "duration": 26,
    "start_time": "2025-04-10T04:28:30.261Z"
   },
   {
    "duration": 16,
    "start_time": "2025-04-10T04:28:30.289Z"
   },
   {
    "duration": 30,
    "start_time": "2025-04-10T04:28:30.307Z"
   },
   {
    "duration": 32297,
    "start_time": "2025-04-10T04:28:30.338Z"
   },
   {
    "duration": 17,
    "start_time": "2025-04-10T04:29:43.337Z"
   },
   {
    "duration": 5,
    "start_time": "2025-04-10T04:29:44.748Z"
   },
   {
    "duration": 389,
    "start_time": "2025-04-10T04:29:44.755Z"
   },
   {
    "duration": 19,
    "start_time": "2025-04-10T04:29:45.146Z"
   },
   {
    "duration": 8,
    "start_time": "2025-04-10T04:29:45.167Z"
   },
   {
    "duration": 7,
    "start_time": "2025-04-10T04:29:45.178Z"
   },
   {
    "duration": 30,
    "start_time": "2025-04-10T04:29:45.187Z"
   },
   {
    "duration": 25,
    "start_time": "2025-04-10T04:29:45.219Z"
   },
   {
    "duration": 26,
    "start_time": "2025-04-10T04:29:45.246Z"
   },
   {
    "duration": 17,
    "start_time": "2025-04-10T04:29:45.274Z"
   },
   {
    "duration": 4,
    "start_time": "2025-04-10T04:29:45.293Z"
   },
   {
    "duration": 544,
    "start_time": "2025-04-10T04:29:45.300Z"
   },
   {
    "duration": 4,
    "start_time": "2025-04-10T04:29:45.846Z"
   },
   {
    "duration": 4053,
    "start_time": "2025-04-10T04:29:45.860Z"
   },
   {
    "duration": 19,
    "start_time": "2025-04-10T04:29:49.916Z"
   },
   {
    "duration": 110,
    "start_time": "2025-04-10T04:29:49.937Z"
   },
   {
    "duration": 17,
    "start_time": "2025-04-10T04:29:50.049Z"
   },
   {
    "duration": 15,
    "start_time": "2025-04-10T04:29:50.068Z"
   },
   {
    "duration": 39,
    "start_time": "2025-04-10T04:29:50.085Z"
   },
   {
    "duration": 3,
    "start_time": "2025-04-10T04:29:50.125Z"
   },
   {
    "duration": 33,
    "start_time": "2025-04-10T04:29:50.130Z"
   },
   {
    "duration": 4,
    "start_time": "2025-04-10T04:29:50.164Z"
   },
   {
    "duration": 4,
    "start_time": "2025-04-10T04:29:50.170Z"
   },
   {
    "duration": 4,
    "start_time": "2025-04-10T04:29:50.175Z"
   },
   {
    "duration": 4,
    "start_time": "2025-04-10T04:29:50.180Z"
   },
   {
    "duration": 30656,
    "start_time": "2025-04-10T04:29:50.185Z"
   },
   {
    "duration": 2374,
    "start_time": "2025-04-10T04:31:39.492Z"
   },
   {
    "duration": 2399,
    "start_time": "2025-04-10T04:31:41.869Z"
   },
   {
    "duration": 1454,
    "start_time": "2025-04-10T04:31:44.270Z"
   },
   {
    "duration": 7,
    "start_time": "2025-04-10T04:31:45.727Z"
   },
   {
    "duration": 4,
    "start_time": "2025-04-10T04:31:45.738Z"
   },
   {
    "duration": 893,
    "start_time": "2025-04-10T04:31:45.744Z"
   },
   {
    "duration": 151,
    "start_time": "2025-04-10T04:31:46.639Z"
   },
   {
    "duration": 105,
    "start_time": "2025-04-10T04:31:46.791Z"
   },
   {
    "duration": 5,
    "start_time": "2025-04-10T04:31:46.897Z"
   },
   {
    "duration": 4,
    "start_time": "2025-04-10T04:31:46.903Z"
   },
   {
    "duration": 4,
    "start_time": "2025-04-10T04:31:46.909Z"
   },
   {
    "duration": 42,
    "start_time": "2025-04-10T04:31:46.914Z"
   },
   {
    "duration": 635,
    "start_time": "2025-04-10T04:31:46.958Z"
   },
   {
    "duration": 481,
    "start_time": "2025-04-10T04:31:47.596Z"
   },
   {
    "duration": 581,
    "start_time": "2025-04-10T04:31:48.079Z"
   },
   {
    "duration": 3,
    "start_time": "2025-04-10T04:31:48.662Z"
   },
   {
    "duration": 4,
    "start_time": "2025-04-10T04:31:48.667Z"
   },
   {
    "duration": 42,
    "start_time": "2025-04-10T04:31:48.673Z"
   },
   {
    "duration": 197,
    "start_time": "2025-04-10T04:31:48.716Z"
   },
   {
    "duration": 47,
    "start_time": "2025-04-10T04:31:48.914Z"
   },
   {
    "duration": 26,
    "start_time": "2025-04-10T04:31:48.963Z"
   },
   {
    "duration": 88,
    "start_time": "2025-04-10T04:31:48.991Z"
   },
   {
    "duration": 20,
    "start_time": "2025-04-10T04:31:49.080Z"
   },
   {
    "duration": 4,
    "start_time": "2025-04-10T04:31:49.102Z"
   },
   {
    "duration": 439,
    "start_time": "2025-04-10T04:31:49.108Z"
   },
   {
    "duration": 19,
    "start_time": "2025-04-10T04:31:49.548Z"
   },
   {
    "duration": 26,
    "start_time": "2025-04-10T04:31:49.569Z"
   },
   {
    "duration": 35,
    "start_time": "2025-04-10T04:31:49.597Z"
   },
   {
    "duration": 16,
    "start_time": "2025-04-10T04:31:49.633Z"
   },
   {
    "duration": 7,
    "start_time": "2025-04-10T04:31:49.650Z"
   },
   {
    "duration": 7,
    "start_time": "2025-04-10T04:31:49.660Z"
   },
   {
    "duration": 116,
    "start_time": "2025-04-10T04:31:49.669Z"
   },
   {
    "duration": 3,
    "start_time": "2025-04-10T04:31:49.787Z"
   },
   {
    "duration": 362,
    "start_time": "2025-04-10T04:31:49.792Z"
   },
   {
    "duration": 17,
    "start_time": "2025-04-10T04:31:50.156Z"
   },
   {
    "duration": 7,
    "start_time": "2025-04-10T04:31:50.175Z"
   },
   {
    "duration": 8,
    "start_time": "2025-04-10T04:31:50.183Z"
   },
   {
    "duration": 15,
    "start_time": "2025-04-10T04:31:50.192Z"
   },
   {
    "duration": 16,
    "start_time": "2025-04-10T04:31:50.209Z"
   },
   {
    "duration": 50,
    "start_time": "2025-04-10T04:31:50.226Z"
   },
   {
    "duration": 15,
    "start_time": "2025-04-10T04:31:50.280Z"
   },
   {
    "duration": 4,
    "start_time": "2025-04-10T04:31:50.297Z"
   },
   {
    "duration": 376,
    "start_time": "2025-04-10T04:31:50.303Z"
   },
   {
    "duration": 3,
    "start_time": "2025-04-10T04:31:50.680Z"
   },
   {
    "duration": 4368,
    "start_time": "2025-04-10T04:31:50.685Z"
   },
   {
    "duration": 18,
    "start_time": "2025-04-10T04:31:55.055Z"
   },
   {
    "duration": 114,
    "start_time": "2025-04-10T04:31:55.075Z"
   },
   {
    "duration": 11,
    "start_time": "2025-04-10T04:31:55.191Z"
   },
   {
    "duration": 14,
    "start_time": "2025-04-10T04:31:55.203Z"
   },
   {
    "duration": 3,
    "start_time": "2025-04-10T04:31:55.218Z"
   },
   {
    "duration": 57,
    "start_time": "2025-04-10T04:31:55.223Z"
   },
   {
    "duration": 3,
    "start_time": "2025-04-10T04:31:55.282Z"
   },
   {
    "duration": 4,
    "start_time": "2025-04-10T04:31:55.286Z"
   },
   {
    "duration": 5,
    "start_time": "2025-04-10T04:31:55.291Z"
   },
   {
    "duration": 5,
    "start_time": "2025-04-10T04:31:55.297Z"
   },
   {
    "duration": 20,
    "start_time": "2025-04-10T04:31:55.303Z"
   },
   {
    "duration": 54,
    "start_time": "2025-04-10T04:31:55.324Z"
   },
   {
    "duration": 30824,
    "start_time": "2025-04-10T04:31:55.380Z"
   },
   {
    "duration": 3,
    "start_time": "2025-04-10T04:36:49.589Z"
   },
   {
    "duration": 2419,
    "start_time": "2025-04-10T04:36:49.596Z"
   },
   {
    "duration": 1348,
    "start_time": "2025-04-10T04:36:52.018Z"
   },
   {
    "duration": 4,
    "start_time": "2025-04-10T04:36:53.367Z"
   },
   {
    "duration": 30,
    "start_time": "2025-04-10T04:36:53.373Z"
   },
   {
    "duration": 848,
    "start_time": "2025-04-10T04:36:53.405Z"
   },
   {
    "duration": 146,
    "start_time": "2025-04-10T04:36:54.254Z"
   },
   {
    "duration": 153,
    "start_time": "2025-04-10T04:36:54.402Z"
   },
   {
    "duration": 4,
    "start_time": "2025-04-10T04:36:54.557Z"
   },
   {
    "duration": 10,
    "start_time": "2025-04-10T04:36:54.562Z"
   },
   {
    "duration": 94,
    "start_time": "2025-04-10T04:36:54.574Z"
   },
   {
    "duration": 4,
    "start_time": "2025-04-10T04:36:54.670Z"
   },
   {
    "duration": 605,
    "start_time": "2025-04-10T04:36:54.676Z"
   },
   {
    "duration": 515,
    "start_time": "2025-04-10T04:36:55.283Z"
   },
   {
    "duration": 595,
    "start_time": "2025-04-10T04:36:55.802Z"
   },
   {
    "duration": 5,
    "start_time": "2025-04-10T04:36:56.398Z"
   },
   {
    "duration": 15,
    "start_time": "2025-04-10T04:36:56.405Z"
   },
   {
    "duration": 48,
    "start_time": "2025-04-10T04:36:56.422Z"
   },
   {
    "duration": 180,
    "start_time": "2025-04-10T04:36:56.472Z"
   },
   {
    "duration": 37,
    "start_time": "2025-04-10T04:36:56.661Z"
   },
   {
    "duration": 21,
    "start_time": "2025-04-10T04:36:56.699Z"
   },
   {
    "duration": 142,
    "start_time": "2025-04-10T04:36:56.722Z"
   },
   {
    "duration": 20,
    "start_time": "2025-04-10T04:36:56.866Z"
   },
   {
    "duration": 7,
    "start_time": "2025-04-10T04:36:56.888Z"
   },
   {
    "duration": 435,
    "start_time": "2025-04-10T04:36:56.896Z"
   },
   {
    "duration": 13,
    "start_time": "2025-04-10T04:36:57.333Z"
   },
   {
    "duration": 61,
    "start_time": "2025-04-10T04:36:57.360Z"
   },
   {
    "duration": 4,
    "start_time": "2025-04-10T04:36:57.423Z"
   },
   {
    "duration": 17,
    "start_time": "2025-04-10T04:36:57.428Z"
   },
   {
    "duration": 7,
    "start_time": "2025-04-10T04:36:57.447Z"
   },
   {
    "duration": 82,
    "start_time": "2025-04-10T04:36:57.455Z"
   },
   {
    "duration": 102,
    "start_time": "2025-04-10T04:36:57.538Z"
   },
   {
    "duration": 5,
    "start_time": "2025-04-10T04:36:57.641Z"
   },
   {
    "duration": 373,
    "start_time": "2025-04-10T04:36:57.647Z"
   },
   {
    "duration": 15,
    "start_time": "2025-04-10T04:36:58.021Z"
   },
   {
    "duration": 24,
    "start_time": "2025-04-10T04:36:58.038Z"
   },
   {
    "duration": 7,
    "start_time": "2025-04-10T04:36:58.064Z"
   },
   {
    "duration": 15,
    "start_time": "2025-04-10T04:36:58.073Z"
   },
   {
    "duration": 16,
    "start_time": "2025-04-10T04:36:58.090Z"
   },
   {
    "duration": 16,
    "start_time": "2025-04-10T04:36:58.107Z"
   },
   {
    "duration": 48,
    "start_time": "2025-04-10T04:36:58.125Z"
   },
   {
    "duration": 4,
    "start_time": "2025-04-10T04:36:58.177Z"
   },
   {
    "duration": 373,
    "start_time": "2025-04-10T04:36:58.183Z"
   },
   {
    "duration": 3,
    "start_time": "2025-04-10T04:36:58.557Z"
   },
   {
    "duration": 4515,
    "start_time": "2025-04-10T04:36:58.562Z"
   },
   {
    "duration": 17,
    "start_time": "2025-04-10T04:37:03.079Z"
   },
   {
    "duration": 144,
    "start_time": "2025-04-10T04:37:03.098Z"
   },
   {
    "duration": 16,
    "start_time": "2025-04-10T04:37:03.244Z"
   },
   {
    "duration": 18,
    "start_time": "2025-04-10T04:37:03.261Z"
   },
   {
    "duration": 5,
    "start_time": "2025-04-10T04:37:03.281Z"
   },
   {
    "duration": 51,
    "start_time": "2025-04-10T04:37:03.287Z"
   },
   {
    "duration": 69,
    "start_time": "2025-04-10T04:37:03.340Z"
   },
   {
    "duration": 122,
    "start_time": "2025-04-10T04:37:03.411Z"
   },
   {
    "duration": 0,
    "start_time": "2025-04-10T04:37:03.535Z"
   },
   {
    "duration": 0,
    "start_time": "2025-04-10T04:37:03.536Z"
   },
   {
    "duration": 0,
    "start_time": "2025-04-10T04:37:03.537Z"
   },
   {
    "duration": 0,
    "start_time": "2025-04-10T04:37:03.538Z"
   },
   {
    "duration": 0,
    "start_time": "2025-04-10T04:37:03.539Z"
   },
   {
    "duration": 3,
    "start_time": "2025-04-10T04:39:01.146Z"
   },
   {
    "duration": 3,
    "start_time": "2025-04-10T04:39:03.201Z"
   },
   {
    "duration": 3,
    "start_time": "2025-04-10T04:39:03.586Z"
   },
   {
    "duration": 3,
    "start_time": "2025-04-10T04:39:06.125Z"
   },
   {
    "duration": 3,
    "start_time": "2025-04-10T04:39:06.465Z"
   },
   {
    "duration": 30585,
    "start_time": "2025-04-10T04:39:06.961Z"
   },
   {
    "duration": 16,
    "start_time": "2025-04-10T04:41:07.789Z"
   },
   {
    "duration": 2,
    "start_time": "2025-04-10T04:44:02.514Z"
   },
   {
    "duration": 4,
    "start_time": "2025-04-10T04:44:03.745Z"
   },
   {
    "duration": 3,
    "start_time": "2025-04-10T04:44:05.282Z"
   },
   {
    "duration": 3,
    "start_time": "2025-04-10T04:44:05.730Z"
   },
   {
    "duration": 3,
    "start_time": "2025-04-10T04:44:07.625Z"
   },
   {
    "duration": 3,
    "start_time": "2025-04-10T04:44:09.106Z"
   },
   {
    "duration": 48,
    "start_time": "2025-04-10T04:48:24.405Z"
   },
   {
    "duration": 2,
    "start_time": "2025-04-10T04:48:34.997Z"
   },
   {
    "duration": 2545,
    "start_time": "2025-04-10T04:48:35.001Z"
   },
   {
    "duration": 1418,
    "start_time": "2025-04-10T04:48:37.548Z"
   },
   {
    "duration": 6,
    "start_time": "2025-04-10T04:48:38.968Z"
   },
   {
    "duration": 7,
    "start_time": "2025-04-10T04:48:38.977Z"
   },
   {
    "duration": 902,
    "start_time": "2025-04-10T04:48:38.985Z"
   },
   {
    "duration": 160,
    "start_time": "2025-04-10T04:48:39.889Z"
   },
   {
    "duration": 113,
    "start_time": "2025-04-10T04:48:40.051Z"
   },
   {
    "duration": 4,
    "start_time": "2025-04-10T04:48:40.166Z"
   },
   {
    "duration": 4,
    "start_time": "2025-04-10T04:48:40.172Z"
   },
   {
    "duration": 7,
    "start_time": "2025-04-10T04:48:40.178Z"
   },
   {
    "duration": 13,
    "start_time": "2025-04-10T04:48:40.186Z"
   },
   {
    "duration": 617,
    "start_time": "2025-04-10T04:48:40.201Z"
   },
   {
    "duration": 490,
    "start_time": "2025-04-10T04:48:40.821Z"
   },
   {
    "duration": 587,
    "start_time": "2025-04-10T04:48:41.313Z"
   },
   {
    "duration": 3,
    "start_time": "2025-04-10T04:48:41.902Z"
   },
   {
    "duration": 6,
    "start_time": "2025-04-10T04:48:41.907Z"
   },
   {
    "duration": 50,
    "start_time": "2025-04-10T04:48:41.915Z"
   },
   {
    "duration": 182,
    "start_time": "2025-04-10T04:48:41.967Z"
   },
   {
    "duration": 45,
    "start_time": "2025-04-10T04:48:42.150Z"
   },
   {
    "duration": 20,
    "start_time": "2025-04-10T04:48:42.197Z"
   },
   {
    "duration": 68,
    "start_time": "2025-04-10T04:48:42.218Z"
   },
   {
    "duration": 20,
    "start_time": "2025-04-10T04:48:42.288Z"
   },
   {
    "duration": 5,
    "start_time": "2025-04-10T04:48:42.310Z"
   },
   {
    "duration": 434,
    "start_time": "2025-04-10T04:48:42.316Z"
   },
   {
    "duration": 20,
    "start_time": "2025-04-10T04:48:42.752Z"
   },
   {
    "duration": 27,
    "start_time": "2025-04-10T04:48:42.774Z"
   },
   {
    "duration": 4,
    "start_time": "2025-04-10T04:48:42.803Z"
   },
   {
    "duration": 18,
    "start_time": "2025-04-10T04:48:42.808Z"
   },
   {
    "duration": 33,
    "start_time": "2025-04-10T04:48:42.828Z"
   },
   {
    "duration": 8,
    "start_time": "2025-04-10T04:48:42.862Z"
   },
   {
    "duration": 115,
    "start_time": "2025-04-10T04:48:42.872Z"
   },
   {
    "duration": 3,
    "start_time": "2025-04-10T04:48:42.989Z"
   },
   {
    "duration": 356,
    "start_time": "2025-04-10T04:48:42.993Z"
   },
   {
    "duration": 22,
    "start_time": "2025-04-10T04:48:43.350Z"
   },
   {
    "duration": 57,
    "start_time": "2025-04-10T04:48:43.373Z"
   },
   {
    "duration": 15,
    "start_time": "2025-04-10T04:48:43.431Z"
   },
   {
    "duration": 17,
    "start_time": "2025-04-10T04:48:43.447Z"
   },
   {
    "duration": 17,
    "start_time": "2025-04-10T04:48:43.465Z"
   },
   {
    "duration": 87,
    "start_time": "2025-04-10T04:48:43.484Z"
   },
   {
    "duration": 16,
    "start_time": "2025-04-10T04:48:43.575Z"
   },
   {
    "duration": 3,
    "start_time": "2025-04-10T04:48:43.593Z"
   },
   {
    "duration": 375,
    "start_time": "2025-04-10T04:48:43.598Z"
   },
   {
    "duration": 3,
    "start_time": "2025-04-10T04:48:43.975Z"
   },
   {
    "duration": 4494,
    "start_time": "2025-04-10T04:48:43.979Z"
   },
   {
    "duration": 14,
    "start_time": "2025-04-10T04:48:48.475Z"
   },
   {
    "duration": 80,
    "start_time": "2025-04-10T04:48:48.490Z"
   },
   {
    "duration": 7,
    "start_time": "2025-04-10T04:48:48.572Z"
   },
   {
    "duration": 10,
    "start_time": "2025-04-10T04:48:48.581Z"
   },
   {
    "duration": 3,
    "start_time": "2025-04-10T04:48:48.593Z"
   },
   {
    "duration": 92,
    "start_time": "2025-04-10T04:48:48.598Z"
   },
   {
    "duration": 2,
    "start_time": "2025-04-10T04:48:48.692Z"
   },
   {
    "duration": 21,
    "start_time": "2025-04-10T04:48:48.695Z"
   },
   {
    "duration": 10,
    "start_time": "2025-04-10T04:48:48.717Z"
   },
   {
    "duration": 5,
    "start_time": "2025-04-10T04:48:48.728Z"
   },
   {
    "duration": 5,
    "start_time": "2025-04-10T04:48:48.734Z"
   },
   {
    "duration": 4,
    "start_time": "2025-04-10T04:48:48.741Z"
   },
   {
    "duration": 115842,
    "start_time": "2025-04-10T04:48:48.747Z"
   },
   {
    "duration": 64,
    "start_time": "2025-04-10T04:51:24.581Z"
   },
   {
    "duration": 9,
    "start_time": "2025-04-10T04:51:24.647Z"
   },
   {
    "duration": 10,
    "start_time": "2025-04-10T04:51:24.657Z"
   },
   {
    "duration": 2,
    "start_time": "2025-04-10T04:51:24.669Z"
   },
   {
    "duration": 30,
    "start_time": "2025-04-10T04:51:24.673Z"
   },
   {
    "duration": 2,
    "start_time": "2025-04-10T04:51:24.705Z"
   },
   {
    "duration": 3,
    "start_time": "2025-04-10T04:51:24.709Z"
   },
   {
    "duration": 4,
    "start_time": "2025-04-10T04:51:24.714Z"
   },
   {
    "duration": 3,
    "start_time": "2025-04-10T04:51:24.720Z"
   },
   {
    "duration": 3,
    "start_time": "2025-04-10T04:51:24.724Z"
   },
   {
    "duration": 34,
    "start_time": "2025-04-10T04:51:24.728Z"
   },
   {
    "duration": 133704,
    "start_time": "2025-04-10T04:51:24.764Z"
   },
   {
    "duration": 2372,
    "start_time": "2025-04-10T05:31:31.811Z"
   },
   {
    "duration": 2404,
    "start_time": "2025-04-10T05:31:34.186Z"
   },
   {
    "duration": 6,
    "start_time": "2025-04-10T05:31:36.593Z"
   },
   {
    "duration": 5,
    "start_time": "2025-04-10T05:31:36.600Z"
   },
   {
    "duration": 805,
    "start_time": "2025-04-10T05:31:36.608Z"
   },
   {
    "duration": 148,
    "start_time": "2025-04-10T05:31:37.415Z"
   },
   {
    "duration": 80,
    "start_time": "2025-04-10T05:31:37.565Z"
   },
   {
    "duration": 3,
    "start_time": "2025-04-10T05:31:37.660Z"
   },
   {
    "duration": 18,
    "start_time": "2025-04-10T05:31:37.665Z"
   },
   {
    "duration": 3,
    "start_time": "2025-04-10T05:31:37.684Z"
   },
   {
    "duration": 4,
    "start_time": "2025-04-10T05:31:37.689Z"
   },
   {
    "duration": 526,
    "start_time": "2025-04-10T05:31:37.694Z"
   },
   {
    "duration": 399,
    "start_time": "2025-04-10T05:31:38.221Z"
   },
   {
    "duration": 495,
    "start_time": "2025-04-10T05:31:38.623Z"
   },
   {
    "duration": 3,
    "start_time": "2025-04-10T05:31:39.120Z"
   },
   {
    "duration": 79,
    "start_time": "2025-04-10T05:31:39.124Z"
   },
   {
    "duration": 35,
    "start_time": "2025-04-10T05:31:39.205Z"
   },
   {
    "duration": 177,
    "start_time": "2025-04-10T05:31:39.242Z"
   },
   {
    "duration": 45,
    "start_time": "2025-04-10T05:31:39.421Z"
   },
   {
    "duration": 18,
    "start_time": "2025-04-10T05:31:39.468Z"
   },
   {
    "duration": 114,
    "start_time": "2025-04-10T05:31:39.488Z"
   },
   {
    "duration": 19,
    "start_time": "2025-04-10T05:31:39.604Z"
   },
   {
    "duration": 45,
    "start_time": "2025-04-10T05:31:39.625Z"
   },
   {
    "duration": 416,
    "start_time": "2025-04-10T05:31:39.671Z"
   },
   {
    "duration": 13,
    "start_time": "2025-04-10T05:31:40.089Z"
   },
   {
    "duration": 21,
    "start_time": "2025-04-10T05:31:40.104Z"
   },
   {
    "duration": 4,
    "start_time": "2025-04-10T05:31:40.127Z"
   },
   {
    "duration": 41,
    "start_time": "2025-04-10T05:31:40.132Z"
   },
   {
    "duration": 7,
    "start_time": "2025-04-10T05:31:40.175Z"
   },
   {
    "duration": 8,
    "start_time": "2025-04-10T05:31:40.184Z"
   },
   {
    "duration": 24,
    "start_time": "2025-04-10T05:31:40.194Z"
   },
   {
    "duration": 4,
    "start_time": "2025-04-10T05:31:40.219Z"
   },
   {
    "duration": 367,
    "start_time": "2025-04-10T05:31:40.224Z"
   },
   {
    "duration": 16,
    "start_time": "2025-04-10T05:31:40.593Z"
   },
   {
    "duration": 8,
    "start_time": "2025-04-10T05:31:40.611Z"
   },
   {
    "duration": 7,
    "start_time": "2025-04-10T05:31:40.621Z"
   },
   {
    "duration": 45,
    "start_time": "2025-04-10T05:31:40.630Z"
   },
   {
    "duration": 19,
    "start_time": "2025-04-10T05:31:40.677Z"
   },
   {
    "duration": 19,
    "start_time": "2025-04-10T05:31:40.698Z"
   },
   {
    "duration": 19,
    "start_time": "2025-04-10T05:31:40.718Z"
   },
   {
    "duration": 4,
    "start_time": "2025-04-10T05:31:40.763Z"
   },
   {
    "duration": 431,
    "start_time": "2025-04-10T05:31:40.768Z"
   },
   {
    "duration": 3,
    "start_time": "2025-04-10T05:31:41.200Z"
   },
   {
    "duration": 4994,
    "start_time": "2025-04-10T05:31:41.204Z"
   },
   {
    "duration": 15,
    "start_time": "2025-04-10T05:31:46.200Z"
   },
   {
    "duration": 114,
    "start_time": "2025-04-10T05:31:46.217Z"
   },
   {
    "duration": 9,
    "start_time": "2025-04-10T05:31:46.333Z"
   },
   {
    "duration": 23,
    "start_time": "2025-04-10T05:31:46.344Z"
   },
   {
    "duration": 3,
    "start_time": "2025-04-10T05:31:46.369Z"
   },
   {
    "duration": 38,
    "start_time": "2025-04-10T05:31:46.373Z"
   },
   {
    "duration": 2,
    "start_time": "2025-04-10T05:31:46.413Z"
   },
   {
    "duration": 8,
    "start_time": "2025-04-10T05:31:46.417Z"
   },
   {
    "duration": 5,
    "start_time": "2025-04-10T05:31:46.426Z"
   },
   {
    "duration": 27,
    "start_time": "2025-04-10T05:31:46.433Z"
   },
   {
    "duration": 8,
    "start_time": "2025-04-10T05:31:46.462Z"
   },
   {
    "duration": 9,
    "start_time": "2025-04-10T05:31:46.472Z"
   },
   {
    "duration": 173990,
    "start_time": "2025-04-10T05:31:46.483Z"
   },
   {
    "duration": 35,
    "start_time": "2025-04-10T05:36:00.354Z"
   },
   {
    "duration": 11,
    "start_time": "2025-04-10T05:36:27.211Z"
   },
   {
    "duration": 11,
    "start_time": "2025-04-10T05:36:31.018Z"
   },
   {
    "duration": 4,
    "start_time": "2025-04-10T05:37:28.188Z"
   },
   {
    "duration": 6,
    "start_time": "2025-04-10T05:37:41.844Z"
   },
   {
    "duration": 3,
    "start_time": "2025-04-10T05:38:44.654Z"
   },
   {
    "duration": 75,
    "start_time": "2025-04-10T05:40:03.848Z"
   },
   {
    "duration": 3,
    "start_time": "2025-04-10T05:40:24.562Z"
   },
   {
    "duration": 56108,
    "start_time": "2025-04-10T05:40:34.457Z"
   },
   {
    "duration": 3,
    "start_time": "2025-04-10T05:43:58.258Z"
   },
   {
    "duration": 3,
    "start_time": "2025-04-10T05:44:11.528Z"
   },
   {
    "duration": 3,
    "start_time": "2025-04-10T05:51:28.081Z"
   },
   {
    "duration": 18521,
    "start_time": "2025-04-10T05:51:28.538Z"
   },
   {
    "duration": 2,
    "start_time": "2025-04-10T05:51:54.760Z"
   },
   {
    "duration": 0,
    "start_time": "2025-04-10T05:53:00.535Z"
   },
   {
    "duration": 0,
    "start_time": "2025-04-10T05:53:00.537Z"
   },
   {
    "duration": 3,
    "start_time": "2025-04-10T05:53:02.654Z"
   },
   {
    "duration": 2409,
    "start_time": "2025-04-10T05:53:29.187Z"
   },
   {
    "duration": 2359,
    "start_time": "2025-04-10T05:53:31.599Z"
   },
   {
    "duration": 1319,
    "start_time": "2025-04-10T05:53:33.960Z"
   },
   {
    "duration": 3,
    "start_time": "2025-04-10T05:53:35.281Z"
   },
   {
    "duration": 920,
    "start_time": "2025-04-10T05:53:35.287Z"
   },
   {
    "duration": 160,
    "start_time": "2025-04-10T05:53:36.209Z"
   },
   {
    "duration": 113,
    "start_time": "2025-04-10T05:53:36.372Z"
   },
   {
    "duration": 5,
    "start_time": "2025-04-10T05:53:36.487Z"
   },
   {
    "duration": 23,
    "start_time": "2025-04-10T05:53:36.494Z"
   },
   {
    "duration": 5,
    "start_time": "2025-04-10T05:53:36.519Z"
   },
   {
    "duration": 5,
    "start_time": "2025-04-10T05:53:36.526Z"
   },
   {
    "duration": 634,
    "start_time": "2025-04-10T05:53:36.533Z"
   },
   {
    "duration": 507,
    "start_time": "2025-04-10T05:53:37.169Z"
   },
   {
    "duration": 600,
    "start_time": "2025-04-10T05:53:37.680Z"
   },
   {
    "duration": 4,
    "start_time": "2025-04-10T05:53:38.282Z"
   },
   {
    "duration": 5,
    "start_time": "2025-04-10T05:53:38.288Z"
   },
   {
    "duration": 41,
    "start_time": "2025-04-10T05:53:38.295Z"
   },
   {
    "duration": 201,
    "start_time": "2025-04-10T05:53:38.337Z"
   },
   {
    "duration": 46,
    "start_time": "2025-04-10T05:53:38.540Z"
   },
   {
    "duration": 20,
    "start_time": "2025-04-10T05:53:38.588Z"
   },
   {
    "duration": 69,
    "start_time": "2025-04-10T05:53:38.610Z"
   },
   {
    "duration": 20,
    "start_time": "2025-04-10T05:53:38.680Z"
   },
   {
    "duration": 5,
    "start_time": "2025-04-10T05:53:38.702Z"
   },
   {
    "duration": 465,
    "start_time": "2025-04-10T05:53:38.708Z"
   },
   {
    "duration": 14,
    "start_time": "2025-04-10T05:53:39.175Z"
   },
   {
    "duration": 100,
    "start_time": "2025-04-10T05:53:39.191Z"
   },
   {
    "duration": 4,
    "start_time": "2025-04-10T05:53:39.292Z"
   },
   {
    "duration": 17,
    "start_time": "2025-04-10T05:53:39.297Z"
   },
   {
    "duration": 13,
    "start_time": "2025-04-10T05:53:39.316Z"
   },
   {
    "duration": 30,
    "start_time": "2025-04-10T05:53:39.331Z"
   },
   {
    "duration": 31,
    "start_time": "2025-04-10T05:53:39.362Z"
   },
   {
    "duration": 4,
    "start_time": "2025-04-10T05:53:39.394Z"
   },
   {
    "duration": 449,
    "start_time": "2025-04-10T05:53:39.400Z"
   },
   {
    "duration": 23,
    "start_time": "2025-04-10T05:53:39.851Z"
   },
   {
    "duration": 37,
    "start_time": "2025-04-10T05:53:39.876Z"
   },
   {
    "duration": 7,
    "start_time": "2025-04-10T05:53:39.915Z"
   },
   {
    "duration": 21,
    "start_time": "2025-04-10T05:53:39.924Z"
   },
   {
    "duration": 19,
    "start_time": "2025-04-10T05:53:39.947Z"
   },
   {
    "duration": 20,
    "start_time": "2025-04-10T05:53:39.968Z"
   },
   {
    "duration": 68,
    "start_time": "2025-04-10T05:53:39.990Z"
   },
   {
    "duration": 3,
    "start_time": "2025-04-10T05:53:40.063Z"
   },
   {
    "duration": 379,
    "start_time": "2025-04-10T05:53:40.068Z"
   },
   {
    "duration": 3,
    "start_time": "2025-04-10T05:53:40.449Z"
   },
   {
    "duration": 5001,
    "start_time": "2025-04-10T05:53:40.460Z"
   },
   {
    "duration": 14,
    "start_time": "2025-04-10T05:53:45.463Z"
   },
   {
    "duration": 113,
    "start_time": "2025-04-10T05:53:45.479Z"
   },
   {
    "duration": 9,
    "start_time": "2025-04-10T05:53:45.593Z"
   },
   {
    "duration": 13,
    "start_time": "2025-04-10T05:53:45.604Z"
   },
   {
    "duration": 4,
    "start_time": "2025-04-10T05:53:45.618Z"
   },
   {
    "duration": 62,
    "start_time": "2025-04-10T05:53:45.624Z"
   },
   {
    "duration": 3,
    "start_time": "2025-04-10T05:53:45.688Z"
   },
   {
    "duration": 75,
    "start_time": "2025-04-10T05:53:45.693Z"
   },
   {
    "duration": 5,
    "start_time": "2025-04-10T05:53:45.770Z"
   },
   {
    "duration": 3,
    "start_time": "2025-04-10T05:53:45.777Z"
   },
   {
    "duration": 8,
    "start_time": "2025-04-10T05:53:45.782Z"
   },
   {
    "duration": 19,
    "start_time": "2025-04-10T05:53:45.792Z"
   },
   {
    "duration": 177854,
    "start_time": "2025-04-10T05:53:45.813Z"
   },
   {
    "duration": 4,
    "start_time": "2025-04-10T05:56:43.668Z"
   },
   {
    "duration": 43,
    "start_time": "2025-04-10T05:56:43.674Z"
   },
   {
    "duration": 97,
    "start_time": "2025-04-10T05:56:43.719Z"
   },
   {
    "duration": 2,
    "start_time": "2025-04-10T05:56:43.818Z"
   },
   {
    "duration": 75647,
    "start_time": "2025-04-10T05:56:43.822Z"
   },
   {
    "duration": 3,
    "start_time": "2025-04-10T05:57:59.470Z"
   },
   {
    "duration": 6,
    "start_time": "2025-04-10T05:57:59.474Z"
   },
   {
    "duration": 0,
    "start_time": "2025-04-10T06:06:18.301Z"
   },
   {
    "duration": 0,
    "start_time": "2025-04-10T06:06:18.303Z"
   },
   {
    "duration": 0,
    "start_time": "2025-04-10T06:06:18.304Z"
   },
   {
    "duration": 3,
    "start_time": "2025-04-10T06:07:43.762Z"
   },
   {
    "duration": 339214,
    "start_time": "2025-04-10T06:07:45.622Z"
   },
   {
    "duration": 405937,
    "start_time": "2025-04-10T06:13:35.305Z"
   },
   {
    "duration": 135691,
    "start_time": "2025-04-10T06:20:48.529Z"
   },
   {
    "duration": 5,
    "start_time": "2025-04-10T06:29:39.367Z"
   },
   {
    "duration": 27410,
    "start_time": "2025-04-10T06:30:47.072Z"
   },
   {
    "duration": 3,
    "start_time": "2025-04-10T06:31:23.658Z"
   },
   {
    "duration": 4,
    "start_time": "2025-04-10T06:31:28.075Z"
   },
   {
    "duration": 3,
    "start_time": "2025-04-10T06:31:35.826Z"
   },
   {
    "duration": 3,
    "start_time": "2025-04-10T06:31:37.595Z"
   },
   {
    "duration": 265739,
    "start_time": "2025-04-10T06:31:39.067Z"
   },
   {
    "duration": 13,
    "start_time": "2025-04-10T06:37:59.459Z"
   },
   {
    "duration": 13,
    "start_time": "2025-04-10T06:40:29.787Z"
   },
   {
    "duration": 9,
    "start_time": "2025-04-10T06:42:03.050Z"
   },
   {
    "duration": 2925,
    "start_time": "2025-04-10T06:55:41.514Z"
   },
   {
    "duration": 2827,
    "start_time": "2025-04-10T06:55:44.441Z"
   },
   {
    "duration": 1968,
    "start_time": "2025-04-10T06:55:47.271Z"
   },
   {
    "duration": 2,
    "start_time": "2025-04-10T06:55:49.242Z"
   },
   {
    "duration": 1070,
    "start_time": "2025-04-10T06:55:49.246Z"
   },
   {
    "duration": 192,
    "start_time": "2025-04-10T06:55:50.318Z"
   },
   {
    "duration": 128,
    "start_time": "2025-04-10T06:55:50.512Z"
   },
   {
    "duration": 5,
    "start_time": "2025-04-10T06:55:50.641Z"
   },
   {
    "duration": 16,
    "start_time": "2025-04-10T06:55:50.648Z"
   },
   {
    "duration": 10,
    "start_time": "2025-04-10T06:55:50.667Z"
   },
   {
    "duration": 9,
    "start_time": "2025-04-10T06:55:50.680Z"
   },
   {
    "duration": 743,
    "start_time": "2025-04-10T06:55:50.690Z"
   },
   {
    "duration": 606,
    "start_time": "2025-04-10T06:55:51.434Z"
   },
   {
    "duration": 652,
    "start_time": "2025-04-10T06:55:52.041Z"
   },
   {
    "duration": 4,
    "start_time": "2025-04-10T06:55:52.695Z"
   },
   {
    "duration": 8,
    "start_time": "2025-04-10T06:55:52.700Z"
   },
   {
    "duration": 53,
    "start_time": "2025-04-10T06:55:52.710Z"
   },
   {
    "duration": 202,
    "start_time": "2025-04-10T06:55:52.765Z"
   },
   {
    "duration": 48,
    "start_time": "2025-04-10T06:55:52.970Z"
   },
   {
    "duration": 83,
    "start_time": "2025-04-10T06:55:53.020Z"
   },
   {
    "duration": 59,
    "start_time": "2025-04-10T06:55:53.105Z"
   },
   {
    "duration": 32,
    "start_time": "2025-04-10T06:55:53.167Z"
   },
   {
    "duration": 51,
    "start_time": "2025-04-10T06:55:53.201Z"
   },
   {
    "duration": 491,
    "start_time": "2025-04-10T06:55:53.253Z"
   },
   {
    "duration": 29,
    "start_time": "2025-04-10T06:55:53.745Z"
   },
   {
    "duration": 38,
    "start_time": "2025-04-10T06:55:53.777Z"
   },
   {
    "duration": 4,
    "start_time": "2025-04-10T06:55:53.817Z"
   },
   {
    "duration": 36,
    "start_time": "2025-04-10T06:55:53.825Z"
   },
   {
    "duration": 10,
    "start_time": "2025-04-10T06:55:53.864Z"
   },
   {
    "duration": 99,
    "start_time": "2025-04-10T06:55:53.877Z"
   },
   {
    "duration": 38,
    "start_time": "2025-04-10T06:55:53.978Z"
   },
   {
    "duration": 4,
    "start_time": "2025-04-10T06:55:54.018Z"
   },
   {
    "duration": 527,
    "start_time": "2025-04-10T06:55:54.024Z"
   },
   {
    "duration": 28,
    "start_time": "2025-04-10T06:55:54.553Z"
   },
   {
    "duration": 10,
    "start_time": "2025-04-10T06:55:54.583Z"
   },
   {
    "duration": 9,
    "start_time": "2025-04-10T06:55:54.595Z"
   },
   {
    "duration": 56,
    "start_time": "2025-04-10T06:55:54.606Z"
   },
   {
    "duration": 27,
    "start_time": "2025-04-10T06:55:54.665Z"
   },
   {
    "duration": 20,
    "start_time": "2025-04-10T06:55:54.694Z"
   },
   {
    "duration": 49,
    "start_time": "2025-04-10T06:55:54.715Z"
   },
   {
    "duration": 6,
    "start_time": "2025-04-10T06:55:54.767Z"
   },
   {
    "duration": 456,
    "start_time": "2025-04-10T06:55:54.776Z"
   },
   {
    "duration": 3,
    "start_time": "2025-04-10T06:55:55.234Z"
   },
   {
    "duration": 5663,
    "start_time": "2025-04-10T06:55:55.238Z"
   },
   {
    "duration": 13,
    "start_time": "2025-04-10T06:56:00.903Z"
   },
   {
    "duration": 106,
    "start_time": "2025-04-10T06:56:00.918Z"
   },
   {
    "duration": 9,
    "start_time": "2025-04-10T06:56:01.026Z"
   },
   {
    "duration": 105,
    "start_time": "2025-04-10T06:56:01.036Z"
   },
   {
    "duration": 4,
    "start_time": "2025-04-10T06:56:01.142Z"
   },
   {
    "duration": 49,
    "start_time": "2025-04-10T06:56:01.148Z"
   },
   {
    "duration": 3,
    "start_time": "2025-04-10T06:56:01.199Z"
   },
   {
    "duration": 53,
    "start_time": "2025-04-10T06:56:01.203Z"
   },
   {
    "duration": 4,
    "start_time": "2025-04-10T06:56:01.258Z"
   },
   {
    "duration": 6,
    "start_time": "2025-04-10T06:56:01.265Z"
   },
   {
    "duration": 4,
    "start_time": "2025-04-10T06:56:01.273Z"
   },
   {
    "duration": 11,
    "start_time": "2025-04-10T06:56:01.279Z"
   },
   {
    "duration": 3,
    "start_time": "2025-04-10T06:56:01.292Z"
   },
   {
    "duration": 396281,
    "start_time": "2025-04-10T06:56:01.297Z"
   },
   {
    "duration": 5,
    "start_time": "2025-04-10T07:02:37.581Z"
   },
   {
    "duration": 15,
    "start_time": "2025-04-10T07:02:37.588Z"
   },
   {
    "duration": 218,
    "start_time": "2025-04-10T07:02:37.605Z"
   },
   {
    "duration": 3,
    "start_time": "2025-04-10T07:02:37.824Z"
   },
   {
    "duration": 192535,
    "start_time": "2025-04-10T07:02:37.829Z"
   },
   {
    "duration": 4,
    "start_time": "2025-04-10T07:05:50.366Z"
   },
   {
    "duration": 19,
    "start_time": "2025-04-10T07:05:50.372Z"
   },
   {
    "duration": 477903,
    "start_time": "2025-04-10T07:05:50.393Z"
   },
   {
    "duration": 4,
    "start_time": "2025-04-10T07:13:48.298Z"
   },
   {
    "duration": 3,
    "start_time": "2025-04-10T07:13:48.304Z"
   },
   {
    "duration": 125,
    "start_time": "2025-04-10T07:13:48.309Z"
   },
   {
    "duration": 0,
    "start_time": "2025-04-10T07:13:48.436Z"
   },
   {
    "duration": 4105,
    "start_time": "2025-04-10T07:14:48.755Z"
   },
   {
    "duration": 17,
    "start_time": "2025-04-10T07:14:56.719Z"
   },
   {
    "duration": 4,
    "start_time": "2025-04-10T07:15:28.180Z"
   },
   {
    "duration": 4,
    "start_time": "2025-04-10T07:15:40.908Z"
   },
   {
    "duration": 5,
    "start_time": "2025-04-10T07:15:56.773Z"
   },
   {
    "duration": 3,
    "start_time": "2025-04-10T07:16:13.094Z"
   },
   {
    "duration": 4157,
    "start_time": "2025-04-10T07:16:13.486Z"
   },
   {
    "duration": 16,
    "start_time": "2025-04-10T07:16:17.645Z"
   },
   {
    "duration": 5,
    "start_time": "2025-04-10T07:17:30.388Z"
   },
   {
    "duration": 4,
    "start_time": "2025-04-10T07:17:34.372Z"
   },
   {
    "duration": 4,
    "start_time": "2025-04-10T07:17:38.669Z"
   },
   {
    "duration": 48,
    "start_time": "2025-04-10T07:17:47.033Z"
   },
   {
    "duration": 2647,
    "start_time": "2025-04-10T07:28:40.997Z"
   },
   {
    "duration": 2762,
    "start_time": "2025-04-10T07:28:43.647Z"
   },
   {
    "duration": 1571,
    "start_time": "2025-04-10T07:28:46.411Z"
   },
   {
    "duration": 3,
    "start_time": "2025-04-10T07:28:47.984Z"
   },
   {
    "duration": 1172,
    "start_time": "2025-04-10T07:28:47.989Z"
   },
   {
    "duration": 172,
    "start_time": "2025-04-10T07:28:49.162Z"
   },
   {
    "duration": 132,
    "start_time": "2025-04-10T07:28:49.335Z"
   },
   {
    "duration": 5,
    "start_time": "2025-04-10T07:28:49.469Z"
   },
   {
    "duration": 7,
    "start_time": "2025-04-10T07:28:49.475Z"
   },
   {
    "duration": 4,
    "start_time": "2025-04-10T07:28:49.483Z"
   },
   {
    "duration": 81,
    "start_time": "2025-04-10T07:28:49.489Z"
   },
   {
    "duration": 694,
    "start_time": "2025-04-10T07:28:49.572Z"
   },
   {
    "duration": 576,
    "start_time": "2025-04-10T07:28:50.267Z"
   },
   {
    "duration": 694,
    "start_time": "2025-04-10T07:28:50.847Z"
   },
   {
    "duration": 4,
    "start_time": "2025-04-10T07:28:51.542Z"
   },
   {
    "duration": 29,
    "start_time": "2025-04-10T07:28:51.548Z"
   },
   {
    "duration": 49,
    "start_time": "2025-04-10T07:28:51.579Z"
   },
   {
    "duration": 204,
    "start_time": "2025-04-10T07:28:51.630Z"
   },
   {
    "duration": 46,
    "start_time": "2025-04-10T07:28:51.837Z"
   },
   {
    "duration": 22,
    "start_time": "2025-04-10T07:28:51.885Z"
   },
   {
    "duration": 82,
    "start_time": "2025-04-10T07:28:51.909Z"
   },
   {
    "duration": 23,
    "start_time": "2025-04-10T07:28:51.993Z"
   },
   {
    "duration": 55,
    "start_time": "2025-04-10T07:28:52.018Z"
   },
   {
    "duration": 467,
    "start_time": "2025-04-10T07:28:52.074Z"
   },
   {
    "duration": 26,
    "start_time": "2025-04-10T07:28:52.543Z"
   },
   {
    "duration": 36,
    "start_time": "2025-04-10T07:28:52.572Z"
   },
   {
    "duration": 4,
    "start_time": "2025-04-10T07:28:52.610Z"
   },
   {
    "duration": 48,
    "start_time": "2025-04-10T07:28:52.617Z"
   },
   {
    "duration": 10,
    "start_time": "2025-04-10T07:28:52.667Z"
   },
   {
    "duration": 12,
    "start_time": "2025-04-10T07:28:52.679Z"
   },
   {
    "duration": 36,
    "start_time": "2025-04-10T07:28:52.693Z"
   },
   {
    "duration": 5,
    "start_time": "2025-04-10T07:28:52.761Z"
   },
   {
    "duration": 486,
    "start_time": "2025-04-10T07:28:52.769Z"
   },
   {
    "duration": 18,
    "start_time": "2025-04-10T07:28:53.260Z"
   },
   {
    "duration": 9,
    "start_time": "2025-04-10T07:28:53.281Z"
   },
   {
    "duration": 70,
    "start_time": "2025-04-10T07:28:53.292Z"
   },
   {
    "duration": 24,
    "start_time": "2025-04-10T07:28:53.364Z"
   },
   {
    "duration": 22,
    "start_time": "2025-04-10T07:28:53.391Z"
   },
   {
    "duration": 46,
    "start_time": "2025-04-10T07:28:53.415Z"
   },
   {
    "duration": 23,
    "start_time": "2025-04-10T07:28:53.463Z"
   },
   {
    "duration": 4,
    "start_time": "2025-04-10T07:28:53.493Z"
   },
   {
    "duration": 487,
    "start_time": "2025-04-10T07:28:53.498Z"
   },
   {
    "duration": 3,
    "start_time": "2025-04-10T07:28:53.986Z"
   },
   {
    "duration": 5702,
    "start_time": "2025-04-10T07:28:53.991Z"
   },
   {
    "duration": 15,
    "start_time": "2025-04-10T07:28:59.695Z"
   },
   {
    "duration": 111,
    "start_time": "2025-04-10T07:28:59.712Z"
   },
   {
    "duration": 10,
    "start_time": "2025-04-10T07:28:59.825Z"
   },
   {
    "duration": 52,
    "start_time": "2025-04-10T07:28:59.837Z"
   },
   {
    "duration": 4,
    "start_time": "2025-04-10T07:28:59.890Z"
   },
   {
    "duration": 42,
    "start_time": "2025-04-10T07:28:59.895Z"
   },
   {
    "duration": 3,
    "start_time": "2025-04-10T07:28:59.939Z"
   },
   {
    "duration": 5,
    "start_time": "2025-04-10T07:28:59.943Z"
   },
   {
    "duration": 10,
    "start_time": "2025-04-10T07:28:59.950Z"
   },
   {
    "duration": 3,
    "start_time": "2025-04-10T07:28:59.962Z"
   },
   {
    "duration": 4,
    "start_time": "2025-04-10T07:28:59.967Z"
   },
   {
    "duration": 4,
    "start_time": "2025-04-10T07:28:59.973Z"
   },
   {
    "duration": 88,
    "start_time": "2025-04-10T07:28:59.979Z"
   },
   {
    "duration": 197292,
    "start_time": "2025-04-10T07:29:00.069Z"
   },
   {
    "duration": 4,
    "start_time": "2025-04-10T07:32:17.363Z"
   },
   {
    "duration": 13,
    "start_time": "2025-04-10T07:32:17.369Z"
   },
   {
    "duration": 139,
    "start_time": "2025-04-10T07:32:17.384Z"
   },
   {
    "duration": 3,
    "start_time": "2025-04-10T07:32:17.525Z"
   },
   {
    "duration": 54340,
    "start_time": "2025-04-10T07:32:17.530Z"
   },
   {
    "duration": 3,
    "start_time": "2025-04-10T07:33:11.872Z"
   },
   {
    "duration": 88,
    "start_time": "2025-04-10T07:33:11.876Z"
   },
   {
    "duration": 126952,
    "start_time": "2025-04-10T07:33:11.966Z"
   },
   {
    "duration": 3,
    "start_time": "2025-04-10T07:35:18.919Z"
   },
   {
    "duration": 14,
    "start_time": "2025-04-10T07:35:18.924Z"
   },
   {
    "duration": 3406,
    "start_time": "2025-04-10T07:35:18.940Z"
   },
   {
    "duration": 15,
    "start_time": "2025-04-10T07:35:22.349Z"
   },
   {
    "duration": 78,
    "start_time": "2025-04-10T13:16:59.544Z"
   },
   {
    "duration": 40,
    "start_time": "2025-04-10T13:33:18.814Z"
   },
   {
    "duration": 5,
    "start_time": "2025-04-10T13:40:21.102Z"
   },
   {
    "duration": 7,
    "start_time": "2025-04-10T13:40:22.416Z"
   },
   {
    "duration": 7451,
    "start_time": "2025-04-10T15:52:22.440Z"
   },
   {
    "duration": 3288,
    "start_time": "2025-04-10T15:52:29.894Z"
   },
   {
    "duration": 1646,
    "start_time": "2025-04-10T15:52:33.184Z"
   },
   {
    "duration": 5,
    "start_time": "2025-04-10T15:52:34.832Z"
   },
   {
    "duration": 1356,
    "start_time": "2025-04-10T15:52:34.839Z"
   },
   {
    "duration": 184,
    "start_time": "2025-04-10T15:52:36.197Z"
   },
   {
    "duration": 167,
    "start_time": "2025-04-10T15:52:36.383Z"
   },
   {
    "duration": 4,
    "start_time": "2025-04-10T15:52:36.552Z"
   },
   {
    "duration": 146,
    "start_time": "2025-04-10T15:52:36.557Z"
   },
   {
    "duration": 7,
    "start_time": "2025-04-10T15:52:36.706Z"
   },
   {
    "duration": 4,
    "start_time": "2025-04-10T15:52:36.714Z"
   },
   {
    "duration": 681,
    "start_time": "2025-04-10T15:52:36.720Z"
   },
   {
    "duration": 539,
    "start_time": "2025-04-10T15:52:37.403Z"
   },
   {
    "duration": 648,
    "start_time": "2025-04-10T15:52:37.944Z"
   },
   {
    "duration": 4,
    "start_time": "2025-04-10T15:52:38.594Z"
   },
   {
    "duration": 84,
    "start_time": "2025-04-10T15:52:38.600Z"
   },
   {
    "duration": 90,
    "start_time": "2025-04-10T15:52:38.685Z"
   },
   {
    "duration": 225,
    "start_time": "2025-04-10T15:52:38.777Z"
   },
   {
    "duration": 46,
    "start_time": "2025-04-10T15:52:39.004Z"
   },
   {
    "duration": 23,
    "start_time": "2025-04-10T15:52:39.051Z"
   },
   {
    "duration": 77,
    "start_time": "2025-04-10T15:52:39.076Z"
   },
   {
    "duration": 23,
    "start_time": "2025-04-10T15:52:39.155Z"
   },
   {
    "duration": 6,
    "start_time": "2025-04-10T15:52:39.180Z"
   },
   {
    "duration": 457,
    "start_time": "2025-04-10T15:52:39.188Z"
   },
   {
    "duration": 17,
    "start_time": "2025-04-10T15:52:39.647Z"
   },
   {
    "duration": 30,
    "start_time": "2025-04-10T15:52:39.667Z"
   },
   {
    "duration": 5,
    "start_time": "2025-04-10T15:52:39.699Z"
   },
   {
    "duration": 16,
    "start_time": "2025-04-10T15:52:39.740Z"
   },
   {
    "duration": 9,
    "start_time": "2025-04-10T15:52:39.758Z"
   },
   {
    "duration": 8,
    "start_time": "2025-04-10T15:52:39.769Z"
   },
   {
    "duration": 22,
    "start_time": "2025-04-10T15:52:39.778Z"
   },
   {
    "duration": 4,
    "start_time": "2025-04-10T15:52:39.837Z"
   },
   {
    "duration": 475,
    "start_time": "2025-04-10T15:52:39.843Z"
   },
   {
    "duration": 23,
    "start_time": "2025-04-10T15:52:40.319Z"
   },
   {
    "duration": 10,
    "start_time": "2025-04-10T15:52:40.344Z"
   },
   {
    "duration": 8,
    "start_time": "2025-04-10T15:52:40.356Z"
   },
   {
    "duration": 17,
    "start_time": "2025-04-10T15:52:40.366Z"
   },
   {
    "duration": 19,
    "start_time": "2025-04-10T15:52:40.384Z"
   },
   {
    "duration": 47,
    "start_time": "2025-04-10T15:52:40.405Z"
   },
   {
    "duration": 17,
    "start_time": "2025-04-10T15:52:40.454Z"
   },
   {
    "duration": 21,
    "start_time": "2025-04-10T15:52:40.473Z"
   },
   {
    "duration": 614,
    "start_time": "2025-04-10T15:52:40.496Z"
   },
   {
    "duration": 2,
    "start_time": "2025-04-10T15:52:41.112Z"
   },
   {
    "duration": 4906,
    "start_time": "2025-04-10T15:52:41.116Z"
   },
   {
    "duration": 12,
    "start_time": "2025-04-10T15:52:46.025Z"
   },
   {
    "duration": 83,
    "start_time": "2025-04-10T15:52:46.039Z"
   },
   {
    "duration": 19,
    "start_time": "2025-04-10T15:52:46.123Z"
   },
   {
    "duration": 26,
    "start_time": "2025-04-10T15:52:46.144Z"
   },
   {
    "duration": 3,
    "start_time": "2025-04-10T15:52:46.172Z"
   },
   {
    "duration": 38,
    "start_time": "2025-04-10T15:52:46.177Z"
   },
   {
    "duration": 4,
    "start_time": "2025-04-10T15:52:46.216Z"
   },
   {
    "duration": 115,
    "start_time": "2025-04-10T15:52:46.221Z"
   },
   {
    "duration": 11,
    "start_time": "2025-04-10T15:52:46.338Z"
   },
   {
    "duration": 13,
    "start_time": "2025-04-10T15:52:46.351Z"
   },
   {
    "duration": 17,
    "start_time": "2025-04-10T15:52:46.366Z"
   },
   {
    "duration": 7,
    "start_time": "2025-04-10T15:52:46.385Z"
   },
   {
    "duration": 22,
    "start_time": "2025-04-10T15:52:46.393Z"
   },
   {
    "duration": 17,
    "start_time": "2025-04-10T15:52:46.417Z"
   },
   {
    "duration": 151607,
    "start_time": "2025-04-10T15:52:46.436Z"
   },
   {
    "duration": 91,
    "start_time": "2025-04-10T15:55:18.048Z"
   },
   {
    "duration": 32,
    "start_time": "2025-04-10T15:55:18.141Z"
   },
   {
    "duration": 95,
    "start_time": "2025-04-10T15:55:18.174Z"
   },
   {
    "duration": 2,
    "start_time": "2025-04-10T15:55:18.271Z"
   },
   {
    "duration": 71070,
    "start_time": "2025-04-10T15:55:18.275Z"
   },
   {
    "duration": 3,
    "start_time": "2025-04-10T15:56:29.347Z"
   },
   {
    "duration": 23,
    "start_time": "2025-04-10T15:56:29.352Z"
   },
   {
    "duration": 98949,
    "start_time": "2025-04-10T15:56:29.376Z"
   },
   {
    "duration": 3,
    "start_time": "2025-04-10T15:58:08.327Z"
   },
   {
    "duration": 15,
    "start_time": "2025-04-10T15:58:08.331Z"
   },
   {
    "duration": 2335,
    "start_time": "2025-04-10T15:58:08.348Z"
   },
   {
    "duration": 11,
    "start_time": "2025-04-10T15:58:10.685Z"
   },
   {
    "duration": 17,
    "start_time": "2025-04-10T15:58:10.698Z"
   },
   {
    "duration": 554,
    "start_time": "2025-04-10T15:58:10.717Z"
   },
   {
    "duration": 416,
    "start_time": "2025-04-10T16:01:06.026Z"
   }
  ],
  "kernelspec": {
   "display_name": "Python 3 (ipykernel)",
   "language": "python",
   "name": "python3"
  },
  "language_info": {
   "codemirror_mode": {
    "name": "ipython",
    "version": 3
   },
   "file_extension": ".py",
   "mimetype": "text/x-python",
   "name": "python",
   "nbconvert_exporter": "python",
   "pygments_lexer": "ipython3",
   "version": "3.12.7"
  },
  "toc": {
   "base_numbering": 1,
   "nav_menu": {},
   "number_sections": true,
   "sideBar": true,
   "skip_h1_title": true,
   "title_cell": "Table of Contents",
   "title_sidebar": "Contents",
   "toc_cell": false,
   "toc_position": {},
   "toc_section_display": true,
   "toc_window_display": false
  }
 },
 "nbformat": 4,
 "nbformat_minor": 4
}

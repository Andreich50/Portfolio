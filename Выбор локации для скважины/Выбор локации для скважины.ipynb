{
 "cells": [
  {
   "cell_type": "markdown",
   "metadata": {},
   "source": [
    "# Выбор локации для скважины"
   ]
  },
  {
   "cell_type": "markdown",
   "metadata": {},
   "source": [
    "Допустим, вы работаете в добывающей компании «ГлавРосГосНефть». Нужно решить, где бурить новую скважину.\n",
    "\n",
    "Вам предоставлены пробы нефти в трёх регионах: в каждом 10 000 месторождений, где измерили качество нефти и объём её запасов. Постройте модель машинного обучения, которая поможет определить регион, где добыча принесёт наибольшую прибыль. Проанализируйте возможную прибыль и риски техникой *Bootstrap.*\n",
    "\n",
    "Шаги для выбора локации:\n",
    "\n",
    "- В избранном регионе ищут месторождения, для каждого определяют значения признаков;\n",
    "- Строят модель и оценивают объём запасов;\n",
    "- Выбирают месторождения с самым высокими оценками значений. Количество месторождений зависит от бюджета компании и стоимости разработки одной скважины;\n",
    "- Прибыль равна суммарной прибыли отобранных месторождений."
   ]
  },
  {
   "cell_type": "markdown",
   "metadata": {},
   "source": [
    "## Описание данных"
   ]
  },
  {
   "cell_type": "markdown",
   "metadata": {},
   "source": [
    "Данные геологоразведки трёх регионов находятся в файлах: \n",
    "- `datasets/geo_data_0.csv`\n",
    "- `datasets/geo_data_1.csv`\n",
    "- `datasets/geo_data_2.csv`\n",
    "\n",
    "Признаки, содержащиеся в датасетах:\n",
    "- `id` — уникальный идентификатор скважины;\n",
    "- `f0, f1, f2` — три признака точек (неважно, что они означают, но сами признаки значимы);\n",
    "- `product` — объём запасов в скважине (тыс. баррелей).\n",
    "\n",
    "**Условия задачи:**\n",
    "- При разведке региона исследуют 500 точек, из которых с помощью машинного обучения выбирают 200 лучших для разработки.\n",
    "- Бюджет на разработку скважин в регионе — 10 млрд рублей.\n",
    "- При нынешних ценах один баррель сырья приносит 450 рублей дохода. Доход с каждой единицы продукта составляет 450 тыс. рублей, поскольку объём указан в тысячах баррелей.\n",
    "- После оценки рисков нужно оставить лишь те регионы, в которых вероятность убытков меньше 2.5%. Среди них выбирают регион с наибольшей средней прибылью.\n",
    "- Данные синтетические: детали контрактов и характеристики месторождений не разглашаются."
   ]
  },
  {
   "cell_type": "markdown",
   "metadata": {},
   "source": [
    "## Загрузка и подготовка данных"
   ]
  },
  {
   "cell_type": "code",
   "execution_count": 1,
   "metadata": {},
   "outputs": [
    {
     "name": "stdout",
     "output_type": "stream",
     "text": [
      "Requirement already satisfied: scikit-learn==1.5.0 in /opt/conda/lib/python3.9/site-packages (1.5.0)\n",
      "Requirement already satisfied: threadpoolctl>=3.1.0 in /opt/conda/lib/python3.9/site-packages (from scikit-learn==1.5.0) (3.1.0)\n",
      "Requirement already satisfied: numpy>=1.19.5 in /opt/conda/lib/python3.9/site-packages (from scikit-learn==1.5.0) (1.21.1)\n",
      "Requirement already satisfied: scipy>=1.6.0 in /opt/conda/lib/python3.9/site-packages (from scikit-learn==1.5.0) (1.9.1)\n",
      "Requirement already satisfied: joblib>=1.2.0 in /opt/conda/lib/python3.9/site-packages (from scikit-learn==1.5.0) (1.4.2)\n"
     ]
    }
   ],
   "source": [
    "!pip install scikit-learn==1.5.0"
   ]
  },
  {
   "cell_type": "code",
   "execution_count": 2,
   "metadata": {},
   "outputs": [],
   "source": [
    "!pip install phik -q"
   ]
  },
  {
   "cell_type": "code",
   "execution_count": 3,
   "metadata": {},
   "outputs": [],
   "source": [
    "import pandas as pd\n",
    "import matplotlib.pyplot as plt\n",
    "import seaborn as sns\n",
    "import numpy as np\n",
    "\n",
    "from sklearn.preprocessing import StandardScaler\n",
    "from sklearn.model_selection import train_test_split\n",
    "from sklearn.metrics import root_mean_squared_error\n",
    "from sklearn.linear_model import LinearRegression\n",
    "\n",
    "import phik\n",
    "import sklearn"
   ]
  },
  {
   "cell_type": "code",
   "execution_count": 4,
   "metadata": {},
   "outputs": [],
   "source": [
    "RANDOM_STATE = 42\n",
    "TEST_SIZE =0.25"
   ]
  },
  {
   "cell_type": "code",
   "execution_count": 5,
   "metadata": {},
   "outputs": [],
   "source": [
    "POINTS = 500 \n",
    "BEST_POINTS = 200 \n",
    "MONEY = 10000000000\n",
    "PRICE = 450000 "
   ]
  },
  {
   "cell_type": "code",
   "execution_count": 6,
   "metadata": {},
   "outputs": [],
   "source": [
    "try:\n",
    "    geo_data_0 = pd.read_csv('/datasets/geo_data_0.csv')\n",
    "    geo_data_1 = pd.read_csv('/datasets/geo_data_1.csv')\n",
    "    geo_data_2 = pd.read_csv('/datasets/geo_data_2.csv')\n",
    "except:\n",
    "    geo_data_0 = pd.read_csv(r\"C:\\Users\\user1\\Documents\\Учеба Data science\\Проекты спринтов\\2 Машинное обучение в бизнесе\\geo_data_0.csv\") \n",
    "    geo_data_1 = pd.read_csv(r\"C:\\Users\\user1\\Documents\\Учеба Data science\\Проекты спринтов\\2 Машинное обучение в бизнесе\\geo_data_1.csv\")\n",
    "    geo_data_2 = pd.read_csv(r\"C:\\Users\\user1\\Documents\\Учеба Data science\\Проекты спринтов\\2 Машинное обучение в бизнесе\\geo_data_2.csv\")\n",
    " "
   ]
  },
  {
   "cell_type": "code",
   "execution_count": 7,
   "metadata": {},
   "outputs": [],
   "source": [
    "def info (df):\n",
    "    print (df.info())\n",
    "    display (df.describe())"
   ]
  },
  {
   "cell_type": "code",
   "execution_count": 8,
   "metadata": {},
   "outputs": [
    {
     "name": "stdout",
     "output_type": "stream",
     "text": [
      "<class 'pandas.core.frame.DataFrame'>\n",
      "RangeIndex: 100000 entries, 0 to 99999\n",
      "Data columns (total 5 columns):\n",
      " #   Column   Non-Null Count   Dtype  \n",
      "---  ------   --------------   -----  \n",
      " 0   id       100000 non-null  object \n",
      " 1   f0       100000 non-null  float64\n",
      " 2   f1       100000 non-null  float64\n",
      " 3   f2       100000 non-null  float64\n",
      " 4   product  100000 non-null  float64\n",
      "dtypes: float64(4), object(1)\n",
      "memory usage: 3.8+ MB\n",
      "None\n"
     ]
    },
    {
     "data": {
      "text/html": [
       "<div>\n",
       "<style scoped>\n",
       "    .dataframe tbody tr th:only-of-type {\n",
       "        vertical-align: middle;\n",
       "    }\n",
       "\n",
       "    .dataframe tbody tr th {\n",
       "        vertical-align: top;\n",
       "    }\n",
       "\n",
       "    .dataframe thead th {\n",
       "        text-align: right;\n",
       "    }\n",
       "</style>\n",
       "<table border=\"1\" class=\"dataframe\">\n",
       "  <thead>\n",
       "    <tr style=\"text-align: right;\">\n",
       "      <th></th>\n",
       "      <th>f0</th>\n",
       "      <th>f1</th>\n",
       "      <th>f2</th>\n",
       "      <th>product</th>\n",
       "    </tr>\n",
       "  </thead>\n",
       "  <tbody>\n",
       "    <tr>\n",
       "      <th>count</th>\n",
       "      <td>100000.000000</td>\n",
       "      <td>100000.000000</td>\n",
       "      <td>100000.000000</td>\n",
       "      <td>100000.000000</td>\n",
       "    </tr>\n",
       "    <tr>\n",
       "      <th>mean</th>\n",
       "      <td>0.500419</td>\n",
       "      <td>0.250143</td>\n",
       "      <td>2.502647</td>\n",
       "      <td>92.500000</td>\n",
       "    </tr>\n",
       "    <tr>\n",
       "      <th>std</th>\n",
       "      <td>0.871832</td>\n",
       "      <td>0.504433</td>\n",
       "      <td>3.248248</td>\n",
       "      <td>44.288691</td>\n",
       "    </tr>\n",
       "    <tr>\n",
       "      <th>min</th>\n",
       "      <td>-1.408605</td>\n",
       "      <td>-0.848218</td>\n",
       "      <td>-12.088328</td>\n",
       "      <td>0.000000</td>\n",
       "    </tr>\n",
       "    <tr>\n",
       "      <th>25%</th>\n",
       "      <td>-0.072580</td>\n",
       "      <td>-0.200881</td>\n",
       "      <td>0.287748</td>\n",
       "      <td>56.497507</td>\n",
       "    </tr>\n",
       "    <tr>\n",
       "      <th>50%</th>\n",
       "      <td>0.502360</td>\n",
       "      <td>0.250252</td>\n",
       "      <td>2.515969</td>\n",
       "      <td>91.849972</td>\n",
       "    </tr>\n",
       "    <tr>\n",
       "      <th>75%</th>\n",
       "      <td>1.073581</td>\n",
       "      <td>0.700646</td>\n",
       "      <td>4.715088</td>\n",
       "      <td>128.564089</td>\n",
       "    </tr>\n",
       "    <tr>\n",
       "      <th>max</th>\n",
       "      <td>2.362331</td>\n",
       "      <td>1.343769</td>\n",
       "      <td>16.003790</td>\n",
       "      <td>185.364347</td>\n",
       "    </tr>\n",
       "  </tbody>\n",
       "</table>\n",
       "</div>"
      ],
      "text/plain": [
       "                  f0             f1             f2        product\n",
       "count  100000.000000  100000.000000  100000.000000  100000.000000\n",
       "mean        0.500419       0.250143       2.502647      92.500000\n",
       "std         0.871832       0.504433       3.248248      44.288691\n",
       "min        -1.408605      -0.848218     -12.088328       0.000000\n",
       "25%        -0.072580      -0.200881       0.287748      56.497507\n",
       "50%         0.502360       0.250252       2.515969      91.849972\n",
       "75%         1.073581       0.700646       4.715088     128.564089\n",
       "max         2.362331       1.343769      16.003790     185.364347"
      ]
     },
     "metadata": {},
     "output_type": "display_data"
    }
   ],
   "source": [
    "info (geo_data_0)"
   ]
  },
  {
   "cell_type": "code",
   "execution_count": 9,
   "metadata": {},
   "outputs": [
    {
     "name": "stdout",
     "output_type": "stream",
     "text": [
      "<class 'pandas.core.frame.DataFrame'>\n",
      "RangeIndex: 100000 entries, 0 to 99999\n",
      "Data columns (total 5 columns):\n",
      " #   Column   Non-Null Count   Dtype  \n",
      "---  ------   --------------   -----  \n",
      " 0   id       100000 non-null  object \n",
      " 1   f0       100000 non-null  float64\n",
      " 2   f1       100000 non-null  float64\n",
      " 3   f2       100000 non-null  float64\n",
      " 4   product  100000 non-null  float64\n",
      "dtypes: float64(4), object(1)\n",
      "memory usage: 3.8+ MB\n",
      "None\n"
     ]
    },
    {
     "data": {
      "text/html": [
       "<div>\n",
       "<style scoped>\n",
       "    .dataframe tbody tr th:only-of-type {\n",
       "        vertical-align: middle;\n",
       "    }\n",
       "\n",
       "    .dataframe tbody tr th {\n",
       "        vertical-align: top;\n",
       "    }\n",
       "\n",
       "    .dataframe thead th {\n",
       "        text-align: right;\n",
       "    }\n",
       "</style>\n",
       "<table border=\"1\" class=\"dataframe\">\n",
       "  <thead>\n",
       "    <tr style=\"text-align: right;\">\n",
       "      <th></th>\n",
       "      <th>f0</th>\n",
       "      <th>f1</th>\n",
       "      <th>f2</th>\n",
       "      <th>product</th>\n",
       "    </tr>\n",
       "  </thead>\n",
       "  <tbody>\n",
       "    <tr>\n",
       "      <th>count</th>\n",
       "      <td>100000.000000</td>\n",
       "      <td>100000.000000</td>\n",
       "      <td>100000.000000</td>\n",
       "      <td>100000.000000</td>\n",
       "    </tr>\n",
       "    <tr>\n",
       "      <th>mean</th>\n",
       "      <td>1.141296</td>\n",
       "      <td>-4.796579</td>\n",
       "      <td>2.494541</td>\n",
       "      <td>68.825000</td>\n",
       "    </tr>\n",
       "    <tr>\n",
       "      <th>std</th>\n",
       "      <td>8.965932</td>\n",
       "      <td>5.119872</td>\n",
       "      <td>1.703572</td>\n",
       "      <td>45.944423</td>\n",
       "    </tr>\n",
       "    <tr>\n",
       "      <th>min</th>\n",
       "      <td>-31.609576</td>\n",
       "      <td>-26.358598</td>\n",
       "      <td>-0.018144</td>\n",
       "      <td>0.000000</td>\n",
       "    </tr>\n",
       "    <tr>\n",
       "      <th>25%</th>\n",
       "      <td>-6.298551</td>\n",
       "      <td>-8.267985</td>\n",
       "      <td>1.000021</td>\n",
       "      <td>26.953261</td>\n",
       "    </tr>\n",
       "    <tr>\n",
       "      <th>50%</th>\n",
       "      <td>1.153055</td>\n",
       "      <td>-4.813172</td>\n",
       "      <td>2.011479</td>\n",
       "      <td>57.085625</td>\n",
       "    </tr>\n",
       "    <tr>\n",
       "      <th>75%</th>\n",
       "      <td>8.621015</td>\n",
       "      <td>-1.332816</td>\n",
       "      <td>3.999904</td>\n",
       "      <td>107.813044</td>\n",
       "    </tr>\n",
       "    <tr>\n",
       "      <th>max</th>\n",
       "      <td>29.421755</td>\n",
       "      <td>18.734063</td>\n",
       "      <td>5.019721</td>\n",
       "      <td>137.945408</td>\n",
       "    </tr>\n",
       "  </tbody>\n",
       "</table>\n",
       "</div>"
      ],
      "text/plain": [
       "                  f0             f1             f2        product\n",
       "count  100000.000000  100000.000000  100000.000000  100000.000000\n",
       "mean        1.141296      -4.796579       2.494541      68.825000\n",
       "std         8.965932       5.119872       1.703572      45.944423\n",
       "min       -31.609576     -26.358598      -0.018144       0.000000\n",
       "25%        -6.298551      -8.267985       1.000021      26.953261\n",
       "50%         1.153055      -4.813172       2.011479      57.085625\n",
       "75%         8.621015      -1.332816       3.999904     107.813044\n",
       "max        29.421755      18.734063       5.019721     137.945408"
      ]
     },
     "metadata": {},
     "output_type": "display_data"
    }
   ],
   "source": [
    "info (geo_data_1)"
   ]
  },
  {
   "cell_type": "code",
   "execution_count": 10,
   "metadata": {},
   "outputs": [
    {
     "name": "stdout",
     "output_type": "stream",
     "text": [
      "<class 'pandas.core.frame.DataFrame'>\n",
      "RangeIndex: 100000 entries, 0 to 99999\n",
      "Data columns (total 5 columns):\n",
      " #   Column   Non-Null Count   Dtype  \n",
      "---  ------   --------------   -----  \n",
      " 0   id       100000 non-null  object \n",
      " 1   f0       100000 non-null  float64\n",
      " 2   f1       100000 non-null  float64\n",
      " 3   f2       100000 non-null  float64\n",
      " 4   product  100000 non-null  float64\n",
      "dtypes: float64(4), object(1)\n",
      "memory usage: 3.8+ MB\n",
      "None\n"
     ]
    },
    {
     "data": {
      "text/html": [
       "<div>\n",
       "<style scoped>\n",
       "    .dataframe tbody tr th:only-of-type {\n",
       "        vertical-align: middle;\n",
       "    }\n",
       "\n",
       "    .dataframe tbody tr th {\n",
       "        vertical-align: top;\n",
       "    }\n",
       "\n",
       "    .dataframe thead th {\n",
       "        text-align: right;\n",
       "    }\n",
       "</style>\n",
       "<table border=\"1\" class=\"dataframe\">\n",
       "  <thead>\n",
       "    <tr style=\"text-align: right;\">\n",
       "      <th></th>\n",
       "      <th>f0</th>\n",
       "      <th>f1</th>\n",
       "      <th>f2</th>\n",
       "      <th>product</th>\n",
       "    </tr>\n",
       "  </thead>\n",
       "  <tbody>\n",
       "    <tr>\n",
       "      <th>count</th>\n",
       "      <td>100000.000000</td>\n",
       "      <td>100000.000000</td>\n",
       "      <td>100000.000000</td>\n",
       "      <td>100000.000000</td>\n",
       "    </tr>\n",
       "    <tr>\n",
       "      <th>mean</th>\n",
       "      <td>0.002023</td>\n",
       "      <td>-0.002081</td>\n",
       "      <td>2.495128</td>\n",
       "      <td>95.000000</td>\n",
       "    </tr>\n",
       "    <tr>\n",
       "      <th>std</th>\n",
       "      <td>1.732045</td>\n",
       "      <td>1.730417</td>\n",
       "      <td>3.473445</td>\n",
       "      <td>44.749921</td>\n",
       "    </tr>\n",
       "    <tr>\n",
       "      <th>min</th>\n",
       "      <td>-8.760004</td>\n",
       "      <td>-7.084020</td>\n",
       "      <td>-11.970335</td>\n",
       "      <td>0.000000</td>\n",
       "    </tr>\n",
       "    <tr>\n",
       "      <th>25%</th>\n",
       "      <td>-1.162288</td>\n",
       "      <td>-1.174820</td>\n",
       "      <td>0.130359</td>\n",
       "      <td>59.450441</td>\n",
       "    </tr>\n",
       "    <tr>\n",
       "      <th>50%</th>\n",
       "      <td>0.009424</td>\n",
       "      <td>-0.009482</td>\n",
       "      <td>2.484236</td>\n",
       "      <td>94.925613</td>\n",
       "    </tr>\n",
       "    <tr>\n",
       "      <th>75%</th>\n",
       "      <td>1.158535</td>\n",
       "      <td>1.163678</td>\n",
       "      <td>4.858794</td>\n",
       "      <td>130.595027</td>\n",
       "    </tr>\n",
       "    <tr>\n",
       "      <th>max</th>\n",
       "      <td>7.238262</td>\n",
       "      <td>7.844801</td>\n",
       "      <td>16.739402</td>\n",
       "      <td>190.029838</td>\n",
       "    </tr>\n",
       "  </tbody>\n",
       "</table>\n",
       "</div>"
      ],
      "text/plain": [
       "                  f0             f1             f2        product\n",
       "count  100000.000000  100000.000000  100000.000000  100000.000000\n",
       "mean        0.002023      -0.002081       2.495128      95.000000\n",
       "std         1.732045       1.730417       3.473445      44.749921\n",
       "min        -8.760004      -7.084020     -11.970335       0.000000\n",
       "25%        -1.162288      -1.174820       0.130359      59.450441\n",
       "50%         0.009424      -0.009482       2.484236      94.925613\n",
       "75%         1.158535       1.163678       4.858794     130.595027\n",
       "max         7.238262       7.844801      16.739402     190.029838"
      ]
     },
     "metadata": {},
     "output_type": "display_data"
    }
   ],
   "source": [
    "info (geo_data_2)"
   ]
  },
  {
   "cell_type": "markdown",
   "metadata": {},
   "source": [
    "Проверим пропуски и явные дубликаты"
   ]
  },
  {
   "cell_type": "code",
   "execution_count": 11,
   "metadata": {},
   "outputs": [],
   "source": [
    "def isna(df):\n",
    "    number_isna = df.isna().sum().sum()\n",
    "    number_duplicated = df.duplicated().sum().sum()\n",
    "    if (number_isna > 0) or (number_duplicated > 0):\n",
    "        print (f'Количество пропусков составляет  {number_isna}, количество дубликатов составляет {number_duplicated}')\n",
    "    else:\n",
    "        print ('Пропусков и явных дубликатов не обнаружено')"
   ]
  },
  {
   "cell_type": "code",
   "execution_count": 12,
   "metadata": {},
   "outputs": [
    {
     "name": "stdout",
     "output_type": "stream",
     "text": [
      "Пропусков и явных дубликатов не обнаружено\n"
     ]
    }
   ],
   "source": [
    "isna(geo_data_0)"
   ]
  },
  {
   "cell_type": "code",
   "execution_count": 13,
   "metadata": {},
   "outputs": [
    {
     "name": "stdout",
     "output_type": "stream",
     "text": [
      "Пропусков и явных дубликатов не обнаружено\n"
     ]
    }
   ],
   "source": [
    "isna(geo_data_1)"
   ]
  },
  {
   "cell_type": "code",
   "execution_count": 14,
   "metadata": {},
   "outputs": [
    {
     "name": "stdout",
     "output_type": "stream",
     "text": [
      "Пропусков и явных дубликатов не обнаружено\n"
     ]
    }
   ],
   "source": [
    "isna(geo_data_2)"
   ]
  },
  {
   "cell_type": "markdown",
   "metadata": {},
   "source": [
    "Изучим данные на предмет неявных дублей."
   ]
  },
  {
   "cell_type": "code",
   "execution_count": 15,
   "metadata": {},
   "outputs": [],
   "source": [
    "dict_data = {'geo_data_0':geo_data_0, 'geo_data_1': geo_data_1, 'geo_data_2': geo_data_2}"
   ]
  },
  {
   "cell_type": "code",
   "execution_count": 16,
   "metadata": {},
   "outputs": [
    {
     "name": "stdout",
     "output_type": "stream",
     "text": [
      "Обнаружены дубликаты в столбце id датафрейма geo_data_0 в количестве 10\n",
      "Обнаружены дубликаты в столбце id датафрейма geo_data_1 в количестве 4\n",
      "Обнаружены дубликаты в столбце product датафрейма geo_data_1 в количестве 99988\n",
      "Обнаружены дубликаты в столбце id датафрейма geo_data_2 в количестве 4\n"
     ]
    }
   ],
   "source": [
    "for name, df in dict_data.items():\n",
    "    for k in df.columns.to_list():\n",
    "        if df[k].duplicated().sum() > 0:\n",
    "            print (f'Обнаружены дубликаты в столбце {k} датафрейма {name} в количестве {df[k].duplicated().sum()}')"
   ]
  },
  {
   "cell_type": "code",
   "execution_count": 17,
   "metadata": {},
   "outputs": [],
   "source": [
    "list_id = geo_data_0[geo_data_0['id'].duplicated()]['id'].to_list()"
   ]
  },
  {
   "cell_type": "code",
   "execution_count": 18,
   "metadata": {
    "scrolled": true
   },
   "outputs": [
    {
     "data": {
      "text/html": [
       "<div>\n",
       "<style scoped>\n",
       "    .dataframe tbody tr th:only-of-type {\n",
       "        vertical-align: middle;\n",
       "    }\n",
       "\n",
       "    .dataframe tbody tr th {\n",
       "        vertical-align: top;\n",
       "    }\n",
       "\n",
       "    .dataframe thead th {\n",
       "        text-align: right;\n",
       "    }\n",
       "</style>\n",
       "<table border=\"1\" class=\"dataframe\">\n",
       "  <thead>\n",
       "    <tr style=\"text-align: right;\">\n",
       "      <th></th>\n",
       "      <th>id</th>\n",
       "      <th>f0</th>\n",
       "      <th>f1</th>\n",
       "      <th>f2</th>\n",
       "      <th>product</th>\n",
       "    </tr>\n",
       "  </thead>\n",
       "  <tbody>\n",
       "    <tr>\n",
       "      <th>931</th>\n",
       "      <td>HZww2</td>\n",
       "      <td>0.755284</td>\n",
       "      <td>0.368511</td>\n",
       "      <td>1.863211</td>\n",
       "      <td>30.681774</td>\n",
       "    </tr>\n",
       "    <tr>\n",
       "      <th>7530</th>\n",
       "      <td>HZww2</td>\n",
       "      <td>1.061194</td>\n",
       "      <td>-0.373969</td>\n",
       "      <td>10.430210</td>\n",
       "      <td>158.828695</td>\n",
       "    </tr>\n",
       "  </tbody>\n",
       "</table>\n",
       "</div>"
      ],
      "text/plain": [
       "         id        f0        f1         f2     product\n",
       "931   HZww2  0.755284  0.368511   1.863211   30.681774\n",
       "7530  HZww2  1.061194 -0.373969  10.430210  158.828695"
      ]
     },
     "metadata": {},
     "output_type": "display_data"
    },
    {
     "data": {
      "text/html": [
       "<div>\n",
       "<style scoped>\n",
       "    .dataframe tbody tr th:only-of-type {\n",
       "        vertical-align: middle;\n",
       "    }\n",
       "\n",
       "    .dataframe tbody tr th {\n",
       "        vertical-align: top;\n",
       "    }\n",
       "\n",
       "    .dataframe thead th {\n",
       "        text-align: right;\n",
       "    }\n",
       "</style>\n",
       "<table border=\"1\" class=\"dataframe\">\n",
       "  <thead>\n",
       "    <tr style=\"text-align: right;\">\n",
       "      <th></th>\n",
       "      <th>id</th>\n",
       "      <th>f0</th>\n",
       "      <th>f1</th>\n",
       "      <th>f2</th>\n",
       "      <th>product</th>\n",
       "    </tr>\n",
       "  </thead>\n",
       "  <tbody>\n",
       "    <tr>\n",
       "      <th>1364</th>\n",
       "      <td>bxg6G</td>\n",
       "      <td>0.411645</td>\n",
       "      <td>0.856830</td>\n",
       "      <td>-3.653440</td>\n",
       "      <td>73.604260</td>\n",
       "    </tr>\n",
       "    <tr>\n",
       "      <th>41724</th>\n",
       "      <td>bxg6G</td>\n",
       "      <td>-0.823752</td>\n",
       "      <td>0.546319</td>\n",
       "      <td>3.630479</td>\n",
       "      <td>93.007798</td>\n",
       "    </tr>\n",
       "  </tbody>\n",
       "</table>\n",
       "</div>"
      ],
      "text/plain": [
       "          id        f0        f1        f2    product\n",
       "1364   bxg6G  0.411645  0.856830 -3.653440  73.604260\n",
       "41724  bxg6G -0.823752  0.546319  3.630479  93.007798"
      ]
     },
     "metadata": {},
     "output_type": "display_data"
    },
    {
     "data": {
      "text/html": [
       "<div>\n",
       "<style scoped>\n",
       "    .dataframe tbody tr th:only-of-type {\n",
       "        vertical-align: middle;\n",
       "    }\n",
       "\n",
       "    .dataframe tbody tr th {\n",
       "        vertical-align: top;\n",
       "    }\n",
       "\n",
       "    .dataframe thead th {\n",
       "        text-align: right;\n",
       "    }\n",
       "</style>\n",
       "<table border=\"1\" class=\"dataframe\">\n",
       "  <thead>\n",
       "    <tr style=\"text-align: right;\">\n",
       "      <th></th>\n",
       "      <th>id</th>\n",
       "      <th>f0</th>\n",
       "      <th>f1</th>\n",
       "      <th>f2</th>\n",
       "      <th>product</th>\n",
       "    </tr>\n",
       "  </thead>\n",
       "  <tbody>\n",
       "    <tr>\n",
       "      <th>3389</th>\n",
       "      <td>A5aEY</td>\n",
       "      <td>-0.039949</td>\n",
       "      <td>0.156872</td>\n",
       "      <td>0.209861</td>\n",
       "      <td>89.249364</td>\n",
       "    </tr>\n",
       "    <tr>\n",
       "      <th>51970</th>\n",
       "      <td>A5aEY</td>\n",
       "      <td>-0.180335</td>\n",
       "      <td>0.935548</td>\n",
       "      <td>-2.094773</td>\n",
       "      <td>33.020205</td>\n",
       "    </tr>\n",
       "  </tbody>\n",
       "</table>\n",
       "</div>"
      ],
      "text/plain": [
       "          id        f0        f1        f2    product\n",
       "3389   A5aEY -0.039949  0.156872  0.209861  89.249364\n",
       "51970  A5aEY -0.180335  0.935548 -2.094773  33.020205"
      ]
     },
     "metadata": {},
     "output_type": "display_data"
    },
    {
     "data": {
      "text/html": [
       "<div>\n",
       "<style scoped>\n",
       "    .dataframe tbody tr th:only-of-type {\n",
       "        vertical-align: middle;\n",
       "    }\n",
       "\n",
       "    .dataframe tbody tr th {\n",
       "        vertical-align: top;\n",
       "    }\n",
       "\n",
       "    .dataframe thead th {\n",
       "        text-align: right;\n",
       "    }\n",
       "</style>\n",
       "<table border=\"1\" class=\"dataframe\">\n",
       "  <thead>\n",
       "    <tr style=\"text-align: right;\">\n",
       "      <th></th>\n",
       "      <th>id</th>\n",
       "      <th>f0</th>\n",
       "      <th>f1</th>\n",
       "      <th>f2</th>\n",
       "      <th>product</th>\n",
       "    </tr>\n",
       "  </thead>\n",
       "  <tbody>\n",
       "    <tr>\n",
       "      <th>1949</th>\n",
       "      <td>QcMuo</td>\n",
       "      <td>0.506563</td>\n",
       "      <td>-0.323775</td>\n",
       "      <td>-2.215583</td>\n",
       "      <td>75.496502</td>\n",
       "    </tr>\n",
       "    <tr>\n",
       "      <th>63593</th>\n",
       "      <td>QcMuo</td>\n",
       "      <td>0.635635</td>\n",
       "      <td>-0.473422</td>\n",
       "      <td>0.862670</td>\n",
       "      <td>64.578675</td>\n",
       "    </tr>\n",
       "  </tbody>\n",
       "</table>\n",
       "</div>"
      ],
      "text/plain": [
       "          id        f0        f1        f2    product\n",
       "1949   QcMuo  0.506563 -0.323775 -2.215583  75.496502\n",
       "63593  QcMuo  0.635635 -0.473422  0.862670  64.578675"
      ]
     },
     "metadata": {},
     "output_type": "display_data"
    },
    {
     "data": {
      "text/html": [
       "<div>\n",
       "<style scoped>\n",
       "    .dataframe tbody tr th:only-of-type {\n",
       "        vertical-align: middle;\n",
       "    }\n",
       "\n",
       "    .dataframe tbody tr th {\n",
       "        vertical-align: top;\n",
       "    }\n",
       "\n",
       "    .dataframe thead th {\n",
       "        text-align: right;\n",
       "    }\n",
       "</style>\n",
       "<table border=\"1\" class=\"dataframe\">\n",
       "  <thead>\n",
       "    <tr style=\"text-align: right;\">\n",
       "      <th></th>\n",
       "      <th>id</th>\n",
       "      <th>f0</th>\n",
       "      <th>f1</th>\n",
       "      <th>f2</th>\n",
       "      <th>product</th>\n",
       "    </tr>\n",
       "  </thead>\n",
       "  <tbody>\n",
       "    <tr>\n",
       "      <th>64022</th>\n",
       "      <td>74z30</td>\n",
       "      <td>0.741456</td>\n",
       "      <td>0.459229</td>\n",
       "      <td>5.153109</td>\n",
       "      <td>140.771492</td>\n",
       "    </tr>\n",
       "    <tr>\n",
       "      <th>66136</th>\n",
       "      <td>74z30</td>\n",
       "      <td>1.084962</td>\n",
       "      <td>-0.312358</td>\n",
       "      <td>6.990771</td>\n",
       "      <td>127.643327</td>\n",
       "    </tr>\n",
       "  </tbody>\n",
       "</table>\n",
       "</div>"
      ],
      "text/plain": [
       "          id        f0        f1        f2     product\n",
       "64022  74z30  0.741456  0.459229  5.153109  140.771492\n",
       "66136  74z30  1.084962 -0.312358  6.990771  127.643327"
      ]
     },
     "metadata": {},
     "output_type": "display_data"
    },
    {
     "data": {
      "text/html": [
       "<div>\n",
       "<style scoped>\n",
       "    .dataframe tbody tr th:only-of-type {\n",
       "        vertical-align: middle;\n",
       "    }\n",
       "\n",
       "    .dataframe tbody tr th {\n",
       "        vertical-align: top;\n",
       "    }\n",
       "\n",
       "    .dataframe thead th {\n",
       "        text-align: right;\n",
       "    }\n",
       "</style>\n",
       "<table border=\"1\" class=\"dataframe\">\n",
       "  <thead>\n",
       "    <tr style=\"text-align: right;\">\n",
       "      <th></th>\n",
       "      <th>id</th>\n",
       "      <th>f0</th>\n",
       "      <th>f1</th>\n",
       "      <th>f2</th>\n",
       "      <th>product</th>\n",
       "    </tr>\n",
       "  </thead>\n",
       "  <tbody>\n",
       "    <tr>\n",
       "      <th>42529</th>\n",
       "      <td>AGS9W</td>\n",
       "      <td>1.454747</td>\n",
       "      <td>-0.479651</td>\n",
       "      <td>0.683380</td>\n",
       "      <td>126.370504</td>\n",
       "    </tr>\n",
       "    <tr>\n",
       "      <th>69163</th>\n",
       "      <td>AGS9W</td>\n",
       "      <td>-0.933795</td>\n",
       "      <td>0.116194</td>\n",
       "      <td>-3.655896</td>\n",
       "      <td>19.230453</td>\n",
       "    </tr>\n",
       "  </tbody>\n",
       "</table>\n",
       "</div>"
      ],
      "text/plain": [
       "          id        f0        f1        f2     product\n",
       "42529  AGS9W  1.454747 -0.479651  0.683380  126.370504\n",
       "69163  AGS9W -0.933795  0.116194 -3.655896   19.230453"
      ]
     },
     "metadata": {},
     "output_type": "display_data"
    },
    {
     "data": {
      "text/html": [
       "<div>\n",
       "<style scoped>\n",
       "    .dataframe tbody tr th:only-of-type {\n",
       "        vertical-align: middle;\n",
       "    }\n",
       "\n",
       "    .dataframe tbody tr th {\n",
       "        vertical-align: top;\n",
       "    }\n",
       "\n",
       "    .dataframe thead th {\n",
       "        text-align: right;\n",
       "    }\n",
       "</style>\n",
       "<table border=\"1\" class=\"dataframe\">\n",
       "  <thead>\n",
       "    <tr style=\"text-align: right;\">\n",
       "      <th></th>\n",
       "      <th>id</th>\n",
       "      <th>f0</th>\n",
       "      <th>f1</th>\n",
       "      <th>f2</th>\n",
       "      <th>product</th>\n",
       "    </tr>\n",
       "  </thead>\n",
       "  <tbody>\n",
       "    <tr>\n",
       "      <th>21426</th>\n",
       "      <td>Tdehs</td>\n",
       "      <td>0.829407</td>\n",
       "      <td>0.298807</td>\n",
       "      <td>-0.049563</td>\n",
       "      <td>96.035308</td>\n",
       "    </tr>\n",
       "    <tr>\n",
       "      <th>75715</th>\n",
       "      <td>Tdehs</td>\n",
       "      <td>0.112079</td>\n",
       "      <td>0.430296</td>\n",
       "      <td>3.218993</td>\n",
       "      <td>60.964018</td>\n",
       "    </tr>\n",
       "  </tbody>\n",
       "</table>\n",
       "</div>"
      ],
      "text/plain": [
       "          id        f0        f1        f2    product\n",
       "21426  Tdehs  0.829407  0.298807 -0.049563  96.035308\n",
       "75715  Tdehs  0.112079  0.430296  3.218993  60.964018"
      ]
     },
     "metadata": {},
     "output_type": "display_data"
    },
    {
     "data": {
      "text/html": [
       "<div>\n",
       "<style scoped>\n",
       "    .dataframe tbody tr th:only-of-type {\n",
       "        vertical-align: middle;\n",
       "    }\n",
       "\n",
       "    .dataframe tbody tr th {\n",
       "        vertical-align: top;\n",
       "    }\n",
       "\n",
       "    .dataframe thead th {\n",
       "        text-align: right;\n",
       "    }\n",
       "</style>\n",
       "<table border=\"1\" class=\"dataframe\">\n",
       "  <thead>\n",
       "    <tr style=\"text-align: right;\">\n",
       "      <th></th>\n",
       "      <th>id</th>\n",
       "      <th>f0</th>\n",
       "      <th>f1</th>\n",
       "      <th>f2</th>\n",
       "      <th>product</th>\n",
       "    </tr>\n",
       "  </thead>\n",
       "  <tbody>\n",
       "    <tr>\n",
       "      <th>16633</th>\n",
       "      <td>fiKDv</td>\n",
       "      <td>0.157341</td>\n",
       "      <td>1.028359</td>\n",
       "      <td>5.585586</td>\n",
       "      <td>95.817889</td>\n",
       "    </tr>\n",
       "    <tr>\n",
       "      <th>90815</th>\n",
       "      <td>fiKDv</td>\n",
       "      <td>0.049883</td>\n",
       "      <td>0.841313</td>\n",
       "      <td>6.394613</td>\n",
       "      <td>137.346586</td>\n",
       "    </tr>\n",
       "  </tbody>\n",
       "</table>\n",
       "</div>"
      ],
      "text/plain": [
       "          id        f0        f1        f2     product\n",
       "16633  fiKDv  0.157341  1.028359  5.585586   95.817889\n",
       "90815  fiKDv  0.049883  0.841313  6.394613  137.346586"
      ]
     },
     "metadata": {},
     "output_type": "display_data"
    },
    {
     "data": {
      "text/html": [
       "<div>\n",
       "<style scoped>\n",
       "    .dataframe tbody tr th:only-of-type {\n",
       "        vertical-align: middle;\n",
       "    }\n",
       "\n",
       "    .dataframe tbody tr th {\n",
       "        vertical-align: top;\n",
       "    }\n",
       "\n",
       "    .dataframe thead th {\n",
       "        text-align: right;\n",
       "    }\n",
       "</style>\n",
       "<table border=\"1\" class=\"dataframe\">\n",
       "  <thead>\n",
       "    <tr style=\"text-align: right;\">\n",
       "      <th></th>\n",
       "      <th>id</th>\n",
       "      <th>f0</th>\n",
       "      <th>f1</th>\n",
       "      <th>f2</th>\n",
       "      <th>product</th>\n",
       "    </tr>\n",
       "  </thead>\n",
       "  <tbody>\n",
       "    <tr>\n",
       "      <th>60140</th>\n",
       "      <td>TtcGQ</td>\n",
       "      <td>0.569276</td>\n",
       "      <td>-0.104876</td>\n",
       "      <td>6.440215</td>\n",
       "      <td>85.350186</td>\n",
       "    </tr>\n",
       "    <tr>\n",
       "      <th>92341</th>\n",
       "      <td>TtcGQ</td>\n",
       "      <td>0.110711</td>\n",
       "      <td>1.022689</td>\n",
       "      <td>0.911381</td>\n",
       "      <td>101.318008</td>\n",
       "    </tr>\n",
       "  </tbody>\n",
       "</table>\n",
       "</div>"
      ],
      "text/plain": [
       "          id        f0        f1        f2     product\n",
       "60140  TtcGQ  0.569276 -0.104876  6.440215   85.350186\n",
       "92341  TtcGQ  0.110711  1.022689  0.911381  101.318008"
      ]
     },
     "metadata": {},
     "output_type": "display_data"
    },
    {
     "data": {
      "text/html": [
       "<div>\n",
       "<style scoped>\n",
       "    .dataframe tbody tr th:only-of-type {\n",
       "        vertical-align: middle;\n",
       "    }\n",
       "\n",
       "    .dataframe tbody tr th {\n",
       "        vertical-align: top;\n",
       "    }\n",
       "\n",
       "    .dataframe thead th {\n",
       "        text-align: right;\n",
       "    }\n",
       "</style>\n",
       "<table border=\"1\" class=\"dataframe\">\n",
       "  <thead>\n",
       "    <tr style=\"text-align: right;\">\n",
       "      <th></th>\n",
       "      <th>id</th>\n",
       "      <th>f0</th>\n",
       "      <th>f1</th>\n",
       "      <th>f2</th>\n",
       "      <th>product</th>\n",
       "    </tr>\n",
       "  </thead>\n",
       "  <tbody>\n",
       "    <tr>\n",
       "      <th>89582</th>\n",
       "      <td>bsk9y</td>\n",
       "      <td>0.398908</td>\n",
       "      <td>-0.400253</td>\n",
       "      <td>10.122376</td>\n",
       "      <td>163.433078</td>\n",
       "    </tr>\n",
       "    <tr>\n",
       "      <th>97785</th>\n",
       "      <td>bsk9y</td>\n",
       "      <td>0.378429</td>\n",
       "      <td>0.005837</td>\n",
       "      <td>0.160827</td>\n",
       "      <td>160.637302</td>\n",
       "    </tr>\n",
       "  </tbody>\n",
       "</table>\n",
       "</div>"
      ],
      "text/plain": [
       "          id        f0        f1         f2     product\n",
       "89582  bsk9y  0.398908 -0.400253  10.122376  163.433078\n",
       "97785  bsk9y  0.378429  0.005837   0.160827  160.637302"
      ]
     },
     "metadata": {},
     "output_type": "display_data"
    }
   ],
   "source": [
    "for i in list_id:\n",
    "    display (geo_data_0[geo_data_0['id'] ==i])"
   ]
  },
  {
   "cell_type": "markdown",
   "metadata": {},
   "source": [
    "В дубликатах по `id` значения признаков отличаются. Однозначно судить о причинах дубликатов невозможно, к счастью их количество невелико:\n",
    "- для geo_data_0 - 10 из 100 тыс., что составляет 0,01%. \n",
    "- для geo_data_1 - 4 из 100 тыс., что составляет 0,004%\n",
    "- для geo_data_2 - 4 из 100 тыс., что составляет 0,004%\n",
    "\n",
    "*Удалим дубликаты*"
   ]
  },
  {
   "cell_type": "code",
   "execution_count": 19,
   "metadata": {},
   "outputs": [],
   "source": [
    "geo_data_0 = geo_data_0.drop_duplicates('id').reset_index(drop=True)\n",
    "geo_data_1 = geo_data_1.drop_duplicates('id').reset_index(drop=True)\n",
    "geo_data_2 = geo_data_2.drop_duplicates('id').reset_index(drop=True)"
   ]
  },
  {
   "cell_type": "markdown",
   "metadata": {},
   "source": [
    "Проверим размерность"
   ]
  },
  {
   "cell_type": "code",
   "execution_count": 20,
   "metadata": {},
   "outputs": [
    {
     "name": "stdout",
     "output_type": "stream",
     "text": [
      "(99990, 5)\n",
      "(99996, 5)\n",
      "(99996, 5)\n"
     ]
    }
   ],
   "source": [
    "print(geo_data_0.shape)\n",
    "print(geo_data_1.shape)\n",
    "print(geo_data_2.shape)"
   ]
  },
  {
   "cell_type": "markdown",
   "metadata": {},
   "source": [
    "Размеремся с дубликатами в `product` geo_data_1."
   ]
  },
  {
   "cell_type": "code",
   "execution_count": 21,
   "metadata": {},
   "outputs": [],
   "source": [
    "list_dubl_product = geo_data_1[geo_data_1['product'].duplicated()]['product'].to_list()"
   ]
  },
  {
   "cell_type": "code",
   "execution_count": 22,
   "metadata": {},
   "outputs": [
    {
     "data": {
      "text/plain": [
       "array([  0.        ,   3.17910258,  26.95326103,  30.13236361,\n",
       "        53.90652206,  57.08562465,  80.85978309,  84.03888568,\n",
       "       107.81304413, 110.99214671, 134.76630516, 137.94540774])"
      ]
     },
     "execution_count": 22,
     "metadata": {},
     "output_type": "execute_result"
    }
   ],
   "source": [
    "geo_data_1[geo_data_1['product'].duplicated()]['product'].sort_values().unique()"
   ]
  },
  {
   "cell_type": "code",
   "execution_count": 23,
   "metadata": {},
   "outputs": [
    {
     "data": {
      "text/plain": [
       "array([  0.        ,   3.17910258,  26.95326103,  30.13236361,\n",
       "        53.90652206,  57.08562465,  80.85978309,  84.03888568,\n",
       "       107.81304413, 110.99214671, 134.76630516, 137.94540774])"
      ]
     },
     "execution_count": 23,
     "metadata": {},
     "output_type": "execute_result"
    }
   ],
   "source": [
    "geo_data_1['product'].sort_values().unique()"
   ]
  },
  {
   "cell_type": "markdown",
   "metadata": {},
   "source": [
    "Все значения в столбце `product` geo_data_1 похожи на категориальные. Цифры повторяются и всего имеется 12 величин значений. С этими дубликатами сделать ничего не получится оставим как есть."
   ]
  },
  {
   "cell_type": "markdown",
   "metadata": {},
   "source": [
    "**Промежуточный вывод:**\n",
    "1. Проведена загрузка данных и ознакомление с ними. Все три датафрейма состоят из 100 тыс. значений.\n",
    "2. Названия столбцов соответствуют стандарту (змеиный регистр и латиница).\n",
    "3. Типы данных соответствуют.\n",
    "4. Удалены неявные дубликаты.\n",
    "5. Пропусков не обнаружено."
   ]
  },
  {
   "cell_type": "markdown",
   "metadata": {},
   "source": [
    "### Исследовательский анализ."
   ]
  },
  {
   "cell_type": "code",
   "execution_count": 24,
   "metadata": {},
   "outputs": [],
   "source": [
    "#geo_data_0 = geo_data_0.set_index('id')\n",
    "#geo_data_1 = geo_data_1.set_index('id')\n",
    "#geo_data_2 = geo_data_2.set_index('id')"
   ]
  },
  {
   "cell_type": "code",
   "execution_count": 25,
   "metadata": {},
   "outputs": [],
   "source": [
    "def hist_plot(df):\n",
    "    df= df.set_index('id')\n",
    "    for i in df.columns.to_list():\n",
    "        plt.figure(figsize=(20,10))\n",
    "        \n",
    "        plt.subplot(1,2,1)\n",
    "        sns.histplot(data=df, x=i, bins = 50)\n",
    "        plt.ylabel('Количество значений')\n",
    "        plt.xlabel(f'{i}')\n",
    "        plt.title('Гистограмма')\n",
    "                     \n",
    "        plt.subplot(1,2,2)\n",
    "        sns.boxplot(data=df, x=i)\n",
    "        plt.xlabel(f'{i}')\n",
    "        plt.title('Боксплот')\n",
    "        \n",
    "        plt.suptitle(f'Гистограмма и боксплот для {i}')"
   ]
  },
  {
   "cell_type": "markdown",
   "metadata": {},
   "source": [
    "Посмотрим на графики."
   ]
  },
  {
   "cell_type": "code",
   "execution_count": 26,
   "metadata": {
    "scrolled": true
   },
   "outputs": [
    {
     "data": {
      "image/png": "[encoded data removed]",
      "text/plain": [
       "<Figure size 1440x720 with 2 Axes>"
      ]
     },
     "metadata": {
      "needs_background": "light"
     },
     "output_type": "display_data"
    },
    {
     "data": {
      "image/png": "[encoded data removed]",
      "text/plain": [
       "<Figure size 1440x720 with 2 Axes>"
      ]
     },
     "metadata": {
      "needs_background": "light"
     },
     "output_type": "display_data"
    },
    {
     "data": {
      "image/png": "[encoded data removed]",
      "text/plain": [
       "<Figure size 1440x720 with 2 Axes>"
      ]
     },
     "metadata": {
      "needs_background": "light"
     },
     "output_type": "display_data"
    },
    {
     "data": {
      "image/png": "[encoded data removed]",
      "text/plain": [
       "<Figure size 1440x720 with 2 Axes>"
      ]
     },
     "metadata": {
      "needs_background": "light"
     },
     "output_type": "display_data"
    }
   ],
   "source": [
    "hist_plot(geo_data_0)"
   ]
  },
  {
   "cell_type": "markdown",
   "metadata": {},
   "source": [
    "**Анализ для geo_data_0:**\n",
    "1. параметр f0:\n",
    "    - в распределении значений имеется 4 вершины. \n",
    "    - выбросов нет.\n",
    "2. параметр f1:\n",
    "    - в распределении значений имеется 3 вершины. \n",
    "    - выбросов нет.\n",
    "3. параметр f2:\n",
    "    - имеет нормальное распределение. \n",
    "    - имеются выбросы.\n",
    "4. параметр product:\n",
    "    - нет нормального распределения. \n",
    "    - выбросов нет."
   ]
  },
  {
   "cell_type": "code",
   "execution_count": 27,
   "metadata": {},
   "outputs": [
    {
     "data": {
      "image/png": "[encoded data removed]",
      "text/plain": [
       "<Figure size 1440x720 with 2 Axes>"
      ]
     },
     "metadata": {
      "needs_background": "light"
     },
     "output_type": "display_data"
    },
    {
     "data": {
      "image/png": "[encoded data removed]",
      "text/plain": [
       "<Figure size 1440x720 with 2 Axes>"
      ]
     },
     "metadata": {
      "needs_background": "light"
     },
     "output_type": "display_data"
    },
    {
     "data": {
      "image/png": "[encoded data removed]",
      "text/plain": [
       "<Figure size 1440x720 with 2 Axes>"
      ]
     },
     "metadata": {
      "needs_background": "light"
     },
     "output_type": "display_data"
    },
    {
     "data": {
      "image/png": "[encoded data removed]",
      "text/plain": [
       "<Figure size 1440x720 with 2 Axes>"
      ]
     },
     "metadata": {
      "needs_background": "light"
     },
     "output_type": "display_data"
    }
   ],
   "source": [
    "hist_plot(geo_data_1)"
   ]
  },
  {
   "cell_type": "markdown",
   "metadata": {},
   "source": [
    "**Анализ для geo_data_1:**\n",
    "1. параметр f0:\n",
    "    - в распределении значений имеется 2 вершины. \n",
    "    - имеется 1 значение выброса.\n",
    "2. параметр f1:\n",
    "    - имеет нормальное распределение. \n",
    "    - имеются выбросы.\n",
    "3. параметр f2:\n",
    "    - данные не являются непрерывными. \n",
    "    - выбросов нет.\n",
    "4. параметр product:\n",
    "    - данные не являются непрерывными. \n",
    "    - выбросов нет."
   ]
  },
  {
   "cell_type": "code",
   "execution_count": 28,
   "metadata": {
    "scrolled": true
   },
   "outputs": [
    {
     "data": {
      "image/png": "[encoded data removed]",
      "text/plain": [
       "<Figure size 1440x720 with 2 Axes>"
      ]
     },
     "metadata": {
      "needs_background": "light"
     },
     "output_type": "display_data"
    },
    {
     "data": {
      "image/png": "[encoded data removed]",
      "text/plain": [
       "<Figure size 1440x720 with 2 Axes>"
      ]
     },
     "metadata": {
      "needs_background": "light"
     },
     "output_type": "display_data"
    },
    {
     "data": {
      "image/png": "[encoded data removed]",
      "text/plain": [
       "<Figure size 1440x720 with 2 Axes>"
      ]
     },
     "metadata": {
      "needs_background": "light"
     },
     "output_type": "display_data"
    },
    {
     "data": {
      "image/png": "[encoded data removed]",
      "text/plain": [
       "<Figure size 1440x720 with 2 Axes>"
      ]
     },
     "metadata": {
      "needs_background": "light"
     },
     "output_type": "display_data"
    }
   ],
   "source": [
    "hist_plot(geo_data_2)"
   ]
  },
  {
   "cell_type": "markdown",
   "metadata": {},
   "source": [
    "**Анализ для geo_data_2:**\n",
    "1. параметр f0:\n",
    "    - имеет нормальное распределение. \n",
    "    - имеются выбросы.\n",
    "2. параметр f1:\n",
    "    - имеет нормальное распределение. \n",
    "    - имеются выбросы.\n",
    "3. параметр f2:\n",
    "    - имеет нормальное распределение. \n",
    "    - имеются выбросы.\n",
    "4. параметр product:\n",
    "    - Данные не имеют нормального распределения. \n",
    "    - выбросов нет."
   ]
  },
  {
   "cell_type": "markdown",
   "metadata": {},
   "source": [
    "**Промежуточный вывод**\n",
    "1. Проведен исследовательский анализ. Составлены графики.\n",
    "2. В данных есть выбросы, однако неизвестна их природа.\n",
    "3. В geo_data_2 входные признаки распределны нормально.\n",
    "4. В geo_data_1 входной признак f2 похож на категориальный."
   ]
  },
  {
   "cell_type": "markdown",
   "metadata": {},
   "source": [
    "### Корреляционный анализ данных"
   ]
  },
  {
   "cell_type": "code",
   "execution_count": 29,
   "metadata": {
    "scrolled": true
   },
   "outputs": [],
   "source": [
    "def heatmap(df):\n",
    "    df=df.set_index('id')\n",
    "    corr_matrix = df.phik_matrix(interval_cols = df.columns.to_list())\n",
    "    plt.figure(figsize=(12, 12))\n",
    "    sns.heatmap(corr_matrix, annot=True, linewidths=.5, cmap='coolwarm')\n",
    "    plt.title(f'Тепловой график корреляции признаков')\n"
   ]
  },
  {
   "cell_type": "code",
   "execution_count": 30,
   "metadata": {
    "scrolled": true
   },
   "outputs": [
    {
     "data": {
      "image/png": "[encoded data removed]",
      "text/plain": [
       "<Figure size 864x864 with 2 Axes>"
      ]
     },
     "metadata": {
      "needs_background": "light"
     },
     "output_type": "display_data"
    }
   ],
   "source": [
    "heatmap(geo_data_0)"
   ]
  },
  {
   "cell_type": "code",
   "execution_count": 31,
   "metadata": {},
   "outputs": [
    {
     "data": {
      "text/plain": [
       "Text(0.5, 1.0, 'График точечной зависимости f1 и f0')"
      ]
     },
     "execution_count": 31,
     "metadata": {},
     "output_type": "execute_result"
    },
    {
     "data": {
      "image/png": "[encoded data removed]",
      "text/plain": [
       "<Figure size 432x288 with 1 Axes>"
      ]
     },
     "metadata": {
      "needs_background": "light"
     },
     "output_type": "display_data"
    }
   ],
   "source": [
    "sns.scatterplot(data = geo_data_0, x='f0', y='f1')\n",
    "plt.title('График точечной зависимости f1 и f0')"
   ]
  },
  {
   "cell_type": "markdown",
   "metadata": {},
   "source": [
    "Зависимость f1 и f0 нелинейная."
   ]
  },
  {
   "cell_type": "code",
   "execution_count": 32,
   "metadata": {
    "scrolled": true
   },
   "outputs": [
    {
     "data": {
      "image/png": "[encoded data removed]",
      "text/plain": [
       "<Figure size 864x864 with 2 Axes>"
      ]
     },
     "metadata": {
      "needs_background": "light"
     },
     "output_type": "display_data"
    }
   ],
   "source": [
    "heatmap(geo_data_1)"
   ]
  },
  {
   "cell_type": "code",
   "execution_count": 33,
   "metadata": {
    "scrolled": true
   },
   "outputs": [
    {
     "data": {
      "image/png": "[encoded data removed]",
      "text/plain": [
       "<Figure size 864x864 with 2 Axes>"
      ]
     },
     "metadata": {
      "needs_background": "light"
     },
     "output_type": "display_data"
    }
   ],
   "source": [
    "heatmap(geo_data_2)"
   ]
  },
  {
   "cell_type": "markdown",
   "metadata": {},
   "source": [
    "**Промежуточный вывод по корреляционному анализу:**\n",
    "1. Для geo_data_0:\n",
    "    - есть нелинейная корреляция между f0 и f1\n",
    "2. Для geo_data_1:\n",
    "    - есть корреляция между f2 и product. Хорошая зависимость f2 с целевым признаком \n",
    "3. Для geo_data_2:\n",
    "    - есть корреляция между f2 и product "
   ]
  },
  {
   "cell_type": "markdown",
   "metadata": {},
   "source": [
    "## Обучение и проверка модели"
   ]
  },
  {
   "cell_type": "markdown",
   "metadata": {},
   "source": [
    "Создадим функцию."
   ]
  },
  {
   "cell_type": "code",
   "execution_count": 34,
   "metadata": {},
   "outputs": [],
   "source": [
    "def model_mean_product(df):\n",
    "    X = df.drop(['product','id'], axis = 1)\n",
    "    y = df['product']\n",
    "    X_train, X_test, y_train, y_test = train_test_split(X,y, test_size = 0.25, random_state = RANDOM_STATE)\n",
    "    \n",
    "    scaler = StandardScaler()\n",
    "    X_train = scaler.fit_transform(X_train)\n",
    "    X_test = scaler.transform(X_test)\n",
    "    \n",
    "    model = LinearRegression()\n",
    "    model.fit(X_train, y_train)\n",
    "    \n",
    "    predictions = model.predict(X_test)\n",
    "    \n",
    "    mean_product_region = predictions.mean()\n",
    "    \n",
    "    rmse = root_mean_squared_error(predictions, y_test)\n",
    "    return y_test, predictions, mean_product_region, rmse, model\n",
    "    "
   ]
  },
  {
   "cell_type": "markdown",
   "metadata": {},
   "source": [
    "Сделаем предсказания и посчитаем среднюю добычу, а также RMSE модели."
   ]
  },
  {
   "cell_type": "code",
   "execution_count": 35,
   "metadata": {},
   "outputs": [],
   "source": [
    "y_test_0, predictions_0, mean_product_region_0, rmse_0, model_0 = model_mean_product(geo_data_0)"
   ]
  },
  {
   "cell_type": "code",
   "execution_count": 36,
   "metadata": {},
   "outputs": [],
   "source": [
    "y_test_1, predictions_1, mean_product_region_1, rmse_1, model_1 = model_mean_product(geo_data_1)"
   ]
  },
  {
   "cell_type": "code",
   "execution_count": 37,
   "metadata": {},
   "outputs": [],
   "source": [
    "y_test_2, predictions_2, mean_product_region_2, rmse_2, model_2 = model_mean_product(geo_data_2)"
   ]
  },
  {
   "cell_type": "code",
   "execution_count": 38,
   "metadata": {},
   "outputs": [
    {
     "name": "stdout",
     "output_type": "stream",
     "text": [
      "Средняя добыча скважины в регионе 0 составляет 92.60984027552017.\n",
      "RMSE равен 37.68508926201444\n"
     ]
    }
   ],
   "source": [
    "print(f'Средняя добыча скважины в регионе 0 составляет {mean_product_region_0}.\\nRMSE равен {rmse_0}')"
   ]
  },
  {
   "cell_type": "code",
   "execution_count": 39,
   "metadata": {},
   "outputs": [
    {
     "name": "stdout",
     "output_type": "stream",
     "text": [
      "Средняя добыча скважины в регионе 1 составляет 68.57703454115173.\n",
      "RMSE равен 0.8928265978121422\n"
     ]
    }
   ],
   "source": [
    "print(f'Средняя добыча скважины в регионе 1 составляет {mean_product_region_1}.\\nRMSE равен {rmse_1}')"
   ]
  },
  {
   "cell_type": "code",
   "execution_count": 40,
   "metadata": {},
   "outputs": [
    {
     "name": "stdout",
     "output_type": "stream",
     "text": [
      "Средняя добыча скважины в регионе 2 составляет 94.93478722287514.\n",
      "RMSE равен 40.080822438088305\n"
     ]
    }
   ],
   "source": [
    "print(f'Средняя добыча скважины в регионе 2 составляет {mean_product_region_2}.\\nRMSE равен {rmse_2}')"
   ]
  },
  {
   "cell_type": "code",
   "execution_count": 41,
   "metadata": {},
   "outputs": [],
   "source": [
    "real_mean_product_region_0 = geo_data_0['product'].mean()\n",
    "real_mean_product_region_1 = geo_data_1['product'].mean()\n",
    "real_mean_product_region_2 = geo_data_2['product'].mean()"
   ]
  },
  {
   "cell_type": "markdown",
   "metadata": {},
   "source": [
    "**Вывод:**\n",
    "1. Реальные средние целевые значения имеют следующие показатели:\n",
    "    - регион_0 - 92,500\n",
    "    - регион_1 - 68.824\n",
    "    - регион_2 - 94.998\n",
    "2. Согласно модели целевые значения имеют следующие показатели:\n",
    "    - регион_0 - 92,610\n",
    "    - регион_1 - 68.577\n",
    "    - регион_2 - 94.935\n",
    "3. Наибольшая средняя добыча у региона 2 согласно модели - 94.935\n",
    "3. Наибольшая точность модели у региона 1. RMSE составил 0.89. Это подтверждается высокой корреляцией f2 и product в данном регионе."
   ]
  },
  {
   "cell_type": "markdown",
   "metadata": {},
   "source": [
    "## Подготовка к расчёту прибыли"
   ]
  },
  {
   "cell_type": "code",
   "execution_count": 42,
   "metadata": {},
   "outputs": [],
   "source": [
    "#POINTS = 500 \n",
    "#BEST_POINTS = 200 \n",
    "#MONEY = 10000000000\n",
    "#PRICE = 450000 "
   ]
  },
  {
   "cell_type": "markdown",
   "metadata": {},
   "source": [
    "Для безубыточной разработки необходимо, чтобы объем добычи составил"
   ]
  },
  {
   "cell_type": "code",
   "execution_count": 43,
   "metadata": {},
   "outputs": [
    {
     "data": {
      "text/plain": [
       "22222.222222222223"
      ]
     },
     "execution_count": 43,
     "metadata": {},
     "output_type": "execute_result"
    }
   ],
   "source": [
    "required_volume = MONEY/PRICE\n",
    "required_volume"
   ]
  },
  {
   "cell_type": "markdown",
   "metadata": {},
   "source": [
    "Так как принято решение о разработке 200 скважин, то каждая скважина минимум должна выдавать."
   ]
  },
  {
   "cell_type": "code",
   "execution_count": 44,
   "metadata": {},
   "outputs": [
    {
     "data": {
      "text/plain": [
       "111.11111111111111"
      ]
     },
     "execution_count": 44,
     "metadata": {},
     "output_type": "execute_result"
    }
   ],
   "source": [
    "required_volume_well = required_volume/BEST_POINTS\n",
    "required_volume_well"
   ]
  },
  {
   "cell_type": "code",
   "execution_count": 45,
   "metadata": {},
   "outputs": [],
   "source": [
    "#percent_0 = abs(mean_product_region_0 - required_volume_well)/required_volume_well\n",
    "#percent_1 = abs(mean_product_region_1 - required_volume_well)/required_volume_well\n",
    "#percent_2 = abs(mean_product_region_2 - required_volume_well)/required_volume_well"
   ]
  },
  {
   "cell_type": "markdown",
   "metadata": {},
   "source": [
    "**Промежуточный вывод:**\n",
    "1. Для покрытия убытков регион должен выдавать 22222.22 единиц нефти. При условии разработки 200 скважин, получается что одна скважина должна выдать не менее 111.11 единиц добычи.\n",
    "2. Cравним значение безубытка со средними значениями целевой переменной в каждом регионе.\n"
   ]
  },
  {
   "cell_type": "code",
   "execution_count": 46,
   "metadata": {},
   "outputs": [],
   "source": [
    "#print(f'Для региона 0 процент недостатка следующий {percent_0:%}')\n",
    "#print(f'Для региона 1 процент недостатка следующий {percent_1:%}')\n",
    "#print(f'Для региона 2 процент недостатка следующий {percent_2:%}')"
   ]
  },
  {
   "cell_type": "markdown",
   "metadata": {},
   "source": [
    "Теперь посмотрим есть ли 200 таких скважин в регионе, которые покроют затраты на разработку."
   ]
  },
  {
   "cell_type": "code",
   "execution_count": 47,
   "metadata": {},
   "outputs": [],
   "source": [
    "#quantity_0 = len(predictions_0[predictions_0 > required_volume_well])\n",
    "#quantity_1 = len(predictions_1[predictions_1 > required_volume_well])\n",
    "#quantity_2 = len(predictions_2[predictions_2 > required_volume_well])"
   ]
  },
  {
   "cell_type": "code",
   "execution_count": 48,
   "metadata": {},
   "outputs": [],
   "source": [
    "#print(f'Количество скважин безубыточной разработки в регионе 0 - {quantity_0}')\n",
    "#print(f'Количество скважин безубыточной разработки в регионе 1 - {quantity_1}')\n",
    "#print(f'Количество скважин безубыточной разработки в регионе 2 - {quantity_2}')"
   ]
  },
  {
   "cell_type": "code",
   "execution_count": 49,
   "metadata": {},
   "outputs": [],
   "source": [
    "real_mean_product_region_0 = geo_data_0['product'].mean()\n",
    "real_mean_product_region_1 = geo_data_1['product'].mean()\n",
    "real_mean_product_region_2 = geo_data_2['product'].mean()"
   ]
  },
  {
   "cell_type": "code",
   "execution_count": 50,
   "metadata": {},
   "outputs": [],
   "source": [
    "real_quantity_0 = len(geo_data_0[geo_data_0['product'] > required_volume_well])\n",
    "real_quantity_1 = len(geo_data_1[geo_data_1['product'] > required_volume_well])\n",
    "real_quantity_2 = len(geo_data_1[geo_data_2['product'] > required_volume_well])"
   ]
  },
  {
   "cell_type": "code",
   "execution_count": 51,
   "metadata": {},
   "outputs": [],
   "source": [
    "dict_real_mean_product = {'регион_0': real_mean_product_region_0, \n",
    "                          'регион_1': real_mean_product_region_1, \n",
    "                          'регион_2': real_mean_product_region_2}"
   ]
  },
  {
   "cell_type": "code",
   "execution_count": 52,
   "metadata": {},
   "outputs": [],
   "source": [
    "dict_real_quantity = {'регион_0': real_quantity_0, \n",
    "                          'регион_1': real_quantity_1, \n",
    "                          'регион_2': real_quantity_2}"
   ]
  },
  {
   "cell_type": "code",
   "execution_count": 53,
   "metadata": {},
   "outputs": [
    {
     "name": "stdout",
     "output_type": "stream",
     "text": [
      "Средняя производительность скважины в регион_0 - 92.49968421774354\n",
      "Средняя производительность скважины в регион_1 - 68.82391591804064\n",
      "Средняя производительность скважины в регион_2 - 94.99834211933378\n"
     ]
    }
   ],
   "source": [
    "for name, product in dict_real_mean_product.items():\n",
    "    print (f'Средняя производительность скважины в {name} - {product}')"
   ]
  },
  {
   "cell_type": "code",
   "execution_count": 54,
   "metadata": {},
   "outputs": [
    {
     "name": "stdout",
     "output_type": "stream",
     "text": [
      "Количество скважин безубыточной разработки в регион_0 - 36579\n",
      "Количество скважин безубыточной разработки в регион_1 - 16536\n",
      "Количество скважин безубыточной разработки в регион_2 - 38175\n"
     ]
    }
   ],
   "source": [
    "for name, product in dict_real_quantity.items():\n",
    "    print (f'Количество скважин безубыточной разработки в {name} - {product}')"
   ]
  },
  {
   "cell_type": "markdown",
   "metadata": {},
   "source": [
    "**Вывод:**\n",
    "1. Рельное количество скважин с целевым значением больше значения безубыточной разработки:\n",
    "    - регион_0 - 36579;\n",
    "    - регион_1 - 16536;\n",
    "    - регион_2 - 38175.\n",
    "2. Среднее значение целевой переменной в каждом регионе меньше значения безубытка.\n",
    "    - регион_0 - 92,500 < 111.11;\n",
    "    - регион_1 - 68.824 < 111.11;\n",
    "    - регион_2 - 94.998 < 111.11."
   ]
  },
  {
   "cell_type": "markdown",
   "metadata": {},
   "source": [
    "## Расчёт прибыли и рисков "
   ]
  },
  {
   "cell_type": "markdown",
   "metadata": {},
   "source": [
    "Создадим функцию для подсчета прибыли."
   ]
  },
  {
   "cell_type": "code",
   "execution_count": 55,
   "metadata": {},
   "outputs": [],
   "source": [
    "def profit (y_test, predict):\n",
    "    dict_product = {'product': y_test, 'predict' : predict}\n",
    "    df=pd.DataFrame(dict_product)\n",
    "    df=df.sort_values(by='predict', ascending = False).iloc[:200]\n",
    "    profit = df['product'].sum() * PRICE - MONEY\n",
    "    return profit"
   ]
  },
  {
   "cell_type": "code",
   "execution_count": 56,
   "metadata": {},
   "outputs": [],
   "source": [
    "profit_0 = profit(y_test_0, predictions_0)/100000000\n",
    "profit_1 = profit(y_test_1, predictions_1)/100000000\n",
    "profit_2 = profit(y_test_2, predictions_2)/100000000"
   ]
  },
  {
   "cell_type": "markdown",
   "metadata": {},
   "source": [
    "**Прибыль по регионам составила:**\n"
   ]
  },
  {
   "cell_type": "code",
   "execution_count": 57,
   "metadata": {
    "scrolled": true
   },
   "outputs": [
    {
     "name": "stdout",
     "output_type": "stream",
     "text": [
      "Прибыль региона geo_data_0 - 34.685 млрд\n",
      "Прибыль региона geo_data_1 - 24.151 млрд\n",
      "Прибыль региона geo_data_2 - 23.966 млрд\n"
     ]
    }
   ],
   "source": [
    "print(f'Прибыль региона geo_data_0 - {profit_0:.3f} млрд')\n",
    "print(f'Прибыль региона geo_data_1 - {profit_1:.3f} млрд')\n",
    "print(f'Прибыль региона geo_data_2 - {profit_2:.3f} млрд')"
   ]
  },
  {
   "cell_type": "markdown",
   "metadata": {},
   "source": [
    "Применим технику Bootstrap с 1000 выборок, чтобы найти распределение прибыли."
   ]
  },
  {
   "cell_type": "code",
   "execution_count": 58,
   "metadata": {},
   "outputs": [],
   "source": [
    "def hist_profit(df):\n",
    "    y_valid=model_mean_product(df)[0]\n",
    "    y_predict=pd.Series(model_mean_product(df)[1], index = y_valid.index)\n",
    "    \n",
    "    state = np.random.RandomState(12345)\n",
    "    values=[]\n",
    "    \n",
    "    for i in range(1000):\n",
    "        subsample = y_valid.sample(n=POINTS, replace=True, random_state=state)\n",
    "        predict_subsample = y_predict[subsample.index]\n",
    "        values.append(profit(subsample, predict_subsample))\n",
    "        \n",
    "    values = pd.Series(values)\n",
    "    \n",
    "    fig, axs = plt.subplots(figsize=(18,10))\n",
    "    \n",
    "    sns.histplot(values, bins=50, ax=axs)\n",
    "    plt.title('Гистограмма распределения прибыли при 1000 выборках из 500 элементов')\n",
    "    plt.xlabel('Прибыль')\n",
    "    plt.ylabel('Количество значений')\n",
    "    \n",
    "    mean_profit = values.mean()\n",
    "    \n",
    "    \n",
    "    #print(f'Среднее значение прибыли при 1000 выборках - {mean_profit}')\n",
    "    \n",
    "    axs.axvline(x=mean_profit, color='red', linestyle='--')\n",
    "    \n",
    "   \n",
    "    quantile_left = values.quantile(0.025)\n",
    "    quantile_right = values.quantile(0.975)\n",
    "    \n",
    "    axs.axvline(x=quantile_left, color='orange', linestyle='--')\n",
    "    axs.axvline(x=quantile_right, color='orange', linestyle='--')\n",
    "    \n",
    "   \n",
    "    risk = np.mean(values < 0)\n",
    "    \n",
    "    plt.show()\n",
    "    \n",
    "    results = {\n",
    "        'Единицы измерения': ['млн.руб.', 'млн.руб.', '%'],\n",
    "        'Значение': [mean_profit/1000000, f'({(quantile_left/1000000):.2f}, {(quantile_right/1000000):.2f})', f'{risk:.2%}']\n",
    "        \n",
    "    }\n",
    "    \n",
    "    index = ['Средняя прибыль', 'Доверительный интервал', 'Риск']\n",
    "    \n",
    "    results_df = pd.DataFrame(results, index=index)\n",
    "    display(results_df)\n",
    "    "
   ]
  },
  {
   "cell_type": "code",
   "execution_count": 59,
   "metadata": {},
   "outputs": [
    {
     "data": {
      "image/png": "[encoded data removed]",
      "text/plain": [
       "<Figure size 1296x720 with 1 Axes>"
      ]
     },
     "metadata": {
      "needs_background": "light"
     },
     "output_type": "display_data"
    },
    {
     "data": {
      "text/html": [
       "<div>\n",
       "<style scoped>\n",
       "    .dataframe tbody tr th:only-of-type {\n",
       "        vertical-align: middle;\n",
       "    }\n",
       "\n",
       "    .dataframe tbody tr th {\n",
       "        vertical-align: top;\n",
       "    }\n",
       "\n",
       "    .dataframe thead th {\n",
       "        text-align: right;\n",
       "    }\n",
       "</style>\n",
       "<table border=\"1\" class=\"dataframe\">\n",
       "  <thead>\n",
       "    <tr style=\"text-align: right;\">\n",
       "      <th></th>\n",
       "      <th>Единицы измерения</th>\n",
       "      <th>Значение</th>\n",
       "    </tr>\n",
       "  </thead>\n",
       "  <tbody>\n",
       "    <tr>\n",
       "      <th>Средняя прибыль</th>\n",
       "      <td>млн.руб.</td>\n",
       "      <td>417.354353</td>\n",
       "    </tr>\n",
       "    <tr>\n",
       "      <th>Доверительный интервал</th>\n",
       "      <td>млн.руб.</td>\n",
       "      <td>(-96.26, 933.49)</td>\n",
       "    </tr>\n",
       "    <tr>\n",
       "      <th>Риск</th>\n",
       "      <td>%</td>\n",
       "      <td>5.90%</td>\n",
       "    </tr>\n",
       "  </tbody>\n",
       "</table>\n",
       "</div>"
      ],
      "text/plain": [
       "                       Единицы измерения          Значение\n",
       "Средняя прибыль                 млн.руб.        417.354353\n",
       "Доверительный интервал          млн.руб.  (-96.26, 933.49)\n",
       "Риск                                   %             5.90%"
      ]
     },
     "metadata": {},
     "output_type": "display_data"
    }
   ],
   "source": [
    "hist_profit(geo_data_0)"
   ]
  },
  {
   "cell_type": "code",
   "execution_count": 60,
   "metadata": {},
   "outputs": [
    {
     "data": {
      "image/png": "[encoded data removed]",
      "text/plain": [
       "<Figure size 1296x720 with 1 Axes>"
      ]
     },
     "metadata": {
      "needs_background": "light"
     },
     "output_type": "display_data"
    },
    {
     "data": {
      "text/html": [
       "<div>\n",
       "<style scoped>\n",
       "    .dataframe tbody tr th:only-of-type {\n",
       "        vertical-align: middle;\n",
       "    }\n",
       "\n",
       "    .dataframe tbody tr th {\n",
       "        vertical-align: top;\n",
       "    }\n",
       "\n",
       "    .dataframe thead th {\n",
       "        text-align: right;\n",
       "    }\n",
       "</style>\n",
       "<table border=\"1\" class=\"dataframe\">\n",
       "  <thead>\n",
       "    <tr style=\"text-align: right;\">\n",
       "      <th></th>\n",
       "      <th>Единицы измерения</th>\n",
       "      <th>Значение</th>\n",
       "    </tr>\n",
       "  </thead>\n",
       "  <tbody>\n",
       "    <tr>\n",
       "      <th>Средняя прибыль</th>\n",
       "      <td>млн.руб.</td>\n",
       "      <td>432.01787</td>\n",
       "    </tr>\n",
       "    <tr>\n",
       "      <th>Доверительный интервал</th>\n",
       "      <td>млн.руб.</td>\n",
       "      <td>(51.74, 863.04)</td>\n",
       "    </tr>\n",
       "    <tr>\n",
       "      <th>Риск</th>\n",
       "      <td>%</td>\n",
       "      <td>1.00%</td>\n",
       "    </tr>\n",
       "  </tbody>\n",
       "</table>\n",
       "</div>"
      ],
      "text/plain": [
       "                       Единицы измерения         Значение\n",
       "Средняя прибыль                 млн.руб.        432.01787\n",
       "Доверительный интервал          млн.руб.  (51.74, 863.04)\n",
       "Риск                                   %            1.00%"
      ]
     },
     "metadata": {},
     "output_type": "display_data"
    }
   ],
   "source": [
    "hist_profit(geo_data_1)"
   ]
  },
  {
   "cell_type": "code",
   "execution_count": 61,
   "metadata": {
    "scrolled": true
   },
   "outputs": [
    {
     "data": {
      "image/png": "[encoded data removed]",
      "text/plain": [
       "<Figure size 1296x720 with 1 Axes>"
      ]
     },
     "metadata": {
      "needs_background": "light"
     },
     "output_type": "display_data"
    },
    {
     "data": {
      "text/html": [
       "<div>\n",
       "<style scoped>\n",
       "    .dataframe tbody tr th:only-of-type {\n",
       "        vertical-align: middle;\n",
       "    }\n",
       "\n",
       "    .dataframe tbody tr th {\n",
       "        vertical-align: top;\n",
       "    }\n",
       "\n",
       "    .dataframe thead th {\n",
       "        text-align: right;\n",
       "    }\n",
       "</style>\n",
       "<table border=\"1\" class=\"dataframe\">\n",
       "  <thead>\n",
       "    <tr style=\"text-align: right;\">\n",
       "      <th></th>\n",
       "      <th>Единицы измерения</th>\n",
       "      <th>Значение</th>\n",
       "    </tr>\n",
       "  </thead>\n",
       "  <tbody>\n",
       "    <tr>\n",
       "      <th>Средняя прибыль</th>\n",
       "      <td>млн.руб.</td>\n",
       "      <td>356.881965</td>\n",
       "    </tr>\n",
       "    <tr>\n",
       "      <th>Доверительный интервал</th>\n",
       "      <td>млн.руб.</td>\n",
       "      <td>(-186.26, 892.10)</td>\n",
       "    </tr>\n",
       "    <tr>\n",
       "      <th>Риск</th>\n",
       "      <td>%</td>\n",
       "      <td>8.90%</td>\n",
       "    </tr>\n",
       "  </tbody>\n",
       "</table>\n",
       "</div>"
      ],
      "text/plain": [
       "                       Единицы измерения           Значение\n",
       "Средняя прибыль                 млн.руб.         356.881965\n",
       "Доверительный интервал          млн.руб.  (-186.26, 892.10)\n",
       "Риск                                   %              8.90%"
      ]
     },
     "metadata": {},
     "output_type": "display_data"
    }
   ],
   "source": [
    "hist_profit(geo_data_2)"
   ]
  },
  {
   "cell_type": "markdown",
   "metadata": {},
   "source": [
    "**Вывод:**\n",
    "\n",
    "При построении 1000 выборок установлено:\n",
    "\n",
    "1. Средняя прибыль составила:\n",
    "    - регион 0 - 417 млн.\n",
    "    - регион 1 - 432 млн.\n",
    "    - регион 2 - 356 млн.\n",
    "\n",
    "2. Риск убытков:\n",
    "    - регион 0 - 5.9%.\n",
    "    - регион 1 - 1 %.\n",
    "    - регион 2 - 8.9% "
   ]
  },
  {
   "cell_type": "markdown",
   "metadata": {},
   "source": [
    "## Общий вывод."
   ]
  },
  {
   "cell_type": "markdown",
   "metadata": {},
   "source": [
    "В ходе выполнения работы были выполнены следующие этапы: \n",
    "\n",
    "**1. Предобработка данных.**\n",
    "    - Проведена загрузка данных и ознакомление с ними. Все три датафрейма состоят из 100 тыс. значений.\n",
    "    - Названия столбцов соответствуют стандарту (змеиный регистр и латиница).\n",
    "    - Типы данных соответствуют.\n",
    "    - Удалены неявные дубликаты.\n",
    "    - Пропусков не обнаружено.\n",
    "\n",
    "**2. Исследовательский анализ.**\n",
    "    - Проведен исследовательский анализ. Составлены графики.\n",
    "    - В данных есть выбросы, однако неизвестна их природа.\n",
    "    - В geo_data_2 входные признаки распределены нормально.\n",
    "    - В geo_data_1 входной признак f2 похож на категориальный.\n",
    "    \n",
    "**3. Корреляционный анализ.**\n",
    "    1. Для geo_data_0:\n",
    "        - есть нелинейная корреляция между f0 и f1\n",
    "    2. Для geo_data_1:\n",
    "        - есть корреляция между f2 и product. Хорошая зависимость f2 с целевым признаком \n",
    "    3. Для geo_data_2:\n",
    "        - есть корреляция между f2 и product .\n",
    "    \n",
    "4. Была построена модель машинного обучения, которая определяет объемы добычи на основе входных признаков f0 f1 f2 и служит для определения выгодного региона для бурения скважин. Анализ результатов работы модели показал следующее:\n",
    "    - Наибольшая средняя добыча скважины у региона 2 - 94.935 единиц.\n",
    "    - Наибольшая точность модели у региона 1. RMSE составил 0.89. Это подтверждается высокой корреляцией f2 и product в данном регионе.\n",
    "    \n",
    "4. Был рассчитан объём сырья для безубыточной разработки новой скважины.\n",
    "\n",
    "    - Для покрытия убытков регион должен выдавать 22222.22 единиц нефти. \n",
    "    - При условии разработки 200 скважин, получается что одна скважина должна выдать не менее 111.11 единиц добычи. \n",
    "    - Во всех регионах средний объем добычи недостаточен для покрытия расходов на разработку скважины.\n",
    "    - Определен объем сквавжин в каждом регионе с безубыточной разработкой:\n",
    "        - Количество скважин безубыточной разработки в регионе 0 - 5301\n",
    "        - Количество скважин безубыточной разработки в регионе 1 - 4570\n",
    "        - Количество скважин безубыточной разработки в регионе 2 - 5225\n",
    "\n",
    "5. Написана функция для подсчета прибыли и рассчитана предполагаемая прибыль в каждом из рассматриваемых регионов. \n",
    "    - Прибыль региона geo_data_0 - 34.685 млрд\n",
    "    - Прибыль региона geo_data_1 - 24.151 млрд\n",
    "    - Прибыль региона geo_data_2 - 23.966 млрд\n",
    "\n",
    "6. С помощью техники Bootstrap при 1000 выборках построены графики распределение прибыли по регионам,а также поиск средней прибыли, 95%-й доверительного интервала и риска убытков. Информация следующая:\n",
    "    - Средняя прибыль составила:\n",
    "        - регион 0 - 417 млн.\n",
    "        - регион 1 - 432 млн.\n",
    "        - регион 2 - 356 млн.\n",
    "\n",
    "    - Риск убытков:\n",
    "        - регион 0 - 5.9%.\n",
    "        - регион 1 - 1 %.\n",
    "        - регион 2 - 8.9% \n",
    "\n",
    "**Итоги**\n",
    "\n",
    "Наиболее перспективным регионом для бурения новых скважин считается **Регион 1**.\n",
    "\n",
    "1. Качество модели: Модель, обученная на данных о пробах нефти этого региона, показала метрику RMSE - 0.89 - это лучший результат по сравнению с моделями, предсказывающими объемы сырья в других регионах. Это обусловлено высокой корреляцией входного признака f2 с целевым признаком.\n",
    "\n",
    "2. Прибыльность и риск: Регион 1 показывает наибольшую среднюю прибыль среди всех регионов и является наименее рискованным по убыткам. Это делает его наиболее привлекательным вариантом для разработки новых месторождений. \n",
    "\n"
   ]
  },
  {
   "cell_type": "code",
   "execution_count": null,
   "metadata": {},
   "outputs": [],
   "source": []
  }
 ],
 "metadata": {
  "ExecuteTimeLog": [
   {
    "duration": 425,
    "start_time": "2025-03-13T17:42:24.944Z"
   },
   {
    "duration": 9668,
    "start_time": "2025-03-13T17:43:38.267Z"
   },
   {
    "duration": 1232,
    "start_time": "2025-03-13T17:44:24.474Z"
   },
   {
    "duration": 3,
    "start_time": "2025-03-13T17:44:46.771Z"
   },
   {
    "duration": 2,
    "start_time": "2025-03-13T17:45:00.632Z"
   },
   {
    "duration": 436,
    "start_time": "2025-03-13T17:49:18.432Z"
   },
   {
    "duration": 17,
    "start_time": "2025-03-13T17:51:02.596Z"
   },
   {
    "duration": 14,
    "start_time": "2025-03-13T17:51:17.523Z"
   },
   {
    "duration": 44,
    "start_time": "2025-03-13T17:51:36.688Z"
   },
   {
    "duration": 98,
    "start_time": "2025-03-16T10:49:36.830Z"
   },
   {
    "duration": 2,
    "start_time": "2025-03-16T10:49:52.951Z"
   },
   {
    "duration": 41,
    "start_time": "2025-03-16T10:50:09.256Z"
   },
   {
    "duration": 9,
    "start_time": "2025-03-16T10:50:12.542Z"
   },
   {
    "duration": 7011,
    "start_time": "2025-03-16T10:50:17.560Z"
   },
   {
    "duration": 409,
    "start_time": "2025-03-16T10:50:24.573Z"
   },
   {
    "duration": 1176,
    "start_time": "2025-03-16T10:50:24.983Z"
   },
   {
    "duration": 4,
    "start_time": "2025-03-16T10:50:26.161Z"
   },
   {
    "duration": 9,
    "start_time": "2025-03-16T10:50:26.167Z"
   },
   {
    "duration": 385,
    "start_time": "2025-03-16T10:50:26.178Z"
   },
   {
    "duration": 54,
    "start_time": "2025-03-16T10:50:32.449Z"
   },
   {
    "duration": 49,
    "start_time": "2025-03-16T10:51:29.999Z"
   },
   {
    "duration": 47,
    "start_time": "2025-03-16T10:51:30.490Z"
   },
   {
    "duration": 10,
    "start_time": "2025-03-16T10:53:32.520Z"
   },
   {
    "duration": 10,
    "start_time": "2025-03-16T10:53:37.134Z"
   },
   {
    "duration": 9,
    "start_time": "2025-03-16T10:53:42.431Z"
   },
   {
    "duration": 97,
    "start_time": "2025-03-16T10:53:53.247Z"
   },
   {
    "duration": 4,
    "start_time": "2025-03-16T10:55:31.524Z"
   },
   {
    "duration": 8,
    "start_time": "2025-03-16T10:55:53.792Z"
   },
   {
    "duration": 4,
    "start_time": "2025-03-16T11:16:32.169Z"
   },
   {
    "duration": 49,
    "start_time": "2025-03-16T11:16:32.736Z"
   },
   {
    "duration": 49,
    "start_time": "2025-03-16T11:16:46.196Z"
   },
   {
    "duration": 48,
    "start_time": "2025-03-16T11:16:46.961Z"
   },
   {
    "duration": 4,
    "start_time": "2025-03-16T11:17:22.192Z"
   },
   {
    "duration": 48,
    "start_time": "2025-03-16T11:17:24.871Z"
   },
   {
    "duration": 43,
    "start_time": "2025-03-16T11:17:25.167Z"
   },
   {
    "duration": 47,
    "start_time": "2025-03-16T11:17:25.744Z"
   },
   {
    "duration": 5,
    "start_time": "2025-03-16T11:18:27.487Z"
   },
   {
    "duration": 21,
    "start_time": "2025-03-16T11:19:05.250Z"
   },
   {
    "duration": 14,
    "start_time": "2025-03-16T11:19:12.115Z"
   },
   {
    "duration": 8,
    "start_time": "2025-03-16T11:19:36.014Z"
   },
   {
    "duration": 7,
    "start_time": "2025-03-16T11:19:40.048Z"
   },
   {
    "duration": 7,
    "start_time": "2025-03-16T11:19:44.324Z"
   },
   {
    "duration": 6,
    "start_time": "2025-03-16T11:19:48.696Z"
   },
   {
    "duration": 14,
    "start_time": "2025-03-16T11:20:02.716Z"
   },
   {
    "duration": 14,
    "start_time": "2025-03-16T11:20:22.538Z"
   },
   {
    "duration": 14,
    "start_time": "2025-03-16T11:20:27.741Z"
   },
   {
    "duration": 13,
    "start_time": "2025-03-16T11:20:34.567Z"
   },
   {
    "duration": 9,
    "start_time": "2025-03-16T11:21:23.545Z"
   },
   {
    "duration": 3,
    "start_time": "2025-03-16T11:40:28.887Z"
   },
   {
    "duration": 2,
    "start_time": "2025-03-16T11:43:19.839Z"
   },
   {
    "duration": 82,
    "start_time": "2025-03-16T11:46:42.350Z"
   },
   {
    "duration": 3,
    "start_time": "2025-03-16T11:47:09.360Z"
   },
   {
    "duration": 10,
    "start_time": "2025-03-16T11:47:09.806Z"
   },
   {
    "duration": 12,
    "start_time": "2025-03-16T11:47:52.170Z"
   },
   {
    "duration": 11,
    "start_time": "2025-03-16T11:48:38.557Z"
   },
   {
    "duration": 121,
    "start_time": "2025-03-16T11:49:20.289Z"
   },
   {
    "duration": 31,
    "start_time": "2025-03-16T11:51:27.173Z"
   },
   {
    "duration": 24,
    "start_time": "2025-03-16T11:52:44.962Z"
   },
   {
    "duration": 26,
    "start_time": "2025-03-16T11:53:06.264Z"
   },
   {
    "duration": 4,
    "start_time": "2025-03-16T11:53:17.956Z"
   },
   {
    "duration": 114,
    "start_time": "2025-03-16T11:53:25.398Z"
   },
   {
    "duration": 98,
    "start_time": "2025-03-16T11:53:58.179Z"
   },
   {
    "duration": 1276,
    "start_time": "2025-03-16T11:54:03.320Z"
   },
   {
    "duration": 138,
    "start_time": "2025-03-16T11:57:18.599Z"
   },
   {
    "duration": 24,
    "start_time": "2025-03-16T11:57:46.837Z"
   },
   {
    "duration": 3,
    "start_time": "2025-03-16T12:00:30.242Z"
   },
   {
    "duration": 80,
    "start_time": "2025-03-16T12:05:22.965Z"
   },
   {
    "duration": 4,
    "start_time": "2025-03-16T12:06:01.586Z"
   },
   {
    "duration": 4,
    "start_time": "2025-03-16T12:06:16.831Z"
   },
   {
    "duration": 11,
    "start_time": "2025-03-16T12:13:13.691Z"
   },
   {
    "duration": 239,
    "start_time": "2025-03-16T12:14:21.092Z"
   },
   {
    "duration": 120,
    "start_time": "2025-03-16T12:15:01.697Z"
   },
   {
    "duration": 12,
    "start_time": "2025-03-16T12:18:33.518Z"
   },
   {
    "duration": 4,
    "start_time": "2025-03-16T12:18:40.670Z"
   },
   {
    "duration": 224,
    "start_time": "2025-03-16T12:18:55.402Z"
   },
   {
    "duration": 4,
    "start_time": "2025-03-16T12:19:12.573Z"
   },
   {
    "duration": 30,
    "start_time": "2025-03-16T12:19:15.938Z"
   },
   {
    "duration": 95,
    "start_time": "2025-03-16T12:20:45.920Z"
   },
   {
    "duration": 10,
    "start_time": "2025-03-16T12:21:05.430Z"
   },
   {
    "duration": 9,
    "start_time": "2025-03-16T12:21:17.809Z"
   },
   {
    "duration": 10,
    "start_time": "2025-03-16T12:21:38.499Z"
   },
   {
    "duration": 5,
    "start_time": "2025-03-16T12:22:13.824Z"
   },
   {
    "duration": 10,
    "start_time": "2025-03-16T12:22:31.065Z"
   },
   {
    "duration": 9,
    "start_time": "2025-03-16T12:22:46.679Z"
   },
   {
    "duration": 4,
    "start_time": "2025-03-16T12:23:09.021Z"
   },
   {
    "duration": 20,
    "start_time": "2025-03-16T12:23:41.796Z"
   },
   {
    "duration": 11,
    "start_time": "2025-03-16T12:23:50.327Z"
   },
   {
    "duration": 3,
    "start_time": "2025-03-16T16:32:57.619Z"
   },
   {
    "duration": 5,
    "start_time": "2025-03-16T16:41:27.406Z"
   },
   {
    "duration": 1487,
    "start_time": "2025-03-16T16:41:42.825Z"
   },
   {
    "duration": 5,
    "start_time": "2025-03-16T16:44:07.046Z"
   },
   {
    "duration": 1398,
    "start_time": "2025-03-16T16:44:09.278Z"
   },
   {
    "duration": 112,
    "start_time": "2025-03-16T16:44:45.555Z"
   },
   {
    "duration": 1564,
    "start_time": "2025-03-16T16:44:46.007Z"
   },
   {
    "duration": 102,
    "start_time": "2025-03-16T16:45:53.856Z"
   },
   {
    "duration": 7,
    "start_time": "2025-03-16T16:46:11.618Z"
   },
   {
    "duration": 13,
    "start_time": "2025-03-16T16:46:12.146Z"
   },
   {
    "duration": 10,
    "start_time": "2025-03-16T16:46:24.482Z"
   },
   {
    "duration": 11,
    "start_time": "2025-03-16T16:46:35.838Z"
   },
   {
    "duration": 15,
    "start_time": "2025-03-16T16:46:46.103Z"
   },
   {
    "duration": 104,
    "start_time": "2025-03-16T16:47:11.298Z"
   },
   {
    "duration": 7,
    "start_time": "2025-03-16T16:47:36.921Z"
   },
   {
    "duration": 1714,
    "start_time": "2025-03-16T16:47:45.267Z"
   },
   {
    "duration": 5,
    "start_time": "2025-03-16T16:48:13.080Z"
   },
   {
    "duration": 1354,
    "start_time": "2025-03-16T16:48:17.219Z"
   },
   {
    "duration": 5,
    "start_time": "2025-03-16T16:49:37.830Z"
   },
   {
    "duration": 195,
    "start_time": "2025-03-16T16:49:39.879Z"
   },
   {
    "duration": 15,
    "start_time": "2025-03-16T16:50:26.994Z"
   },
   {
    "duration": 2283,
    "start_time": "2025-03-16T16:50:30.570Z"
   },
   {
    "duration": 371,
    "start_time": "2025-03-16T16:50:32.856Z"
   },
   {
    "duration": 972,
    "start_time": "2025-03-16T16:50:33.229Z"
   },
   {
    "duration": 4,
    "start_time": "2025-03-16T16:50:34.203Z"
   },
   {
    "duration": 9,
    "start_time": "2025-03-16T16:50:34.209Z"
   },
   {
    "duration": 392,
    "start_time": "2025-03-16T16:50:34.219Z"
   },
   {
    "duration": 2,
    "start_time": "2025-03-16T16:50:34.613Z"
   },
   {
    "duration": 51,
    "start_time": "2025-03-16T16:50:34.617Z"
   },
   {
    "duration": 58,
    "start_time": "2025-03-16T16:50:34.670Z"
   },
   {
    "duration": 42,
    "start_time": "2025-03-16T16:50:34.729Z"
   },
   {
    "duration": 3,
    "start_time": "2025-03-16T16:50:34.772Z"
   },
   {
    "duration": 63,
    "start_time": "2025-03-16T16:50:34.777Z"
   },
   {
    "duration": 43,
    "start_time": "2025-03-16T16:50:34.842Z"
   },
   {
    "duration": 56,
    "start_time": "2025-03-16T16:50:34.888Z"
   },
   {
    "duration": 35,
    "start_time": "2025-03-16T16:50:34.946Z"
   },
   {
    "duration": 91,
    "start_time": "2025-03-16T16:50:34.983Z"
   },
   {
    "duration": 12,
    "start_time": "2025-03-16T16:50:35.075Z"
   },
   {
    "duration": 133,
    "start_time": "2025-03-16T16:50:35.089Z"
   },
   {
    "duration": 88,
    "start_time": "2025-03-16T16:50:35.223Z"
   },
   {
    "duration": 4,
    "start_time": "2025-03-16T16:50:35.312Z"
   },
   {
    "duration": 19,
    "start_time": "2025-03-16T16:50:35.318Z"
   },
   {
    "duration": 39,
    "start_time": "2025-03-16T16:50:35.339Z"
   },
   {
    "duration": 11,
    "start_time": "2025-03-16T16:50:35.380Z"
   },
   {
    "duration": 7,
    "start_time": "2025-03-16T16:50:35.392Z"
   },
   {
    "duration": 7,
    "start_time": "2025-03-16T16:50:40.045Z"
   },
   {
    "duration": 327,
    "start_time": "2025-03-16T16:50:42.282Z"
   },
   {
    "duration": 4,
    "start_time": "2025-03-16T16:52:42.377Z"
   },
   {
    "duration": 5,
    "start_time": "2025-03-16T16:55:14.454Z"
   },
   {
    "duration": 196,
    "start_time": "2025-03-16T16:55:22.079Z"
   },
   {
    "duration": 4,
    "start_time": "2025-03-16T16:56:04.991Z"
   },
   {
    "duration": 11,
    "start_time": "2025-03-16T16:56:06.974Z"
   },
   {
    "duration": 205,
    "start_time": "2025-03-16T16:56:07.185Z"
   },
   {
    "duration": 6,
    "start_time": "2025-03-16T17:04:14.450Z"
   },
   {
    "duration": 21,
    "start_time": "2025-03-16T17:04:19.617Z"
   },
   {
    "duration": 214,
    "start_time": "2025-03-16T17:04:29.783Z"
   },
   {
    "duration": 99,
    "start_time": "2025-03-16T17:05:40.992Z"
   },
   {
    "duration": 295,
    "start_time": "2025-03-16T17:05:43.696Z"
   },
   {
    "duration": 4,
    "start_time": "2025-03-16T17:05:50.770Z"
   },
   {
    "duration": 211,
    "start_time": "2025-03-16T17:05:52.610Z"
   },
   {
    "duration": 9,
    "start_time": "2025-03-16T17:08:19.694Z"
   },
   {
    "duration": 47,
    "start_time": "2025-03-16T17:08:50.000Z"
   },
   {
    "duration": 4,
    "start_time": "2025-03-16T17:08:52.987Z"
   },
   {
    "duration": 5,
    "start_time": "2025-03-16T17:08:53.939Z"
   },
   {
    "duration": 2323,
    "start_time": "2025-03-16T17:08:58.386Z"
   },
   {
    "duration": 408,
    "start_time": "2025-03-16T17:09:00.711Z"
   },
   {
    "duration": 1046,
    "start_time": "2025-03-16T17:09:01.120Z"
   },
   {
    "duration": 3,
    "start_time": "2025-03-16T17:09:02.168Z"
   },
   {
    "duration": 36,
    "start_time": "2025-03-16T17:09:02.173Z"
   },
   {
    "duration": 386,
    "start_time": "2025-03-16T17:09:02.210Z"
   },
   {
    "duration": 3,
    "start_time": "2025-03-16T17:09:02.598Z"
   },
   {
    "duration": 124,
    "start_time": "2025-03-16T17:09:02.607Z"
   },
   {
    "duration": 46,
    "start_time": "2025-03-16T17:09:02.733Z"
   },
   {
    "duration": 60,
    "start_time": "2025-03-16T17:09:02.781Z"
   },
   {
    "duration": 25,
    "start_time": "2025-03-16T17:09:02.843Z"
   },
   {
    "duration": 60,
    "start_time": "2025-03-16T17:09:02.869Z"
   },
   {
    "duration": 45,
    "start_time": "2025-03-16T17:09:02.930Z"
   },
   {
    "duration": 60,
    "start_time": "2025-03-16T17:09:02.978Z"
   },
   {
    "duration": 25,
    "start_time": "2025-03-16T17:09:03.040Z"
   },
   {
    "duration": 113,
    "start_time": "2025-03-16T17:09:03.066Z"
   },
   {
    "duration": 13,
    "start_time": "2025-03-16T17:09:03.180Z"
   },
   {
    "duration": 165,
    "start_time": "2025-03-16T17:09:03.206Z"
   },
   {
    "duration": 97,
    "start_time": "2025-03-16T17:09:03.372Z"
   },
   {
    "duration": 4,
    "start_time": "2025-03-16T17:09:03.471Z"
   },
   {
    "duration": 31,
    "start_time": "2025-03-16T17:09:03.476Z"
   },
   {
    "duration": 19,
    "start_time": "2025-03-16T17:09:03.509Z"
   },
   {
    "duration": 11,
    "start_time": "2025-03-16T17:09:03.529Z"
   },
   {
    "duration": 17,
    "start_time": "2025-03-16T17:09:03.542Z"
   },
   {
    "duration": 5,
    "start_time": "2025-03-16T17:09:03.560Z"
   },
   {
    "duration": 20,
    "start_time": "2025-03-16T17:09:03.566Z"
   },
   {
    "duration": 15,
    "start_time": "2025-03-16T17:09:03.587Z"
   },
   {
    "duration": 286,
    "start_time": "2025-03-16T17:09:03.604Z"
   },
   {
    "duration": 206,
    "start_time": "2025-03-16T17:09:08.395Z"
   },
   {
    "duration": 4,
    "start_time": "2025-03-16T17:09:19.423Z"
   },
   {
    "duration": 4,
    "start_time": "2025-03-16T17:09:25.021Z"
   },
   {
    "duration": 364,
    "start_time": "2025-03-16T17:09:26.375Z"
   },
   {
    "duration": 4,
    "start_time": "2025-03-16T17:09:38.404Z"
   },
   {
    "duration": 280,
    "start_time": "2025-03-16T17:09:38.901Z"
   },
   {
    "duration": 4,
    "start_time": "2025-03-16T17:09:51.113Z"
   },
   {
    "duration": 602,
    "start_time": "2025-03-16T17:09:52.077Z"
   },
   {
    "duration": 4,
    "start_time": "2025-03-16T17:10:58.715Z"
   },
   {
    "duration": 1441,
    "start_time": "2025-03-16T17:11:00.668Z"
   },
   {
    "duration": 12,
    "start_time": "2025-03-16T17:11:43.735Z"
   },
   {
    "duration": 2280,
    "start_time": "2025-03-16T17:11:53.605Z"
   },
   {
    "duration": 420,
    "start_time": "2025-03-16T17:11:55.887Z"
   },
   {
    "duration": 902,
    "start_time": "2025-03-16T17:11:56.309Z"
   },
   {
    "duration": 3,
    "start_time": "2025-03-16T17:11:57.213Z"
   },
   {
    "duration": 43,
    "start_time": "2025-03-16T17:11:57.218Z"
   },
   {
    "duration": 396,
    "start_time": "2025-03-16T17:11:57.263Z"
   },
   {
    "duration": 3,
    "start_time": "2025-03-16T17:11:57.660Z"
   },
   {
    "duration": 63,
    "start_time": "2025-03-16T17:11:57.665Z"
   },
   {
    "duration": 45,
    "start_time": "2025-03-16T17:11:57.730Z"
   },
   {
    "duration": 64,
    "start_time": "2025-03-16T17:11:57.776Z"
   },
   {
    "duration": 4,
    "start_time": "2025-03-16T17:11:57.841Z"
   },
   {
    "duration": 46,
    "start_time": "2025-03-16T17:11:57.846Z"
   },
   {
    "duration": 45,
    "start_time": "2025-03-16T17:11:57.906Z"
   },
   {
    "duration": 58,
    "start_time": "2025-03-16T17:11:57.954Z"
   },
   {
    "duration": 3,
    "start_time": "2025-03-16T17:11:58.014Z"
   },
   {
    "duration": 104,
    "start_time": "2025-03-16T17:11:58.018Z"
   },
   {
    "duration": 13,
    "start_time": "2025-03-16T17:11:58.124Z"
   },
   {
    "duration": 131,
    "start_time": "2025-03-16T17:11:58.139Z"
   },
   {
    "duration": 86,
    "start_time": "2025-03-16T17:11:58.272Z"
   },
   {
    "duration": 3,
    "start_time": "2025-03-16T17:11:58.360Z"
   },
   {
    "duration": 13,
    "start_time": "2025-03-16T17:11:58.364Z"
   },
   {
    "duration": 29,
    "start_time": "2025-03-16T17:11:58.378Z"
   },
   {
    "duration": 13,
    "start_time": "2025-03-16T17:11:58.409Z"
   },
   {
    "duration": 128,
    "start_time": "2025-03-16T17:11:58.423Z"
   },
   {
    "duration": 0,
    "start_time": "2025-03-16T17:11:58.552Z"
   },
   {
    "duration": 0,
    "start_time": "2025-03-16T17:11:58.553Z"
   },
   {
    "duration": 2330,
    "start_time": "2025-03-16T17:12:15.561Z"
   },
   {
    "duration": 420,
    "start_time": "2025-03-16T17:12:17.893Z"
   },
   {
    "duration": 1011,
    "start_time": "2025-03-16T17:12:18.315Z"
   },
   {
    "duration": 3,
    "start_time": "2025-03-16T17:12:19.328Z"
   },
   {
    "duration": 4,
    "start_time": "2025-03-16T17:12:19.333Z"
   },
   {
    "duration": 407,
    "start_time": "2025-03-16T17:12:19.339Z"
   },
   {
    "duration": 3,
    "start_time": "2025-03-16T17:12:19.748Z"
   },
   {
    "duration": 61,
    "start_time": "2025-03-16T17:12:19.753Z"
   },
   {
    "duration": 43,
    "start_time": "2025-03-16T17:12:19.816Z"
   },
   {
    "duration": 66,
    "start_time": "2025-03-16T17:12:19.861Z"
   },
   {
    "duration": 4,
    "start_time": "2025-03-16T17:12:19.928Z"
   },
   {
    "duration": 52,
    "start_time": "2025-03-16T17:12:19.934Z"
   },
   {
    "duration": 59,
    "start_time": "2025-03-16T17:12:19.987Z"
   },
   {
    "duration": 58,
    "start_time": "2025-03-16T17:12:20.049Z"
   },
   {
    "duration": 3,
    "start_time": "2025-03-16T17:12:20.108Z"
   },
   {
    "duration": 99,
    "start_time": "2025-03-16T17:12:20.112Z"
   },
   {
    "duration": 14,
    "start_time": "2025-03-16T17:12:20.212Z"
   },
   {
    "duration": 136,
    "start_time": "2025-03-16T17:12:20.228Z"
   },
   {
    "duration": 94,
    "start_time": "2025-03-16T17:12:20.365Z"
   },
   {
    "duration": 3,
    "start_time": "2025-03-16T17:12:20.461Z"
   },
   {
    "duration": 12,
    "start_time": "2025-03-16T17:12:20.465Z"
   },
   {
    "duration": 30,
    "start_time": "2025-03-16T17:12:20.479Z"
   },
   {
    "duration": 14,
    "start_time": "2025-03-16T17:12:20.510Z"
   },
   {
    "duration": 128,
    "start_time": "2025-03-16T17:12:20.525Z"
   },
   {
    "duration": 0,
    "start_time": "2025-03-16T17:12:20.654Z"
   },
   {
    "duration": 0,
    "start_time": "2025-03-16T17:12:20.655Z"
   },
   {
    "duration": 10,
    "start_time": "2025-03-16T17:12:32.352Z"
   },
   {
    "duration": 2349,
    "start_time": "2025-03-16T17:12:41.776Z"
   },
   {
    "duration": 385,
    "start_time": "2025-03-16T17:12:44.127Z"
   },
   {
    "duration": 959,
    "start_time": "2025-03-16T17:12:44.514Z"
   },
   {
    "duration": 3,
    "start_time": "2025-03-16T17:12:45.475Z"
   },
   {
    "duration": 14,
    "start_time": "2025-03-16T17:12:45.480Z"
   },
   {
    "duration": 391,
    "start_time": "2025-03-16T17:12:45.495Z"
   },
   {
    "duration": 3,
    "start_time": "2025-03-16T17:12:45.888Z"
   },
   {
    "duration": 62,
    "start_time": "2025-03-16T17:12:45.892Z"
   },
   {
    "duration": 55,
    "start_time": "2025-03-16T17:12:45.956Z"
   },
   {
    "duration": 43,
    "start_time": "2025-03-16T17:12:46.012Z"
   },
   {
    "duration": 4,
    "start_time": "2025-03-16T17:12:46.056Z"
   },
   {
    "duration": 62,
    "start_time": "2025-03-16T17:12:46.061Z"
   },
   {
    "duration": 43,
    "start_time": "2025-03-16T17:12:46.125Z"
   },
   {
    "duration": 64,
    "start_time": "2025-03-16T17:12:46.171Z"
   },
   {
    "duration": 3,
    "start_time": "2025-03-16T17:12:46.237Z"
   },
   {
    "duration": 101,
    "start_time": "2025-03-16T17:12:46.241Z"
   },
   {
    "duration": 12,
    "start_time": "2025-03-16T17:12:46.344Z"
   },
   {
    "duration": 127,
    "start_time": "2025-03-16T17:12:46.358Z"
   },
   {
    "duration": 87,
    "start_time": "2025-03-16T17:12:46.486Z"
   },
   {
    "duration": 4,
    "start_time": "2025-03-16T17:12:46.574Z"
   },
   {
    "duration": 11,
    "start_time": "2025-03-16T17:12:46.579Z"
   },
   {
    "duration": 16,
    "start_time": "2025-03-16T17:12:46.606Z"
   },
   {
    "duration": 13,
    "start_time": "2025-03-16T17:12:46.623Z"
   },
   {
    "duration": 16,
    "start_time": "2025-03-16T17:12:46.637Z"
   },
   {
    "duration": 4,
    "start_time": "2025-03-16T17:12:46.654Z"
   },
   {
    "duration": 1411,
    "start_time": "2025-03-16T17:12:46.659Z"
   },
   {
    "duration": 5,
    "start_time": "2025-03-16T17:13:06.628Z"
   },
   {
    "duration": 1168,
    "start_time": "2025-03-16T17:13:07.177Z"
   },
   {
    "duration": 4,
    "start_time": "2025-03-16T17:13:14.590Z"
   },
   {
    "duration": 1520,
    "start_time": "2025-03-16T17:13:16.819Z"
   },
   {
    "duration": 5,
    "start_time": "2025-03-16T17:14:11.196Z"
   },
   {
    "duration": 1384,
    "start_time": "2025-03-16T17:14:15.473Z"
   },
   {
    "duration": 1523,
    "start_time": "2025-03-16T17:22:29.561Z"
   },
   {
    "duration": 1405,
    "start_time": "2025-03-16T17:22:31.086Z"
   },
   {
    "duration": 127,
    "start_time": "2025-03-16T17:35:24.677Z"
   },
   {
    "duration": 11,
    "start_time": "2025-03-16T17:35:37.175Z"
   },
   {
    "duration": 11,
    "start_time": "2025-03-16T17:35:56.630Z"
   },
   {
    "duration": 4,
    "start_time": "2025-03-16T17:36:11.820Z"
   },
   {
    "duration": 28,
    "start_time": "2025-03-16T17:39:06.302Z"
   },
   {
    "duration": 3,
    "start_time": "2025-03-16T17:39:46.395Z"
   },
   {
    "duration": 54,
    "start_time": "2025-03-17T15:39:30.253Z"
   },
   {
    "duration": 3,
    "start_time": "2025-03-17T15:46:48.718Z"
   },
   {
    "duration": 40,
    "start_time": "2025-03-17T15:47:01.108Z"
   },
   {
    "duration": 7029,
    "start_time": "2025-03-17T15:47:06.358Z"
   },
   {
    "duration": 401,
    "start_time": "2025-03-17T15:47:13.389Z"
   },
   {
    "duration": 1186,
    "start_time": "2025-03-17T15:47:13.792Z"
   },
   {
    "duration": 3,
    "start_time": "2025-03-17T15:47:14.980Z"
   },
   {
    "duration": 14,
    "start_time": "2025-03-17T15:47:14.985Z"
   },
   {
    "duration": 425,
    "start_time": "2025-03-17T15:47:15.000Z"
   },
   {
    "duration": 3,
    "start_time": "2025-03-17T15:47:15.427Z"
   },
   {
    "duration": 59,
    "start_time": "2025-03-17T15:47:15.431Z"
   },
   {
    "duration": 45,
    "start_time": "2025-03-17T15:47:15.491Z"
   },
   {
    "duration": 63,
    "start_time": "2025-03-17T15:47:15.537Z"
   },
   {
    "duration": 3,
    "start_time": "2025-03-17T15:47:15.602Z"
   },
   {
    "duration": 69,
    "start_time": "2025-03-17T15:47:15.607Z"
   },
   {
    "duration": 46,
    "start_time": "2025-03-17T15:47:15.677Z"
   },
   {
    "duration": 68,
    "start_time": "2025-03-17T15:47:15.726Z"
   },
   {
    "duration": 3,
    "start_time": "2025-03-17T15:47:15.795Z"
   },
   {
    "duration": 115,
    "start_time": "2025-03-17T15:47:15.800Z"
   },
   {
    "duration": 13,
    "start_time": "2025-03-17T15:47:15.917Z"
   },
   {
    "duration": 181,
    "start_time": "2025-03-17T15:47:15.931Z"
   },
   {
    "duration": 90,
    "start_time": "2025-03-17T15:47:16.113Z"
   },
   {
    "duration": 3,
    "start_time": "2025-03-17T15:47:16.205Z"
   },
   {
    "duration": 27,
    "start_time": "2025-03-17T15:47:16.210Z"
   },
   {
    "duration": 24,
    "start_time": "2025-03-17T15:47:16.239Z"
   },
   {
    "duration": 11,
    "start_time": "2025-03-17T15:47:16.264Z"
   },
   {
    "duration": 16,
    "start_time": "2025-03-17T15:47:16.277Z"
   },
   {
    "duration": 21,
    "start_time": "2025-03-17T15:47:16.295Z"
   },
   {
    "duration": 1485,
    "start_time": "2025-03-17T15:47:16.317Z"
   },
   {
    "duration": 1397,
    "start_time": "2025-03-17T15:47:17.803Z"
   },
   {
    "duration": 1493,
    "start_time": "2025-03-17T15:47:19.202Z"
   },
   {
    "duration": 4,
    "start_time": "2025-03-17T15:47:20.696Z"
   },
   {
    "duration": 81,
    "start_time": "2025-03-17T15:47:23.357Z"
   },
   {
    "duration": 4,
    "start_time": "2025-03-17T15:52:36.605Z"
   },
   {
    "duration": 20,
    "start_time": "2025-03-17T15:52:37.150Z"
   },
   {
    "duration": 4,
    "start_time": "2025-03-17T15:52:49.189Z"
   },
   {
    "duration": 12,
    "start_time": "2025-03-17T15:52:50.722Z"
   },
   {
    "duration": 2965,
    "start_time": "2025-03-17T15:53:40.015Z"
   },
   {
    "duration": 4,
    "start_time": "2025-03-17T15:53:58.570Z"
   },
   {
    "duration": 23,
    "start_time": "2025-03-17T15:53:59.463Z"
   },
   {
    "duration": 65,
    "start_time": "2025-03-17T15:54:19.517Z"
   },
   {
    "duration": 752,
    "start_time": "2025-03-17T15:54:23.860Z"
   },
   {
    "duration": 95,
    "start_time": "2025-03-17T16:06:37.560Z"
   },
   {
    "duration": 652,
    "start_time": "2025-03-17T16:06:38.339Z"
   },
   {
    "duration": 4,
    "start_time": "2025-03-17T16:07:09.099Z"
   },
   {
    "duration": 613,
    "start_time": "2025-03-17T16:07:13.836Z"
   },
   {
    "duration": 3,
    "start_time": "2025-03-17T16:07:27.129Z"
   },
   {
    "duration": 579,
    "start_time": "2025-03-17T16:07:29.322Z"
   },
   {
    "duration": 586,
    "start_time": "2025-03-17T16:08:34.200Z"
   },
   {
    "duration": 593,
    "start_time": "2025-03-17T16:08:34.788Z"
   },
   {
    "duration": 15,
    "start_time": "2025-03-17T16:15:18.823Z"
   },
   {
    "duration": 428,
    "start_time": "2025-03-17T16:16:30.810Z"
   },
   {
    "duration": 284,
    "start_time": "2025-03-17T16:17:43.086Z"
   },
   {
    "duration": 4,
    "start_time": "2025-03-17T16:49:49.336Z"
   },
   {
    "duration": 55,
    "start_time": "2025-03-17T16:49:57.482Z"
   },
   {
    "duration": 5,
    "start_time": "2025-03-17T16:51:27.357Z"
   },
   {
    "duration": 55,
    "start_time": "2025-03-17T16:51:29.235Z"
   },
   {
    "duration": 7,
    "start_time": "2025-03-17T16:52:00.777Z"
   },
   {
    "duration": 57,
    "start_time": "2025-03-17T16:52:04.457Z"
   },
   {
    "duration": 4,
    "start_time": "2025-03-17T16:53:39.508Z"
   },
   {
    "duration": 52,
    "start_time": "2025-03-17T16:53:41.564Z"
   },
   {
    "duration": 2294,
    "start_time": "2025-03-17T16:55:59.096Z"
   },
   {
    "duration": 371,
    "start_time": "2025-03-17T16:56:01.392Z"
   },
   {
    "duration": 2361,
    "start_time": "2025-03-17T16:56:01.765Z"
   },
   {
    "duration": 2291,
    "start_time": "2025-03-17T16:56:04.128Z"
   },
   {
    "duration": 3,
    "start_time": "2025-03-17T16:56:06.421Z"
   },
   {
    "duration": 22,
    "start_time": "2025-03-17T16:56:06.426Z"
   },
   {
    "duration": 421,
    "start_time": "2025-03-17T16:56:06.449Z"
   },
   {
    "duration": 3,
    "start_time": "2025-03-17T16:56:06.871Z"
   },
   {
    "duration": 95,
    "start_time": "2025-03-17T16:56:06.875Z"
   },
   {
    "duration": 45,
    "start_time": "2025-03-17T16:56:06.973Z"
   },
   {
    "duration": 57,
    "start_time": "2025-03-17T16:56:07.019Z"
   },
   {
    "duration": 3,
    "start_time": "2025-03-17T16:56:07.078Z"
   },
   {
    "duration": 84,
    "start_time": "2025-03-17T16:56:07.083Z"
   },
   {
    "duration": 53,
    "start_time": "2025-03-17T16:56:07.169Z"
   },
   {
    "duration": 65,
    "start_time": "2025-03-17T16:56:07.224Z"
   },
   {
    "duration": 3,
    "start_time": "2025-03-17T16:56:07.291Z"
   },
   {
    "duration": 120,
    "start_time": "2025-03-17T16:56:07.295Z"
   },
   {
    "duration": 14,
    "start_time": "2025-03-17T16:56:07.416Z"
   },
   {
    "duration": 147,
    "start_time": "2025-03-17T16:56:07.432Z"
   },
   {
    "duration": 88,
    "start_time": "2025-03-17T16:56:07.580Z"
   },
   {
    "duration": 4,
    "start_time": "2025-03-17T16:56:07.670Z"
   },
   {
    "duration": 25,
    "start_time": "2025-03-17T16:56:07.675Z"
   },
   {
    "duration": 21,
    "start_time": "2025-03-17T16:56:07.701Z"
   },
   {
    "duration": 11,
    "start_time": "2025-03-17T16:56:07.724Z"
   },
   {
    "duration": 3,
    "start_time": "2025-03-17T16:56:07.736Z"
   },
   {
    "duration": 4,
    "start_time": "2025-03-17T16:56:11.970Z"
   },
   {
    "duration": 119,
    "start_time": "2025-03-17T16:56:14.469Z"
   },
   {
    "duration": 6,
    "start_time": "2025-03-17T16:56:29.124Z"
   },
   {
    "duration": 1490,
    "start_time": "2025-03-17T16:56:36.489Z"
   },
   {
    "duration": 1361,
    "start_time": "2025-03-17T16:56:43.275Z"
   },
   {
    "duration": 1446,
    "start_time": "2025-03-17T16:56:47.016Z"
   },
   {
    "duration": 30,
    "start_time": "2025-03-17T16:56:50.760Z"
   },
   {
    "duration": 3,
    "start_time": "2025-03-17T16:56:52.569Z"
   },
   {
    "duration": 60,
    "start_time": "2025-03-17T16:56:53.336Z"
   },
   {
    "duration": 3,
    "start_time": "2025-03-17T16:57:21.289Z"
   },
   {
    "duration": 603,
    "start_time": "2025-03-17T16:57:21.931Z"
   },
   {
    "duration": 4,
    "start_time": "2025-03-17T16:57:32.348Z"
   },
   {
    "duration": 45,
    "start_time": "2025-03-17T16:57:36.074Z"
   },
   {
    "duration": 4,
    "start_time": "2025-03-17T16:59:20.374Z"
   },
   {
    "duration": 51,
    "start_time": "2025-03-17T16:59:30.855Z"
   },
   {
    "duration": 9,
    "start_time": "2025-03-17T17:02:27.544Z"
   },
   {
    "duration": 43,
    "start_time": "2025-03-17T17:03:34.896Z"
   },
   {
    "duration": 3,
    "start_time": "2025-03-17T17:05:43.416Z"
   },
   {
    "duration": 11,
    "start_time": "2025-03-17T17:06:21.877Z"
   },
   {
    "duration": 53,
    "start_time": "2025-03-17T17:06:39.245Z"
   },
   {
    "duration": 5,
    "start_time": "2025-03-17T17:07:06.493Z"
   },
   {
    "duration": 28,
    "start_time": "2025-03-17T17:08:29.330Z"
   },
   {
    "duration": 1201,
    "start_time": "2025-03-17T17:21:54.117Z"
   },
   {
    "duration": 13,
    "start_time": "2025-03-17T17:22:11.212Z"
   },
   {
    "duration": 15,
    "start_time": "2025-03-17T17:22:16.768Z"
   },
   {
    "duration": 19,
    "start_time": "2025-03-17T17:22:43.592Z"
   },
   {
    "duration": 5,
    "start_time": "2025-03-17T17:22:51.760Z"
   },
   {
    "duration": 9,
    "start_time": "2025-03-18T06:15:25.877Z"
   },
   {
    "duration": 6651,
    "start_time": "2025-03-18T06:15:30.210Z"
   },
   {
    "duration": 367,
    "start_time": "2025-03-18T06:15:36.863Z"
   },
   {
    "duration": 3151,
    "start_time": "2025-03-18T06:15:37.231Z"
   },
   {
    "duration": 1406,
    "start_time": "2025-03-18T06:15:40.384Z"
   },
   {
    "duration": 2,
    "start_time": "2025-03-18T06:15:41.793Z"
   },
   {
    "duration": 18,
    "start_time": "2025-03-18T06:15:41.797Z"
   },
   {
    "duration": 401,
    "start_time": "2025-03-18T06:15:41.816Z"
   },
   {
    "duration": 3,
    "start_time": "2025-03-18T06:15:42.219Z"
   },
   {
    "duration": 80,
    "start_time": "2025-03-18T06:15:42.229Z"
   },
   {
    "duration": 44,
    "start_time": "2025-03-18T06:15:42.310Z"
   },
   {
    "duration": 42,
    "start_time": "2025-03-18T06:15:42.355Z"
   },
   {
    "duration": 4,
    "start_time": "2025-03-18T06:15:42.399Z"
   },
   {
    "duration": 66,
    "start_time": "2025-03-18T06:15:42.404Z"
   },
   {
    "duration": 44,
    "start_time": "2025-03-18T06:15:42.472Z"
   },
   {
    "duration": 55,
    "start_time": "2025-03-18T06:15:42.518Z"
   },
   {
    "duration": 3,
    "start_time": "2025-03-18T06:15:42.574Z"
   },
   {
    "duration": 109,
    "start_time": "2025-03-18T06:15:42.578Z"
   },
   {
    "duration": 13,
    "start_time": "2025-03-18T06:15:42.688Z"
   },
   {
    "duration": 148,
    "start_time": "2025-03-18T06:15:42.702Z"
   },
   {
    "duration": 64,
    "start_time": "2025-03-18T06:15:42.852Z"
   },
   {
    "duration": 4,
    "start_time": "2025-03-18T06:15:42.929Z"
   },
   {
    "duration": 49,
    "start_time": "2025-03-18T06:15:42.935Z"
   },
   {
    "duration": 22,
    "start_time": "2025-03-18T06:15:42.986Z"
   },
   {
    "duration": 16,
    "start_time": "2025-03-18T06:15:43.009Z"
   },
   {
    "duration": 17,
    "start_time": "2025-03-18T06:15:43.026Z"
   },
   {
    "duration": 18,
    "start_time": "2025-03-18T06:15:43.044Z"
   },
   {
    "duration": 1488,
    "start_time": "2025-03-18T06:15:43.064Z"
   },
   {
    "duration": 1337,
    "start_time": "2025-03-18T06:15:44.554Z"
   },
   {
    "duration": 1456,
    "start_time": "2025-03-18T06:15:45.893Z"
   },
   {
    "duration": 89,
    "start_time": "2025-03-18T06:15:47.351Z"
   },
   {
    "duration": 3,
    "start_time": "2025-03-18T06:15:47.442Z"
   },
   {
    "duration": 668,
    "start_time": "2025-03-18T06:15:47.447Z"
   },
   {
    "duration": 318,
    "start_time": "2025-03-18T06:15:48.116Z"
   },
   {
    "duration": 602,
    "start_time": "2025-03-18T06:15:48.436Z"
   },
   {
    "duration": 602,
    "start_time": "2025-03-18T06:15:49.040Z"
   },
   {
    "duration": 4,
    "start_time": "2025-03-18T06:15:55.213Z"
   },
   {
    "duration": 112,
    "start_time": "2025-03-18T06:15:57.324Z"
   },
   {
    "duration": 52,
    "start_time": "2025-03-18T06:16:11.972Z"
   },
   {
    "duration": 5,
    "start_time": "2025-03-18T06:16:41.341Z"
   },
   {
    "duration": 207,
    "start_time": "2025-03-18T06:16:42.525Z"
   },
   {
    "duration": 5,
    "start_time": "2025-03-18T06:17:20.167Z"
   },
   {
    "duration": 94,
    "start_time": "2025-03-18T06:17:21.038Z"
   },
   {
    "duration": 3,
    "start_time": "2025-03-18T06:18:01.848Z"
   },
   {
    "duration": 4,
    "start_time": "2025-03-18T06:18:14.528Z"
   },
   {
    "duration": 81,
    "start_time": "2025-03-18T06:18:15.751Z"
   },
   {
    "duration": 9,
    "start_time": "2025-03-18T06:18:34.081Z"
   },
   {
    "duration": 25,
    "start_time": "2025-03-18T06:19:25.299Z"
   },
   {
    "duration": 3,
    "start_time": "2025-03-18T06:19:36.659Z"
   },
   {
    "duration": 3,
    "start_time": "2025-03-18T06:20:08.648Z"
   },
   {
    "duration": 3,
    "start_time": "2025-03-18T06:20:18.252Z"
   },
   {
    "duration": 27,
    "start_time": "2025-03-18T06:21:14.071Z"
   },
   {
    "duration": 24,
    "start_time": "2025-03-18T06:21:14.488Z"
   },
   {
    "duration": 3,
    "start_time": "2025-03-18T06:21:36.065Z"
   },
   {
    "duration": 4,
    "start_time": "2025-03-18T06:21:36.542Z"
   },
   {
    "duration": 3,
    "start_time": "2025-03-18T06:28:41.289Z"
   },
   {
    "duration": 3,
    "start_time": "2025-03-18T06:30:31.193Z"
   },
   {
    "duration": 3,
    "start_time": "2025-03-18T06:35:32.641Z"
   },
   {
    "duration": 3,
    "start_time": "2025-03-18T06:35:37.202Z"
   },
   {
    "duration": 3,
    "start_time": "2025-03-18T06:46:41.818Z"
   },
   {
    "duration": 209,
    "start_time": "2025-03-18T06:47:37.408Z"
   },
   {
    "duration": 4,
    "start_time": "2025-03-18T06:47:50.336Z"
   },
   {
    "duration": 3,
    "start_time": "2025-03-18T06:48:25.201Z"
   },
   {
    "duration": 3,
    "start_time": "2025-03-18T06:48:44.418Z"
   },
   {
    "duration": 95,
    "start_time": "2025-03-18T06:48:56.682Z"
   },
   {
    "duration": 4,
    "start_time": "2025-03-18T06:49:04.386Z"
   },
   {
    "duration": 3,
    "start_time": "2025-03-18T06:49:34.595Z"
   },
   {
    "duration": 3,
    "start_time": "2025-03-18T06:49:51.444Z"
   },
   {
    "duration": 10,
    "start_time": "2025-03-18T07:02:51.073Z"
   },
   {
    "duration": 119,
    "start_time": "2025-03-18T07:05:31.422Z"
   },
   {
    "duration": 34,
    "start_time": "2025-03-18T07:05:31.703Z"
   },
   {
    "duration": 5,
    "start_time": "2025-03-18T07:05:35.630Z"
   },
   {
    "duration": 26,
    "start_time": "2025-03-18T07:05:36.598Z"
   },
   {
    "duration": 28,
    "start_time": "2025-03-18T07:05:37.335Z"
   },
   {
    "duration": 760,
    "start_time": "2025-03-18T07:05:37.686Z"
   },
   {
    "duration": 1573,
    "start_time": "2025-03-18T07:05:58.057Z"
   },
   {
    "duration": 8,
    "start_time": "2025-03-18T07:06:49.105Z"
   },
   {
    "duration": 17,
    "start_time": "2025-03-18T07:08:33.670Z"
   },
   {
    "duration": 4,
    "start_time": "2025-03-18T07:09:28.749Z"
   },
   {
    "duration": 15,
    "start_time": "2025-03-18T07:09:42.926Z"
   },
   {
    "duration": 9,
    "start_time": "2025-03-18T07:10:13.718Z"
   },
   {
    "duration": 18,
    "start_time": "2025-03-18T07:11:05.072Z"
   },
   {
    "duration": 27,
    "start_time": "2025-03-18T07:11:32.631Z"
   },
   {
    "duration": 25,
    "start_time": "2025-03-18T07:11:35.601Z"
   },
   {
    "duration": 24,
    "start_time": "2025-03-18T07:16:44.426Z"
   },
   {
    "duration": 26,
    "start_time": "2025-03-18T07:16:45.094Z"
   },
   {
    "duration": 18,
    "start_time": "2025-03-18T07:16:48.618Z"
   },
   {
    "duration": 2306,
    "start_time": "2025-03-18T07:17:20.195Z"
   },
   {
    "duration": 420,
    "start_time": "2025-03-18T07:17:22.503Z"
   },
   {
    "duration": 2335,
    "start_time": "2025-03-18T07:17:22.924Z"
   },
   {
    "duration": 566,
    "start_time": "2025-03-18T07:17:25.262Z"
   },
   {
    "duration": 396,
    "start_time": "2025-03-18T07:17:25.831Z"
   },
   {
    "duration": 2,
    "start_time": "2025-03-18T07:17:26.230Z"
   },
   {
    "duration": 10,
    "start_time": "2025-03-18T07:17:26.234Z"
   },
   {
    "duration": 386,
    "start_time": "2025-03-18T07:17:26.246Z"
   },
   {
    "duration": 2,
    "start_time": "2025-03-18T07:17:26.634Z"
   },
   {
    "duration": 49,
    "start_time": "2025-03-18T07:17:26.639Z"
   },
   {
    "duration": 61,
    "start_time": "2025-03-18T07:17:26.690Z"
   },
   {
    "duration": 42,
    "start_time": "2025-03-18T07:17:26.752Z"
   },
   {
    "duration": 4,
    "start_time": "2025-03-18T07:17:26.796Z"
   },
   {
    "duration": 70,
    "start_time": "2025-03-18T07:17:26.801Z"
   },
   {
    "duration": 42,
    "start_time": "2025-03-18T07:17:26.873Z"
   },
   {
    "duration": 47,
    "start_time": "2025-03-18T07:17:26.929Z"
   },
   {
    "duration": 2,
    "start_time": "2025-03-18T07:17:26.978Z"
   },
   {
    "duration": 107,
    "start_time": "2025-03-18T07:17:26.982Z"
   },
   {
    "duration": 12,
    "start_time": "2025-03-18T07:17:27.090Z"
   },
   {
    "duration": 146,
    "start_time": "2025-03-18T07:17:27.104Z"
   },
   {
    "duration": 81,
    "start_time": "2025-03-18T07:17:27.252Z"
   },
   {
    "duration": 4,
    "start_time": "2025-03-18T07:17:27.334Z"
   },
   {
    "duration": 17,
    "start_time": "2025-03-18T07:17:27.339Z"
   },
   {
    "duration": 16,
    "start_time": "2025-03-18T07:17:27.358Z"
   },
   {
    "duration": 11,
    "start_time": "2025-03-18T07:17:27.376Z"
   },
   {
    "duration": 15,
    "start_time": "2025-03-18T07:17:27.388Z"
   },
   {
    "duration": 85,
    "start_time": "2025-03-18T07:17:27.405Z"
   },
   {
    "duration": 1445,
    "start_time": "2025-03-18T07:17:27.493Z"
   },
   {
    "duration": 1364,
    "start_time": "2025-03-18T07:17:28.940Z"
   },
   {
    "duration": 1502,
    "start_time": "2025-03-18T07:17:30.306Z"
   },
   {
    "duration": 42,
    "start_time": "2025-03-18T07:17:31.809Z"
   },
   {
    "duration": 4,
    "start_time": "2025-03-18T07:17:31.852Z"
   },
   {
    "duration": 676,
    "start_time": "2025-03-18T07:17:31.857Z"
   },
   {
    "duration": 316,
    "start_time": "2025-03-18T07:17:32.534Z"
   },
   {
    "duration": 600,
    "start_time": "2025-03-18T07:17:32.852Z"
   },
   {
    "duration": 623,
    "start_time": "2025-03-18T07:17:33.454Z"
   },
   {
    "duration": 5,
    "start_time": "2025-03-18T07:17:34.078Z"
   },
   {
    "duration": 50,
    "start_time": "2025-03-18T07:17:34.084Z"
   },
   {
    "duration": 208,
    "start_time": "2025-03-18T07:17:34.137Z"
   },
   {
    "duration": 196,
    "start_time": "2025-03-18T07:17:34.347Z"
   },
   {
    "duration": 4,
    "start_time": "2025-03-18T07:17:34.545Z"
   },
   {
    "duration": 94,
    "start_time": "2025-03-18T07:17:34.637Z"
   },
   {
    "duration": 7,
    "start_time": "2025-03-18T07:17:34.733Z"
   },
   {
    "duration": 4,
    "start_time": "2025-03-18T07:17:34.742Z"
   },
   {
    "duration": 16,
    "start_time": "2025-03-18T07:17:34.747Z"
   },
   {
    "duration": 19,
    "start_time": "2025-03-18T07:17:34.765Z"
   },
   {
    "duration": 4,
    "start_time": "2025-03-18T07:17:34.786Z"
   },
   {
    "duration": 20,
    "start_time": "2025-03-18T07:17:34.791Z"
   },
   {
    "duration": 25,
    "start_time": "2025-03-18T07:17:34.812Z"
   },
   {
    "duration": 124,
    "start_time": "2025-03-18T07:17:41.861Z"
   },
   {
    "duration": 9,
    "start_time": "2025-03-18T07:18:52.694Z"
   },
   {
    "duration": 2357,
    "start_time": "2025-03-18T07:21:02.993Z"
   },
   {
    "duration": 391,
    "start_time": "2025-03-18T07:21:05.352Z"
   },
   {
    "duration": 2337,
    "start_time": "2025-03-18T07:21:05.745Z"
   },
   {
    "duration": 547,
    "start_time": "2025-03-18T07:21:08.084Z"
   },
   {
    "duration": 398,
    "start_time": "2025-03-18T07:21:08.632Z"
   },
   {
    "duration": 3,
    "start_time": "2025-03-18T07:21:09.031Z"
   },
   {
    "duration": 10,
    "start_time": "2025-03-18T07:21:09.035Z"
   },
   {
    "duration": 416,
    "start_time": "2025-03-18T07:21:09.046Z"
   },
   {
    "duration": 3,
    "start_time": "2025-03-18T07:21:09.464Z"
   },
   {
    "duration": 62,
    "start_time": "2025-03-18T07:21:09.469Z"
   },
   {
    "duration": 45,
    "start_time": "2025-03-18T07:21:09.532Z"
   },
   {
    "duration": 56,
    "start_time": "2025-03-18T07:21:09.579Z"
   },
   {
    "duration": 3,
    "start_time": "2025-03-18T07:21:09.636Z"
   },
   {
    "duration": 50,
    "start_time": "2025-03-18T07:21:09.641Z"
   },
   {
    "duration": 60,
    "start_time": "2025-03-18T07:21:09.693Z"
   },
   {
    "duration": 52,
    "start_time": "2025-03-18T07:21:09.754Z"
   },
   {
    "duration": 2,
    "start_time": "2025-03-18T07:21:09.808Z"
   },
   {
    "duration": 126,
    "start_time": "2025-03-18T07:21:09.812Z"
   },
   {
    "duration": 14,
    "start_time": "2025-03-18T07:21:09.940Z"
   },
   {
    "duration": 135,
    "start_time": "2025-03-18T07:21:09.955Z"
   },
   {
    "duration": 95,
    "start_time": "2025-03-18T07:21:10.091Z"
   },
   {
    "duration": 4,
    "start_time": "2025-03-18T07:21:10.188Z"
   },
   {
    "duration": 12,
    "start_time": "2025-03-18T07:21:10.193Z"
   },
   {
    "duration": 34,
    "start_time": "2025-03-18T07:21:10.206Z"
   },
   {
    "duration": 11,
    "start_time": "2025-03-18T07:21:10.242Z"
   },
   {
    "duration": 2,
    "start_time": "2025-03-18T07:21:10.255Z"
   },
   {
    "duration": 16,
    "start_time": "2025-03-18T07:21:10.258Z"
   },
   {
    "duration": 1526,
    "start_time": "2025-03-18T07:21:10.277Z"
   },
   {
    "duration": 1340,
    "start_time": "2025-03-18T07:21:11.805Z"
   },
   {
    "duration": 1506,
    "start_time": "2025-03-18T07:21:13.147Z"
   },
   {
    "duration": 30,
    "start_time": "2025-03-18T07:21:14.655Z"
   },
   {
    "duration": 4,
    "start_time": "2025-03-18T07:21:14.686Z"
   },
   {
    "duration": 615,
    "start_time": "2025-03-18T07:21:14.692Z"
   },
   {
    "duration": 335,
    "start_time": "2025-03-18T07:21:15.308Z"
   },
   {
    "duration": 581,
    "start_time": "2025-03-18T07:21:15.644Z"
   },
   {
    "duration": 615,
    "start_time": "2025-03-18T07:21:16.226Z"
   },
   {
    "duration": 4,
    "start_time": "2025-03-18T07:21:16.843Z"
   },
   {
    "duration": 90,
    "start_time": "2025-03-18T07:21:16.848Z"
   },
   {
    "duration": 199,
    "start_time": "2025-03-18T07:21:16.939Z"
   },
   {
    "duration": 193,
    "start_time": "2025-03-18T07:21:17.140Z"
   },
   {
    "duration": 4,
    "start_time": "2025-03-18T07:21:17.335Z"
   },
   {
    "duration": 192,
    "start_time": "2025-03-18T07:21:17.341Z"
   },
   {
    "duration": 4,
    "start_time": "2025-03-18T07:21:17.534Z"
   },
   {
    "duration": 52,
    "start_time": "2025-03-18T07:21:17.540Z"
   },
   {
    "duration": 39,
    "start_time": "2025-03-18T07:21:17.593Z"
   },
   {
    "duration": 6,
    "start_time": "2025-03-18T07:21:17.634Z"
   },
   {
    "duration": 10,
    "start_time": "2025-03-18T07:21:17.642Z"
   },
   {
    "duration": 7,
    "start_time": "2025-03-18T07:21:17.653Z"
   },
   {
    "duration": 10,
    "start_time": "2025-03-18T07:21:17.661Z"
   },
   {
    "duration": 16,
    "start_time": "2025-03-18T07:21:42.260Z"
   },
   {
    "duration": 8,
    "start_time": "2025-03-18T07:21:44.519Z"
   },
   {
    "duration": 8,
    "start_time": "2025-03-18T07:21:45.355Z"
   },
   {
    "duration": 27,
    "start_time": "2025-03-18T07:22:14.501Z"
   },
   {
    "duration": 3,
    "start_time": "2025-03-18T07:22:22.466Z"
   },
   {
    "duration": 4,
    "start_time": "2025-03-18T07:22:40.562Z"
   },
   {
    "duration": 21,
    "start_time": "2025-03-18T07:36:46.847Z"
   },
   {
    "duration": 13,
    "start_time": "2025-03-18T07:36:53.431Z"
   },
   {
    "duration": 11,
    "start_time": "2025-03-18T07:42:30.464Z"
   },
   {
    "duration": 4,
    "start_time": "2025-03-18T07:42:36.226Z"
   },
   {
    "duration": 13,
    "start_time": "2025-03-18T07:42:45.913Z"
   },
   {
    "duration": 4,
    "start_time": "2025-03-18T07:43:04.902Z"
   },
   {
    "duration": 2318,
    "start_time": "2025-03-18T07:43:25.416Z"
   },
   {
    "duration": 393,
    "start_time": "2025-03-18T07:43:27.737Z"
   },
   {
    "duration": 2321,
    "start_time": "2025-03-18T07:43:28.131Z"
   },
   {
    "duration": 566,
    "start_time": "2025-03-18T07:43:30.454Z"
   },
   {
    "duration": 401,
    "start_time": "2025-03-18T07:43:31.023Z"
   },
   {
    "duration": 5,
    "start_time": "2025-03-18T07:43:31.425Z"
   },
   {
    "duration": 7,
    "start_time": "2025-03-18T07:43:31.433Z"
   },
   {
    "duration": 427,
    "start_time": "2025-03-18T07:43:31.442Z"
   },
   {
    "duration": 3,
    "start_time": "2025-03-18T07:43:31.871Z"
   },
   {
    "duration": 95,
    "start_time": "2025-03-18T07:43:31.875Z"
   },
   {
    "duration": 44,
    "start_time": "2025-03-18T07:43:31.971Z"
   },
   {
    "duration": 55,
    "start_time": "2025-03-18T07:43:32.016Z"
   },
   {
    "duration": 4,
    "start_time": "2025-03-18T07:43:32.073Z"
   },
   {
    "duration": 61,
    "start_time": "2025-03-18T07:43:32.081Z"
   },
   {
    "duration": 45,
    "start_time": "2025-03-18T07:43:32.144Z"
   },
   {
    "duration": 65,
    "start_time": "2025-03-18T07:43:32.191Z"
   },
   {
    "duration": 3,
    "start_time": "2025-03-18T07:43:32.257Z"
   },
   {
    "duration": 106,
    "start_time": "2025-03-18T07:43:32.261Z"
   },
   {
    "duration": 12,
    "start_time": "2025-03-18T07:43:32.369Z"
   },
   {
    "duration": 130,
    "start_time": "2025-03-18T07:43:32.383Z"
   },
   {
    "duration": 70,
    "start_time": "2025-03-18T07:43:32.530Z"
   },
   {
    "duration": 3,
    "start_time": "2025-03-18T07:43:32.602Z"
   },
   {
    "duration": 33,
    "start_time": "2025-03-18T07:43:32.606Z"
   },
   {
    "duration": 21,
    "start_time": "2025-03-18T07:43:32.640Z"
   },
   {
    "duration": 16,
    "start_time": "2025-03-18T07:43:32.662Z"
   },
   {
    "duration": 15,
    "start_time": "2025-03-18T07:43:32.680Z"
   },
   {
    "duration": 17,
    "start_time": "2025-03-18T07:43:32.697Z"
   },
   {
    "duration": 1514,
    "start_time": "2025-03-18T07:43:32.716Z"
   },
   {
    "duration": 1347,
    "start_time": "2025-03-18T07:43:34.231Z"
   },
   {
    "duration": 1489,
    "start_time": "2025-03-18T07:43:35.580Z"
   },
   {
    "duration": 26,
    "start_time": "2025-03-18T07:43:37.071Z"
   },
   {
    "duration": 4,
    "start_time": "2025-03-18T07:43:37.099Z"
   },
   {
    "duration": 692,
    "start_time": "2025-03-18T07:43:37.104Z"
   },
   {
    "duration": 308,
    "start_time": "2025-03-18T07:43:37.798Z"
   },
   {
    "duration": 552,
    "start_time": "2025-03-18T07:43:38.108Z"
   },
   {
    "duration": 591,
    "start_time": "2025-03-18T07:43:38.661Z"
   },
   {
    "duration": 5,
    "start_time": "2025-03-18T07:43:39.253Z"
   },
   {
    "duration": 77,
    "start_time": "2025-03-18T07:43:39.259Z"
   },
   {
    "duration": 111,
    "start_time": "2025-03-18T07:43:39.340Z"
   },
   {
    "duration": 194,
    "start_time": "2025-03-18T07:43:39.453Z"
   },
   {
    "duration": 82,
    "start_time": "2025-03-18T07:43:39.652Z"
   },
   {
    "duration": 93,
    "start_time": "2025-03-18T07:43:39.736Z"
   },
   {
    "duration": 4,
    "start_time": "2025-03-18T07:43:39.831Z"
   },
   {
    "duration": 3,
    "start_time": "2025-03-18T07:43:39.837Z"
   },
   {
    "duration": 4,
    "start_time": "2025-03-18T07:43:39.841Z"
   },
   {
    "duration": 20,
    "start_time": "2025-03-18T07:43:39.846Z"
   },
   {
    "duration": 3,
    "start_time": "2025-03-18T07:43:39.867Z"
   },
   {
    "duration": 8,
    "start_time": "2025-03-18T07:43:39.871Z"
   },
   {
    "duration": 89,
    "start_time": "2025-03-18T07:43:39.880Z"
   },
   {
    "duration": 62,
    "start_time": "2025-03-18T07:43:39.971Z"
   },
   {
    "duration": 102,
    "start_time": "2025-03-18T07:43:40.035Z"
   },
   {
    "duration": 216,
    "start_time": "2025-03-18T07:43:40.139Z"
   },
   {
    "duration": 4,
    "start_time": "2025-03-18T07:43:40.357Z"
   },
   {
    "duration": 21,
    "start_time": "2025-03-18T07:43:44.714Z"
   },
   {
    "duration": 12,
    "start_time": "2025-03-18T07:43:58.684Z"
   },
   {
    "duration": 12,
    "start_time": "2025-03-18T07:44:15.872Z"
   },
   {
    "duration": 13,
    "start_time": "2025-03-18T07:44:17.057Z"
   },
   {
    "duration": 3,
    "start_time": "2025-03-18T07:45:09.272Z"
   },
   {
    "duration": 2363,
    "start_time": "2025-03-18T07:45:20.798Z"
   },
   {
    "duration": 367,
    "start_time": "2025-03-18T07:45:23.163Z"
   },
   {
    "duration": 2302,
    "start_time": "2025-03-18T07:45:23.531Z"
   },
   {
    "duration": 579,
    "start_time": "2025-03-18T07:45:25.835Z"
   },
   {
    "duration": 394,
    "start_time": "2025-03-18T07:45:26.417Z"
   },
   {
    "duration": 3,
    "start_time": "2025-03-18T07:45:26.813Z"
   },
   {
    "duration": 3,
    "start_time": "2025-03-18T07:45:26.818Z"
   },
   {
    "duration": 386,
    "start_time": "2025-03-18T07:45:26.830Z"
   },
   {
    "duration": 3,
    "start_time": "2025-03-18T07:45:27.217Z"
   },
   {
    "duration": 54,
    "start_time": "2025-03-18T07:45:27.229Z"
   },
   {
    "duration": 50,
    "start_time": "2025-03-18T07:45:27.284Z"
   },
   {
    "duration": 52,
    "start_time": "2025-03-18T07:45:27.335Z"
   },
   {
    "duration": 4,
    "start_time": "2025-03-18T07:45:27.389Z"
   },
   {
    "duration": 74,
    "start_time": "2025-03-18T07:45:27.397Z"
   },
   {
    "duration": 43,
    "start_time": "2025-03-18T07:45:27.472Z"
   },
   {
    "duration": 56,
    "start_time": "2025-03-18T07:45:27.516Z"
   },
   {
    "duration": 3,
    "start_time": "2025-03-18T07:45:27.573Z"
   },
   {
    "duration": 105,
    "start_time": "2025-03-18T07:45:27.577Z"
   },
   {
    "duration": 12,
    "start_time": "2025-03-18T07:45:27.684Z"
   },
   {
    "duration": 144,
    "start_time": "2025-03-18T07:45:27.697Z"
   },
   {
    "duration": 68,
    "start_time": "2025-03-18T07:45:27.842Z"
   },
   {
    "duration": 19,
    "start_time": "2025-03-18T07:45:27.911Z"
   },
   {
    "duration": 11,
    "start_time": "2025-03-18T07:45:27.932Z"
   },
   {
    "duration": 17,
    "start_time": "2025-03-18T07:45:27.944Z"
   },
   {
    "duration": 11,
    "start_time": "2025-03-18T07:45:27.962Z"
   },
   {
    "duration": 2,
    "start_time": "2025-03-18T07:45:27.974Z"
   },
   {
    "duration": 5,
    "start_time": "2025-03-18T07:45:27.978Z"
   },
   {
    "duration": 1499,
    "start_time": "2025-03-18T07:45:27.985Z"
   },
   {
    "duration": 1395,
    "start_time": "2025-03-18T07:45:29.485Z"
   },
   {
    "duration": 1565,
    "start_time": "2025-03-18T07:45:30.882Z"
   },
   {
    "duration": 32,
    "start_time": "2025-03-18T07:45:32.449Z"
   },
   {
    "duration": 4,
    "start_time": "2025-03-18T07:45:32.482Z"
   },
   {
    "duration": 620,
    "start_time": "2025-03-18T07:45:32.487Z"
   },
   {
    "duration": 322,
    "start_time": "2025-03-18T07:45:33.108Z"
   },
   {
    "duration": 625,
    "start_time": "2025-03-18T07:45:33.432Z"
   },
   {
    "duration": 589,
    "start_time": "2025-03-18T07:45:34.059Z"
   },
   {
    "duration": 4,
    "start_time": "2025-03-18T07:45:34.649Z"
   },
   {
    "duration": 57,
    "start_time": "2025-03-18T07:45:34.654Z"
   },
   {
    "duration": 200,
    "start_time": "2025-03-18T07:45:34.731Z"
   },
   {
    "duration": 112,
    "start_time": "2025-03-18T07:45:34.933Z"
   },
   {
    "duration": 5,
    "start_time": "2025-03-18T07:45:35.130Z"
   },
   {
    "duration": 102,
    "start_time": "2025-03-18T07:45:35.137Z"
   },
   {
    "duration": 4,
    "start_time": "2025-03-18T07:45:35.240Z"
   },
   {
    "duration": 7,
    "start_time": "2025-03-18T07:45:35.246Z"
   },
   {
    "duration": 16,
    "start_time": "2025-03-18T07:45:35.254Z"
   },
   {
    "duration": 9,
    "start_time": "2025-03-18T07:45:35.271Z"
   },
   {
    "duration": 11,
    "start_time": "2025-03-18T07:45:35.281Z"
   },
   {
    "duration": 92,
    "start_time": "2025-03-18T07:45:35.294Z"
   },
   {
    "duration": 55,
    "start_time": "2025-03-18T07:45:35.388Z"
   },
   {
    "duration": 89,
    "start_time": "2025-03-18T07:45:35.446Z"
   },
   {
    "duration": 103,
    "start_time": "2025-03-18T07:45:35.537Z"
   },
   {
    "duration": 209,
    "start_time": "2025-03-18T07:45:35.642Z"
   },
   {
    "duration": 4,
    "start_time": "2025-03-18T07:45:35.853Z"
   },
   {
    "duration": 38,
    "start_time": "2025-03-18T07:45:35.859Z"
   },
   {
    "duration": 3,
    "start_time": "2025-03-18T07:46:19.544Z"
   },
   {
    "duration": 24,
    "start_time": "2025-03-18T07:46:21.496Z"
   },
   {
    "duration": 4,
    "start_time": "2025-03-18T07:47:10.354Z"
   },
   {
    "duration": 5,
    "start_time": "2025-03-18T07:48:12.557Z"
   },
   {
    "duration": 5,
    "start_time": "2025-03-18T07:48:30.620Z"
   },
   {
    "duration": 24,
    "start_time": "2025-03-18T07:49:08.679Z"
   },
   {
    "duration": 62,
    "start_time": "2025-03-18T07:49:51.315Z"
   },
   {
    "duration": 3,
    "start_time": "2025-03-18T07:51:36.834Z"
   },
   {
    "duration": 61,
    "start_time": "2025-03-18T07:52:51.820Z"
   },
   {
    "duration": 4,
    "start_time": "2025-03-18T07:52:53.315Z"
   },
   {
    "duration": 4,
    "start_time": "2025-03-18T07:55:20.075Z"
   },
   {
    "duration": 3,
    "start_time": "2025-03-18T07:55:28.913Z"
   },
   {
    "duration": 3,
    "start_time": "2025-03-18T07:55:34.658Z"
   },
   {
    "duration": 111,
    "start_time": "2025-03-18T08:21:42.623Z"
   },
   {
    "duration": 4,
    "start_time": "2025-03-18T08:21:55.263Z"
   },
   {
    "duration": 5,
    "start_time": "2025-03-18T08:22:34.842Z"
   },
   {
    "duration": 4,
    "start_time": "2025-03-18T08:22:48.092Z"
   },
   {
    "duration": 5,
    "start_time": "2025-03-18T08:23:01.724Z"
   },
   {
    "duration": 5,
    "start_time": "2025-03-18T08:23:13.532Z"
   },
   {
    "duration": 3,
    "start_time": "2025-03-18T08:24:36.368Z"
   },
   {
    "duration": 4,
    "start_time": "2025-03-18T08:24:41.585Z"
   },
   {
    "duration": 3,
    "start_time": "2025-03-18T08:25:29.001Z"
   },
   {
    "duration": 4,
    "start_time": "2025-03-18T08:25:29.610Z"
   },
   {
    "duration": 62,
    "start_time": "2025-03-18T08:33:11.160Z"
   },
   {
    "duration": 10,
    "start_time": "2025-03-18T08:34:10.626Z"
   },
   {
    "duration": 3,
    "start_time": "2025-03-18T08:34:28.132Z"
   },
   {
    "duration": 14,
    "start_time": "2025-03-18T08:34:29.291Z"
   },
   {
    "duration": 2418,
    "start_time": "2025-03-18T08:34:47.443Z"
   },
   {
    "duration": 4,
    "start_time": "2025-03-18T08:34:49.865Z"
   },
   {
    "duration": 2438,
    "start_time": "2025-03-18T08:34:49.871Z"
   },
   {
    "duration": 3,
    "start_time": "2025-03-18T08:34:52.311Z"
   },
   {
    "duration": 24,
    "start_time": "2025-03-18T08:34:52.316Z"
   },
   {
    "duration": 18,
    "start_time": "2025-03-18T08:34:52.341Z"
   },
   {
    "duration": 27,
    "start_time": "2025-03-18T08:34:52.360Z"
   },
   {
    "duration": 412,
    "start_time": "2025-03-18T08:34:52.389Z"
   },
   {
    "duration": 4,
    "start_time": "2025-03-18T08:34:52.803Z"
   },
   {
    "duration": 124,
    "start_time": "2025-03-18T08:34:52.809Z"
   },
   {
    "duration": 44,
    "start_time": "2025-03-18T08:34:52.935Z"
   },
   {
    "duration": 66,
    "start_time": "2025-03-18T08:34:52.981Z"
   },
   {
    "duration": 3,
    "start_time": "2025-03-18T08:34:53.049Z"
   },
   {
    "duration": 70,
    "start_time": "2025-03-18T08:34:53.055Z"
   },
   {
    "duration": 44,
    "start_time": "2025-03-18T08:34:53.127Z"
   },
   {
    "duration": 64,
    "start_time": "2025-03-18T08:34:53.172Z"
   },
   {
    "duration": 33,
    "start_time": "2025-03-18T08:34:53.238Z"
   },
   {
    "duration": 142,
    "start_time": "2025-03-18T08:34:53.273Z"
   },
   {
    "duration": 22,
    "start_time": "2025-03-18T08:34:53.417Z"
   },
   {
    "duration": 148,
    "start_time": "2025-03-18T08:34:53.440Z"
   },
   {
    "duration": 86,
    "start_time": "2025-03-18T08:34:53.590Z"
   },
   {
    "duration": 86,
    "start_time": "2025-03-18T08:34:53.678Z"
   },
   {
    "duration": 96,
    "start_time": "2025-03-18T08:34:53.766Z"
   },
   {
    "duration": 30,
    "start_time": "2025-03-18T08:34:53.863Z"
   },
   {
    "duration": 58,
    "start_time": "2025-03-18T08:34:53.895Z"
   },
   {
    "duration": 31,
    "start_time": "2025-03-18T08:34:53.956Z"
   },
   {
    "duration": 27,
    "start_time": "2025-03-18T08:34:53.989Z"
   },
   {
    "duration": 1549,
    "start_time": "2025-03-18T08:34:54.018Z"
   },
   {
    "duration": 1336,
    "start_time": "2025-03-18T08:34:55.568Z"
   },
   {
    "duration": 1512,
    "start_time": "2025-03-18T08:34:56.905Z"
   },
   {
    "duration": 2,
    "start_time": "2025-03-18T08:34:58.419Z"
   },
   {
    "duration": 13,
    "start_time": "2025-03-18T08:34:58.430Z"
   },
   {
    "duration": 656,
    "start_time": "2025-03-18T08:34:58.444Z"
   },
   {
    "duration": 297,
    "start_time": "2025-03-18T08:34:59.101Z"
   },
   {
    "duration": 631,
    "start_time": "2025-03-18T08:34:59.401Z"
   },
   {
    "duration": 644,
    "start_time": "2025-03-18T08:35:00.034Z"
   },
   {
    "duration": 4,
    "start_time": "2025-03-18T08:35:00.679Z"
   },
   {
    "duration": 145,
    "start_time": "2025-03-18T08:35:00.685Z"
   },
   {
    "duration": 214,
    "start_time": "2025-03-18T08:35:00.837Z"
   },
   {
    "duration": 197,
    "start_time": "2025-03-18T08:35:01.053Z"
   },
   {
    "duration": 93,
    "start_time": "2025-03-18T08:35:01.256Z"
   },
   {
    "duration": 3,
    "start_time": "2025-03-18T08:35:01.432Z"
   },
   {
    "duration": 59,
    "start_time": "2025-03-18T08:35:01.436Z"
   },
   {
    "duration": 31,
    "start_time": "2025-03-18T08:35:01.498Z"
   },
   {
    "duration": 19,
    "start_time": "2025-03-18T08:35:01.532Z"
   },
   {
    "duration": 7,
    "start_time": "2025-03-18T08:35:01.553Z"
   },
   {
    "duration": 178,
    "start_time": "2025-03-18T08:35:01.562Z"
   },
   {
    "duration": 39,
    "start_time": "2025-03-18T08:35:01.741Z"
   },
   {
    "duration": 71,
    "start_time": "2025-03-18T08:35:01.782Z"
   },
   {
    "duration": 37,
    "start_time": "2025-03-18T08:35:01.855Z"
   },
   {
    "duration": 12,
    "start_time": "2025-03-18T08:35:01.893Z"
   },
   {
    "duration": 15,
    "start_time": "2025-03-18T08:35:59.210Z"
   },
   {
    "duration": 4,
    "start_time": "2025-03-18T08:36:11.126Z"
   },
   {
    "duration": 13,
    "start_time": "2025-03-18T08:36:11.710Z"
   },
   {
    "duration": 3,
    "start_time": "2025-03-18T08:36:15.874Z"
   },
   {
    "duration": 10,
    "start_time": "2025-03-18T11:10:18.543Z"
   },
   {
    "duration": 7090,
    "start_time": "2025-03-18T11:10:21.920Z"
   },
   {
    "duration": 422,
    "start_time": "2025-03-18T11:10:29.013Z"
   },
   {
    "duration": 3019,
    "start_time": "2025-03-18T11:10:29.437Z"
   },
   {
    "duration": 628,
    "start_time": "2025-03-18T11:10:32.459Z"
   },
   {
    "duration": 614,
    "start_time": "2025-03-18T11:10:33.089Z"
   },
   {
    "duration": 3,
    "start_time": "2025-03-18T11:10:33.705Z"
   },
   {
    "duration": 69,
    "start_time": "2025-03-18T11:10:33.710Z"
   },
   {
    "duration": 1710,
    "start_time": "2025-03-18T11:10:33.781Z"
   },
   {
    "duration": 3,
    "start_time": "2025-03-18T11:10:35.493Z"
   },
   {
    "duration": 56,
    "start_time": "2025-03-18T11:10:35.499Z"
   },
   {
    "duration": 46,
    "start_time": "2025-03-18T11:10:35.557Z"
   },
   {
    "duration": 69,
    "start_time": "2025-03-18T11:10:35.605Z"
   },
   {
    "duration": 4,
    "start_time": "2025-03-18T11:10:35.676Z"
   },
   {
    "duration": 68,
    "start_time": "2025-03-18T11:10:35.682Z"
   },
   {
    "duration": 51,
    "start_time": "2025-03-18T11:10:35.752Z"
   },
   {
    "duration": 65,
    "start_time": "2025-03-18T11:10:35.805Z"
   },
   {
    "duration": 3,
    "start_time": "2025-03-18T11:10:35.872Z"
   },
   {
    "duration": 125,
    "start_time": "2025-03-18T11:10:35.876Z"
   },
   {
    "duration": 18,
    "start_time": "2025-03-18T11:10:36.002Z"
   },
   {
    "duration": 157,
    "start_time": "2025-03-18T11:10:36.022Z"
   },
   {
    "duration": 95,
    "start_time": "2025-03-18T11:10:36.180Z"
   },
   {
    "duration": 3,
    "start_time": "2025-03-18T11:10:36.277Z"
   },
   {
    "duration": 13,
    "start_time": "2025-03-18T11:10:36.281Z"
   },
   {
    "duration": 17,
    "start_time": "2025-03-18T11:10:36.296Z"
   },
   {
    "duration": 32,
    "start_time": "2025-03-18T11:10:36.314Z"
   },
   {
    "duration": 2,
    "start_time": "2025-03-18T11:10:36.348Z"
   },
   {
    "duration": 25,
    "start_time": "2025-03-18T11:10:36.351Z"
   },
   {
    "duration": 1530,
    "start_time": "2025-03-18T11:10:36.379Z"
   },
   {
    "duration": 1427,
    "start_time": "2025-03-18T11:10:37.911Z"
   },
   {
    "duration": 1568,
    "start_time": "2025-03-18T11:10:39.343Z"
   },
   {
    "duration": 90,
    "start_time": "2025-03-18T11:10:40.913Z"
   },
   {
    "duration": 4,
    "start_time": "2025-03-18T11:10:41.005Z"
   },
   {
    "duration": 697,
    "start_time": "2025-03-18T11:10:41.011Z"
   },
   {
    "duration": 345,
    "start_time": "2025-03-18T11:10:41.710Z"
   },
   {
    "duration": 624,
    "start_time": "2025-03-18T11:10:42.057Z"
   },
   {
    "duration": 601,
    "start_time": "2025-03-18T11:10:42.683Z"
   },
   {
    "duration": 7,
    "start_time": "2025-03-18T11:10:43.286Z"
   },
   {
    "duration": 151,
    "start_time": "2025-03-18T11:10:43.295Z"
   },
   {
    "duration": 193,
    "start_time": "2025-03-18T11:10:43.450Z"
   },
   {
    "duration": 118,
    "start_time": "2025-03-18T11:10:43.646Z"
   },
   {
    "duration": 78,
    "start_time": "2025-03-18T11:10:43.766Z"
   },
   {
    "duration": 93,
    "start_time": "2025-03-18T11:10:43.851Z"
   },
   {
    "duration": 5,
    "start_time": "2025-03-18T11:10:43.946Z"
   },
   {
    "duration": 4,
    "start_time": "2025-03-18T11:10:43.952Z"
   },
   {
    "duration": 8,
    "start_time": "2025-03-18T11:10:43.958Z"
   },
   {
    "duration": 7,
    "start_time": "2025-03-18T11:10:43.967Z"
   },
   {
    "duration": 3,
    "start_time": "2025-03-18T11:10:43.976Z"
   },
   {
    "duration": 5,
    "start_time": "2025-03-18T11:10:43.980Z"
   },
   {
    "duration": 5,
    "start_time": "2025-03-18T11:10:43.987Z"
   },
   {
    "duration": 4,
    "start_time": "2025-03-18T11:10:43.993Z"
   },
   {
    "duration": 4,
    "start_time": "2025-03-18T11:10:43.998Z"
   },
   {
    "duration": 15,
    "start_time": "2025-03-18T11:10:44.043Z"
   },
   {
    "duration": 4,
    "start_time": "2025-03-18T11:10:44.060Z"
   },
   {
    "duration": 5,
    "start_time": "2025-03-18T11:10:52.545Z"
   },
   {
    "duration": 463,
    "start_time": "2025-03-18T11:11:14.690Z"
   },
   {
    "duration": 4,
    "start_time": "2025-03-18T11:11:51.819Z"
   },
   {
    "duration": 4,
    "start_time": "2025-03-18T11:11:57.939Z"
   },
   {
    "duration": 79,
    "start_time": "2025-03-18T11:14:40.664Z"
   },
   {
    "duration": 27,
    "start_time": "2025-03-18T11:14:41.546Z"
   },
   {
    "duration": 71,
    "start_time": "2025-03-18T11:15:07.674Z"
   },
   {
    "duration": 3,
    "start_time": "2025-03-18T11:15:16.834Z"
   },
   {
    "duration": 28,
    "start_time": "2025-03-18T11:15:18.202Z"
   },
   {
    "duration": 56,
    "start_time": "2025-03-18T11:15:35.891Z"
   },
   {
    "duration": 59,
    "start_time": "2025-03-18T11:16:13.084Z"
   },
   {
    "duration": 5,
    "start_time": "2025-03-18T11:18:29.052Z"
   },
   {
    "duration": 1604,
    "start_time": "2025-03-18T11:18:30.576Z"
   },
   {
    "duration": 4,
    "start_time": "2025-03-18T11:19:18.699Z"
   },
   {
    "duration": 1820,
    "start_time": "2025-03-18T11:19:19.347Z"
   },
   {
    "duration": 5,
    "start_time": "2025-03-18T11:29:22.830Z"
   },
   {
    "duration": 1983,
    "start_time": "2025-03-18T11:29:23.933Z"
   },
   {
    "duration": 7,
    "start_time": "2025-03-18T14:28:24.657Z"
   },
   {
    "duration": 7,
    "start_time": "2025-03-18T14:28:40.260Z"
   },
   {
    "duration": 2100,
    "start_time": "2025-03-18T14:28:41.618Z"
   },
   {
    "duration": 2048,
    "start_time": "2025-03-18T14:29:23.644Z"
   },
   {
    "duration": 2341,
    "start_time": "2025-03-18T14:29:34.099Z"
   },
   {
    "duration": 172,
    "start_time": "2025-03-18T14:37:14.736Z"
   },
   {
    "duration": 2657,
    "start_time": "2025-03-18T14:37:17.748Z"
   },
   {
    "duration": 4,
    "start_time": "2025-03-18T14:37:20.407Z"
   },
   {
    "duration": 2692,
    "start_time": "2025-03-18T14:37:20.412Z"
   },
   {
    "duration": 4,
    "start_time": "2025-03-18T14:37:23.107Z"
   },
   {
    "duration": 21,
    "start_time": "2025-03-18T14:37:23.112Z"
   },
   {
    "duration": 42,
    "start_time": "2025-03-18T14:37:23.135Z"
   },
   {
    "duration": 16,
    "start_time": "2025-03-18T14:37:23.178Z"
   },
   {
    "duration": 480,
    "start_time": "2025-03-18T14:37:23.195Z"
   },
   {
    "duration": 3,
    "start_time": "2025-03-18T14:37:23.677Z"
   },
   {
    "duration": 68,
    "start_time": "2025-03-18T14:37:23.682Z"
   },
   {
    "duration": 50,
    "start_time": "2025-03-18T14:37:23.752Z"
   },
   {
    "duration": 68,
    "start_time": "2025-03-18T14:37:23.803Z"
   },
   {
    "duration": 4,
    "start_time": "2025-03-18T14:37:23.873Z"
   },
   {
    "duration": 65,
    "start_time": "2025-03-18T14:37:23.878Z"
   },
   {
    "duration": 47,
    "start_time": "2025-03-18T14:37:23.945Z"
   },
   {
    "duration": 67,
    "start_time": "2025-03-18T14:37:23.993Z"
   },
   {
    "duration": 8,
    "start_time": "2025-03-18T14:37:24.062Z"
   },
   {
    "duration": 132,
    "start_time": "2025-03-18T14:37:24.072Z"
   },
   {
    "duration": 27,
    "start_time": "2025-03-18T14:37:24.205Z"
   },
   {
    "duration": 153,
    "start_time": "2025-03-18T14:37:24.234Z"
   },
   {
    "duration": 92,
    "start_time": "2025-03-18T14:37:24.389Z"
   },
   {
    "duration": 4,
    "start_time": "2025-03-18T14:37:24.483Z"
   },
   {
    "duration": 18,
    "start_time": "2025-03-18T14:37:24.488Z"
   },
   {
    "duration": 42,
    "start_time": "2025-03-18T14:37:24.508Z"
   },
   {
    "duration": 13,
    "start_time": "2025-03-18T14:37:24.552Z"
   },
   {
    "duration": 2,
    "start_time": "2025-03-18T14:37:24.567Z"
   },
   {
    "duration": 19,
    "start_time": "2025-03-18T14:37:24.571Z"
   },
   {
    "duration": 1677,
    "start_time": "2025-03-18T14:37:24.594Z"
   },
   {
    "duration": 1542,
    "start_time": "2025-03-18T14:37:26.273Z"
   },
   {
    "duration": 1721,
    "start_time": "2025-03-18T14:37:27.817Z"
   },
   {
    "duration": 3,
    "start_time": "2025-03-18T14:37:29.543Z"
   },
   {
    "duration": 32,
    "start_time": "2025-03-18T14:37:29.548Z"
   },
   {
    "duration": 755,
    "start_time": "2025-03-18T14:37:29.581Z"
   },
   {
    "duration": 348,
    "start_time": "2025-03-18T14:37:30.337Z"
   },
   {
    "duration": 706,
    "start_time": "2025-03-18T14:37:30.687Z"
   },
   {
    "duration": 687,
    "start_time": "2025-03-18T14:37:31.395Z"
   },
   {
    "duration": 6,
    "start_time": "2025-03-18T14:37:32.084Z"
   },
   {
    "duration": 55,
    "start_time": "2025-03-18T14:37:32.091Z"
   },
   {
    "duration": 211,
    "start_time": "2025-03-18T14:37:32.148Z"
   },
   {
    "duration": 200,
    "start_time": "2025-03-18T14:37:32.361Z"
   },
   {
    "duration": 80,
    "start_time": "2025-03-18T14:37:32.564Z"
   },
   {
    "duration": 103,
    "start_time": "2025-03-18T14:37:32.647Z"
   },
   {
    "duration": 28,
    "start_time": "2025-03-18T14:37:32.752Z"
   },
   {
    "duration": 3,
    "start_time": "2025-03-18T14:37:32.782Z"
   },
   {
    "duration": 4,
    "start_time": "2025-03-18T14:37:32.787Z"
   },
   {
    "duration": 12,
    "start_time": "2025-03-18T14:37:32.793Z"
   },
   {
    "duration": 19,
    "start_time": "2025-03-18T14:37:32.806Z"
   },
   {
    "duration": 18,
    "start_time": "2025-03-18T14:37:32.827Z"
   },
   {
    "duration": 14,
    "start_time": "2025-03-18T14:37:32.846Z"
   },
   {
    "duration": 15,
    "start_time": "2025-03-18T14:37:32.862Z"
   },
   {
    "duration": 5,
    "start_time": "2025-03-18T14:37:32.879Z"
   },
   {
    "duration": 20,
    "start_time": "2025-03-18T14:37:32.885Z"
   },
   {
    "duration": 3,
    "start_time": "2025-03-18T14:37:32.907Z"
   },
   {
    "duration": 140,
    "start_time": "2025-03-18T14:37:32.912Z"
   },
   {
    "duration": 2026,
    "start_time": "2025-03-18T14:37:41.898Z"
   },
   {
    "duration": 96,
    "start_time": "2025-03-18T14:37:46.811Z"
   },
   {
    "duration": 7,
    "start_time": "2025-03-18T14:37:58.451Z"
   },
   {
    "duration": 2204,
    "start_time": "2025-03-18T14:38:01.854Z"
   },
   {
    "duration": 8,
    "start_time": "2025-03-18T14:38:35.964Z"
   },
   {
    "duration": 2115,
    "start_time": "2025-03-18T14:38:38.300Z"
   },
   {
    "duration": 11,
    "start_time": "2025-03-18T15:25:11.713Z"
   },
   {
    "duration": 2511,
    "start_time": "2025-03-18T15:27:27.143Z"
   },
   {
    "duration": 4,
    "start_time": "2025-03-18T15:27:29.657Z"
   },
   {
    "duration": 2552,
    "start_time": "2025-03-18T15:27:29.664Z"
   },
   {
    "duration": 4,
    "start_time": "2025-03-18T15:27:32.220Z"
   },
   {
    "duration": 12,
    "start_time": "2025-03-18T15:27:32.227Z"
   },
   {
    "duration": 11,
    "start_time": "2025-03-18T15:27:32.241Z"
   },
   {
    "duration": 20,
    "start_time": "2025-03-18T15:27:32.255Z"
   },
   {
    "duration": 449,
    "start_time": "2025-03-18T15:27:32.277Z"
   },
   {
    "duration": 3,
    "start_time": "2025-03-18T15:27:32.728Z"
   },
   {
    "duration": 62,
    "start_time": "2025-03-18T15:27:32.733Z"
   },
   {
    "duration": 65,
    "start_time": "2025-03-18T15:27:32.797Z"
   },
   {
    "duration": 51,
    "start_time": "2025-03-18T15:27:32.864Z"
   },
   {
    "duration": 4,
    "start_time": "2025-03-18T15:27:32.917Z"
   },
   {
    "duration": 59,
    "start_time": "2025-03-18T15:27:32.942Z"
   },
   {
    "duration": 72,
    "start_time": "2025-03-18T15:27:33.003Z"
   },
   {
    "duration": 53,
    "start_time": "2025-03-18T15:27:33.077Z"
   },
   {
    "duration": 7,
    "start_time": "2025-03-18T15:27:33.143Z"
   },
   {
    "duration": 130,
    "start_time": "2025-03-18T15:27:33.152Z"
   },
   {
    "duration": 22,
    "start_time": "2025-03-18T15:27:33.283Z"
   },
   {
    "duration": 219,
    "start_time": "2025-03-18T15:27:33.307Z"
   },
   {
    "duration": 101,
    "start_time": "2025-03-18T15:27:33.528Z"
   },
   {
    "duration": 13,
    "start_time": "2025-03-18T15:27:33.631Z"
   },
   {
    "duration": 13,
    "start_time": "2025-03-18T15:27:33.645Z"
   },
   {
    "duration": 17,
    "start_time": "2025-03-18T15:27:33.659Z"
   },
   {
    "duration": 13,
    "start_time": "2025-03-18T15:27:33.678Z"
   },
   {
    "duration": 3,
    "start_time": "2025-03-18T15:27:33.692Z"
   },
   {
    "duration": 16,
    "start_time": "2025-03-18T15:27:33.696Z"
   },
   {
    "duration": 1564,
    "start_time": "2025-03-18T15:27:33.714Z"
   },
   {
    "duration": 1596,
    "start_time": "2025-03-18T15:27:35.281Z"
   },
   {
    "duration": 1502,
    "start_time": "2025-03-18T15:27:36.879Z"
   },
   {
    "duration": 3,
    "start_time": "2025-03-18T15:27:38.383Z"
   },
   {
    "duration": 76,
    "start_time": "2025-03-18T15:27:38.387Z"
   },
   {
    "duration": 706,
    "start_time": "2025-03-18T15:27:38.464Z"
   },
   {
    "duration": 339,
    "start_time": "2025-03-18T15:27:39.171Z"
   },
   {
    "duration": 862,
    "start_time": "2025-03-18T15:27:39.512Z"
   },
   {
    "duration": 656,
    "start_time": "2025-03-18T15:27:40.376Z"
   },
   {
    "duration": 10,
    "start_time": "2025-03-18T15:27:41.033Z"
   },
   {
    "duration": 106,
    "start_time": "2025-03-18T15:27:41.045Z"
   },
   {
    "duration": 199,
    "start_time": "2025-03-18T15:27:41.154Z"
   },
   {
    "duration": 203,
    "start_time": "2025-03-18T15:27:41.356Z"
   },
   {
    "duration": 81,
    "start_time": "2025-03-18T15:27:41.565Z"
   },
   {
    "duration": 104,
    "start_time": "2025-03-18T15:27:41.652Z"
   },
   {
    "duration": 7,
    "start_time": "2025-03-18T15:27:41.758Z"
   },
   {
    "duration": 5,
    "start_time": "2025-03-18T15:27:41.767Z"
   },
   {
    "duration": 19,
    "start_time": "2025-03-18T15:27:41.773Z"
   },
   {
    "duration": 9,
    "start_time": "2025-03-18T15:27:41.794Z"
   },
   {
    "duration": 34,
    "start_time": "2025-03-18T15:27:41.805Z"
   },
   {
    "duration": 38,
    "start_time": "2025-03-18T15:27:41.841Z"
   },
   {
    "duration": 25,
    "start_time": "2025-03-18T15:27:41.881Z"
   },
   {
    "duration": 6,
    "start_time": "2025-03-18T15:27:41.908Z"
   },
   {
    "duration": 13,
    "start_time": "2025-03-18T15:27:41.916Z"
   },
   {
    "duration": 19,
    "start_time": "2025-03-18T15:27:41.931Z"
   },
   {
    "duration": 24,
    "start_time": "2025-03-18T15:27:41.952Z"
   },
   {
    "duration": 8,
    "start_time": "2025-03-18T15:28:35.142Z"
   },
   {
    "duration": 2083,
    "start_time": "2025-03-18T15:28:38.326Z"
   },
   {
    "duration": 8,
    "start_time": "2025-03-18T15:29:03.274Z"
   },
   {
    "duration": 2051,
    "start_time": "2025-03-18T15:29:04.755Z"
   },
   {
    "duration": 8,
    "start_time": "2025-03-18T15:31:25.639Z"
   },
   {
    "duration": 2007,
    "start_time": "2025-03-18T15:31:28.292Z"
   },
   {
    "duration": 2035,
    "start_time": "2025-03-18T15:31:45.157Z"
   },
   {
    "duration": 12,
    "start_time": "2025-03-18T15:32:13.438Z"
   },
   {
    "duration": 2021,
    "start_time": "2025-03-18T15:32:14.980Z"
   },
   {
    "duration": 2126,
    "start_time": "2025-03-18T15:32:26.167Z"
   },
   {
    "duration": 2111,
    "start_time": "2025-03-18T15:32:32.824Z"
   },
   {
    "duration": 12,
    "start_time": "2025-03-18T16:16:10.414Z"
   },
   {
    "duration": 9,
    "start_time": "2025-03-18T16:16:29.035Z"
   },
   {
    "duration": 3,
    "start_time": "2025-03-18T16:16:37.109Z"
   },
   {
    "duration": 2570,
    "start_time": "2025-03-18T16:28:15.505Z"
   },
   {
    "duration": 401,
    "start_time": "2025-03-18T16:28:18.078Z"
   },
   {
    "duration": 1029,
    "start_time": "2025-03-18T16:28:18.481Z"
   },
   {
    "duration": 2558,
    "start_time": "2025-03-18T16:28:19.512Z"
   },
   {
    "duration": 35,
    "start_time": "2025-03-18T16:28:22.074Z"
   },
   {
    "duration": 3,
    "start_time": "2025-03-18T16:28:22.112Z"
   },
   {
    "duration": 14,
    "start_time": "2025-03-18T16:28:22.117Z"
   },
   {
    "duration": 446,
    "start_time": "2025-03-18T16:28:22.133Z"
   },
   {
    "duration": 4,
    "start_time": "2025-03-18T16:28:22.581Z"
   },
   {
    "duration": 73,
    "start_time": "2025-03-18T16:28:22.586Z"
   },
   {
    "duration": 50,
    "start_time": "2025-03-18T16:28:22.661Z"
   },
   {
    "duration": 68,
    "start_time": "2025-03-18T16:28:22.712Z"
   },
   {
    "duration": 4,
    "start_time": "2025-03-18T16:28:22.782Z"
   },
   {
    "duration": 69,
    "start_time": "2025-03-18T16:28:22.789Z"
   },
   {
    "duration": 53,
    "start_time": "2025-03-18T16:28:22.859Z"
   },
   {
    "duration": 73,
    "start_time": "2025-03-18T16:28:22.913Z"
   },
   {
    "duration": 2,
    "start_time": "2025-03-18T16:28:22.988Z"
   },
   {
    "duration": 136,
    "start_time": "2025-03-18T16:28:22.992Z"
   },
   {
    "duration": 24,
    "start_time": "2025-03-18T16:28:23.130Z"
   },
   {
    "duration": 155,
    "start_time": "2025-03-18T16:28:23.156Z"
   },
   {
    "duration": 117,
    "start_time": "2025-03-18T16:28:23.313Z"
   },
   {
    "duration": 17,
    "start_time": "2025-03-18T16:28:23.432Z"
   },
   {
    "duration": 16,
    "start_time": "2025-03-18T16:28:23.453Z"
   },
   {
    "duration": 28,
    "start_time": "2025-03-18T16:28:23.471Z"
   },
   {
    "duration": 44,
    "start_time": "2025-03-18T16:28:23.502Z"
   },
   {
    "duration": 2,
    "start_time": "2025-03-18T16:28:23.548Z"
   },
   {
    "duration": 21,
    "start_time": "2025-03-18T16:28:23.552Z"
   },
   {
    "duration": 1637,
    "start_time": "2025-03-18T16:28:23.575Z"
   },
   {
    "duration": 1483,
    "start_time": "2025-03-18T16:28:25.214Z"
   },
   {
    "duration": 1704,
    "start_time": "2025-03-18T16:28:26.699Z"
   },
   {
    "duration": 4,
    "start_time": "2025-03-18T16:28:28.406Z"
   },
   {
    "duration": 721,
    "start_time": "2025-03-18T16:28:28.413Z"
   },
   {
    "duration": 336,
    "start_time": "2025-03-18T16:28:29.136Z"
   },
   {
    "duration": 619,
    "start_time": "2025-03-18T16:28:29.474Z"
   },
   {
    "duration": 668,
    "start_time": "2025-03-18T16:28:30.095Z"
   },
   {
    "duration": 5,
    "start_time": "2025-03-18T16:28:30.765Z"
   },
   {
    "duration": 57,
    "start_time": "2025-03-18T16:28:30.773Z"
   },
   {
    "duration": 209,
    "start_time": "2025-03-18T16:28:30.844Z"
   },
   {
    "duration": 197,
    "start_time": "2025-03-18T16:28:31.056Z"
   },
   {
    "duration": 4,
    "start_time": "2025-03-18T16:28:31.256Z"
   },
   {
    "duration": 82,
    "start_time": "2025-03-18T16:28:31.265Z"
   },
   {
    "duration": 94,
    "start_time": "2025-03-18T16:28:31.349Z"
   },
   {
    "duration": 15,
    "start_time": "2025-03-18T16:28:31.445Z"
   },
   {
    "duration": 6,
    "start_time": "2025-03-18T16:28:31.462Z"
   },
   {
    "duration": 39,
    "start_time": "2025-03-18T16:28:31.470Z"
   },
   {
    "duration": 15,
    "start_time": "2025-03-18T16:28:31.511Z"
   },
   {
    "duration": 15,
    "start_time": "2025-03-18T16:28:31.528Z"
   },
   {
    "duration": 34,
    "start_time": "2025-03-18T16:28:31.545Z"
   },
   {
    "duration": 15,
    "start_time": "2025-03-18T16:28:31.581Z"
   },
   {
    "duration": 12,
    "start_time": "2025-03-18T16:28:31.598Z"
   },
   {
    "duration": 24,
    "start_time": "2025-03-18T16:28:31.612Z"
   },
   {
    "duration": 3,
    "start_time": "2025-03-18T16:28:31.638Z"
   },
   {
    "duration": 8,
    "start_time": "2025-03-18T16:28:31.643Z"
   },
   {
    "duration": 2075,
    "start_time": "2025-03-18T16:28:31.653Z"
   },
   {
    "duration": 2064,
    "start_time": "2025-03-18T16:28:33.730Z"
   },
   {
    "duration": 2005,
    "start_time": "2025-03-18T16:28:35.795Z"
   },
   {
    "duration": 69,
    "start_time": "2025-03-19T09:28:14.774Z"
   },
   {
    "duration": 7576,
    "start_time": "2025-03-19T09:28:19.105Z"
   },
   {
    "duration": 477,
    "start_time": "2025-03-19T09:28:26.683Z"
   },
   {
    "duration": 1325,
    "start_time": "2025-03-19T09:28:27.162Z"
   },
   {
    "duration": 3451,
    "start_time": "2025-03-19T09:28:28.489Z"
   },
   {
    "duration": 283,
    "start_time": "2025-03-19T09:28:31.944Z"
   },
   {
    "duration": 3,
    "start_time": "2025-03-19T09:28:32.229Z"
   },
   {
    "duration": 7,
    "start_time": "2025-03-19T09:28:32.234Z"
   },
   {
    "duration": 521,
    "start_time": "2025-03-19T09:28:32.243Z"
   },
   {
    "duration": 3,
    "start_time": "2025-03-19T09:28:32.766Z"
   },
   {
    "duration": 96,
    "start_time": "2025-03-19T09:28:32.771Z"
   },
   {
    "duration": 57,
    "start_time": "2025-03-19T09:28:32.870Z"
   },
   {
    "duration": 51,
    "start_time": "2025-03-19T09:28:32.929Z"
   },
   {
    "duration": 5,
    "start_time": "2025-03-19T09:28:32.982Z"
   },
   {
    "duration": 70,
    "start_time": "2025-03-19T09:28:33.006Z"
   },
   {
    "duration": 53,
    "start_time": "2025-03-19T09:28:33.078Z"
   },
   {
    "duration": 56,
    "start_time": "2025-03-19T09:28:33.132Z"
   },
   {
    "duration": 16,
    "start_time": "2025-03-19T09:28:33.190Z"
   },
   {
    "duration": 128,
    "start_time": "2025-03-19T09:28:33.207Z"
   },
   {
    "duration": 15,
    "start_time": "2025-03-19T09:28:33.336Z"
   },
   {
    "duration": 164,
    "start_time": "2025-03-19T09:28:33.352Z"
   },
   {
    "duration": 90,
    "start_time": "2025-03-19T09:28:33.518Z"
   },
   {
    "duration": 4,
    "start_time": "2025-03-19T09:28:33.610Z"
   },
   {
    "duration": 22,
    "start_time": "2025-03-19T09:28:33.616Z"
   },
   {
    "duration": 20,
    "start_time": "2025-03-19T09:28:33.640Z"
   },
   {
    "duration": 12,
    "start_time": "2025-03-19T09:28:33.661Z"
   },
   {
    "duration": 29,
    "start_time": "2025-03-19T09:28:33.675Z"
   },
   {
    "duration": 44,
    "start_time": "2025-03-19T09:28:33.706Z"
   },
   {
    "duration": 1703,
    "start_time": "2025-03-19T09:28:33.751Z"
   },
   {
    "duration": 1526,
    "start_time": "2025-03-19T09:28:35.456Z"
   },
   {
    "duration": 1701,
    "start_time": "2025-03-19T09:28:36.984Z"
   },
   {
    "duration": 4,
    "start_time": "2025-03-19T09:28:38.687Z"
   },
   {
    "duration": 695,
    "start_time": "2025-03-19T09:28:38.704Z"
   },
   {
    "duration": 359,
    "start_time": "2025-03-19T09:28:39.401Z"
   },
   {
    "duration": 718,
    "start_time": "2025-03-19T09:28:39.762Z"
   },
   {
    "duration": 668,
    "start_time": "2025-03-19T09:28:40.481Z"
   },
   {
    "duration": 5,
    "start_time": "2025-03-19T09:28:41.150Z"
   },
   {
    "duration": 50,
    "start_time": "2025-03-19T09:28:41.156Z"
   },
   {
    "duration": 208,
    "start_time": "2025-03-19T09:28:41.209Z"
   },
   {
    "duration": 201,
    "start_time": "2025-03-19T09:28:41.420Z"
   },
   {
    "duration": 82,
    "start_time": "2025-03-19T09:28:41.624Z"
   },
   {
    "duration": 92,
    "start_time": "2025-03-19T09:28:41.713Z"
   },
   {
    "duration": 5,
    "start_time": "2025-03-19T09:28:41.807Z"
   },
   {
    "duration": 9,
    "start_time": "2025-03-19T09:28:41.814Z"
   },
   {
    "duration": 6,
    "start_time": "2025-03-19T09:28:41.824Z"
   },
   {
    "duration": 7,
    "start_time": "2025-03-19T09:28:41.831Z"
   },
   {
    "duration": 14,
    "start_time": "2025-03-19T09:28:41.839Z"
   },
   {
    "duration": 6,
    "start_time": "2025-03-19T09:28:41.855Z"
   },
   {
    "duration": 11,
    "start_time": "2025-03-19T09:28:41.862Z"
   },
   {
    "duration": 5,
    "start_time": "2025-03-19T09:28:41.875Z"
   },
   {
    "duration": 5,
    "start_time": "2025-03-19T09:28:55.030Z"
   },
   {
    "duration": 10,
    "start_time": "2025-03-19T09:29:25.228Z"
   },
   {
    "duration": 5,
    "start_time": "2025-03-19T09:29:25.450Z"
   },
   {
    "duration": 10,
    "start_time": "2025-03-19T09:30:34.077Z"
   },
   {
    "duration": 27,
    "start_time": "2025-03-19T09:33:02.293Z"
   },
   {
    "duration": 6,
    "start_time": "2025-03-19T09:33:21.381Z"
   },
   {
    "duration": 8,
    "start_time": "2025-03-19T09:33:33.207Z"
   },
   {
    "duration": 10,
    "start_time": "2025-03-19T09:35:28.767Z"
   },
   {
    "duration": 26,
    "start_time": "2025-03-19T09:35:29.261Z"
   },
   {
    "duration": 7,
    "start_time": "2025-03-19T09:48:14.534Z"
   },
   {
    "duration": 94,
    "start_time": "2025-03-19T10:17:53.953Z"
   },
   {
    "duration": 100,
    "start_time": "2025-03-19T10:17:59.659Z"
   },
   {
    "duration": 6,
    "start_time": "2025-03-19T10:18:10.896Z"
   },
   {
    "duration": 7,
    "start_time": "2025-03-19T10:18:22.413Z"
   },
   {
    "duration": 6,
    "start_time": "2025-03-19T10:18:52.555Z"
   },
   {
    "duration": 7,
    "start_time": "2025-03-19T10:19:39.971Z"
   },
   {
    "duration": 7,
    "start_time": "2025-03-19T10:22:09.189Z"
   },
   {
    "duration": 4,
    "start_time": "2025-03-19T10:22:18.107Z"
   },
   {
    "duration": 2808,
    "start_time": "2025-03-19T10:42:16.763Z"
   },
   {
    "duration": 2691,
    "start_time": "2025-03-19T10:42:19.574Z"
   },
   {
    "duration": 2855,
    "start_time": "2025-03-19T10:42:22.267Z"
   },
   {
    "duration": 3,
    "start_time": "2025-03-19T10:42:25.125Z"
   },
   {
    "duration": 31,
    "start_time": "2025-03-19T10:42:25.130Z"
   },
   {
    "duration": 595,
    "start_time": "2025-03-19T10:42:25.163Z"
   },
   {
    "duration": 6,
    "start_time": "2025-03-19T10:42:25.760Z"
   },
   {
    "duration": 78,
    "start_time": "2025-03-19T10:42:25.768Z"
   },
   {
    "duration": 68,
    "start_time": "2025-03-19T10:42:25.848Z"
   },
   {
    "duration": 52,
    "start_time": "2025-03-19T10:42:25.920Z"
   },
   {
    "duration": 5,
    "start_time": "2025-03-19T10:42:25.974Z"
   },
   {
    "duration": 59,
    "start_time": "2025-03-19T10:42:26.004Z"
   },
   {
    "duration": 68,
    "start_time": "2025-03-19T10:42:26.065Z"
   },
   {
    "duration": 69,
    "start_time": "2025-03-19T10:42:26.135Z"
   },
   {
    "duration": 3,
    "start_time": "2025-03-19T10:42:26.206Z"
   },
   {
    "duration": 128,
    "start_time": "2025-03-19T10:42:26.210Z"
   },
   {
    "duration": 14,
    "start_time": "2025-03-19T10:42:26.340Z"
   },
   {
    "duration": 187,
    "start_time": "2025-03-19T10:42:26.355Z"
   },
   {
    "duration": 117,
    "start_time": "2025-03-19T10:42:26.543Z"
   },
   {
    "duration": 4,
    "start_time": "2025-03-19T10:42:26.662Z"
   },
   {
    "duration": 51,
    "start_time": "2025-03-19T10:42:26.668Z"
   },
   {
    "duration": 23,
    "start_time": "2025-03-19T10:42:26.722Z"
   },
   {
    "duration": 12,
    "start_time": "2025-03-19T10:42:26.747Z"
   },
   {
    "duration": 29,
    "start_time": "2025-03-19T10:42:26.761Z"
   },
   {
    "duration": 37,
    "start_time": "2025-03-19T10:42:26.791Z"
   },
   {
    "duration": 1946,
    "start_time": "2025-03-19T10:42:26.830Z"
   },
   {
    "duration": 1653,
    "start_time": "2025-03-19T10:42:28.778Z"
   },
   {
    "duration": 1782,
    "start_time": "2025-03-19T10:42:30.436Z"
   },
   {
    "duration": 5,
    "start_time": "2025-03-19T10:42:32.220Z"
   },
   {
    "duration": 825,
    "start_time": "2025-03-19T10:42:32.227Z"
   },
   {
    "duration": 374,
    "start_time": "2025-03-19T10:42:33.054Z"
   },
   {
    "duration": 683,
    "start_time": "2025-03-19T10:42:33.431Z"
   },
   {
    "duration": 648,
    "start_time": "2025-03-19T10:42:34.117Z"
   },
   {
    "duration": 5,
    "start_time": "2025-03-19T10:42:34.767Z"
   },
   {
    "duration": 140,
    "start_time": "2025-03-19T10:42:34.774Z"
   },
   {
    "duration": 204,
    "start_time": "2025-03-19T10:42:34.917Z"
   },
   {
    "duration": 198,
    "start_time": "2025-03-19T10:42:35.123Z"
   },
   {
    "duration": 84,
    "start_time": "2025-03-19T10:42:35.323Z"
   },
   {
    "duration": 150,
    "start_time": "2025-03-19T10:42:35.409Z"
   },
   {
    "duration": 26,
    "start_time": "2025-03-19T10:42:35.561Z"
   },
   {
    "duration": 36,
    "start_time": "2025-03-19T10:42:35.588Z"
   },
   {
    "duration": 71,
    "start_time": "2025-03-19T10:42:35.626Z"
   },
   {
    "duration": 32,
    "start_time": "2025-03-19T10:42:35.699Z"
   },
   {
    "duration": 45,
    "start_time": "2025-03-19T10:42:35.733Z"
   },
   {
    "duration": 42,
    "start_time": "2025-03-19T10:42:35.780Z"
   },
   {
    "duration": 55,
    "start_time": "2025-03-19T10:42:35.824Z"
   },
   {
    "duration": 50,
    "start_time": "2025-03-19T10:42:35.881Z"
   },
   {
    "duration": 46,
    "start_time": "2025-03-19T10:42:35.932Z"
   },
   {
    "duration": 65,
    "start_time": "2025-03-19T10:42:35.979Z"
   },
   {
    "duration": 32,
    "start_time": "2025-03-19T10:42:36.046Z"
   },
   {
    "duration": 58,
    "start_time": "2025-03-19T10:42:36.080Z"
   },
   {
    "duration": 58,
    "start_time": "2025-03-19T10:42:36.139Z"
   },
   {
    "duration": 73,
    "start_time": "2025-03-19T10:42:36.198Z"
   },
   {
    "duration": 74,
    "start_time": "2025-03-19T10:42:36.273Z"
   },
   {
    "duration": 67,
    "start_time": "2025-03-19T10:42:36.349Z"
   },
   {
    "duration": 35,
    "start_time": "2025-03-19T10:42:36.418Z"
   },
   {
    "duration": 32,
    "start_time": "2025-03-19T10:42:36.455Z"
   },
   {
    "duration": 640,
    "start_time": "2025-03-19T10:42:36.489Z"
   },
   {
    "duration": 0,
    "start_time": "2025-03-19T10:42:37.130Z"
   },
   {
    "duration": 0,
    "start_time": "2025-03-19T10:42:37.132Z"
   },
   {
    "duration": 16,
    "start_time": "2025-03-19T10:47:40.279Z"
   },
   {
    "duration": 467,
    "start_time": "2025-03-19T10:52:33.551Z"
   },
   {
    "duration": 9,
    "start_time": "2025-03-19T10:53:20.855Z"
   },
   {
    "duration": 2224,
    "start_time": "2025-03-19T10:53:25.283Z"
   },
   {
    "duration": 2050,
    "start_time": "2025-03-19T10:53:31.830Z"
   },
   {
    "duration": 2102,
    "start_time": "2025-03-19T10:53:33.882Z"
   },
   {
    "duration": 2814,
    "start_time": "2025-03-19T10:53:41.016Z"
   },
   {
    "duration": 2730,
    "start_time": "2025-03-19T10:53:43.833Z"
   },
   {
    "duration": 1722,
    "start_time": "2025-03-19T10:53:46.566Z"
   },
   {
    "duration": 3,
    "start_time": "2025-03-19T10:53:48.290Z"
   },
   {
    "duration": 8,
    "start_time": "2025-03-19T10:53:48.296Z"
   },
   {
    "duration": 567,
    "start_time": "2025-03-19T10:53:48.306Z"
   },
   {
    "duration": 3,
    "start_time": "2025-03-19T10:53:48.874Z"
   },
   {
    "duration": 78,
    "start_time": "2025-03-19T10:53:48.879Z"
   },
   {
    "duration": 57,
    "start_time": "2025-03-19T10:53:48.959Z"
   },
   {
    "duration": 51,
    "start_time": "2025-03-19T10:53:49.017Z"
   },
   {
    "duration": 4,
    "start_time": "2025-03-19T10:53:49.070Z"
   },
   {
    "duration": 78,
    "start_time": "2025-03-19T10:53:49.075Z"
   },
   {
    "duration": 62,
    "start_time": "2025-03-19T10:53:49.154Z"
   },
   {
    "duration": 55,
    "start_time": "2025-03-19T10:53:49.220Z"
   },
   {
    "duration": 2,
    "start_time": "2025-03-19T10:53:49.277Z"
   },
   {
    "duration": 145,
    "start_time": "2025-03-19T10:53:49.281Z"
   },
   {
    "duration": 15,
    "start_time": "2025-03-19T10:53:49.428Z"
   },
   {
    "duration": 177,
    "start_time": "2025-03-19T10:53:49.445Z"
   },
   {
    "duration": 115,
    "start_time": "2025-03-19T10:53:49.623Z"
   },
   {
    "duration": 4,
    "start_time": "2025-03-19T10:53:49.740Z"
   },
   {
    "duration": 31,
    "start_time": "2025-03-19T10:53:49.746Z"
   },
   {
    "duration": 43,
    "start_time": "2025-03-19T10:53:49.779Z"
   },
   {
    "duration": 17,
    "start_time": "2025-03-19T10:53:49.824Z"
   },
   {
    "duration": 3,
    "start_time": "2025-03-19T10:53:49.843Z"
   },
   {
    "duration": 8,
    "start_time": "2025-03-19T10:53:49.848Z"
   },
   {
    "duration": 1806,
    "start_time": "2025-03-19T10:53:49.858Z"
   },
   {
    "duration": 1652,
    "start_time": "2025-03-19T10:53:51.667Z"
   },
   {
    "duration": 1837,
    "start_time": "2025-03-19T10:53:53.321Z"
   },
   {
    "duration": 4,
    "start_time": "2025-03-19T10:53:55.161Z"
   },
   {
    "duration": 733,
    "start_time": "2025-03-19T10:53:55.166Z"
   },
   {
    "duration": 376,
    "start_time": "2025-03-19T10:53:55.901Z"
   },
   {
    "duration": 706,
    "start_time": "2025-03-19T10:53:56.278Z"
   },
   {
    "duration": 740,
    "start_time": "2025-03-19T10:53:56.986Z"
   },
   {
    "duration": 6,
    "start_time": "2025-03-19T10:53:57.728Z"
   },
   {
    "duration": 71,
    "start_time": "2025-03-19T10:53:57.736Z"
   },
   {
    "duration": 122,
    "start_time": "2025-03-19T10:53:57.809Z"
   },
   {
    "duration": 119,
    "start_time": "2025-03-19T10:53:58.009Z"
   },
   {
    "duration": 72,
    "start_time": "2025-03-19T10:53:58.131Z"
   },
   {
    "duration": 6,
    "start_time": "2025-03-19T10:53:58.207Z"
   },
   {
    "duration": 103,
    "start_time": "2025-03-19T10:53:58.216Z"
   },
   {
    "duration": 34,
    "start_time": "2025-03-19T10:53:58.324Z"
   },
   {
    "duration": 35,
    "start_time": "2025-03-19T10:53:58.361Z"
   },
   {
    "duration": 13,
    "start_time": "2025-03-19T10:53:58.399Z"
   },
   {
    "duration": 15,
    "start_time": "2025-03-19T10:53:58.415Z"
   },
   {
    "duration": 31,
    "start_time": "2025-03-19T10:53:58.432Z"
   },
   {
    "duration": 29,
    "start_time": "2025-03-19T10:53:58.464Z"
   },
   {
    "duration": 7,
    "start_time": "2025-03-19T10:53:58.495Z"
   },
   {
    "duration": 23,
    "start_time": "2025-03-19T10:53:58.504Z"
   },
   {
    "duration": 28,
    "start_time": "2025-03-19T10:53:58.529Z"
   },
   {
    "duration": 33,
    "start_time": "2025-03-19T10:53:58.559Z"
   },
   {
    "duration": 3,
    "start_time": "2025-03-19T10:53:58.594Z"
   },
   {
    "duration": 31,
    "start_time": "2025-03-19T10:53:58.599Z"
   },
   {
    "duration": 5,
    "start_time": "2025-03-19T10:53:58.633Z"
   },
   {
    "duration": 15,
    "start_time": "2025-03-19T10:53:58.641Z"
   },
   {
    "duration": 4,
    "start_time": "2025-03-19T10:53:58.658Z"
   },
   {
    "duration": 25,
    "start_time": "2025-03-19T10:53:58.664Z"
   },
   {
    "duration": 6,
    "start_time": "2025-03-19T10:53:58.691Z"
   },
   {
    "duration": 16,
    "start_time": "2025-03-19T10:53:58.699Z"
   },
   {
    "duration": 2167,
    "start_time": "2025-03-19T10:53:58.717Z"
   },
   {
    "duration": 2151,
    "start_time": "2025-03-19T10:54:00.886Z"
   },
   {
    "duration": 2146,
    "start_time": "2025-03-19T10:54:03.038Z"
   }
  ],
  "kernelspec": {
   "display_name": "Python 3 (ipykernel)",
   "language": "python",
   "name": "python3"
  },
  "language_info": {
   "codemirror_mode": {
    "name": "ipython",
    "version": 3
   },
   "file_extension": ".py",
   "mimetype": "text/x-python",
   "name": "python",
   "nbconvert_exporter": "python",
   "pygments_lexer": "ipython3",
   "version": "3.12.7"
  },
  "toc": {
   "base_numbering": 1,
   "nav_menu": {
    "height": "344px",
    "width": "438px"
   },
   "number_sections": true,
   "sideBar": true,
   "skip_h1_title": true,
   "title_cell": "Table of Contents",
   "title_sidebar": "Contents",
   "toc_cell": false,
   "toc_position": {
    "height": "calc(100% - 180px)",
    "left": "10px",
    "top": "150px",
    "width": "195.6px"
   },
   "toc_section_display": true,
   "toc_window_display": true
  }
 },
 "nbformat": 4,
 "nbformat_minor": 4
}

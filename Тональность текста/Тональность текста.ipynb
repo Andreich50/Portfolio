{
 "cells": [
  {
   "cell_type": "markdown",
   "metadata": {
    "toc": true
   },
   "source": [
    "<h1>Содержание<span class=\"tocSkip\"></span></h1>\n",
    "<div class=\"toc\"><ul class=\"toc-item\"><li><span><a href=\"#Подготовка\" data-toc-modified-id=\"Подготовка-1\"><span class=\"toc-item-num\">1&nbsp;&nbsp;</span>Подготовка</a></span></li><li><span><a href=\"#Обучение\" data-toc-modified-id=\"Обучение-2\"><span class=\"toc-item-num\">2&nbsp;&nbsp;</span>Обучение</a></span><ul class=\"toc-item\"><li><span><a href=\"#Модель-Логистической-регрессии.\" data-toc-modified-id=\"Модель-Логистической-регрессии.-2.1\"><span class=\"toc-item-num\">2.1&nbsp;&nbsp;</span>Модель Логистической регрессии.</a></span></li><li><span><a href=\"#Модель-DecisionTreeClassifier.\" data-toc-modified-id=\"Модель-DecisionTreeClassifier.-2.2\"><span class=\"toc-item-num\">2.2&nbsp;&nbsp;</span>Модель DecisionTreeClassifier.</a></span></li><li><span><a href=\"#Тестирование-лучшей-модели.\" data-toc-modified-id=\"Тестирование-лучшей-модели.-2.3\"><span class=\"toc-item-num\">2.3&nbsp;&nbsp;</span>Тестирование лучшей модели.</a></span></li></ul></li><li><span><a href=\"#Выводы\" data-toc-modified-id=\"Выводы-3\"><span class=\"toc-item-num\">3&nbsp;&nbsp;</span>Выводы</a></span></li><li><span><a href=\"#Чек-лист-проверки\" data-toc-modified-id=\"Чек-лист-проверки-4\"><span class=\"toc-item-num\">4&nbsp;&nbsp;</span>Чек-лист проверки</a></span></li></ul></div>"
   ]
  },
  {
   "cell_type": "markdown",
   "metadata": {},
   "source": [
    "# Проект для «Викишоп»"
   ]
  },
  {
   "cell_type": "markdown",
   "metadata": {},
   "source": [
    "Интернет-магазин «Викишоп» запускает новый сервис. Теперь пользователи могут редактировать и дополнять описания товаров, как в вики-сообществах. То есть клиенты предлагают свои правки и комментируют изменения других. Магазину нужен инструмент, который будет искать токсичные комментарии и отправлять их на модерацию. \n",
    "\n",
    "В данном проекте будет проведено обучение моделей классифицировать комментарии на позитивные и негативные. Для обучения моделей в нашем распоряжении имеется набор данных с разметкой о токсичности правок.\n",
    "\n",
    "Как итог будет построена модель со значением метрики качества *F1* не меньше 0.75. \n",
    "\n",
    "**Проект будет выполнен по следующим этапам**\n",
    "\n",
    "1. Загрузка и подготовка данных.\n",
    "2. Обучение разных моделей. \n",
    "3. Формирование выводов.\n",
    "\n",
    "\n",
    "\n",
    "**Описание данных**\n",
    "\n",
    "Данные находятся в файле `toxic_comments.csv`. Столбец *text* в нём содержит текст комментария, а *toxic* — целевой признак."
   ]
  },
  {
   "cell_type": "markdown",
   "metadata": {},
   "source": [
    "## Подготовка"
   ]
  },
  {
   "cell_type": "code",
   "execution_count": 1,
   "metadata": {},
   "outputs": [
    {
     "name": "stderr",
     "output_type": "stream",
     "text": [
      "[nltk_data] Downloading package stopwords to /home/jovyan/nltk_data...\n",
      "[nltk_data]   Package stopwords is already up-to-date!\n"
     ]
    }
   ],
   "source": [
    "import catboost\n",
    "import lightgbm \n",
    "import pandas as pd\n",
    "import numpy as np\n",
    "import re \n",
    "import time\n",
    "import nltk\n",
    "#from pymystem3 import Mystem\n",
    "from nltk.corpus import wordnet\n",
    "from nltk import word_tokenize as word_tokenize\n",
    "from nltk.stem import WordNetLemmatizer\n",
    "from nltk import pos_tag\n",
    "from nltk.corpus import stopwords \n",
    "nltk.download('stopwords')\n",
    "stopwords = set(stopwords.words('english'))\n",
    "\n",
    "from catboost import CatBoostClassifier\n",
    "from lightgbm import LGBMClassifier\n",
    "from sklearn.feature_extraction.text import CountVectorizer \n",
    "from sklearn.feature_extraction.text import TfidfVectorizer\n",
    "from sklearn.model_selection import (TimeSeriesSplit,\n",
    "                                     train_test_split,\n",
    "                                     RandomizedSearchCV, GridSearchCV)\n",
    "\n",
    "from sklearn.linear_model import LogisticRegression\n",
    "from sklearn.pipeline import Pipeline\n",
    "from sklearn.tree import DecisionTreeClassifier\n",
    "\n",
    "from sklearn import metrics\n",
    "from sklearn.metrics import f1_score\n",
    "from tqdm import tqdm\n",
    "from tqdm import notebook "
   ]
  },
  {
   "cell_type": "code",
   "execution_count": 2,
   "metadata": {},
   "outputs": [
    {
     "name": "stderr",
     "output_type": "stream",
     "text": [
      "[nltk_data] Downloading package punkt_tab to /home/jovyan/nltk_data...\n",
      "[nltk_data]   Package punkt_tab is already up-to-date!\n"
     ]
    },
    {
     "data": {
      "text/plain": [
       "True"
      ]
     },
     "execution_count": 2,
     "metadata": {},
     "output_type": "execute_result"
    }
   ],
   "source": [
    "nltk.download('punkt_tab')\n"
   ]
  },
  {
   "cell_type": "code",
   "execution_count": 3,
   "metadata": {},
   "outputs": [
    {
     "name": "stderr",
     "output_type": "stream",
     "text": [
      "[nltk_data] Downloading package averaged_perceptron_tagger to\n",
      "[nltk_data]     /home/jovyan/nltk_data...\n",
      "[nltk_data]   Package averaged_perceptron_tagger is already up-to-\n",
      "[nltk_data]       date!\n"
     ]
    },
    {
     "data": {
      "text/plain": [
       "True"
      ]
     },
     "execution_count": 3,
     "metadata": {},
     "output_type": "execute_result"
    }
   ],
   "source": [
    "nltk.download('averaged_perceptron_tagger')"
   ]
  },
  {
   "cell_type": "code",
   "execution_count": 4,
   "metadata": {},
   "outputs": [
    {
     "name": "stderr",
     "output_type": "stream",
     "text": [
      "[nltk_data] Downloading package wordnet to /home/jovyan/nltk_data...\n",
      "[nltk_data]   Package wordnet is already up-to-date!\n"
     ]
    },
    {
     "data": {
      "text/plain": [
       "True"
      ]
     },
     "execution_count": 4,
     "metadata": {},
     "output_type": "execute_result"
    }
   ],
   "source": [
    "nltk.download('wordnet')"
   ]
  },
  {
   "cell_type": "code",
   "execution_count": 5,
   "metadata": {},
   "outputs": [
    {
     "name": "stderr",
     "output_type": "stream",
     "text": [
      "[nltk_data] Downloading package averaged_perceptron_tagger_eng to\n",
      "[nltk_data]     /home/jovyan/nltk_data...\n",
      "[nltk_data]   Package averaged_perceptron_tagger_eng is already up-to-\n",
      "[nltk_data]       date!\n"
     ]
    },
    {
     "data": {
      "text/plain": [
       "True"
      ]
     },
     "execution_count": 5,
     "metadata": {},
     "output_type": "execute_result"
    }
   ],
   "source": [
    "nltk.download('averaged_perceptron_tagger_eng')"
   ]
  },
  {
   "cell_type": "code",
   "execution_count": 6,
   "metadata": {},
   "outputs": [],
   "source": [
    "RANDOM_STATE = 42\n",
    "TEST_SIZE = 0.25"
   ]
  },
  {
   "cell_type": "markdown",
   "metadata": {},
   "source": [
    "Загрузим данные."
   ]
  },
  {
   "cell_type": "code",
   "execution_count": 7,
   "metadata": {},
   "outputs": [],
   "source": [
    "try:\n",
    "    data = pd.read_csv('/datasets/toxic_comments.csv')\n",
    "except:\n",
    "    data = pd.read_csv(r\"C:\\Users\\tzslapin\\Downloads\\toxic_comments.csv\")"
   ]
  },
  {
   "cell_type": "code",
   "execution_count": 8,
   "metadata": {},
   "outputs": [
    {
     "data": {
      "text/html": [
       "<div>\n",
       "<style scoped>\n",
       "    .dataframe tbody tr th:only-of-type {\n",
       "        vertical-align: middle;\n",
       "    }\n",
       "\n",
       "    .dataframe tbody tr th {\n",
       "        vertical-align: top;\n",
       "    }\n",
       "\n",
       "    .dataframe thead th {\n",
       "        text-align: right;\n",
       "    }\n",
       "</style>\n",
       "<table border=\"1\" class=\"dataframe\">\n",
       "  <thead>\n",
       "    <tr style=\"text-align: right;\">\n",
       "      <th></th>\n",
       "      <th>Unnamed: 0</th>\n",
       "      <th>text</th>\n",
       "      <th>toxic</th>\n",
       "    </tr>\n",
       "  </thead>\n",
       "  <tbody>\n",
       "    <tr>\n",
       "      <th>0</th>\n",
       "      <td>0</td>\n",
       "      <td>Explanation\\nWhy the edits made under my usern...</td>\n",
       "      <td>0</td>\n",
       "    </tr>\n",
       "    <tr>\n",
       "      <th>1</th>\n",
       "      <td>1</td>\n",
       "      <td>D'aww! He matches this background colour I'm s...</td>\n",
       "      <td>0</td>\n",
       "    </tr>\n",
       "    <tr>\n",
       "      <th>2</th>\n",
       "      <td>2</td>\n",
       "      <td>Hey man, I'm really not trying to edit war. It...</td>\n",
       "      <td>0</td>\n",
       "    </tr>\n",
       "    <tr>\n",
       "      <th>3</th>\n",
       "      <td>3</td>\n",
       "      <td>\"\\nMore\\nI can't make any real suggestions on ...</td>\n",
       "      <td>0</td>\n",
       "    </tr>\n",
       "    <tr>\n",
       "      <th>4</th>\n",
       "      <td>4</td>\n",
       "      <td>You, sir, are my hero. Any chance you remember...</td>\n",
       "      <td>0</td>\n",
       "    </tr>\n",
       "  </tbody>\n",
       "</table>\n",
       "</div>"
      ],
      "text/plain": [
       "   Unnamed: 0                                               text  toxic\n",
       "0           0  Explanation\\nWhy the edits made under my usern...      0\n",
       "1           1  D'aww! He matches this background colour I'm s...      0\n",
       "2           2  Hey man, I'm really not trying to edit war. It...      0\n",
       "3           3  \"\\nMore\\nI can't make any real suggestions on ...      0\n",
       "4           4  You, sir, are my hero. Any chance you remember...      0"
      ]
     },
     "execution_count": 8,
     "metadata": {},
     "output_type": "execute_result"
    }
   ],
   "source": [
    "data.head()"
   ]
  },
  {
   "cell_type": "code",
   "execution_count": 9,
   "metadata": {},
   "outputs": [
    {
     "data": {
      "text/html": [
       "<div>\n",
       "<style scoped>\n",
       "    .dataframe tbody tr th:only-of-type {\n",
       "        vertical-align: middle;\n",
       "    }\n",
       "\n",
       "    .dataframe tbody tr th {\n",
       "        vertical-align: top;\n",
       "    }\n",
       "\n",
       "    .dataframe thead th {\n",
       "        text-align: right;\n",
       "    }\n",
       "</style>\n",
       "<table border=\"1\" class=\"dataframe\">\n",
       "  <thead>\n",
       "    <tr style=\"text-align: right;\">\n",
       "      <th></th>\n",
       "      <th>Unnamed: 0</th>\n",
       "      <th>text</th>\n",
       "      <th>toxic</th>\n",
       "    </tr>\n",
       "  </thead>\n",
       "  <tbody>\n",
       "    <tr>\n",
       "      <th>159287</th>\n",
       "      <td>159446</td>\n",
       "      <td>\":::::And for the second time of asking, when ...</td>\n",
       "      <td>0</td>\n",
       "    </tr>\n",
       "    <tr>\n",
       "      <th>159288</th>\n",
       "      <td>159447</td>\n",
       "      <td>You should be ashamed of yourself \\n\\nThat is ...</td>\n",
       "      <td>0</td>\n",
       "    </tr>\n",
       "    <tr>\n",
       "      <th>159289</th>\n",
       "      <td>159448</td>\n",
       "      <td>Spitzer \\n\\nUmm, theres no actual article for ...</td>\n",
       "      <td>0</td>\n",
       "    </tr>\n",
       "    <tr>\n",
       "      <th>159290</th>\n",
       "      <td>159449</td>\n",
       "      <td>And it looks like it was actually you who put ...</td>\n",
       "      <td>0</td>\n",
       "    </tr>\n",
       "    <tr>\n",
       "      <th>159291</th>\n",
       "      <td>159450</td>\n",
       "      <td>\"\\nAnd ... I really don't think you understand...</td>\n",
       "      <td>0</td>\n",
       "    </tr>\n",
       "  </tbody>\n",
       "</table>\n",
       "</div>"
      ],
      "text/plain": [
       "        Unnamed: 0                                               text  toxic\n",
       "159287      159446  \":::::And for the second time of asking, when ...      0\n",
       "159288      159447  You should be ashamed of yourself \\n\\nThat is ...      0\n",
       "159289      159448  Spitzer \\n\\nUmm, theres no actual article for ...      0\n",
       "159290      159449  And it looks like it was actually you who put ...      0\n",
       "159291      159450  \"\\nAnd ... I really don't think you understand...      0"
      ]
     },
     "execution_count": 9,
     "metadata": {},
     "output_type": "execute_result"
    }
   ],
   "source": [
    "data.tail(5)"
   ]
  },
  {
   "cell_type": "markdown",
   "metadata": {},
   "source": [
    "Видим неизвестный лишний столбец. Ничего с ним делать не будем."
   ]
  },
  {
   "cell_type": "code",
   "execution_count": 10,
   "metadata": {},
   "outputs": [
    {
     "data": {
      "text/html": [
       "<div>\n",
       "<style scoped>\n",
       "    .dataframe tbody tr th:only-of-type {\n",
       "        vertical-align: middle;\n",
       "    }\n",
       "\n",
       "    .dataframe tbody tr th {\n",
       "        vertical-align: top;\n",
       "    }\n",
       "\n",
       "    .dataframe thead th {\n",
       "        text-align: right;\n",
       "    }\n",
       "</style>\n",
       "<table border=\"1\" class=\"dataframe\">\n",
       "  <thead>\n",
       "    <tr style=\"text-align: right;\">\n",
       "      <th></th>\n",
       "      <th>Unnamed: 0</th>\n",
       "      <th>text</th>\n",
       "      <th>toxic</th>\n",
       "    </tr>\n",
       "  </thead>\n",
       "  <tbody>\n",
       "    <tr>\n",
       "      <th>42393</th>\n",
       "      <td>42443</td>\n",
       "      <td>PS Ideally an article in WP should have at lea...</td>\n",
       "      <td>0</td>\n",
       "    </tr>\n",
       "    <tr>\n",
       "      <th>83330</th>\n",
       "      <td>83409</td>\n",
       "      <td>Stay out of my business \\n\\nGo ahead, keep it ...</td>\n",
       "      <td>1</td>\n",
       "    </tr>\n",
       "    <tr>\n",
       "      <th>65736</th>\n",
       "      <td>65803</td>\n",
       "      <td>Sup dude. I'm not spamming. Fuck you, learn to...</td>\n",
       "      <td>1</td>\n",
       "    </tr>\n",
       "    <tr>\n",
       "      <th>1431</th>\n",
       "      <td>1431</td>\n",
       "      <td>\"Short for the spanish word \"\"Cohete\"\", which ...</td>\n",
       "      <td>0</td>\n",
       "    </tr>\n",
       "    <tr>\n",
       "      <th>14802</th>\n",
       "      <td>14818</td>\n",
       "      <td>You are a vandal, you removed the reference to...</td>\n",
       "      <td>1</td>\n",
       "    </tr>\n",
       "  </tbody>\n",
       "</table>\n",
       "</div>"
      ],
      "text/plain": [
       "       Unnamed: 0                                               text  toxic\n",
       "42393       42443  PS Ideally an article in WP should have at lea...      0\n",
       "83330       83409  Stay out of my business \\n\\nGo ahead, keep it ...      1\n",
       "65736       65803  Sup dude. I'm not spamming. Fuck you, learn to...      1\n",
       "1431         1431  \"Short for the spanish word \"\"Cohete\"\", which ...      0\n",
       "14802       14818  You are a vandal, you removed the reference to...      1"
      ]
     },
     "execution_count": 10,
     "metadata": {},
     "output_type": "execute_result"
    }
   ],
   "source": [
    "data.sample(5)"
   ]
  },
  {
   "cell_type": "code",
   "execution_count": 11,
   "metadata": {},
   "outputs": [
    {
     "name": "stdout",
     "output_type": "stream",
     "text": [
      "<class 'pandas.core.frame.DataFrame'>\n",
      "RangeIndex: 159292 entries, 0 to 159291\n",
      "Data columns (total 3 columns):\n",
      " #   Column      Non-Null Count   Dtype \n",
      "---  ------      --------------   ----- \n",
      " 0   Unnamed: 0  159292 non-null  int64 \n",
      " 1   text        159292 non-null  object\n",
      " 2   toxic       159292 non-null  int64 \n",
      "dtypes: int64(2), object(1)\n",
      "memory usage: 3.6+ MB\n"
     ]
    }
   ],
   "source": [
    "data.info()"
   ]
  },
  {
   "cell_type": "markdown",
   "metadata": {},
   "source": [
    "Всего записей в датасете 159292. Текст на английском языке."
   ]
  },
  {
   "cell_type": "markdown",
   "metadata": {},
   "source": [
    "Создадим функции для \"очистки\" и лемматизации текста."
   ]
  },
  {
   "cell_type": "code",
   "execution_count": 12,
   "metadata": {},
   "outputs": [],
   "source": [
    "def clear (text):\n",
    "    regular = re.sub(r'^[a-zA-Z]', ' ', text)\n",
    "    clear = ' '.join(regular.split())\n",
    "    return clear"
   ]
  },
  {
   "cell_type": "code",
   "execution_count": 13,
   "metadata": {},
   "outputs": [],
   "source": [
    "#m = Mystem()"
   ]
  },
  {
   "cell_type": "code",
   "execution_count": 14,
   "metadata": {},
   "outputs": [],
   "source": [
    "# def lemmatize(text):\n",
    "#     lemm_list = m.lemmatize(text)\n",
    "#     text_lemm = ' '.join(lemm_list)\n",
    "#     return text_lemm"
   ]
  },
  {
   "cell_type": "code",
   "execution_count": 15,
   "metadata": {},
   "outputs": [
    {
     "data": {
      "text/plain": [
       "'he be walk to school'"
      ]
     },
     "execution_count": 15,
     "metadata": {},
     "output_type": "execute_result"
    }
   ],
   "source": [
    "wnl = WordNetLemmatizer()\n",
    "\n",
    "def penn2morphy(penntag):\n",
    "    \"\"\" Converts Penn Treebank tags to WordNet. \"\"\"\n",
    "    morphy_tag = {'NN':'n', 'JJ':'a',\n",
    "                  'VB':'v', 'RB':'r'}\n",
    "    try:\n",
    "        return morphy_tag[penntag[:2]]\n",
    "    except:\n",
    "        return 'n' \n",
    "\n",
    "def lemmatize_sent(text): \n",
    "    # Text input is string, returns lowercased strings.\n",
    "    return ' '.join([wnl.lemmatize(word.lower(), pos=penn2morphy(tag)) \n",
    "            for word, tag in pos_tag(word_tokenize(text))])\n",
    "\n",
    "lemmatize_sent('He is walking to school')"
   ]
  },
  {
   "cell_type": "markdown",
   "metadata": {},
   "source": [
    "Для экономии ресурсов настройку произведем на выборке из 1000 записей. После настройки обучим модель на всем датасете, а выборку из 1000 записей закоментим."
   ]
  },
  {
   "cell_type": "code",
   "execution_count": 16,
   "metadata": {},
   "outputs": [],
   "source": [
    "#data_1 = data.sample(1000).reset_index(drop=True)"
   ]
  },
  {
   "cell_type": "code",
   "execution_count": 17,
   "metadata": {},
   "outputs": [],
   "source": [
    "#data_1['text'] = data_1['text'].apply(clear)"
   ]
  },
  {
   "cell_type": "code",
   "execution_count": 18,
   "metadata": {},
   "outputs": [
    {
     "name": "stderr",
     "output_type": "stream",
     "text": [
      "100%|██████████| 159292/159292 [00:01<00:00, 82857.82it/s]\n"
     ]
    }
   ],
   "source": [
    "tqdm.pandas()\n",
    "data['text'] = data['text'].progress_apply(clear)"
   ]
  },
  {
   "cell_type": "code",
   "execution_count": 19,
   "metadata": {},
   "outputs": [
    {
     "name": "stderr",
     "output_type": "stream",
     "text": [
      "100%|██████████| 159292/159292 [09:45<00:00, 272.04it/s]\n"
     ]
    }
   ],
   "source": [
    "tqdm.pandas()\n",
    "data['lemm_text'] = data['text'].progress_apply(lemmatize_sent)"
   ]
  },
  {
   "cell_type": "code",
   "execution_count": 20,
   "metadata": {},
   "outputs": [
    {
     "data": {
      "text/plain": [
       "\"xplanation Why the edits made under my username Hardcore Metallica Fan were reverted? They weren't vandalisms, just closure on some GAs after I voted at New York Dolls FAC. And please don't remove the template from the talk page since I'm retired now.89.205.38.27\""
      ]
     },
     "execution_count": 20,
     "metadata": {},
     "output_type": "execute_result"
    }
   ],
   "source": [
    "data['text'][0]"
   ]
  },
  {
   "cell_type": "code",
   "execution_count": 21,
   "metadata": {},
   "outputs": [
    {
     "data": {
      "text/plain": [
       "\"xplanation why the edits make under my username hardcore metallica fan be revert ? they be n't vandalisms , just closure on some gas after i vote at new york doll fac . and please do n't remove the template from the talk page since i 'm retired now.89.205.38.27\""
      ]
     },
     "execution_count": 21,
     "metadata": {},
     "output_type": "execute_result"
    }
   ],
   "source": [
    "data['lemm_text'][0]"
   ]
  },
  {
   "cell_type": "code",
   "execution_count": 22,
   "metadata": {},
   "outputs": [],
   "source": [
    "data['text'] = data['text'].str.lower()"
   ]
  },
  {
   "cell_type": "code",
   "execution_count": 23,
   "metadata": {},
   "outputs": [
    {
     "data": {
      "image/png": "[encoded data removed]",
      "text/plain": [
       "<Figure size 720x360 with 1 Axes>"
      ]
     },
     "metadata": {
      "needs_background": "light"
     },
     "output_type": "display_data"
    }
   ],
   "source": [
    "data['toxic'].value_counts().plot(kind='bar', figsize = (10, 5), title = 'Распределение целевого признака, 1 - токсичные, 0 - нет', \\\n",
    "                                  xlabel = 'Токсичность текста', ylabel = 'Количество', grid = True);\n"
   ]
  },
  {
   "cell_type": "markdown",
   "metadata": {},
   "source": [
    "Целевой признак несбалансирован. При разбиении на выборки будем использовать стратификацию."
   ]
  },
  {
   "cell_type": "code",
   "execution_count": 24,
   "metadata": {},
   "outputs": [],
   "source": [
    "features = data['text']\n",
    "target = data['toxic']\n",
    "\n",
    "features_train, features_test, target_train, target_test = train_test_split(\n",
    "    features, \n",
    "    target, \n",
    "    test_size = TEST_SIZE, \n",
    "    stratify=target, \n",
    "    random_state = RANDOM_STATE\n",
    ")"
   ]
  },
  {
   "cell_type": "markdown",
   "metadata": {},
   "source": [
    "**Выводы по подготовке:**\n"
   ]
  },
  {
   "cell_type": "markdown",
   "metadata": {},
   "source": [
    "На этапе подготовки выполнены следующие действия:\n",
    "\n",
    "- Перевели столбец 'text' в кодировку Unicod;\n",
    "- очистили текст функцией clear;\n",
    "- лемматизировали текст,;\n",
    "- привели текст к нижнему регистру;\n",
    "- проверили текст на дубликаты;\n",
    "- разделили на тренировочную и тестовую выборки."
   ]
  },
  {
   "cell_type": "markdown",
   "metadata": {},
   "source": [
    "## Обучение"
   ]
  },
  {
   "cell_type": "markdown",
   "metadata": {},
   "source": [
    "Для сравнения составим таблицу."
   ]
  },
  {
   "cell_type": "code",
   "execution_count": 25,
   "metadata": {},
   "outputs": [],
   "source": [
    "table = pd.DataFrame(columns=['name_model', 'best_score', \n",
    "                                   'parameters', 'time, sec'])"
   ]
  },
  {
   "cell_type": "markdown",
   "metadata": {},
   "source": [
    "Создадим функцию для добавления в созданную таблицу характеристик работы моделей."
   ]
  },
  {
   "cell_type": "code",
   "execution_count": 26,
   "metadata": {},
   "outputs": [],
   "source": [
    "def model_metrics(name_model, best_score, params, time):\n",
    "    global table\n",
    "    if name_model not in list(table['name_model']):\n",
    "        new_row = {'name_model': name_model, 'best_score': best_score, 'parameters': params, 'time, sec': time}\n",
    "        table = table.append(new_row, ignore_index=True)\n",
    "        display(table)  "
   ]
  },
  {
   "cell_type": "markdown",
   "metadata": {},
   "source": [
    "Создадим функцию, которая принимает пайплайн модели, а возвращает имя модели, лучшую метрику, параметры и время обучения."
   ]
  },
  {
   "cell_type": "code",
   "execution_count": 27,
   "metadata": {},
   "outputs": [],
   "source": [
    "def model_creation(pipeline, parametrs, name):\n",
    "    for _ in tqdm(range(1)): \n",
    "        start = time.time()\n",
    "        randomized_search = RandomizedSearchCV(pipeline, parametrs, scoring='f1', n_iter=5, n_jobs=-1)\n",
    "        randomized_search.fit(features_train, target_train)  \n",
    "        model_metrics(name, randomized_search.best_score_, \n",
    "                      randomized_search.best_params_, time.time() - start)"
   ]
  },
  {
   "cell_type": "markdown",
   "metadata": {},
   "source": [
    "### Модель Логистической регрессии."
   ]
  },
  {
   "cell_type": "code",
   "execution_count": 28,
   "metadata": {},
   "outputs": [],
   "source": [
    "pipe_lr = Pipeline([\n",
    "                    ('vect', TfidfVectorizer(stop_words = stopwords)),\n",
    "                    ('model', LogisticRegression(random_state = RANDOM_STATE, solver='liblinear'))\n",
    "                  ])"
   ]
  },
  {
   "cell_type": "code",
   "execution_count": 29,
   "metadata": {},
   "outputs": [],
   "source": [
    "params_lr = {\n",
    "             'model__C': range(5, 16),\n",
    "             'model__class_weight': ['balanced'],\n",
    "             'model__penalty': ['l1','l2']\n",
    "            }"
   ]
  },
  {
   "cell_type": "code",
   "execution_count": 30,
   "metadata": {},
   "outputs": [
    {
     "name": "stderr",
     "output_type": "stream",
     "text": [
      "  0%|          | 0/1 [00:00<?, ?it/s]"
     ]
    },
    {
     "data": {
      "text/html": [
       "<div>\n",
       "<style scoped>\n",
       "    .dataframe tbody tr th:only-of-type {\n",
       "        vertical-align: middle;\n",
       "    }\n",
       "\n",
       "    .dataframe tbody tr th {\n",
       "        vertical-align: top;\n",
       "    }\n",
       "\n",
       "    .dataframe thead th {\n",
       "        text-align: right;\n",
       "    }\n",
       "</style>\n",
       "<table border=\"1\" class=\"dataframe\">\n",
       "  <thead>\n",
       "    <tr style=\"text-align: right;\">\n",
       "      <th></th>\n",
       "      <th>name_model</th>\n",
       "      <th>best_score</th>\n",
       "      <th>parameters</th>\n",
       "      <th>time, sec</th>\n",
       "    </tr>\n",
       "  </thead>\n",
       "  <tbody>\n",
       "    <tr>\n",
       "      <th>0</th>\n",
       "      <td>LogisticRegression</td>\n",
       "      <td>0.76527</td>\n",
       "      <td>{'model__penalty': 'l2', 'model__class_weight'...</td>\n",
       "      <td>572.489662</td>\n",
       "    </tr>\n",
       "  </tbody>\n",
       "</table>\n",
       "</div>"
      ],
      "text/plain": [
       "           name_model  best_score  \\\n",
       "0  LogisticRegression     0.76527   \n",
       "\n",
       "                                          parameters   time, sec  \n",
       "0  {'model__penalty': 'l2', 'model__class_weight'...  572.489662  "
      ]
     },
     "metadata": {},
     "output_type": "display_data"
    },
    {
     "name": "stderr",
     "output_type": "stream",
     "text": [
      "100%|██████████| 1/1 [09:32<00:00, 572.50s/it]\n"
     ]
    }
   ],
   "source": [
    "model_creation(pipe_lr, params_lr, 'LogisticRegression')"
   ]
  },
  {
   "cell_type": "markdown",
   "metadata": {},
   "source": [
    "### Модель DecisionTreeClassifier."
   ]
  },
  {
   "cell_type": "code",
   "execution_count": 31,
   "metadata": {},
   "outputs": [],
   "source": [
    "pipe_dtc = Pipeline([(\"vect\", TfidfVectorizer(stop_words='english')), \n",
    "                     (\"dtc\", DecisionTreeClassifier(random_state = RANDOM_STATE))])"
   ]
  },
  {
   "cell_type": "code",
   "execution_count": 32,
   "metadata": {},
   "outputs": [],
   "source": [
    "params_dtc = {'dtc__max_depth': ([x for x in range(1, 25)]),\n",
    "              'dtc__class_weight': (['balanced'])}"
   ]
  },
  {
   "cell_type": "code",
   "execution_count": 33,
   "metadata": {},
   "outputs": [
    {
     "name": "stderr",
     "output_type": "stream",
     "text": [
      "  0%|          | 0/1 [00:00<?, ?it/s]"
     ]
    },
    {
     "data": {
      "text/html": [
       "<div>\n",
       "<style scoped>\n",
       "    .dataframe tbody tr th:only-of-type {\n",
       "        vertical-align: middle;\n",
       "    }\n",
       "\n",
       "    .dataframe tbody tr th {\n",
       "        vertical-align: top;\n",
       "    }\n",
       "\n",
       "    .dataframe thead th {\n",
       "        text-align: right;\n",
       "    }\n",
       "</style>\n",
       "<table border=\"1\" class=\"dataframe\">\n",
       "  <thead>\n",
       "    <tr style=\"text-align: right;\">\n",
       "      <th></th>\n",
       "      <th>name_model</th>\n",
       "      <th>best_score</th>\n",
       "      <th>parameters</th>\n",
       "      <th>time, sec</th>\n",
       "    </tr>\n",
       "  </thead>\n",
       "  <tbody>\n",
       "    <tr>\n",
       "      <th>0</th>\n",
       "      <td>LogisticRegression</td>\n",
       "      <td>0.765270</td>\n",
       "      <td>{'model__penalty': 'l2', 'model__class_weight'...</td>\n",
       "      <td>572.489662</td>\n",
       "    </tr>\n",
       "    <tr>\n",
       "      <th>1</th>\n",
       "      <td>DecisionTreeClassifier</td>\n",
       "      <td>0.593047</td>\n",
       "      <td>{'dtc__max_depth': 16, 'dtc__class_weight': 'b...</td>\n",
       "      <td>313.876921</td>\n",
       "    </tr>\n",
       "  </tbody>\n",
       "</table>\n",
       "</div>"
      ],
      "text/plain": [
       "               name_model  best_score  \\\n",
       "0      LogisticRegression    0.765270   \n",
       "1  DecisionTreeClassifier    0.593047   \n",
       "\n",
       "                                          parameters   time, sec  \n",
       "0  {'model__penalty': 'l2', 'model__class_weight'...  572.489662  \n",
       "1  {'dtc__max_depth': 16, 'dtc__class_weight': 'b...  313.876921  "
      ]
     },
     "metadata": {},
     "output_type": "display_data"
    },
    {
     "name": "stderr",
     "output_type": "stream",
     "text": [
      "100%|██████████| 1/1 [05:13<00:00, 313.89s/it]\n"
     ]
    }
   ],
   "source": [
    "model_creation(pipe_dtc, params_dtc, 'DecisionTreeClassifier')"
   ]
  },
  {
   "cell_type": "markdown",
   "metadata": {},
   "source": [
    "**Выводы по обучению:**\n",
    "1. Создали и обучили модели с использованием RandomizedSearchCV:\n",
    "    - Логистическую регрессию.\n",
    "    - DecisionTreeClassifier.\n",
    "2. По итогам обучения метрики f1 при кросс валидации составили:\n",
    "    - Логистическая регрессия - 0.765053\n",
    "    - DecisionTreeClassifier - 0.602553\n",
    "3. По метрике f1  лучшие показатели у модели Логистической регрессии."
   ]
  },
  {
   "cell_type": "markdown",
   "metadata": {},
   "source": [
    "### Тестирование лучшей модели."
   ]
  },
  {
   "cell_type": "code",
   "execution_count": 34,
   "metadata": {},
   "outputs": [],
   "source": [
    "best_model = Pipeline([\n",
    "                    ('vect', TfidfVectorizer(stop_words = stopwords)),\n",
    "                    ('model', LogisticRegression(random_state = RANDOM_STATE,\n",
    "                                solver='liblinear', \n",
    "                                class_weight = None,\n",
    "                                C = 10))\n",
    "                  ])\n"
   ]
  },
  {
   "cell_type": "code",
   "execution_count": 35,
   "metadata": {},
   "outputs": [
    {
     "name": "stdout",
     "output_type": "stream",
     "text": [
      "0.7715083798882683\n"
     ]
    }
   ],
   "source": [
    "best_model.fit(features_train, target_train) \n",
    "\n",
    "f1 = f1_score(target_test, best_model.predict(features_test))\n",
    "print(f1)"
   ]
  },
  {
   "cell_type": "markdown",
   "metadata": {},
   "source": [
    "Метрика лучшей модели на тестовой выборке составила 0.77 - соответствует условию."
   ]
  },
  {
   "cell_type": "markdown",
   "metadata": {},
   "source": [
    "## Выводы"
   ]
  },
  {
   "cell_type": "code",
   "execution_count": 36,
   "metadata": {},
   "outputs": [
    {
     "data": {
      "text/plain": [
       "{'model__penalty': 'l2', 'model__class_weight': 'balanced', 'model__C': 9}"
      ]
     },
     "execution_count": 36,
     "metadata": {},
     "output_type": "execute_result"
    }
   ],
   "source": [
    "table['parameters'][0]"
   ]
  },
  {
   "cell_type": "markdown",
   "metadata": {},
   "source": [
    "В данной работе выполнены следующие этапы:\n",
    "\n",
    "1. Загрузка и подготовка данных.\n",
    "\n",
    "    - Перевели столбец 'text' в кодировку Unicod;\n",
    "    - очистили текст функцией clear;\n",
    "    - лемматизировали текст,;\n",
    "    - привели текст к нижнему регистру;\n",
    "    - проверили текст на дубликаты;\n",
    "    - разделили на тренировочную и тестовую выборки.\n",
    "    \n",
    "    \n",
    "2. Обучение разных моделей. Создали и обучили две модели:\n",
    "    - Логистическую регрессию.\n",
    "    - DecisionTreeClassifier.\n",
    "    \n",
    "Лучшей моделью признана модель Логистической регрессии со следующими параметрами:\n",
    "- 'model__penalty': 'l2', 'model__class_weight': 'balanced', 'model__C': 12\n",
    "- Метрика f1 модели на кросс-валидации составила 0.765053\n",
    "- Метрика f1 модели на тестовой выборке 0.77.\n",
    "\n",
    "\n",
    "3. Рекомендация Заказчику:\n",
    " - Для оценки токсичности комментариев использовать модель Логистической регрессии с вышеуказанными параметрами."
   ]
  },
  {
   "cell_type": "markdown",
   "metadata": {},
   "source": [
    "## Чек-лист проверки"
   ]
  },
  {
   "cell_type": "markdown",
   "metadata": {},
   "source": [
    "- [x]  Jupyter Notebook открыт\n",
    "- [x]  Весь код выполняется без ошибок\n",
    "- [x]  Ячейки с кодом расположены в порядке исполнения\n",
    "- [x]  Данные загружены и подготовлены\n",
    "- [x]  Модели обучены\n",
    "- [x]  Значение метрики *F1* не меньше 0.75\n",
    "- [x]  Выводы написаны"
   ]
  },
  {
   "cell_type": "code",
   "execution_count": null,
   "metadata": {},
   "outputs": [],
   "source": []
  }
 ],
 "metadata": {
  "ExecuteTimeLog": [
   {
    "duration": 1871,
    "start_time": "2025-05-01T07:32:30.055Z"
   },
   {
    "duration": 2,
    "start_time": "2025-05-01T07:32:47.216Z"
   },
   {
    "duration": 3,
    "start_time": "2025-05-01T07:33:04.456Z"
   },
   {
    "duration": 953,
    "start_time": "2025-05-01T07:35:27.636Z"
   },
   {
    "duration": 13,
    "start_time": "2025-05-01T07:35:40.405Z"
   },
   {
    "duration": 8,
    "start_time": "2025-05-01T07:36:25.046Z"
   },
   {
    "duration": 33,
    "start_time": "2025-05-01T07:36:34.871Z"
   },
   {
    "duration": 12,
    "start_time": "2025-05-01T07:37:48.177Z"
   },
   {
    "duration": 8,
    "start_time": "2025-05-01T07:38:30.178Z"
   },
   {
    "duration": 18,
    "start_time": "2025-05-01T07:45:49.553Z"
   },
   {
    "duration": 3,
    "start_time": "2025-05-01T07:50:00.026Z"
   },
   {
    "duration": 3,
    "start_time": "2025-05-01T07:50:11.296Z"
   },
   {
    "duration": 8,
    "start_time": "2025-05-01T07:51:53.898Z"
   },
   {
    "duration": 406,
    "start_time": "2025-05-01T07:53:43.697Z"
   },
   {
    "duration": 289,
    "start_time": "2025-05-01T07:54:54.276Z"
   },
   {
    "duration": 4,
    "start_time": "2025-05-01T07:56:06.761Z"
   },
   {
    "duration": 262,
    "start_time": "2025-05-01T07:56:07.325Z"
   },
   {
    "duration": 3,
    "start_time": "2025-05-01T07:56:32.734Z"
   },
   {
    "duration": 53,
    "start_time": "2025-05-01T07:56:34.298Z"
   },
   {
    "duration": 5,
    "start_time": "2025-05-01T07:56:45.639Z"
   },
   {
    "duration": 8,
    "start_time": "2025-05-01T07:56:56.286Z"
   },
   {
    "duration": 3,
    "start_time": "2025-05-01T07:57:18.051Z"
   },
   {
    "duration": 9,
    "start_time": "2025-05-01T07:57:26.671Z"
   },
   {
    "duration": 16,
    "start_time": "2025-05-01T07:57:30.271Z"
   },
   {
    "duration": 7,
    "start_time": "2025-05-01T07:57:30.672Z"
   },
   {
    "duration": 2,
    "start_time": "2025-05-01T07:59:26.915Z"
   },
   {
    "duration": 3,
    "start_time": "2025-05-01T08:02:26.377Z"
   },
   {
    "duration": 1060,
    "start_time": "2025-05-01T08:02:44.266Z"
   },
   {
    "duration": 9,
    "start_time": "2025-05-01T08:02:56.978Z"
   },
   {
    "duration": 5,
    "start_time": "2025-05-01T08:04:01.452Z"
   },
   {
    "duration": 10,
    "start_time": "2025-05-01T08:04:09.309Z"
   },
   {
    "duration": 23,
    "start_time": "2025-05-01T08:04:50.358Z"
   },
   {
    "duration": 3,
    "start_time": "2025-05-01T08:30:51.735Z"
   },
   {
    "duration": 6,
    "start_time": "2025-05-01T08:30:55.540Z"
   },
   {
    "duration": 18,
    "start_time": "2025-05-01T08:33:18.052Z"
   },
   {
    "duration": 10,
    "start_time": "2025-05-01T08:33:32.236Z"
   },
   {
    "duration": 6,
    "start_time": "2025-05-01T08:33:53.516Z"
   },
   {
    "duration": 51420,
    "start_time": "2025-05-01T08:36:19.929Z"
   },
   {
    "duration": 136,
    "start_time": "2025-05-01T08:37:19.323Z"
   },
   {
    "duration": 79,
    "start_time": "2025-05-01T08:38:50.171Z"
   },
   {
    "duration": 49,
    "start_time": "2025-05-01T08:38:56.618Z"
   },
   {
    "duration": 51,
    "start_time": "2025-05-01T08:39:11.959Z"
   },
   {
    "duration": 90,
    "start_time": "2025-05-01T08:39:22.751Z"
   },
   {
    "duration": 53,
    "start_time": "2025-05-01T08:39:26.968Z"
   },
   {
    "duration": 73,
    "start_time": "2025-05-01T08:39:39.872Z"
   },
   {
    "duration": 119,
    "start_time": "2025-05-01T08:39:50.489Z"
   },
   {
    "duration": 6,
    "start_time": "2025-05-01T08:41:21.495Z"
   },
   {
    "duration": 5,
    "start_time": "2025-05-01T08:43:26.482Z"
   },
   {
    "duration": 4,
    "start_time": "2025-05-01T08:46:49.204Z"
   },
   {
    "duration": 5,
    "start_time": "2025-05-01T08:47:28.679Z"
   },
   {
    "duration": 3,
    "start_time": "2025-05-01T08:55:22.418Z"
   },
   {
    "duration": 196,
    "start_time": "2025-05-01T08:57:03.402Z"
   },
   {
    "duration": 4,
    "start_time": "2025-05-01T09:02:06.171Z"
   },
   {
    "duration": 3,
    "start_time": "2025-05-01T09:02:08.322Z"
   },
   {
    "duration": 2880,
    "start_time": "2025-05-01T09:02:09.338Z"
   },
   {
    "duration": 6,
    "start_time": "2025-05-01T09:02:33.380Z"
   },
   {
    "duration": 19,
    "start_time": "2025-05-01T09:04:06.590Z"
   },
   {
    "duration": 15,
    "start_time": "2025-05-01T09:04:18.398Z"
   },
   {
    "duration": 3,
    "start_time": "2025-05-01T09:04:33.232Z"
   },
   {
    "duration": 10,
    "start_time": "2025-05-01T09:05:21.225Z"
   },
   {
    "duration": 11,
    "start_time": "2025-05-01T09:05:34.589Z"
   },
   {
    "duration": 2610,
    "start_time": "2025-05-01T09:06:40.220Z"
   },
   {
    "duration": 4,
    "start_time": "2025-05-01T09:08:50.727Z"
   },
   {
    "duration": 4,
    "start_time": "2025-05-01T09:09:24.236Z"
   },
   {
    "duration": 4,
    "start_time": "2025-05-01T09:09:26.240Z"
   },
   {
    "duration": 2710,
    "start_time": "2025-05-01T09:09:30.633Z"
   },
   {
    "duration": 4,
    "start_time": "2025-05-01T09:10:16.114Z"
   },
   {
    "duration": 2560,
    "start_time": "2025-05-01T09:11:42.517Z"
   },
   {
    "duration": 5,
    "start_time": "2025-05-01T09:12:06.097Z"
   },
   {
    "duration": 3,
    "start_time": "2025-05-01T09:12:10.133Z"
   },
   {
    "duration": 4,
    "start_time": "2025-05-01T09:12:10.954Z"
   },
   {
    "duration": 2651,
    "start_time": "2025-05-01T09:12:15.670Z"
   },
   {
    "duration": 6,
    "start_time": "2025-05-01T09:12:22.158Z"
   },
   {
    "duration": 6,
    "start_time": "2025-05-01T09:14:10.482Z"
   },
   {
    "duration": 91,
    "start_time": "2025-05-01T09:14:52.028Z"
   },
   {
    "duration": 13,
    "start_time": "2025-05-01T09:15:02.395Z"
   },
   {
    "duration": 6,
    "start_time": "2025-05-01T09:15:27.020Z"
   },
   {
    "duration": 7,
    "start_time": "2025-05-01T09:16:06.513Z"
   },
   {
    "duration": 8,
    "start_time": "2025-05-01T09:16:08.409Z"
   },
   {
    "duration": 3,
    "start_time": "2025-05-01T09:16:45.784Z"
   },
   {
    "duration": 3,
    "start_time": "2025-05-01T09:16:47.527Z"
   },
   {
    "duration": 2627,
    "start_time": "2025-05-01T09:16:51.003Z"
   },
   {
    "duration": 5,
    "start_time": "2025-05-01T09:17:13.759Z"
   },
   {
    "duration": 2734,
    "start_time": "2025-05-01T09:17:18.727Z"
   },
   {
    "duration": 3,
    "start_time": "2025-05-01T09:18:34.146Z"
   },
   {
    "duration": 2629,
    "start_time": "2025-05-01T09:18:38.049Z"
   },
   {
    "duration": 6,
    "start_time": "2025-05-01T09:18:46.697Z"
   },
   {
    "duration": 62,
    "start_time": "2025-05-01T09:19:16.135Z"
   },
   {
    "duration": 60,
    "start_time": "2025-05-01T09:19:32.668Z"
   },
   {
    "duration": 5,
    "start_time": "2025-05-01T09:19:53.492Z"
   },
   {
    "duration": 64,
    "start_time": "2025-05-01T09:19:54.445Z"
   },
   {
    "duration": 4,
    "start_time": "2025-05-01T09:19:59.860Z"
   },
   {
    "duration": 54,
    "start_time": "2025-05-01T09:20:15.534Z"
   },
   {
    "duration": 62,
    "start_time": "2025-05-01T09:20:23.037Z"
   },
   {
    "duration": 3,
    "start_time": "2025-05-01T09:20:33.974Z"
   },
   {
    "duration": 3,
    "start_time": "2025-05-01T09:20:42.202Z"
   },
   {
    "duration": 2735,
    "start_time": "2025-05-01T09:20:45.834Z"
   },
   {
    "duration": 6,
    "start_time": "2025-05-01T09:20:51.210Z"
   },
   {
    "duration": 3,
    "start_time": "2025-05-01T09:21:08.106Z"
   },
   {
    "duration": 2669,
    "start_time": "2025-05-01T09:21:11.198Z"
   },
   {
    "duration": 5,
    "start_time": "2025-05-01T09:21:50.284Z"
   },
   {
    "duration": 2700,
    "start_time": "2025-05-01T09:22:02.232Z"
   },
   {
    "duration": 9,
    "start_time": "2025-05-01T09:22:06.220Z"
   },
   {
    "duration": 2776,
    "start_time": "2025-05-01T09:22:10.501Z"
   },
   {
    "duration": 5,
    "start_time": "2025-05-01T09:22:24.701Z"
   },
   {
    "duration": 3015,
    "start_time": "2025-05-01T09:22:32.753Z"
   },
   {
    "duration": 5,
    "start_time": "2025-05-01T09:24:03.476Z"
   },
   {
    "duration": 44648,
    "start_time": "2025-05-01T09:24:19.041Z"
   },
   {
    "duration": 56,
    "start_time": "2025-05-01T09:27:04.974Z"
   },
   {
    "duration": 61,
    "start_time": "2025-05-01T09:27:14.026Z"
   },
   {
    "duration": 3,
    "start_time": "2025-05-01T09:27:29.851Z"
   },
   {
    "duration": 4,
    "start_time": "2025-05-01T09:27:36.987Z"
   },
   {
    "duration": 3,
    "start_time": "2025-05-01T09:27:39.691Z"
   },
   {
    "duration": 2646,
    "start_time": "2025-05-01T09:27:42.083Z"
   },
   {
    "duration": 2645,
    "start_time": "2025-05-01T09:27:48.411Z"
   },
   {
    "duration": 9,
    "start_time": "2025-05-01T09:28:03.003Z"
   },
   {
    "duration": 70685,
    "start_time": "2025-05-01T09:28:44.005Z"
   },
   {
    "duration": 1995,
    "start_time": "2025-05-01T09:31:39.690Z"
   },
   {
    "duration": 137,
    "start_time": "2025-05-01T09:32:26.236Z"
   },
   {
    "duration": 1801,
    "start_time": "2025-05-01T09:33:08.086Z"
   },
   {
    "duration": 327,
    "start_time": "2025-05-01T09:33:23.846Z"
   },
   {
    "duration": 289,
    "start_time": "2025-05-01T09:34:20.948Z"
   },
   {
    "duration": 1767,
    "start_time": "2025-05-01T09:37:32.886Z"
   },
   {
    "duration": 3,
    "start_time": "2025-05-01T09:37:34.655Z"
   },
   {
    "duration": 1003,
    "start_time": "2025-05-01T09:37:34.659Z"
   },
   {
    "duration": 19,
    "start_time": "2025-05-01T09:37:35.663Z"
   },
   {
    "duration": 21,
    "start_time": "2025-05-01T09:37:35.684Z"
   },
   {
    "duration": 18,
    "start_time": "2025-05-01T09:37:35.707Z"
   },
   {
    "duration": 43,
    "start_time": "2025-05-01T09:37:35.726Z"
   },
   {
    "duration": 5,
    "start_time": "2025-05-01T09:37:35.771Z"
   },
   {
    "duration": 15,
    "start_time": "2025-05-01T09:37:35.778Z"
   },
   {
    "duration": 2,
    "start_time": "2025-05-01T09:37:35.795Z"
   },
   {
    "duration": 4,
    "start_time": "2025-05-01T09:37:35.799Z"
   },
   {
    "duration": 35,
    "start_time": "2025-05-01T09:37:35.804Z"
   },
   {
    "duration": 13,
    "start_time": "2025-05-01T09:37:35.841Z"
   },
   {
    "duration": 3,
    "start_time": "2025-05-01T09:37:35.858Z"
   },
   {
    "duration": 94,
    "start_time": "2025-05-01T09:37:35.863Z"
   },
   {
    "duration": 10,
    "start_time": "2025-05-01T09:37:35.959Z"
   },
   {
    "duration": 53,
    "start_time": "2025-05-01T09:37:35.971Z"
   },
   {
    "duration": 0,
    "start_time": "2025-05-01T09:37:36.026Z"
   },
   {
    "duration": 0,
    "start_time": "2025-05-01T09:37:36.028Z"
   },
   {
    "duration": 53,
    "start_time": "2025-05-01T09:37:45.990Z"
   },
   {
    "duration": 1682,
    "start_time": "2025-05-01T09:39:33.674Z"
   },
   {
    "duration": 1633,
    "start_time": "2025-05-01T09:39:38.218Z"
   },
   {
    "duration": 1547,
    "start_time": "2025-05-01T09:40:09.824Z"
   },
   {
    "duration": 2,
    "start_time": "2025-05-01T09:40:11.373Z"
   },
   {
    "duration": 1149,
    "start_time": "2025-05-01T09:40:11.377Z"
   },
   {
    "duration": 13,
    "start_time": "2025-05-01T09:40:12.528Z"
   },
   {
    "duration": 7,
    "start_time": "2025-05-01T09:40:12.544Z"
   },
   {
    "duration": 32,
    "start_time": "2025-05-01T09:40:12.553Z"
   },
   {
    "duration": 47,
    "start_time": "2025-05-01T09:40:12.586Z"
   },
   {
    "duration": 17,
    "start_time": "2025-05-01T09:40:12.634Z"
   },
   {
    "duration": 16,
    "start_time": "2025-05-01T09:40:12.652Z"
   },
   {
    "duration": 10,
    "start_time": "2025-05-01T09:40:12.669Z"
   },
   {
    "duration": 4,
    "start_time": "2025-05-01T09:40:12.680Z"
   },
   {
    "duration": 11,
    "start_time": "2025-05-01T09:40:12.686Z"
   },
   {
    "duration": 10,
    "start_time": "2025-05-01T09:40:12.699Z"
   },
   {
    "duration": 9,
    "start_time": "2025-05-01T09:40:12.712Z"
   },
   {
    "duration": 33,
    "start_time": "2025-05-01T09:40:12.723Z"
   },
   {
    "duration": 20,
    "start_time": "2025-05-01T09:40:12.758Z"
   },
   {
    "duration": 55,
    "start_time": "2025-05-01T09:40:12.779Z"
   },
   {
    "duration": 1713,
    "start_time": "2025-05-01T09:40:28.248Z"
   },
   {
    "duration": 69929,
    "start_time": "2025-05-01T09:40:32.757Z"
   },
   {
    "duration": 350,
    "start_time": "2025-05-01T09:42:08.799Z"
   },
   {
    "duration": 284,
    "start_time": "2025-05-01T09:42:12.056Z"
   },
   {
    "duration": 57,
    "start_time": "2025-05-01T09:42:23.284Z"
   },
   {
    "duration": 76,
    "start_time": "2025-05-01T09:42:33.324Z"
   },
   {
    "duration": 5,
    "start_time": "2025-05-01T09:42:37.988Z"
   },
   {
    "duration": 4,
    "start_time": "2025-05-01T09:42:39.848Z"
   },
   {
    "duration": 4,
    "start_time": "2025-05-01T09:42:41.825Z"
   },
   {
    "duration": 3,
    "start_time": "2025-05-01T09:42:44.633Z"
   },
   {
    "duration": 2,
    "start_time": "2025-05-01T09:42:45.777Z"
   },
   {
    "duration": 0,
    "start_time": "2025-05-01T09:59:43.250Z"
   },
   {
    "duration": 1706,
    "start_time": "2025-05-01T10:02:23.766Z"
   },
   {
    "duration": 4,
    "start_time": "2025-05-01T10:02:25.474Z"
   },
   {
    "duration": 1044,
    "start_time": "2025-05-01T10:02:25.480Z"
   },
   {
    "duration": 13,
    "start_time": "2025-05-01T10:02:26.525Z"
   },
   {
    "duration": 66,
    "start_time": "2025-05-01T10:02:26.540Z"
   },
   {
    "duration": 12,
    "start_time": "2025-05-01T10:02:26.608Z"
   },
   {
    "duration": 43,
    "start_time": "2025-05-01T10:02:26.622Z"
   },
   {
    "duration": 7,
    "start_time": "2025-05-01T10:02:26.667Z"
   },
   {
    "duration": 5,
    "start_time": "2025-05-01T10:02:26.675Z"
   },
   {
    "duration": 16,
    "start_time": "2025-05-01T10:02:26.682Z"
   },
   {
    "duration": 10,
    "start_time": "2025-05-01T10:02:26.699Z"
   },
   {
    "duration": 17,
    "start_time": "2025-05-01T10:02:26.711Z"
   },
   {
    "duration": 18,
    "start_time": "2025-05-01T10:02:26.730Z"
   },
   {
    "duration": 1146,
    "start_time": "2025-05-01T10:02:26.750Z"
   },
   {
    "duration": 7,
    "start_time": "2025-05-01T10:02:27.897Z"
   },
   {
    "duration": 7,
    "start_time": "2025-05-01T10:02:27.905Z"
   },
   {
    "duration": 389,
    "start_time": "2025-05-01T10:02:27.913Z"
   },
   {
    "duration": 6,
    "start_time": "2025-05-01T10:02:28.303Z"
   },
   {
    "duration": 15,
    "start_time": "2025-05-01T10:02:28.311Z"
   },
   {
    "duration": 5,
    "start_time": "2025-05-01T10:02:28.328Z"
   },
   {
    "duration": 3,
    "start_time": "2025-05-01T10:02:28.335Z"
   },
   {
    "duration": 7,
    "start_time": "2025-05-01T10:02:28.340Z"
   },
   {
    "duration": 4,
    "start_time": "2025-05-01T10:02:28.348Z"
   },
   {
    "duration": 24,
    "start_time": "2025-05-01T10:02:28.353Z"
   },
   {
    "duration": 4,
    "start_time": "2025-05-01T10:02:28.378Z"
   },
   {
    "duration": 4,
    "start_time": "2025-05-01T10:02:28.384Z"
   },
   {
    "duration": 3,
    "start_time": "2025-05-01T10:02:28.390Z"
   },
   {
    "duration": 5,
    "start_time": "2025-05-01T10:02:28.395Z"
   },
   {
    "duration": 2975,
    "start_time": "2025-05-01T10:02:28.401Z"
   },
   {
    "duration": 4,
    "start_time": "2025-05-01T10:02:31.378Z"
   },
   {
    "duration": 100515,
    "start_time": "2025-05-01T10:02:31.384Z"
   },
   {
    "duration": 5,
    "start_time": "2025-05-01T10:04:11.903Z"
   },
   {
    "duration": 5,
    "start_time": "2025-05-01T10:05:06.056Z"
   },
   {
    "duration": 3,
    "start_time": "2025-05-01T10:05:10.984Z"
   },
   {
    "duration": 1672,
    "start_time": "2025-05-01T10:08:43.425Z"
   },
   {
    "duration": 2,
    "start_time": "2025-05-01T10:08:45.100Z"
   },
   {
    "duration": 1035,
    "start_time": "2025-05-01T10:08:45.104Z"
   },
   {
    "duration": 17,
    "start_time": "2025-05-01T10:08:46.141Z"
   },
   {
    "duration": 33,
    "start_time": "2025-05-01T10:08:46.160Z"
   },
   {
    "duration": 25,
    "start_time": "2025-05-01T10:08:46.194Z"
   },
   {
    "duration": 33,
    "start_time": "2025-05-01T10:08:46.221Z"
   },
   {
    "duration": 98,
    "start_time": "2025-05-01T10:08:46.256Z"
   },
   {
    "duration": 24,
    "start_time": "2025-05-01T10:08:46.356Z"
   },
   {
    "duration": 3,
    "start_time": "2025-05-01T10:08:46.383Z"
   },
   {
    "duration": 7,
    "start_time": "2025-05-01T10:08:46.388Z"
   },
   {
    "duration": 7,
    "start_time": "2025-05-01T10:08:46.397Z"
   },
   {
    "duration": 7,
    "start_time": "2025-05-01T10:08:46.405Z"
   },
   {
    "duration": 11,
    "start_time": "2025-05-01T10:08:46.414Z"
   },
   {
    "duration": 17,
    "start_time": "2025-05-01T10:08:46.427Z"
   },
   {
    "duration": 19,
    "start_time": "2025-05-01T10:08:46.446Z"
   },
   {
    "duration": 4,
    "start_time": "2025-05-01T10:08:46.467Z"
   },
   {
    "duration": 13,
    "start_time": "2025-05-01T10:08:46.472Z"
   },
   {
    "duration": 1879,
    "start_time": "2025-05-01T10:08:46.486Z"
   },
   {
    "duration": 69191,
    "start_time": "2025-05-01T10:08:48.366Z"
   },
   {
    "duration": 380,
    "start_time": "2025-05-01T10:09:57.559Z"
   },
   {
    "duration": 409,
    "start_time": "2025-05-01T10:09:57.941Z"
   },
   {
    "duration": 88,
    "start_time": "2025-05-01T10:09:58.352Z"
   },
   {
    "duration": 6,
    "start_time": "2025-05-01T10:09:58.442Z"
   },
   {
    "duration": 6,
    "start_time": "2025-05-01T10:09:58.450Z"
   },
   {
    "duration": 4,
    "start_time": "2025-05-01T10:09:58.457Z"
   },
   {
    "duration": 8,
    "start_time": "2025-05-01T10:09:58.476Z"
   },
   {
    "duration": 22,
    "start_time": "2025-05-01T10:09:58.489Z"
   },
   {
    "duration": 236812,
    "start_time": "2025-05-01T10:09:58.513Z"
   },
   {
    "duration": 4,
    "start_time": "2025-05-01T10:13:55.326Z"
   },
   {
    "duration": 966869,
    "start_time": "2025-05-01T10:13:55.332Z"
   },
   {
    "duration": 4,
    "start_time": "2025-05-01T10:30:25.383Z"
   },
   {
    "duration": 21,
    "start_time": "2025-05-01T10:30:31.775Z"
   },
   {
    "duration": 8,
    "start_time": "2025-05-01T10:31:03.253Z"
   },
   {
    "duration": 1829,
    "start_time": "2025-05-01T10:32:15.444Z"
   },
   {
    "duration": 3,
    "start_time": "2025-05-01T10:32:17.275Z"
   },
   {
    "duration": 1008,
    "start_time": "2025-05-01T10:32:17.279Z"
   },
   {
    "duration": 15,
    "start_time": "2025-05-01T10:32:18.289Z"
   },
   {
    "duration": 8,
    "start_time": "2025-05-01T10:32:18.307Z"
   },
   {
    "duration": 19,
    "start_time": "2025-05-01T10:32:18.316Z"
   },
   {
    "duration": 56,
    "start_time": "2025-05-01T10:32:18.337Z"
   },
   {
    "duration": 61,
    "start_time": "2025-05-01T10:32:18.395Z"
   },
   {
    "duration": 14,
    "start_time": "2025-05-01T10:32:18.458Z"
   },
   {
    "duration": 51,
    "start_time": "2025-05-01T10:32:18.474Z"
   },
   {
    "duration": 36,
    "start_time": "2025-05-01T10:32:18.527Z"
   },
   {
    "duration": 15,
    "start_time": "2025-05-01T10:32:18.565Z"
   },
   {
    "duration": 8,
    "start_time": "2025-05-01T10:32:18.582Z"
   },
   {
    "duration": 16,
    "start_time": "2025-05-01T10:32:18.593Z"
   },
   {
    "duration": 105,
    "start_time": "2025-05-01T10:32:18.611Z"
   },
   {
    "duration": 5,
    "start_time": "2025-05-01T10:32:18.718Z"
   },
   {
    "duration": 7,
    "start_time": "2025-05-01T10:32:18.724Z"
   },
   {
    "duration": 8,
    "start_time": "2025-05-01T10:32:18.733Z"
   },
   {
    "duration": 1710,
    "start_time": "2025-05-01T10:32:18.742Z"
   },
   {
    "duration": 69539,
    "start_time": "2025-05-01T10:32:20.454Z"
   },
   {
    "duration": 360,
    "start_time": "2025-05-01T10:33:29.996Z"
   },
   {
    "duration": 295,
    "start_time": "2025-05-01T10:33:30.357Z"
   },
   {
    "duration": 77,
    "start_time": "2025-05-01T10:33:30.654Z"
   },
   {
    "duration": 5,
    "start_time": "2025-05-01T10:33:30.733Z"
   },
   {
    "duration": 20,
    "start_time": "2025-05-01T10:33:30.739Z"
   },
   {
    "duration": 8,
    "start_time": "2025-05-01T10:33:30.761Z"
   },
   {
    "duration": 41,
    "start_time": "2025-05-01T10:33:30.770Z"
   },
   {
    "duration": 30,
    "start_time": "2025-05-01T10:33:30.812Z"
   },
   {
    "duration": 239414,
    "start_time": "2025-05-01T10:33:30.844Z"
   },
   {
    "duration": 0,
    "start_time": "2025-05-01T10:37:30.259Z"
   },
   {
    "duration": 0,
    "start_time": "2025-05-01T10:37:30.261Z"
   },
   {
    "duration": 0,
    "start_time": "2025-05-01T10:37:30.262Z"
   },
   {
    "duration": 0,
    "start_time": "2025-05-01T10:37:30.263Z"
   },
   {
    "duration": 4,
    "start_time": "2025-05-01T10:39:43.449Z"
   },
   {
    "duration": 240957,
    "start_time": "2025-05-01T10:39:47.169Z"
   },
   {
    "duration": 4,
    "start_time": "2025-05-01T10:44:09.957Z"
   },
   {
    "duration": 492209,
    "start_time": "2025-05-01T10:44:15.902Z"
   },
   {
    "duration": 3,
    "start_time": "2025-05-01T10:52:48.174Z"
   },
   {
    "duration": 908511,
    "start_time": "2025-05-01T10:52:49.104Z"
   },
   {
    "duration": 3,
    "start_time": "2025-05-01T11:08:14.359Z"
   },
   {
    "duration": 3,
    "start_time": "2025-05-01T11:08:16.158Z"
   },
   {
    "duration": 3,
    "start_time": "2025-05-01T11:08:56.968Z"
   },
   {
    "duration": 3,
    "start_time": "2025-05-01T11:09:09.916Z"
   },
   {
    "duration": 339675,
    "start_time": "2025-05-01T11:09:39.838Z"
   },
   {
    "duration": 5,
    "start_time": "2025-05-01T11:17:48.825Z"
   },
   {
    "duration": 3,
    "start_time": "2025-05-01T11:18:15.734Z"
   },
   {
    "duration": 25104,
    "start_time": "2025-05-01T11:18:16.153Z"
   },
   {
    "duration": 4,
    "start_time": "2025-05-01T11:25:41.480Z"
   },
   {
    "duration": 1668,
    "start_time": "2025-05-01T11:30:34.091Z"
   },
   {
    "duration": 3,
    "start_time": "2025-05-01T11:30:35.761Z"
   },
   {
    "duration": 1064,
    "start_time": "2025-05-01T11:30:35.766Z"
   },
   {
    "duration": 14,
    "start_time": "2025-05-01T11:30:36.833Z"
   },
   {
    "duration": 18,
    "start_time": "2025-05-01T11:30:36.849Z"
   },
   {
    "duration": 102,
    "start_time": "2025-05-01T11:30:36.877Z"
   },
   {
    "duration": 73,
    "start_time": "2025-05-01T11:30:36.980Z"
   },
   {
    "duration": 3,
    "start_time": "2025-05-01T11:30:37.055Z"
   },
   {
    "duration": 10,
    "start_time": "2025-05-01T11:30:37.060Z"
   },
   {
    "duration": 22,
    "start_time": "2025-05-01T11:30:37.073Z"
   },
   {
    "duration": 13,
    "start_time": "2025-05-01T11:30:37.097Z"
   },
   {
    "duration": 26,
    "start_time": "2025-05-01T11:30:37.112Z"
   },
   {
    "duration": 19,
    "start_time": "2025-05-01T11:30:37.140Z"
   },
   {
    "duration": 36,
    "start_time": "2025-05-01T11:30:37.161Z"
   },
   {
    "duration": 25,
    "start_time": "2025-05-01T11:30:37.198Z"
   },
   {
    "duration": 7,
    "start_time": "2025-05-01T11:30:37.225Z"
   },
   {
    "duration": 28,
    "start_time": "2025-05-01T11:30:37.233Z"
   },
   {
    "duration": 39,
    "start_time": "2025-05-01T11:30:37.263Z"
   },
   {
    "duration": 1721,
    "start_time": "2025-05-01T11:30:37.304Z"
   },
   {
    "duration": 67192,
    "start_time": "2025-05-01T11:30:39.027Z"
   },
   {
    "duration": 358,
    "start_time": "2025-05-01T11:31:46.221Z"
   },
   {
    "duration": 384,
    "start_time": "2025-05-01T11:31:46.580Z"
   },
   {
    "duration": 73,
    "start_time": "2025-05-01T11:31:46.966Z"
   },
   {
    "duration": 4,
    "start_time": "2025-05-01T11:31:47.041Z"
   },
   {
    "duration": 18,
    "start_time": "2025-05-01T11:31:47.047Z"
   },
   {
    "duration": 10,
    "start_time": "2025-05-01T11:31:47.067Z"
   },
   {
    "duration": 27,
    "start_time": "2025-05-01T11:31:47.078Z"
   },
   {
    "duration": 6,
    "start_time": "2025-05-01T11:31:47.108Z"
   },
   {
    "duration": 239214,
    "start_time": "2025-05-01T11:31:47.116Z"
   },
   {
    "duration": 3,
    "start_time": "2025-05-01T11:35:46.332Z"
   },
   {
    "duration": 4,
    "start_time": "2025-05-01T11:35:46.337Z"
   },
   {
    "duration": 407558,
    "start_time": "2025-05-01T11:35:46.343Z"
   },
   {
    "duration": 4,
    "start_time": "2025-05-01T11:42:33.905Z"
   },
   {
    "duration": 27300,
    "start_time": "2025-05-01T11:42:33.911Z"
   },
   {
    "duration": 5,
    "start_time": "2025-05-01T11:43:01.213Z"
   },
   {
    "duration": 1207,
    "start_time": "2025-05-01T13:52:22.638Z"
   },
   {
    "duration": 110,
    "start_time": "2025-05-01T13:52:23.847Z"
   },
   {
    "duration": 784,
    "start_time": "2025-05-01T13:52:33.009Z"
   },
   {
    "duration": 3,
    "start_time": "2025-05-01T13:52:35.472Z"
   },
   {
    "duration": 949,
    "start_time": "2025-05-01T13:52:38.648Z"
   },
   {
    "duration": 3,
    "start_time": "2025-05-01T13:52:45.488Z"
   },
   {
    "duration": 1648,
    "start_time": "2025-05-01T13:52:52.397Z"
   },
   {
    "duration": 3,
    "start_time": "2025-05-01T13:52:59.897Z"
   },
   {
    "duration": 31,
    "start_time": "2025-05-01T13:53:00.517Z"
   },
   {
    "duration": 7,
    "start_time": "2025-05-01T13:53:15.841Z"
   },
   {
    "duration": 1226,
    "start_time": "2025-05-01T13:53:28.921Z"
   },
   {
    "duration": 4,
    "start_time": "2025-05-01T13:54:40.231Z"
   },
   {
    "duration": 4,
    "start_time": "2025-05-01T13:54:46.264Z"
   },
   {
    "duration": 55,
    "start_time": "2025-05-01T13:58:53.500Z"
   },
   {
    "duration": 4797,
    "start_time": "2025-05-01T13:58:59.196Z"
   },
   {
    "duration": 65,
    "start_time": "2025-05-01T13:59:10.461Z"
   },
   {
    "duration": 81,
    "start_time": "2025-05-01T13:59:24.933Z"
   },
   {
    "duration": 22024,
    "start_time": "2025-05-01T13:59:32.114Z"
   },
   {
    "duration": 8736,
    "start_time": "2025-05-01T14:00:38.621Z"
   },
   {
    "duration": 270,
    "start_time": "2025-05-01T14:01:06.276Z"
   },
   {
    "duration": 3,
    "start_time": "2025-05-01T14:01:20.861Z"
   },
   {
    "duration": 1082,
    "start_time": "2025-05-01T14:02:15.814Z"
   },
   {
    "duration": 139,
    "start_time": "2025-05-01T14:02:52.219Z"
   },
   {
    "duration": 10,
    "start_time": "2025-05-01T14:03:02.585Z"
   },
   {
    "duration": 11,
    "start_time": "2025-05-01T14:03:08.529Z"
   },
   {
    "duration": 11176,
    "start_time": "2025-05-01T14:03:57.655Z"
   },
   {
    "duration": 3,
    "start_time": "2025-05-01T14:04:15.587Z"
   },
   {
    "duration": 8,
    "start_time": "2025-05-01T14:04:17.238Z"
   },
   {
    "duration": 9,
    "start_time": "2025-05-01T14:04:23.342Z"
   },
   {
    "duration": 7,
    "start_time": "2025-05-01T14:04:29.130Z"
   },
   {
    "duration": 7,
    "start_time": "2025-05-01T14:04:34.863Z"
   },
   {
    "duration": 16,
    "start_time": "2025-05-01T14:08:48.359Z"
   },
   {
    "duration": 17,
    "start_time": "2025-05-01T14:09:32.148Z"
   },
   {
    "duration": 3,
    "start_time": "2025-05-01T14:10:16.022Z"
   },
   {
    "duration": 8,
    "start_time": "2025-05-01T14:10:18.858Z"
   },
   {
    "duration": 8,
    "start_time": "2025-05-01T14:10:37.627Z"
   },
   {
    "duration": 7,
    "start_time": "2025-05-01T14:10:41.615Z"
   },
   {
    "duration": 4,
    "start_time": "2025-05-01T14:11:13.396Z"
   },
   {
    "duration": 7,
    "start_time": "2025-05-01T14:11:29.469Z"
   },
   {
    "duration": 72,
    "start_time": "2025-05-01T14:23:33.716Z"
   },
   {
    "duration": 8482,
    "start_time": "2025-05-01T14:23:46.319Z"
   },
   {
    "duration": 20044,
    "start_time": "2025-05-01T14:24:03.800Z"
   },
   {
    "duration": 81,
    "start_time": "2025-05-01T14:24:29.977Z"
   },
   {
    "duration": 51,
    "start_time": "2025-05-01T14:24:58.447Z"
   },
   {
    "duration": 92,
    "start_time": "2025-05-01T14:25:31.679Z"
   },
   {
    "duration": 51,
    "start_time": "2025-05-01T14:25:34.796Z"
   },
   {
    "duration": 50,
    "start_time": "2025-05-01T14:27:05.815Z"
   },
   {
    "duration": 63,
    "start_time": "2025-05-01T14:27:21.607Z"
   },
   {
    "duration": 58,
    "start_time": "2025-05-01T14:27:39.831Z"
   },
   {
    "duration": 53,
    "start_time": "2025-05-01T14:27:43.519Z"
   },
   {
    "duration": 50,
    "start_time": "2025-05-01T14:27:46.635Z"
   },
   {
    "duration": 52,
    "start_time": "2025-05-01T14:27:50.279Z"
   },
   {
    "duration": 52,
    "start_time": "2025-05-01T14:27:53.456Z"
   },
   {
    "duration": 52,
    "start_time": "2025-05-01T14:28:37.046Z"
   },
   {
    "duration": 18,
    "start_time": "2025-05-01T14:28:54.351Z"
   },
   {
    "duration": 10,
    "start_time": "2025-05-01T14:28:58.765Z"
   },
   {
    "duration": 7,
    "start_time": "2025-05-01T14:29:49.923Z"
   },
   {
    "duration": 24,
    "start_time": "2025-05-01T14:30:19.324Z"
   },
   {
    "duration": 25,
    "start_time": "2025-05-01T14:30:27.113Z"
   },
   {
    "duration": 22,
    "start_time": "2025-05-01T14:31:26.730Z"
   },
   {
    "duration": 309,
    "start_time": "2025-05-01T14:32:00.808Z"
   },
   {
    "duration": 3,
    "start_time": "2025-05-01T14:32:47.885Z"
   },
   {
    "duration": 5,
    "start_time": "2025-05-01T14:32:50.185Z"
   },
   {
    "duration": 12,
    "start_time": "2025-05-01T14:32:50.810Z"
   },
   {
    "duration": 14,
    "start_time": "2025-05-01T14:32:56.666Z"
   },
   {
    "duration": 12,
    "start_time": "2025-05-01T14:34:16.117Z"
   },
   {
    "duration": 7,
    "start_time": "2025-05-01T14:41:30.982Z"
   },
   {
    "duration": 33192,
    "start_time": "2025-05-01T14:42:05.354Z"
   },
   {
    "duration": 2084,
    "start_time": "2025-05-01T14:42:41.331Z"
   },
   {
    "duration": 561180,
    "start_time": "2025-05-01T14:43:56.274Z"
   },
   {
    "duration": 0,
    "start_time": "2025-05-01T14:53:17.457Z"
   },
   {
    "duration": 3,
    "start_time": "2025-05-01T14:53:20.316Z"
   },
   {
    "duration": 19,
    "start_time": "2025-05-01T14:53:53.681Z"
   },
   {
    "duration": 10,
    "start_time": "2025-05-01T14:54:17.906Z"
   },
   {
    "duration": 7,
    "start_time": "2025-05-01T14:54:46.486Z"
   },
   {
    "duration": 178,
    "start_time": "2025-05-01T15:25:56.315Z"
   },
   {
    "duration": 4,
    "start_time": "2025-05-01T15:25:58.951Z"
   },
   {
    "duration": 977,
    "start_time": "2025-05-01T15:25:59.819Z"
   },
   {
    "duration": 3,
    "start_time": "2025-05-01T15:26:05.211Z"
   },
   {
    "duration": 3,
    "start_time": "2025-05-01T15:26:09.383Z"
   },
   {
    "duration": 2172,
    "start_time": "2025-05-01T15:26:16.423Z"
   },
   {
    "duration": 8,
    "start_time": "2025-05-01T15:46:58.307Z"
   },
   {
    "duration": 7,
    "start_time": "2025-05-01T15:47:02.461Z"
   },
   {
    "duration": 5,
    "start_time": "2025-05-01T15:49:05.151Z"
   },
   {
    "duration": 92,
    "start_time": "2025-05-01T15:50:03.619Z"
   },
   {
    "duration": 53,
    "start_time": "2025-05-01T15:50:24.515Z"
   },
   {
    "duration": 7,
    "start_time": "2025-05-01T15:50:33.122Z"
   },
   {
    "duration": 7,
    "start_time": "2025-05-01T15:52:42.144Z"
   },
   {
    "duration": 5,
    "start_time": "2025-05-01T15:53:11.127Z"
   },
   {
    "duration": 8,
    "start_time": "2025-05-01T15:56:28.125Z"
   },
   {
    "duration": 11,
    "start_time": "2025-05-01T15:56:35.882Z"
   },
   {
    "duration": 7,
    "start_time": "2025-05-01T15:56:45.284Z"
   },
   {
    "duration": 8,
    "start_time": "2025-05-01T15:56:56.106Z"
   },
   {
    "duration": 8,
    "start_time": "2025-05-01T15:57:03.764Z"
   },
   {
    "duration": 6,
    "start_time": "2025-05-01T15:57:41.863Z"
   },
   {
    "duration": 8,
    "start_time": "2025-05-01T15:59:56.958Z"
   },
   {
    "duration": 7,
    "start_time": "2025-05-01T16:03:22.243Z"
   },
   {
    "duration": 7,
    "start_time": "2025-05-01T16:03:38.459Z"
   },
   {
    "duration": 7,
    "start_time": "2025-05-01T16:04:28.009Z"
   },
   {
    "duration": 6,
    "start_time": "2025-05-01T16:04:28.753Z"
   },
   {
    "duration": 7,
    "start_time": "2025-05-01T16:05:55.581Z"
   },
   {
    "duration": 6,
    "start_time": "2025-05-01T16:05:58.467Z"
   },
   {
    "duration": 7,
    "start_time": "2025-05-01T16:06:33.458Z"
   },
   {
    "duration": 6,
    "start_time": "2025-05-01T16:07:03.608Z"
   },
   {
    "duration": 8,
    "start_time": "2025-05-01T16:07:08.211Z"
   },
   {
    "duration": 6,
    "start_time": "2025-05-01T16:07:09.075Z"
   },
   {
    "duration": 6,
    "start_time": "2025-05-01T16:07:39.019Z"
   },
   {
    "duration": 7,
    "start_time": "2025-05-01T16:07:43.500Z"
   },
   {
    "duration": 8,
    "start_time": "2025-05-01T16:08:45.279Z"
   },
   {
    "duration": 6,
    "start_time": "2025-05-01T16:08:54.850Z"
   },
   {
    "duration": 8,
    "start_time": "2025-05-01T16:09:15.881Z"
   },
   {
    "duration": 4,
    "start_time": "2025-05-01T16:10:22.138Z"
   },
   {
    "duration": 19,
    "start_time": "2025-05-01T16:10:35.195Z"
   },
   {
    "duration": 4,
    "start_time": "2025-05-01T16:10:50.571Z"
   },
   {
    "duration": 7,
    "start_time": "2025-05-01T16:10:51.386Z"
   },
   {
    "duration": 7,
    "start_time": "2025-05-01T16:10:59.274Z"
   },
   {
    "duration": 7,
    "start_time": "2025-05-01T16:12:10.622Z"
   },
   {
    "duration": 4,
    "start_time": "2025-05-01T16:12:46.765Z"
   },
   {
    "duration": 111846,
    "start_time": "2025-05-01T16:13:06.970Z"
   },
   {
    "duration": 27347,
    "start_time": "2025-05-01T16:15:14.920Z"
   },
   {
    "duration": 4,
    "start_time": "2025-05-01T16:16:07.421Z"
   },
   {
    "duration": 89629,
    "start_time": "2025-05-01T16:16:21.330Z"
   },
   {
    "duration": 18,
    "start_time": "2025-05-01T16:18:45.621Z"
   },
   {
    "duration": 16,
    "start_time": "2025-05-01T16:20:39.877Z"
   },
   {
    "duration": 4,
    "start_time": "2025-05-01T16:21:04.463Z"
   },
   {
    "duration": 4,
    "start_time": "2025-05-01T16:21:36.521Z"
   },
   {
    "duration": 8,
    "start_time": "2025-05-01T16:21:45.132Z"
   },
   {
    "duration": 5,
    "start_time": "2025-05-01T16:21:50.713Z"
   },
   {
    "duration": 7,
    "start_time": "2025-05-01T16:21:59.098Z"
   },
   {
    "duration": 5,
    "start_time": "2025-05-01T16:22:01.730Z"
   },
   {
    "duration": 7,
    "start_time": "2025-05-01T16:22:06.333Z"
   },
   {
    "duration": 4,
    "start_time": "2025-05-01T16:22:08.670Z"
   },
   {
    "duration": 5,
    "start_time": "2025-05-01T16:22:23.038Z"
   },
   {
    "duration": 4,
    "start_time": "2025-05-01T16:22:36.989Z"
   },
   {
    "duration": 18553,
    "start_time": "2025-05-01T16:23:02.317Z"
   },
   {
    "duration": 6,
    "start_time": "2025-05-01T16:23:47.093Z"
   },
   {
    "duration": 8,
    "start_time": "2025-05-01T16:24:12.147Z"
   },
   {
    "duration": 703044,
    "start_time": "2025-05-01T16:24:23.276Z"
   },
   {
    "duration": 3,
    "start_time": "2025-05-01T16:36:06.321Z"
   },
   {
    "duration": 5,
    "start_time": "2025-05-01T16:36:09.454Z"
   },
   {
    "duration": 6,
    "start_time": "2025-05-01T16:36:18.152Z"
   },
   {
    "duration": 4,
    "start_time": "2025-05-01T16:36:55.447Z"
   },
   {
    "duration": 3,
    "start_time": "2025-05-01T16:37:20.757Z"
   },
   {
    "duration": 5,
    "start_time": "2025-05-01T16:38:57.086Z"
   },
   {
    "duration": 6,
    "start_time": "2025-05-01T16:38:57.687Z"
   },
   {
    "duration": 5,
    "start_time": "2025-05-01T16:39:10.510Z"
   },
   {
    "duration": 4,
    "start_time": "2025-05-01T16:39:11.232Z"
   },
   {
    "duration": 8,
    "start_time": "2025-05-01T16:40:13.048Z"
   },
   {
    "duration": 8,
    "start_time": "2025-05-01T16:40:13.551Z"
   },
   {
    "duration": 625,
    "start_time": "2025-05-01T16:40:57.453Z"
   },
   {
    "duration": 5,
    "start_time": "2025-05-01T16:44:14.773Z"
   },
   {
    "duration": 4,
    "start_time": "2025-05-01T16:44:16.962Z"
   },
   {
    "duration": 4,
    "start_time": "2025-05-01T16:44:19.209Z"
   },
   {
    "duration": 4,
    "start_time": "2025-05-01T16:44:21.273Z"
   },
   {
    "duration": 3,
    "start_time": "2025-05-01T16:44:21.955Z"
   },
   {
    "duration": 50,
    "start_time": "2025-05-01T16:45:15.506Z"
   },
   {
    "duration": 140,
    "start_time": "2025-05-01T16:45:23.308Z"
   },
   {
    "duration": 555175,
    "start_time": "2025-05-01T16:45:28.817Z"
   },
   {
    "duration": 3,
    "start_time": "2025-05-01T16:55:32.021Z"
   },
   {
    "duration": 3,
    "start_time": "2025-05-01T16:55:32.587Z"
   },
   {
    "duration": 387642,
    "start_time": "2025-05-01T16:55:33.467Z"
   },
   {
    "duration": 5,
    "start_time": "2025-05-01T17:02:01.111Z"
   },
   {
    "duration": 4,
    "start_time": "2025-05-01T17:02:01.138Z"
   },
   {
    "duration": 12,
    "start_time": "2025-05-01T17:03:01.282Z"
   },
   {
    "duration": 3,
    "start_time": "2025-05-01T17:03:09.089Z"
   },
   {
    "duration": 24466,
    "start_time": "2025-05-01T17:03:09.825Z"
   },
   {
    "duration": 4,
    "start_time": "2025-05-01T17:03:34.293Z"
   },
   {
    "duration": 1592,
    "start_time": "2025-05-01T17:25:03.402Z"
   },
   {
    "duration": 3,
    "start_time": "2025-05-01T17:25:04.996Z"
   },
   {
    "duration": 1151,
    "start_time": "2025-05-01T17:25:05.001Z"
   },
   {
    "duration": 16,
    "start_time": "2025-05-01T17:25:06.154Z"
   },
   {
    "duration": 66,
    "start_time": "2025-05-01T17:25:06.173Z"
   },
   {
    "duration": 14,
    "start_time": "2025-05-01T17:25:06.240Z"
   },
   {
    "duration": 87,
    "start_time": "2025-05-01T17:25:06.256Z"
   },
   {
    "duration": 3,
    "start_time": "2025-05-01T17:25:06.345Z"
   },
   {
    "duration": 11,
    "start_time": "2025-05-01T17:25:06.350Z"
   },
   {
    "duration": 24,
    "start_time": "2025-05-01T17:25:06.365Z"
   },
   {
    "duration": 350,
    "start_time": "2025-05-01T17:25:06.391Z"
   },
   {
    "duration": 0,
    "start_time": "2025-05-01T17:25:06.743Z"
   },
   {
    "duration": 0,
    "start_time": "2025-05-01T17:25:06.745Z"
   },
   {
    "duration": 0,
    "start_time": "2025-05-01T17:25:06.746Z"
   },
   {
    "duration": 0,
    "start_time": "2025-05-01T17:25:06.747Z"
   },
   {
    "duration": 0,
    "start_time": "2025-05-01T17:25:06.748Z"
   },
   {
    "duration": 0,
    "start_time": "2025-05-01T17:25:06.750Z"
   },
   {
    "duration": 0,
    "start_time": "2025-05-01T17:25:06.750Z"
   },
   {
    "duration": 0,
    "start_time": "2025-05-01T17:25:06.751Z"
   },
   {
    "duration": 0,
    "start_time": "2025-05-01T17:25:06.753Z"
   },
   {
    "duration": 0,
    "start_time": "2025-05-01T17:25:06.754Z"
   },
   {
    "duration": 0,
    "start_time": "2025-05-01T17:25:06.755Z"
   },
   {
    "duration": 0,
    "start_time": "2025-05-01T17:25:06.756Z"
   },
   {
    "duration": 0,
    "start_time": "2025-05-01T17:25:06.757Z"
   },
   {
    "duration": 0,
    "start_time": "2025-05-01T17:25:06.758Z"
   },
   {
    "duration": 0,
    "start_time": "2025-05-01T17:25:06.759Z"
   },
   {
    "duration": 0,
    "start_time": "2025-05-01T17:25:06.760Z"
   },
   {
    "duration": 0,
    "start_time": "2025-05-01T17:25:06.761Z"
   },
   {
    "duration": 0,
    "start_time": "2025-05-01T17:25:06.763Z"
   },
   {
    "duration": 0,
    "start_time": "2025-05-01T17:25:06.764Z"
   },
   {
    "duration": 0,
    "start_time": "2025-05-01T17:25:06.766Z"
   },
   {
    "duration": 0,
    "start_time": "2025-05-01T17:25:06.767Z"
   },
   {
    "duration": 506,
    "start_time": "2025-05-01T17:27:10.775Z"
   },
   {
    "duration": 11,
    "start_time": "2025-05-01T17:27:11.286Z"
   },
   {
    "duration": 27,
    "start_time": "2025-05-01T17:27:14.424Z"
   },
   {
    "duration": 44,
    "start_time": "2025-05-01T17:27:20.985Z"
   },
   {
    "duration": 19,
    "start_time": "2025-05-01T17:27:37.785Z"
   },
   {
    "duration": 380,
    "start_time": "2025-05-01T17:28:07.727Z"
   },
   {
    "duration": 3687,
    "start_time": "2025-05-01T17:28:20.043Z"
   },
   {
    "duration": 1522,
    "start_time": "2025-05-01T17:28:33.305Z"
   },
   {
    "duration": 22,
    "start_time": "2025-05-01T17:28:34.831Z"
   },
   {
    "duration": 21,
    "start_time": "2025-05-01T17:28:34.854Z"
   },
   {
    "duration": 27,
    "start_time": "2025-05-01T17:28:34.877Z"
   },
   {
    "duration": 9,
    "start_time": "2025-05-01T17:28:34.906Z"
   },
   {
    "duration": 21,
    "start_time": "2025-05-01T17:28:34.917Z"
   },
   {
    "duration": 1040,
    "start_time": "2025-05-01T17:28:34.940Z"
   },
   {
    "duration": 10,
    "start_time": "2025-05-01T17:28:35.982Z"
   },
   {
    "duration": 20,
    "start_time": "2025-05-01T17:28:35.994Z"
   },
   {
    "duration": 28,
    "start_time": "2025-05-01T17:28:36.016Z"
   },
   {
    "duration": 69,
    "start_time": "2025-05-01T17:28:36.046Z"
   },
   {
    "duration": 19,
    "start_time": "2025-05-01T17:28:36.116Z"
   },
   {
    "duration": 24,
    "start_time": "2025-05-01T17:28:36.136Z"
   },
   {
    "duration": 30,
    "start_time": "2025-05-01T17:28:36.163Z"
   },
   {
    "duration": 3706,
    "start_time": "2025-05-01T17:28:36.195Z"
   },
   {
    "duration": 3,
    "start_time": "2025-05-01T17:28:39.902Z"
   },
   {
    "duration": 61,
    "start_time": "2025-05-01T17:28:39.906Z"
   },
   {
    "duration": 132,
    "start_time": "2025-05-01T17:28:39.969Z"
   },
   {
    "duration": 0,
    "start_time": "2025-05-01T17:28:40.103Z"
   },
   {
    "duration": 0,
    "start_time": "2025-05-01T17:28:40.104Z"
   },
   {
    "duration": 0,
    "start_time": "2025-05-01T17:28:40.105Z"
   },
   {
    "duration": 0,
    "start_time": "2025-05-01T17:28:40.106Z"
   },
   {
    "duration": 0,
    "start_time": "2025-05-01T17:28:40.107Z"
   },
   {
    "duration": 0,
    "start_time": "2025-05-01T17:28:40.108Z"
   },
   {
    "duration": 0,
    "start_time": "2025-05-01T17:28:40.109Z"
   },
   {
    "duration": 0,
    "start_time": "2025-05-01T17:28:40.110Z"
   },
   {
    "duration": 0,
    "start_time": "2025-05-01T17:28:40.111Z"
   },
   {
    "duration": 0,
    "start_time": "2025-05-01T17:28:40.112Z"
   },
   {
    "duration": 0,
    "start_time": "2025-05-01T17:28:40.113Z"
   },
   {
    "duration": 0,
    "start_time": "2025-05-01T17:28:40.114Z"
   },
   {
    "duration": 0,
    "start_time": "2025-05-01T17:28:40.138Z"
   },
   {
    "duration": 0,
    "start_time": "2025-05-01T17:28:40.140Z"
   },
   {
    "duration": 0,
    "start_time": "2025-05-01T17:28:40.141Z"
   },
   {
    "duration": 0,
    "start_time": "2025-05-01T17:28:40.142Z"
   },
   {
    "duration": 0,
    "start_time": "2025-05-01T17:28:40.143Z"
   },
   {
    "duration": 0,
    "start_time": "2025-05-01T17:28:40.144Z"
   },
   {
    "duration": 2027,
    "start_time": "2025-05-01T17:29:16.772Z"
   },
   {
    "duration": 1595,
    "start_time": "2025-05-01T17:29:25.632Z"
   },
   {
    "duration": 21,
    "start_time": "2025-05-01T17:29:27.229Z"
   },
   {
    "duration": 10,
    "start_time": "2025-05-01T17:29:27.251Z"
   },
   {
    "duration": 29,
    "start_time": "2025-05-01T17:29:27.263Z"
   },
   {
    "duration": 9,
    "start_time": "2025-05-01T17:29:27.294Z"
   },
   {
    "duration": 34,
    "start_time": "2025-05-01T17:29:27.304Z"
   },
   {
    "duration": 1047,
    "start_time": "2025-05-01T17:29:27.340Z"
   },
   {
    "duration": 11,
    "start_time": "2025-05-01T17:29:28.389Z"
   },
   {
    "duration": 11,
    "start_time": "2025-05-01T17:29:28.403Z"
   },
   {
    "duration": 35,
    "start_time": "2025-05-01T17:29:28.416Z"
   },
   {
    "duration": 38,
    "start_time": "2025-05-01T17:29:28.453Z"
   },
   {
    "duration": 3,
    "start_time": "2025-05-01T17:29:28.493Z"
   },
   {
    "duration": 11,
    "start_time": "2025-05-01T17:29:28.497Z"
   },
   {
    "duration": 27,
    "start_time": "2025-05-01T17:29:28.511Z"
   },
   {
    "duration": 3872,
    "start_time": "2025-05-01T17:29:28.539Z"
   },
   {
    "duration": 3,
    "start_time": "2025-05-01T17:29:32.412Z"
   },
   {
    "duration": 35,
    "start_time": "2025-05-01T17:29:32.417Z"
   },
   {
    "duration": 1959,
    "start_time": "2025-05-01T17:29:32.455Z"
   },
   {
    "duration": 585552,
    "start_time": "2025-05-01T17:29:34.415Z"
   },
   {
    "duration": 4,
    "start_time": "2025-05-01T17:39:19.969Z"
   },
   {
    "duration": 13,
    "start_time": "2025-05-01T17:39:19.974Z"
   },
   {
    "duration": 349,
    "start_time": "2025-05-01T17:39:19.989Z"
   },
   {
    "duration": 306,
    "start_time": "2025-05-01T17:39:20.340Z"
   },
   {
    "duration": 64,
    "start_time": "2025-05-01T17:39:20.648Z"
   },
   {
    "duration": 6,
    "start_time": "2025-05-01T17:39:20.713Z"
   },
   {
    "duration": 21,
    "start_time": "2025-05-01T17:39:20.720Z"
   },
   {
    "duration": 7,
    "start_time": "2025-05-01T17:39:20.742Z"
   },
   {
    "duration": 9,
    "start_time": "2025-05-01T17:39:20.751Z"
   },
   {
    "duration": 4,
    "start_time": "2025-05-01T17:39:20.763Z"
   },
   {
    "duration": 572532,
    "start_time": "2025-05-01T17:39:20.769Z"
   },
   {
    "duration": 4,
    "start_time": "2025-05-01T17:48:53.303Z"
   },
   {
    "duration": 14,
    "start_time": "2025-05-01T17:48:53.309Z"
   },
   {
    "duration": 313922,
    "start_time": "2025-05-01T17:48:53.327Z"
   },
   {
    "duration": 3,
    "start_time": "2025-05-01T17:54:07.251Z"
   },
   {
    "duration": 23982,
    "start_time": "2025-05-01T17:54:07.256Z"
   },
   {
    "duration": 4,
    "start_time": "2025-05-01T17:54:31.240Z"
   }
  ],
  "kernelspec": {
   "display_name": "Python 3 (ipykernel)",
   "language": "python",
   "name": "python3"
  },
  "language_info": {
   "codemirror_mode": {
    "name": "ipython",
    "version": 3
   },
   "file_extension": ".py",
   "mimetype": "text/x-python",
   "name": "python",
   "nbconvert_exporter": "python",
   "pygments_lexer": "ipython3",
   "version": "3.12.7"
  },
  "toc": {
   "base_numbering": 1,
   "nav_menu": {},
   "number_sections": true,
   "sideBar": true,
   "skip_h1_title": true,
   "title_cell": "Содержание",
   "title_sidebar": "Contents",
   "toc_cell": true,
   "toc_position": {
    "height": "calc(100% - 180px)",
    "left": "10px",
    "top": "150px",
    "width": "190px"
   },
   "toc_section_display": true,
   "toc_window_display": true
  }
 },
 "nbformat": 4,
 "nbformat_minor": 4
}
